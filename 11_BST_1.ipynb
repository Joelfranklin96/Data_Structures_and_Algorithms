{
 "cells": [
  {
   "cell_type": "code",
   "execution_count": 9,
   "id": "04cba0e5",
   "metadata": {},
   "outputs": [],
   "source": [
    "class BinaryTreeNode():\n",
    "    \n",
    "    def __init__(self,data):\n",
    "        \n",
    "        self.data = data\n",
    "        self.left = None\n",
    "        self.right = None"
   ]
  },
  {
   "cell_type": "code",
   "execution_count": 10,
   "id": "3377073f",
   "metadata": {},
   "outputs": [],
   "source": [
    "def binary_tree_input():\n",
    "    \n",
    "    root_data = int(input())\n",
    "    \n",
    "    if root_data == -1:\n",
    "        return None\n",
    "    \n",
    "    root = BinaryTreeNode(root_data)\n",
    "    root.left = binary_tree_input()\n",
    "    root.right = binary_tree_input()\n",
    "    \n",
    "    return root"
   ]
  },
  {
   "cell_type": "code",
   "execution_count": 11,
   "id": "a78aa454",
   "metadata": {},
   "outputs": [],
   "source": [
    "import queue\n",
    "\n",
    "def levelwise_input():\n",
    "    \n",
    "    root = None\n",
    "    print(\"Please enter the root data\")\n",
    "    key = int(input())\n",
    "    \n",
    "    q = queue.Queue()\n",
    "    if key == -1:\n",
    "        return None\n",
    "    else:\n",
    "        root = BinaryTreeNode(key)\n",
    "        q.put(root)\n",
    "        while not(q.empty()):\n",
    "            current_node = q.get()\n",
    "            print(\"Please enter the left child of {}\".format(current_node.data))\n",
    "            key = int(input())\n",
    "            if key != -1:\n",
    "                left = BinaryTreeNode(key)\n",
    "                q.put(left)\n",
    "                current_node.left = left\n",
    "            else:\n",
    "                current_node.left = None\n",
    "            \n",
    "            print(\"Please enter the right child of {}\".format(current_node.data))\n",
    "            key = int(input())\n",
    "            \n",
    "            if key != -1:\n",
    "                right = BinaryTreeNode(key)\n",
    "                q.put(right)\n",
    "                current_node.right = right\n",
    "            else:\n",
    "                current_node.right = None\n",
    "        return root    "
   ]
  },
  {
   "cell_type": "code",
   "execution_count": 96,
   "id": "102a90b4",
   "metadata": {},
   "outputs": [
    {
     "name": "stdout",
     "output_type": "stream",
     "text": [
      "Please enter the root data\n",
      "2\n",
      "Please enter the left child of 2\n",
      "3\n",
      "Please enter the right child of 2\n",
      "9\n",
      "Please enter the left child of 3\n",
      "4\n",
      "Please enter the right child of 3\n",
      "8\n",
      "Please enter the left child of 9\n",
      "-1\n",
      "Please enter the right child of 9\n",
      "2\n",
      "Please enter the left child of 4\n",
      "4\n",
      "Please enter the right child of 4\n",
      "-1\n",
      "Please enter the left child of 8\n",
      "4\n",
      "Please enter the right child of 8\n",
      "-1\n",
      "Please enter the left child of 2\n",
      "6\n",
      "Please enter the right child of 2\n",
      "-1\n",
      "Please enter the left child of 4\n",
      "-1\n",
      "Please enter the right child of 4\n",
      "-1\n",
      "Please enter the left child of 4\n",
      "-1\n",
      "Please enter the right child of 4\n",
      "-1\n",
      "Please enter the left child of 6\n",
      "-1\n",
      "Please enter the right child of 6\n",
      "-1\n"
     ]
    }
   ],
   "source": [
    "b = levelwise_input()"
   ]
  },
  {
   "cell_type": "code",
   "execution_count": 173,
   "id": "51887afe",
   "metadata": {},
   "outputs": [],
   "source": [
    "def print_tree_detailed_1(root):\n",
    "    \n",
    "    if root == None:\n",
    "        return\n",
    "    \n",
    "    if root.left is not None and root.right is not None:\n",
    "        print(str(root.data) + \" : \" + \"L \" + str(root.left.data) + \", \" + \"R \" + str(root.right.data))\n",
    "        print_tree_detailed_1(root.left)\n",
    "        print_tree_detailed_1(root.right)\n",
    "    \n",
    "    elif root.left is not None:\n",
    "        print(str(root.data) + \" : \" + \"L \" + str(root.left.data))\n",
    "        print_tree_detailed_1(root.left)\n",
    "        print_tree_detailed_1(root.right)\n",
    "        \n",
    "    elif root.right is not None:\n",
    "        print(str(root.data) + \" : \" + \"R \" + str(root.right.data))\n",
    "        print_tree_detailed_1(root.left)\n",
    "        print_tree_detailed_1(root.right)\n",
    "    \n",
    "    else:\n",
    "        print(str(root.data) + \" : \")\n",
    "        print_tree_detailed_1(root.left)\n",
    "        print_tree_detailed_1(root.right)"
   ]
  },
  {
   "cell_type": "code",
   "execution_count": 12,
   "id": "b077361d",
   "metadata": {},
   "outputs": [],
   "source": [
    "# Search in a Binary Search Tree is of complexity O(h) where h is the height of the tree.\n",
    "\n",
    "# If the Binary Search Tree is completely unbalanced, search time complexity = O(n) because h = n\n",
    "# If the Binary Search Tree is completely balanced, search time complexity = O(log n) because h = log n"
   ]
  },
  {
   "cell_type": "code",
   "execution_count": 13,
   "id": "fed0a53e",
   "metadata": {},
   "outputs": [],
   "source": [
    "def search_bst(root, key):\n",
    "    \n",
    "    if root is None:\n",
    "        return False\n",
    "    \n",
    "    if root.data == key:\n",
    "        return True\n",
    "    \n",
    "    if key < root.data:\n",
    "        search_bst(root.left, key)\n",
    "    else:\n",
    "        search_bst(root.right, key)"
   ]
  },
  {
   "cell_type": "code",
   "execution_count": 14,
   "id": "1f2bc720",
   "metadata": {},
   "outputs": [],
   "source": [
    "def search_normal(root, key):\n",
    "    \n",
    "    if root is None:\n",
    "        return False\n",
    "    \n",
    "    if root.data == key:\n",
    "        return True\n",
    "    \n",
    "    return search_normal(root.left, key) or search_normal(root.right, key)"
   ]
  },
  {
   "cell_type": "markdown",
   "id": "9189dcdf",
   "metadata": {},
   "source": [
    "### --------------------------------------------------------------------------------------------------------------------------------------------------------------"
   ]
  },
  {
   "cell_type": "code",
   "execution_count": 15,
   "id": "b6e2d210",
   "metadata": {},
   "outputs": [
    {
     "name": "stdout",
     "output_type": "stream",
     "text": [
      "Please enter the root data\n",
      "10\n",
      "Please enter the left child of 10\n",
      "9\n",
      "Please enter the right child of 10\n",
      "11\n",
      "Please enter the left child of 9\n",
      "8\n",
      "Please enter the right child of 9\n",
      "-1\n",
      "Please enter the left child of 11\n",
      "-1\n",
      "Please enter the right child of 11\n",
      "12\n",
      "Please enter the left child of 8\n",
      "7\n",
      "Please enter the right child of 8\n",
      "-1\n",
      "Please enter the left child of 12\n",
      "-1\n",
      "Please enter the right child of 12\n",
      "13\n",
      "Please enter the left child of 7\n",
      "-1\n",
      "Please enter the right child of 7\n",
      "-1\n",
      "Please enter the left child of 13\n",
      "-1\n",
      "Please enter the right child of 13\n",
      "-1\n"
     ]
    }
   ],
   "source": [
    "b = levelwise_input()"
   ]
  },
  {
   "cell_type": "code",
   "execution_count": 166,
   "id": "59cad281",
   "metadata": {},
   "outputs": [
    {
     "name": "stdout",
     "output_type": "stream",
     "text": [
      "Please enter the root data\n",
      "6\n",
      "Please enter the left child of 6\n",
      "2\n",
      "Please enter the right child of 6\n",
      "10\n",
      "Please enter the left child of 2\n",
      "1\n",
      "Please enter the right child of 2\n",
      "4\n",
      "Please enter the left child of 10\n",
      "8\n",
      "Please enter the right child of 10\n",
      "11\n",
      "Please enter the left child of 1\n",
      "-1\n",
      "Please enter the right child of 1\n",
      "-1\n",
      "Please enter the left child of 4\n",
      "3\n",
      "Please enter the right child of 4\n",
      "5\n",
      "Please enter the left child of 8\n",
      "7\n",
      "Please enter the right child of 8\n",
      "9\n",
      "Please enter the left child of 11\n",
      "-1\n",
      "Please enter the right child of 11\n",
      "-1\n",
      "Please enter the left child of 3\n",
      "-1\n",
      "Please enter the right child of 3\n",
      "-1\n",
      "Please enter the left child of 5\n",
      "-1\n",
      "Please enter the right child of 5\n",
      "-1\n",
      "Please enter the left child of 7\n",
      "-1\n",
      "Please enter the right child of 7\n",
      "-1\n",
      "Please enter the left child of 9\n",
      "-1\n",
      "Please enter the right child of 9\n",
      "-1\n"
     ]
    }
   ],
   "source": [
    "bst = levelwise_input()"
   ]
  },
  {
   "cell_type": "code",
   "execution_count": 16,
   "id": "d3c6ef0a",
   "metadata": {},
   "outputs": [],
   "source": [
    "# Traverse all the nodes of a binary search tree with n nodes and print them in an order"
   ]
  },
  {
   "cell_type": "code",
   "execution_count": 17,
   "id": "8fcd1ec4",
   "metadata": {},
   "outputs": [],
   "source": [
    "def bst_traversal(root):\n",
    "    \n",
    "    if root is None:\n",
    "        return\n",
    "    \n",
    "    bst_traversal(root.left)\n",
    "    print(root.data, end = \" \")\n",
    "    bst_traversal(root.right)\n",
    "\n",
    "# Time complexity = O(n)"
   ]
  },
  {
   "cell_type": "code",
   "execution_count": 18,
   "id": "7345f0a3",
   "metadata": {},
   "outputs": [
    {
     "name": "stdout",
     "output_type": "stream",
     "text": [
      "7 8 9 10 11 12 13 "
     ]
    }
   ],
   "source": [
    "bst_traversal(b)"
   ]
  },
  {
   "cell_type": "code",
   "execution_count": 19,
   "id": "319b914d",
   "metadata": {},
   "outputs": [],
   "source": [
    "# You are given a binary search tree. Print all numbers that lie between k1 and k2"
   ]
  },
  {
   "cell_type": "code",
   "execution_count": 20,
   "id": "175493ed",
   "metadata": {},
   "outputs": [],
   "source": [
    "def bst_range(root, k1, k2):\n",
    "    \n",
    "    if root is None:\n",
    "        return\n",
    "    \n",
    "    if k1 <= root.data and k2 >= root.data:\n",
    "        print(root.data, end = \" \")\n",
    "    \n",
    "    if root.data > k1 and root.data <= k2:\n",
    "        bst_range(root.left, k1, k2)\n",
    "        bst_range(root.right, k1, k2)\n",
    "    \n",
    "    elif root.data <= k1:\n",
    "        bst_range(root.right, k1, k2)\n",
    "    \n",
    "    else:\n",
    "        bst_range(root.left, k1, k2)"
   ]
  },
  {
   "cell_type": "code",
   "execution_count": 21,
   "id": "589e7c24",
   "metadata": {},
   "outputs": [
    {
     "name": "stdout",
     "output_type": "stream",
     "text": [
      "10 9 8 11 "
     ]
    }
   ],
   "source": [
    "bst_range(b, 8, 11)"
   ]
  },
  {
   "cell_type": "code",
   "execution_count": 22,
   "id": "1c98fde2",
   "metadata": {},
   "outputs": [],
   "source": [
    "# You are given a binary search tree. Print all numbers that lie between k1 and k2 in increasing order"
   ]
  },
  {
   "cell_type": "code",
   "execution_count": 23,
   "id": "42b756ad",
   "metadata": {},
   "outputs": [],
   "source": [
    "def bst_range_order(root, k1, k2):\n",
    "    \n",
    "    if root is None:\n",
    "        return\n",
    "    \n",
    "    if root.data >= k1 and root.data <= k2:\n",
    "        if not(root.data == k1):\n",
    "            bst_range_order(root.left, k1, k2)\n",
    "        print(root.data, end = \" \")\n",
    "        bst_range_order(root.right, k1, k2)\n",
    "    \n",
    "    elif root.data < k1:\n",
    "        bst_range_order(root.right, k1, k2)\n",
    "    \n",
    "    else:\n",
    "        bst_range_order(root.left, k1, k2)"
   ]
  },
  {
   "cell_type": "code",
   "execution_count": 25,
   "id": "f5e60214",
   "metadata": {},
   "outputs": [
    {
     "name": "stdout",
     "output_type": "stream",
     "text": [
      "8 9 10 11 "
     ]
    }
   ],
   "source": [
    "bst_range_order(b, 8, 11)"
   ]
  },
  {
   "cell_type": "code",
   "execution_count": 26,
   "id": "5105b5c6",
   "metadata": {},
   "outputs": [],
   "source": [
    "# Given a sorted integer array A of size n, which contains all unique elements. \n",
    "# You need to construct a balanced BST from this input array. Return the root of constructed BST.\n",
    "# Note: If array size is even, take first mid as root."
   ]
  },
  {
   "cell_type": "code",
   "execution_count": 29,
   "id": "88462563",
   "metadata": {},
   "outputs": [],
   "source": [
    "def construct_bst(elements):\n",
    "    \n",
    "    if elements == []:\n",
    "        return None\n",
    "    \n",
    "    l = len(elements)\n",
    "    if l % 2 == 0:\n",
    "        mid = (l//2) - 1\n",
    "    else:\n",
    "        mid = l//2\n",
    "    \n",
    "    root = BinaryTreeNode(elements[mid])\n",
    "    root.left = construct_bst(elements[:mid])\n",
    "    root.right = construct_bst(elements[mid+1:])\n",
    "    \n",
    "    return root\n",
    "\n",
    "# Does this construction create a balanced binary search tree?"
   ]
  },
  {
   "cell_type": "code",
   "execution_count": 28,
   "id": "3e2bc77d",
   "metadata": {},
   "outputs": [
    {
     "data": {
      "text/plain": [
       "2"
      ]
     },
     "execution_count": 28,
     "metadata": {},
     "output_type": "execute_result"
    }
   ],
   "source": [
    "5//2"
   ]
  },
  {
   "cell_type": "code",
   "execution_count": 30,
   "id": "b57fb3c4",
   "metadata": {},
   "outputs": [],
   "source": [
    "# Check if the Binary Tree is BST or not"
   ]
  },
  {
   "cell_type": "code",
   "execution_count": 54,
   "id": "2a81c40d",
   "metadata": {},
   "outputs": [],
   "source": [
    "def min_max(root):\n",
    "    \n",
    "    if root is None:\n",
    "        return 100000, -100000\n",
    "    \n",
    "    return min(root.data, min_max(root.left)[0], min_max(root.right)[0]),max(root.data, min_max(root.left)[1], min_max(root.right)[1]) "
   ]
  },
  {
   "cell_type": "code",
   "execution_count": 55,
   "id": "309b04c8",
   "metadata": {},
   "outputs": [
    {
     "data": {
      "text/plain": [
       "(7, 13)"
      ]
     },
     "execution_count": 55,
     "metadata": {},
     "output_type": "execute_result"
    }
   ],
   "source": [
    "min_max(b)"
   ]
  },
  {
   "cell_type": "code",
   "execution_count": 66,
   "id": "f870c048",
   "metadata": {},
   "outputs": [],
   "source": [
    "def check_bst(root):\n",
    "    if root is None:\n",
    "        return True\n",
    "    if root.data > min_max(root.left)[1] and root.data <= min_max(root.right)[0]:\n",
    "        return True and check_bst(root.left) and check_bst(root.right)\n",
    "    else:\n",
    "        return False"
   ]
  },
  {
   "cell_type": "code",
   "execution_count": 67,
   "id": "3021e97b",
   "metadata": {},
   "outputs": [
    {
     "data": {
      "text/plain": [
       "True"
      ]
     },
     "execution_count": 67,
     "metadata": {},
     "output_type": "execute_result"
    }
   ],
   "source": [
    "check_bst(b)"
   ]
  },
  {
   "cell_type": "code",
   "execution_count": 58,
   "id": "a0b80fa5",
   "metadata": {},
   "outputs": [],
   "source": [
    "def minimum(root):\n",
    "    if root is None:\n",
    "        return 100000\n",
    "    return min(root.data, minimum(root.left), minimum(root.right))"
   ]
  },
  {
   "cell_type": "code",
   "execution_count": 59,
   "id": "7c0e20e3",
   "metadata": {},
   "outputs": [
    {
     "data": {
      "text/plain": [
       "7"
      ]
     },
     "execution_count": 59,
     "metadata": {},
     "output_type": "execute_result"
    }
   ],
   "source": [
    "minimum(b)"
   ]
  },
  {
   "cell_type": "code",
   "execution_count": 60,
   "id": "fb51d63f",
   "metadata": {},
   "outputs": [],
   "source": [
    "def maximum(root):\n",
    "    if root is None:\n",
    "        return -10000\n",
    "    return max(root.data, maximum(root.left), maximum(root.right))"
   ]
  },
  {
   "cell_type": "code",
   "execution_count": 61,
   "id": "5b733a1e",
   "metadata": {},
   "outputs": [
    {
     "data": {
      "text/plain": [
       "13"
      ]
     },
     "execution_count": 61,
     "metadata": {},
     "output_type": "execute_result"
    }
   ],
   "source": [
    "maximum(b)"
   ]
  },
  {
   "cell_type": "code",
   "execution_count": 70,
   "id": "8c0fb97f",
   "metadata": {},
   "outputs": [],
   "source": [
    "def check_bst_2(root):\n",
    "    if root is None:\n",
    "        return True\n",
    "    if root.data > maximum(root.left) and root.data <= minimum(root.right):\n",
    "        return check_bst_2(root.left) and check_bst_2(root.right)\n",
    "    else:\n",
    "        return False"
   ]
  },
  {
   "cell_type": "code",
   "execution_count": 71,
   "id": "b4cc733e",
   "metadata": {},
   "outputs": [
    {
     "data": {
      "text/plain": [
       "True"
      ]
     },
     "execution_count": 71,
     "metadata": {},
     "output_type": "execute_result"
    }
   ],
   "source": [
    "check_bst_2(b)"
   ]
  },
  {
   "cell_type": "code",
   "execution_count": 72,
   "id": "7966307a",
   "metadata": {},
   "outputs": [],
   "source": [
    "# Let us consider 2 cases. One is a completely unbalanced tree where there are nodes only on the right. The other is a completely \n",
    "# balanced tree.\n",
    "\n",
    "# Case 1 Recurrence relation (unbalanced) (Worst case)\n",
    "\n",
    "# T(n) = n*k + T(n-1)\n",
    "\n",
    "# Time complexity = O(n^2) \n",
    "\n",
    "# Case 2 Recurrence relation (balanced) (Best case)\n",
    "\n",
    "# T(n) = n*k + 2*T(n/2)\n",
    "\n",
    "# Time complexity = O(n*logn)\n",
    "\n",
    "# In general the time complexity of a binary tree is O(n*h) where h is the height of the tree.\n",
    "# Height of completely unbalanced tree = n\n",
    "# Height of balanced tree = logn where n is the total number of nodes"
   ]
  },
  {
   "cell_type": "code",
   "execution_count": 79,
   "id": "618f2287",
   "metadata": {},
   "outputs": [],
   "source": [
    "def check_bst_improved(root):\n",
    "    if root is None:\n",
    "        return 10000, -10000, True\n",
    "    \n",
    "    min_l, max_l, bst_l = check_bst_improved(root.left)\n",
    "    min_r, max_r, bst_r = check_bst_improved(root.right)\n",
    "    \n",
    "    if root.data > max_l and root.data <= min_r:\n",
    "        return min(min_l, min_r, root.data), max(max_l, max_r, root.data), bst_l and bst_r\n",
    "    else:\n",
    "        return min(min_l, min_r, root.data), max(max_l, max_r, root.data), False\n",
    "\n",
    "# Time complexity = O(n)"
   ]
  },
  {
   "cell_type": "code",
   "execution_count": null,
   "id": "b240efd8",
   "metadata": {},
   "outputs": [],
   "source": [
    "# Let us consider 2 cases. One is a completely unbalanced tree where there are nodes only on the right. The other is a completely \n",
    "# balanced tree.\n",
    "\n",
    "# Case 1 Recurrence relation (unbalanced) (Worst case)\n",
    "\n",
    "# T(n) = T(n-1) + k\n",
    "\n",
    "# Time complexity = O(n) \n",
    "\n",
    "# Case 2 Recurrence relation (balanced) (Best case)\n",
    "\n",
    "# T(n) = 2*T(n/2) + k\n",
    "\n",
    "# Time complexity = O(n)"
   ]
  },
  {
   "cell_type": "code",
   "execution_count": 80,
   "id": "48087cdf",
   "metadata": {},
   "outputs": [
    {
     "data": {
      "text/plain": [
       "(7, 13, True)"
      ]
     },
     "execution_count": 80,
     "metadata": {},
     "output_type": "execute_result"
    }
   ],
   "source": [
    "check_bst_improved(b)"
   ]
  },
  {
   "cell_type": "code",
   "execution_count": 81,
   "id": "e93478d5",
   "metadata": {},
   "outputs": [],
   "source": [
    "def check_bst_3(root, minimum, maximum):\n",
    "    \n",
    "    if root is None:\n",
    "        return True\n",
    "    \n",
    "    if minimum < root.data and root.data <= maximum:\n",
    "        return check_bst_3(root.left, minimum, root.data - 1) and check_bst_3(root.right, root.data, maximum)\n",
    "    else:\n",
    "        return False"
   ]
  },
  {
   "cell_type": "code",
   "execution_count": 83,
   "id": "35ee2e17",
   "metadata": {},
   "outputs": [
    {
     "data": {
      "text/plain": [
       "True"
      ]
     },
     "execution_count": 83,
     "metadata": {},
     "output_type": "execute_result"
    }
   ],
   "source": [
    "check_bst_3(b, -100000, 100000)"
   ]
  },
  {
   "cell_type": "code",
   "execution_count": null,
   "id": "f5c68acd",
   "metadata": {},
   "outputs": [],
   "source": []
  },
  {
   "cell_type": "code",
   "execution_count": null,
   "id": "e12c9adf",
   "metadata": {},
   "outputs": [],
   "source": []
  },
  {
   "cell_type": "code",
   "execution_count": null,
   "id": "c0eda358",
   "metadata": {},
   "outputs": [],
   "source": []
  },
  {
   "cell_type": "code",
   "execution_count": null,
   "id": "968b3b4b",
   "metadata": {},
   "outputs": [],
   "source": []
  },
  {
   "cell_type": "code",
   "execution_count": null,
   "id": "64551d76",
   "metadata": {},
   "outputs": [],
   "source": []
  },
  {
   "cell_type": "code",
   "execution_count": 225,
   "id": "c2a9282d",
   "metadata": {},
   "outputs": [],
   "source": [
    "def bubble_sort(a):\n",
    "    \n",
    "    l = len(a)\n",
    "    for i in range(l-1):\n",
    "        for j in range(l-1-i):\n",
    "            if a[j] > a[j+1]:\n",
    "                a[j], a[j+1] = a[j+1], a[j]\n",
    "    \n",
    "    return a"
   ]
  },
  {
   "cell_type": "code",
   "execution_count": 226,
   "id": "959c48c5",
   "metadata": {},
   "outputs": [
    {
     "data": {
      "text/plain": [
       "[1, 2, 3, 4, 5, 6, 7]"
      ]
     },
     "execution_count": 226,
     "metadata": {},
     "output_type": "execute_result"
    }
   ],
   "source": [
    "a = [3,2,4,1,5,6,7]\n",
    "bubble_sort(a)"
   ]
  },
  {
   "cell_type": "code",
   "execution_count": 143,
   "id": "e563154f",
   "metadata": {},
   "outputs": [
    {
     "data": {
      "text/plain": [
       "False"
      ]
     },
     "execution_count": 143,
     "metadata": {},
     "output_type": "execute_result"
    }
   ],
   "source": [
    "[] == None"
   ]
  },
  {
   "cell_type": "code",
   "execution_count": 142,
   "id": "369724da",
   "metadata": {},
   "outputs": [
    {
     "ename": "TypeError",
     "evalue": "'NoneType' object is not iterable",
     "output_type": "error",
     "traceback": [
      "\u001b[1;31m---------------------------------------------------------------------------\u001b[0m",
      "\u001b[1;31mTypeError\u001b[0m                                 Traceback (most recent call last)",
      "Input \u001b[1;32mIn [142]\u001b[0m, in \u001b[0;36m<cell line: 4>\u001b[1;34m()\u001b[0m\n\u001b[0;32m      2\u001b[0m     \u001b[38;5;241m2\u001b[39m \u001b[38;5;241m+\u001b[39m \u001b[38;5;241m2\u001b[39m\n\u001b[0;32m      3\u001b[0m a \u001b[38;5;241m=\u001b[39m trial()\n\u001b[1;32m----> 4\u001b[0m \u001b[38;5;28;01mfor\u001b[39;00m x \u001b[38;5;129;01min\u001b[39;00m a:\n\u001b[0;32m      5\u001b[0m     \u001b[38;5;28mprint\u001b[39m(x)\n",
      "\u001b[1;31mTypeError\u001b[0m: 'NoneType' object is not iterable"
     ]
    }
   ],
   "source": [
    "def trial():\n",
    "    2 + 2\n",
    "a = trial()\n",
    "for x in a:\n",
    "    print(x)"
   ]
  },
  {
   "cell_type": "code",
   "execution_count": 138,
   "id": "4f859e96",
   "metadata": {},
   "outputs": [
    {
     "name": "stdout",
     "output_type": "stream",
     "text": [
      "2113199499600\n",
      "2113199499664\n"
     ]
    }
   ],
   "source": [
    "x = 2\n",
    "print(id(x))\n",
    "x = x + 2\n",
    "print(id(x))"
   ]
  },
  {
   "cell_type": "code",
   "execution_count": 140,
   "id": "c1253d83",
   "metadata": {},
   "outputs": [
    {
     "name": "stdout",
     "output_type": "stream",
     "text": [
      "2113199499600\n",
      "2113199499600\n",
      "2113199499664\n",
      "2113199499600\n"
     ]
    }
   ],
   "source": [
    "a = 2\n",
    "print(id(a))\n",
    "def trial(a):\n",
    "    print(id(a))\n",
    "    a = a + 2\n",
    "    print(id(a))\n",
    "trial(a)\n",
    "print(id(a))"
   ]
  },
  {
   "cell_type": "code",
   "execution_count": 122,
   "id": "3e45e7b3",
   "metadata": {},
   "outputs": [],
   "source": [
    "def trial(k):\n",
    "    k.append(100)\n",
    "    print(id(k))\n",
    "    trial2(k)\n",
    "    trial3(k)"
   ]
  },
  {
   "cell_type": "code",
   "execution_count": 123,
   "id": "f254f37f",
   "metadata": {},
   "outputs": [],
   "source": [
    "def trial2(k):\n",
    "    k.append(200)\n",
    "    print(id(k))"
   ]
  },
  {
   "cell_type": "code",
   "execution_count": 124,
   "id": "265ea872",
   "metadata": {},
   "outputs": [],
   "source": [
    "def trial3(k):\n",
    "    print(id(k))\n",
    "    print(k)"
   ]
  },
  {
   "cell_type": "code",
   "execution_count": 125,
   "id": "5b4b9ff7",
   "metadata": {},
   "outputs": [
    {
     "name": "stdout",
     "output_type": "stream",
     "text": [
      "2113314430464\n",
      "2113314430464\n",
      "2113314430464\n",
      "[4, 100, 200]\n"
     ]
    }
   ],
   "source": [
    "trial([4])"
   ]
  },
  {
   "cell_type": "code",
   "execution_count": 131,
   "id": "0620b47e",
   "metadata": {},
   "outputs": [],
   "source": [
    "def trial(k):\n",
    "    k = k + k\n",
    "    print(id(k))\n",
    "    trial2(k)\n",
    "    trial3(k)"
   ]
  },
  {
   "cell_type": "code",
   "execution_count": 132,
   "id": "69c36db8",
   "metadata": {},
   "outputs": [],
   "source": [
    "def trial2(k):\n",
    "    k = k + (5*k)\n",
    "    print(id(k))"
   ]
  },
  {
   "cell_type": "code",
   "execution_count": 133,
   "id": "ee4dafda",
   "metadata": {},
   "outputs": [],
   "source": [
    "def trial3(k):\n",
    "    print(id(k))"
   ]
  },
  {
   "cell_type": "code",
   "execution_count": 134,
   "id": "9e1e54b9",
   "metadata": {},
   "outputs": [
    {
     "name": "stdout",
     "output_type": "stream",
     "text": [
      "2113316385472\n",
      "2113316893376\n",
      "2113316000768\n",
      "2113316893376\n"
     ]
    }
   ],
   "source": [
    "a = [4]\n",
    "print(id(a))\n",
    "trial(a)"
   ]
  },
  {
   "cell_type": "code",
   "execution_count": 126,
   "id": "be6c0a51",
   "metadata": {},
   "outputs": [],
   "source": [
    "def trial4(k):\n",
    "    print(id(k))\n",
    "    k = k + k\n",
    "    print(id(k))"
   ]
  },
  {
   "cell_type": "code",
   "execution_count": 127,
   "id": "afc165a9",
   "metadata": {},
   "outputs": [
    {
     "name": "stdout",
     "output_type": "stream",
     "text": [
      "2113316518592\n",
      "2113316002688\n"
     ]
    }
   ],
   "source": [
    "trial4([4])"
   ]
  },
  {
   "cell_type": "code",
   "execution_count": 135,
   "id": "efb67967",
   "metadata": {},
   "outputs": [
    {
     "data": {
      "text/plain": [
       "[2, 2]"
      ]
     },
     "execution_count": 135,
     "metadata": {},
     "output_type": "execute_result"
    }
   ],
   "source": [
    "k = [2]\n",
    "k = k + [2]\n",
    "k"
   ]
  },
  {
   "cell_type": "code",
   "execution_count": null,
   "id": "42e67e59",
   "metadata": {},
   "outputs": [],
   "source": []
  }
 ],
 "metadata": {
  "kernelspec": {
   "display_name": "Python 3 (ipykernel)",
   "language": "python",
   "name": "python3"
  },
  "language_info": {
   "codemirror_mode": {
    "name": "ipython",
    "version": 3
   },
   "file_extension": ".py",
   "mimetype": "text/x-python",
   "name": "python",
   "nbconvert_exporter": "python",
   "pygments_lexer": "ipython3",
   "version": "3.9.12"
  }
 },
 "nbformat": 4,
 "nbformat_minor": 5
}
