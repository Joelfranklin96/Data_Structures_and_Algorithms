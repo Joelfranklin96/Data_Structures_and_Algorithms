{
 "cells": [
  {
   "cell_type": "code",
   "execution_count": 1,
   "id": "fd4961d9",
   "metadata": {},
   "outputs": [],
   "source": [
    "# Find all subsequences of a string. The function should return a list of all subsequences of a string"
   ]
  },
  {
   "cell_type": "code",
   "execution_count": 12,
   "id": "11d984ee",
   "metadata": {},
   "outputs": [
    {
     "data": {
      "text/plain": [
       "['', 'c', 'b', 'bc', 'a', 'ac', 'ab', 'abc']"
      ]
     },
     "execution_count": 12,
     "metadata": {},
     "output_type": "execute_result"
    }
   ],
   "source": [
    "subsequence(\"abc\")"
   ]
  },
  {
   "cell_type": "code",
   "execution_count": 10,
   "id": "df34c2d4",
   "metadata": {},
   "outputs": [],
   "source": [
    "def subsequence(string):\n",
    "    \n",
    "    if string == \"\":\n",
    "        return [\"\"]\n",
    "    \n",
    "    char = string[0]\n",
    "    rem_string = string[1:]\n",
    "    ans1 = subsequence(rem_string)\n",
    "    ans2 = [char + element for element in ans1]\n",
    "    ans = ans1 + ans2\n",
    "    \n",
    "    return ans"
   ]
  },
  {
   "cell_type": "code",
   "execution_count": 11,
   "id": "051a5343",
   "metadata": {},
   "outputs": [
    {
     "data": {
      "text/plain": [
       "['', 'c', 'b', 'bc', 'a', 'ac', 'ab', 'abc']"
      ]
     },
     "execution_count": 11,
     "metadata": {},
     "output_type": "execute_result"
    }
   ],
   "source": [
    "subsequence(\"abc\")"
   ]
  },
  {
   "cell_type": "code",
   "execution_count": 13,
   "id": "9f015791",
   "metadata": {},
   "outputs": [],
   "source": [
    "# Return all keypad combinations of a number\n",
    "# dictionary = {2:'abc', 3:'def', 4:'ghi', 5:'jkl', 6:'mno', 7:'pqrs', 8:'tuv', 9:'wxyz'}\n",
    "# keypad(23) - ['ad', 'bd', 'cd', 'ae', 'be', 'ce', 'af', 'bf', 'cf']"
   ]
  },
  {
   "cell_type": "code",
   "execution_count": 36,
   "id": "2cc3d0c8",
   "metadata": {},
   "outputs": [],
   "source": [
    "def keypad(num):\n",
    "    dictionary = {2:'abc', 3:'def', 4:'ghi', 5:'jkl', 6:'mno', 7:'pqrs', 8:'tuv', 9:'wxyz'}\n",
    "    \n",
    "    if num == 0:\n",
    "        return [\"\"]\n",
    "    \n",
    "    last_num = num % 10\n",
    "    remaining = num // 10\n",
    "    ans1 = keypad(remaining)\n",
    "    output = []\n",
    "    for char in dictionary[last_num]:\n",
    "        output = output + [element + char for element in ans1]\n",
    "    \n",
    "    return output"
   ]
  },
  {
   "cell_type": "code",
   "execution_count": 40,
   "id": "2ec62e59",
   "metadata": {},
   "outputs": [
    {
     "data": {
      "text/plain": [
       "['ad', 'bd', 'cd', 'ae', 'be', 'ce', 'af', 'bf', 'cf']"
      ]
     },
     "execution_count": 40,
     "metadata": {},
     "output_type": "execute_result"
    }
   ],
   "source": [
    "keypad(23)"
   ]
  },
  {
   "cell_type": "code",
   "execution_count": 41,
   "id": "6808969d",
   "metadata": {},
   "outputs": [
    {
     "data": {
      "text/plain": [
       "['adp',\n",
       " 'bdp',\n",
       " 'cdp',\n",
       " 'aep',\n",
       " 'bep',\n",
       " 'cep',\n",
       " 'afp',\n",
       " 'bfp',\n",
       " 'cfp',\n",
       " 'adq',\n",
       " 'bdq',\n",
       " 'cdq',\n",
       " 'aeq',\n",
       " 'beq',\n",
       " 'ceq',\n",
       " 'afq',\n",
       " 'bfq',\n",
       " 'cfq',\n",
       " 'adr',\n",
       " 'bdr',\n",
       " 'cdr',\n",
       " 'aer',\n",
       " 'ber',\n",
       " 'cer',\n",
       " 'afr',\n",
       " 'bfr',\n",
       " 'cfr',\n",
       " 'ads',\n",
       " 'bds',\n",
       " 'cds',\n",
       " 'aes',\n",
       " 'bes',\n",
       " 'ces',\n",
       " 'afs',\n",
       " 'bfs',\n",
       " 'cfs']"
      ]
     },
     "execution_count": 41,
     "metadata": {},
     "output_type": "execute_result"
    }
   ],
   "source": [
    "keypad(237)"
   ]
  },
  {
   "cell_type": "code",
   "execution_count": 42,
   "id": "ea70b9e7",
   "metadata": {},
   "outputs": [],
   "source": [
    "def factorial(n):\n",
    "    if n == 0:\n",
    "        return 1\n",
    "    return n * factorial(n-1)"
   ]
  },
  {
   "cell_type": "code",
   "execution_count": 49,
   "id": "e099b89a",
   "metadata": {},
   "outputs": [],
   "source": [
    "def print_factorial(n, ans):\n",
    "    if n == 0:\n",
    "        print(ans)\n",
    "        return\n",
    "    ans = ans * n\n",
    "    print_factorial(n-1, ans)"
   ]
  },
  {
   "cell_type": "code",
   "execution_count": 51,
   "id": "85777edc",
   "metadata": {},
   "outputs": [
    {
     "name": "stdout",
     "output_type": "stream",
     "text": [
      "120\n"
     ]
    }
   ],
   "source": [
    "print_factorial(5,1)"
   ]
  },
  {
   "cell_type": "code",
   "execution_count": 63,
   "id": "8d9c877b",
   "metadata": {},
   "outputs": [],
   "source": [
    "def minimum_of_list(arr):\n",
    "    \n",
    "    if len(arr) == 1:\n",
    "        return arr[0]\n",
    "    \n",
    "    return min(arr[0], minimum_of_list(arr[1:]))"
   ]
  },
  {
   "cell_type": "code",
   "execution_count": 64,
   "id": "b51857f1",
   "metadata": {},
   "outputs": [
    {
     "data": {
      "text/plain": [
       "0"
      ]
     },
     "execution_count": 64,
     "metadata": {},
     "output_type": "execute_result"
    }
   ],
   "source": [
    "minimum_of_list([1,3,2,4,5,6,3,2,1,0])"
   ]
  },
  {
   "cell_type": "code",
   "execution_count": 58,
   "id": "a846cc0a",
   "metadata": {},
   "outputs": [],
   "source": [
    "def print_minimum_of_list(arr, minimum):\n",
    "    \n",
    "    if len(arr) == 0:\n",
    "        print(minimum)\n",
    "        return\n",
    "    \n",
    "    if arr[0] < minimum:\n",
    "        minimum = arr[0]\n",
    "    \n",
    "    print_minimum_of_list(arr[1:], minimum)"
   ]
  },
  {
   "cell_type": "code",
   "execution_count": 59,
   "id": "475517de",
   "metadata": {},
   "outputs": [
    {
     "name": "stdout",
     "output_type": "stream",
     "text": [
      "0\n"
     ]
    }
   ],
   "source": [
    "print_minimum_of_list([1,3,2,4,5,6,3,2,1,0],100)"
   ]
  },
  {
   "cell_type": "code",
   "execution_count": 79,
   "id": "dc5dce85",
   "metadata": {},
   "outputs": [],
   "source": [
    "def print_subsequences(string1, string2):\n",
    "    if string1 == \"\":\n",
    "        print(string2)\n",
    "        return\n",
    "    \n",
    "    first_char = string1[0]\n",
    "    print_subsequences(string1[1:], string2 + first_char)\n",
    "    print_subsequences(string1[1:], string2)"
   ]
  },
  {
   "cell_type": "code",
   "execution_count": 80,
   "id": "621ca7ce",
   "metadata": {},
   "outputs": [
    {
     "name": "stdout",
     "output_type": "stream",
     "text": [
      "abc\n",
      "ab\n",
      "ac\n",
      "a\n",
      "bc\n",
      "b\n",
      "c\n",
      "\n"
     ]
    }
   ],
   "source": [
    "print_subsequences(\"abc\", \"\")"
   ]
  },
  {
   "cell_type": "code",
   "execution_count": 88,
   "id": "665d211a",
   "metadata": {},
   "outputs": [],
   "source": [
    "def print_keypad(num):\n",
    "    \n",
    "    if num == 0:\n",
    "        return [\"\"]\n",
    "    \n",
    "    dictionary = {2:'abc', 3:'def', 4:'ghi', 5:'jkl', 6:'mno', 7:'pqrs', 8:'tuv', 9:'wxyz'}\n",
    "    \n",
    "    last_num = num % 10\n",
    "    remaining = num // 10\n",
    "    smallOutput = print_keypad(remaining)\n",
    "    output = []\n",
    "    for char in dictionary[last_num]:\n",
    "        output = output + [element + char for element in smallOutput]\n",
    "    \n",
    "    return output"
   ]
  },
  {
   "cell_type": "code",
   "execution_count": 89,
   "id": "1c32ff87",
   "metadata": {},
   "outputs": [
    {
     "data": {
      "text/plain": [
       "['ad', 'bd', 'cd', 'ae', 'be', 'ce', 'af', 'bf', 'cf']"
      ]
     },
     "execution_count": 89,
     "metadata": {},
     "output_type": "execute_result"
    }
   ],
   "source": [
    "print_keypad(23)"
   ]
  },
  {
   "cell_type": "code",
   "execution_count": 108,
   "id": "92c5ce22",
   "metadata": {},
   "outputs": [],
   "source": [
    "def print_keypad(num, string):\n",
    "    \n",
    "    if num == 0:\n",
    "        print(string)\n",
    "        return\n",
    "    \n",
    "    dictionary = {2:'abc', 3:'def', 4:'ghi', 5:'jkl', 6:'mno', 7:'pqrs', 8:'tuv', 9:'wxyz'}\n",
    "    \n",
    "    last_num = num % 10\n",
    "    remaining = num // 10\n",
    "    \n",
    "    code = dictionary[last_num]\n",
    "    for char in code:\n",
    "        print_keypad(remaining, char + string)\n",
    "\n",
    "# Even though there are many recursive calls in printing the keypad than returning the keypad, the time complexity remains\n",
    "# the same because each recursive call in printing the keypad does less amount of work than each recursive call in returning\n",
    "# the keypad."
   ]
  },
  {
   "cell_type": "code",
   "execution_count": 109,
   "id": "02175218",
   "metadata": {},
   "outputs": [
    {
     "name": "stdout",
     "output_type": "stream",
     "text": [
      "adp\n",
      "bdp\n",
      "cdp\n",
      "aep\n",
      "bep\n",
      "cep\n",
      "afp\n",
      "bfp\n",
      "cfp\n",
      "adq\n",
      "bdq\n",
      "cdq\n",
      "aeq\n",
      "beq\n",
      "ceq\n",
      "afq\n",
      "bfq\n",
      "cfq\n",
      "adr\n",
      "bdr\n",
      "cdr\n",
      "aer\n",
      "ber\n",
      "cer\n",
      "afr\n",
      "bfr\n",
      "cfr\n",
      "ads\n",
      "bds\n",
      "cds\n",
      "aes\n",
      "bes\n",
      "ces\n",
      "afs\n",
      "bfs\n",
      "cfs\n"
     ]
    }
   ],
   "source": [
    "print_keypad(237, \"\")"
   ]
  },
  {
   "cell_type": "code",
   "execution_count": 110,
   "id": "55ea1dbc",
   "metadata": {},
   "outputs": [],
   "source": [
    "def print_keypad(num, output):\n",
    "    \n",
    "    if num == 0:\n",
    "        for word in output:\n",
    "            print(word)\n",
    "        return\n",
    "    \n",
    "    dictionary = {2:'abc', 3:'def', 4:'ghi', 5:'jkl', 6:'mno', 7:'pqrs', 8:'tuv', 9:'wxyz'}\n",
    "    \n",
    "    last_num = num % 10\n",
    "    remaining = num // 10\n",
    "    \n",
    "    code = dictionary[last_num]\n",
    "    newOutput = []\n",
    "    for char in code:\n",
    "        newOutput = newOutput + [char + element for element in output]\n",
    "    \n",
    "    print_keypad(remaining, newOutput)"
   ]
  },
  {
   "cell_type": "code",
   "execution_count": 111,
   "id": "74da0e7a",
   "metadata": {},
   "outputs": [
    {
     "name": "stdout",
     "output_type": "stream",
     "text": [
      "adp\n",
      "adq\n",
      "adr\n",
      "ads\n",
      "aep\n",
      "aeq\n",
      "aer\n",
      "aes\n",
      "afp\n",
      "afq\n",
      "afr\n",
      "afs\n",
      "bdp\n",
      "bdq\n",
      "bdr\n",
      "bds\n",
      "bep\n",
      "beq\n",
      "ber\n",
      "bes\n",
      "bfp\n",
      "bfq\n",
      "bfr\n",
      "bfs\n",
      "cdp\n",
      "cdq\n",
      "cdr\n",
      "cds\n",
      "cep\n",
      "ceq\n",
      "cer\n",
      "ces\n",
      "cfp\n",
      "cfq\n",
      "cfr\n",
      "cfs\n"
     ]
    }
   ],
   "source": [
    "print_keypad(237, [\"\"])"
   ]
  },
  {
   "cell_type": "code",
   "execution_count": 1,
   "id": "e7014f4e",
   "metadata": {},
   "outputs": [],
   "source": [
    "# Given an array A of size n and an integer K, return all subsets of A which sum to K."
   ]
  },
  {
   "cell_type": "code",
   "execution_count": null,
   "id": "4108405d",
   "metadata": {},
   "outputs": [],
   "source": [
    "def subsets(arr, k):\n",
    "    \n",
    "    if k == 0:\n",
    "        \n",
    "    \n",
    "    incl = subsets(arr[1:], k - arr[0])\n",
    "    excl = subsets(arr[1:], k)\n",
    "    output = [[arr[0]] + element for element in incl] + excl\n",
    "    return output"
   ]
  },
  {
   "cell_type": "code",
   "execution_count": 2,
   "id": "e348804e",
   "metadata": {},
   "outputs": [],
   "source": [
    "# Given an integer array (of length n), find and return all the subsets of input array."
   ]
  },
  {
   "cell_type": "code",
   "execution_count": 6,
   "id": "2f4a8697",
   "metadata": {},
   "outputs": [],
   "source": [
    "def subsets(arr):\n",
    "    if len(arr) == 0:\n",
    "        return [[]]\n",
    "    ans1 = subsets(arr[1:])\n",
    "    ans2 = [[arr[0]] + element for element in ans1]\n",
    "    output = ans1 + ans2\n",
    "    return output"
   ]
  },
  {
   "cell_type": "code",
   "execution_count": 8,
   "id": "88c1fca1",
   "metadata": {},
   "outputs": [
    {
     "data": {
      "text/plain": [
       "[[], [2], [1], [1, 2], [3], [3, 2], [3, 1], [3, 1, 2]]"
      ]
     },
     "execution_count": 8,
     "metadata": {},
     "output_type": "execute_result"
    }
   ],
   "source": [
    "subsets([3,1,2])"
   ]
  },
  {
   "cell_type": "code",
   "execution_count": 12,
   "id": "2bdcd67b",
   "metadata": {},
   "outputs": [],
   "source": [
    "# Given a string, find and return all the possible permutations of the input string."
   ]
  },
  {
   "cell_type": "code",
   "execution_count": 6,
   "id": "3c11c59a",
   "metadata": {},
   "outputs": [],
   "source": [
    "def permutations(string):\n",
    "    if len(string) == 1:\n",
    "        return [string]\n",
    "    \n",
    "    char = string[0]\n",
    "    remaining = string[1:]\n",
    "    ans1 = permutations(remaining)\n",
    "    output = []\n",
    "    for i in range(len(ans1[0]) + 1):\n",
    "        output = output + [element[0:i] + char + element[i:] for element in ans1]\n",
    "    return output"
   ]
  },
  {
   "cell_type": "code",
   "execution_count": 7,
   "id": "48353a4c",
   "metadata": {},
   "outputs": [
    {
     "data": {
      "text/plain": [
       "['abc', 'acb', 'bac', 'cab', 'bca', 'cba']"
      ]
     },
     "execution_count": 7,
     "metadata": {},
     "output_type": "execute_result"
    }
   ],
   "source": [
    "permutations(\"abc\")"
   ]
  },
  {
   "cell_type": "code",
   "execution_count": 8,
   "id": "a336c272",
   "metadata": {},
   "outputs": [],
   "source": [
    "# Given an integer array (of length n), print all the subsets of input array."
   ]
  },
  {
   "cell_type": "code",
   "execution_count": 32,
   "id": "33dbdd5a",
   "metadata": {},
   "outputs": [],
   "source": [
    "def print_subsets(arr1, arr2):\n",
    "    if len(arr1) == 0:\n",
    "        print(arr2)\n",
    "        return\n",
    "    \n",
    "    print_subsets(arr1[1:],arr2 + [arr1[0]])\n",
    "    print_subsets(arr1[1:],arr2)"
   ]
  },
  {
   "cell_type": "code",
   "execution_count": 33,
   "id": "557b6174",
   "metadata": {},
   "outputs": [
    {
     "name": "stdout",
     "output_type": "stream",
     "text": [
      "[1, 2, 3]\n",
      "[1, 2]\n",
      "[1, 3]\n",
      "[1]\n",
      "[2, 3]\n",
      "[2]\n",
      "[3]\n",
      "[]\n"
     ]
    }
   ],
   "source": [
    "print_subsets([1,2,3],[])"
   ]
  },
  {
   "cell_type": "code",
   "execution_count": 27,
   "id": "9d90eab4",
   "metadata": {},
   "outputs": [],
   "source": [
    "def print_subsets(arr1, arr2):\n",
    "    \n",
    "    if len(arr1) == 0:\n",
    "        for element in arr2:\n",
    "            print(element)\n",
    "        return\n",
    "    \n",
    "    smallOutput = [element + [arr1[0]] for element in arr2]\n",
    "    arr2 = smallOutput + arr2\n",
    "    print_subsets(arr1[1:], arr2)"
   ]
  },
  {
   "cell_type": "code",
   "execution_count": 28,
   "id": "218e7549",
   "metadata": {},
   "outputs": [
    {
     "name": "stdout",
     "output_type": "stream",
     "text": [
      "[1, 2, 3]\n",
      "[2, 3]\n",
      "[1, 3]\n",
      "[3]\n",
      "[1, 2]\n",
      "[2]\n",
      "[1]\n",
      "[]\n"
     ]
    }
   ],
   "source": [
    "print_subsets([1,2,3],[[]])"
   ]
  },
  {
   "cell_type": "code",
   "execution_count": 34,
   "id": "ec3ca248",
   "metadata": {},
   "outputs": [],
   "source": [
    "# Given a string, find and print all the possible permutations of the input string."
   ]
  },
  {
   "cell_type": "code",
   "execution_count": 45,
   "id": "816f6ad7",
   "metadata": {},
   "outputs": [],
   "source": [
    "def print_permutations(string1, string2):\n",
    "    if string1 == \"\":\n",
    "        print(string2)\n",
    "        return\n",
    "    \n",
    "    for i in range(len(string1)):\n",
    "        print_permutations(string1[:i] + string1[i+1:], string2 + string1[i])"
   ]
  },
  {
   "cell_type": "code",
   "execution_count": 48,
   "id": "f3d18ea2",
   "metadata": {},
   "outputs": [
    {
     "name": "stdout",
     "output_type": "stream",
     "text": [
      "abc\n",
      "acb\n",
      "bac\n",
      "bca\n",
      "cab\n",
      "cba\n"
     ]
    }
   ],
   "source": [
    "print_permutations('abc',\"\")"
   ]
  },
  {
   "cell_type": "code",
   "execution_count": null,
   "id": "7f35536f",
   "metadata": {},
   "outputs": [],
   "source": []
  }
 ],
 "metadata": {
  "kernelspec": {
   "display_name": "Python 3 (ipykernel)",
   "language": "python",
   "name": "python3"
  },
  "language_info": {
   "codemirror_mode": {
    "name": "ipython",
    "version": 3
   },
   "file_extension": ".py",
   "mimetype": "text/x-python",
   "name": "python",
   "nbconvert_exporter": "python",
   "pygments_lexer": "ipython3",
   "version": "3.9.12"
  }
 },
 "nbformat": 4,
 "nbformat_minor": 5
}
