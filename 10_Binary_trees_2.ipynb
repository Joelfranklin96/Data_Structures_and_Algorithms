{
 "cells": [
  {
   "cell_type": "code",
   "execution_count": 3,
   "id": "aa93e66a",
   "metadata": {},
   "outputs": [],
   "source": [
    "class BinaryTreeNode():\n",
    "    \n",
    "    def __init__(self,data):\n",
    "        \n",
    "        self.data = data\n",
    "        self.left = None\n",
    "        self.right = None"
   ]
  },
  {
   "cell_type": "code",
   "execution_count": 2,
   "id": "3ad0104f",
   "metadata": {},
   "outputs": [],
   "source": [
    "def binary_tree_input():\n",
    "    \n",
    "    root_data = int(input())\n",
    "    \n",
    "    if root_data == -1:\n",
    "        return None\n",
    "    \n",
    "    root = BinaryTreeNode(root_data)\n",
    "    root.left = binary_tree_input()\n",
    "    root.right = binary_tree_input()\n",
    "    return root"
   ]
  },
  {
   "cell_type": "code",
   "execution_count": 3,
   "id": "b2fbd598",
   "metadata": {},
   "outputs": [
    {
     "name": "stdout",
     "output_type": "stream",
     "text": [
      "1\n",
      "2\n",
      "4\n",
      "-1\n",
      "-1\n",
      "5\n",
      "-1\n",
      "6\n",
      "-1\n",
      "-1\n",
      "3\n",
      "7\n",
      "-1\n",
      "-1\n",
      "8\n",
      "-1\n",
      "-1\n"
     ]
    }
   ],
   "source": [
    "a = binary_tree_input()"
   ]
  },
  {
   "cell_type": "code",
   "execution_count": 4,
   "id": "3f4078ae",
   "metadata": {},
   "outputs": [],
   "source": [
    "def leaf_nodes(root):\n",
    "    if root is None:\n",
    "        return 0\n",
    "    if root.left is None and root.right is None:\n",
    "        return 1\n",
    "    return leaf_nodes(root.left) + leaf_nodes(root.right)"
   ]
  },
  {
   "cell_type": "code",
   "execution_count": 5,
   "id": "9b355911",
   "metadata": {},
   "outputs": [
    {
     "data": {
      "text/plain": [
       "4"
      ]
     },
     "execution_count": 5,
     "metadata": {},
     "output_type": "execute_result"
    }
   ],
   "source": [
    "leaf_nodes(a)"
   ]
  },
  {
   "cell_type": "code",
   "execution_count": 84,
   "id": "a793a5ba",
   "metadata": {},
   "outputs": [],
   "source": [
    "def print_tree_detailed_1(root):\n",
    "    \n",
    "    if root == None:\n",
    "        return\n",
    "    \n",
    "    if root.left is not None and root.right is not None:\n",
    "        print(str(root.data) + \" : \" + \"L \" + str(root.left.data) + \", \" + \"R \" + str(root.right.data))\n",
    "        print_tree_detailed_1(root.left)\n",
    "        print_tree_detailed_1(root.right)\n",
    "    elif root.left is not None:\n",
    "        print(str(root.data) + \" : \" + \"L \" + str(root.left.data))\n",
    "        print_tree_detailed_1(root.left)\n",
    "        print_tree_detailed_1(root.right)\n",
    "    elif root.right is not None:\n",
    "        print(str(root.data) + \" : \" + \"R \" + str(root.right.data))\n",
    "        print_tree_detailed_1(root.left)\n",
    "        print_tree_detailed_1(root.right)\n",
    "    else:\n",
    "        print(str(root.data) + \" : \")\n",
    "        print_tree_detailed_1(root.left)\n",
    "        print_tree_detailed_1(root.right)"
   ]
  },
  {
   "cell_type": "markdown",
   "id": "d1d8f469",
   "metadata": {},
   "source": [
    "### --------------------------------------------------------------------------------------------------------------------------------------------------------------"
   ]
  },
  {
   "cell_type": "code",
   "execution_count": 85,
   "id": "5f465bdb",
   "metadata": {},
   "outputs": [],
   "source": [
    "# Find the number of nodes in the given tree"
   ]
  },
  {
   "cell_type": "code",
   "execution_count": 86,
   "id": "b18708c3",
   "metadata": {},
   "outputs": [],
   "source": [
    "def nodes(root):\n",
    "    \n",
    "    if root == None:\n",
    "        return 0\n",
    "    \n",
    "    return 1 + nodes(root.left) + nodes(root.right)\n",
    "\n",
    "# Recurrence relation\n",
    "\n",
    "# T(n) = 2*T(n/2) + k\n",
    "\n",
    "# Time complexity = O(n)"
   ]
  },
  {
   "cell_type": "code",
   "execution_count": null,
   "id": "bb1fbd2b",
   "metadata": {},
   "outputs": [],
   "source": [
    "# The below is also right\n",
    "\n",
    "# Let us consider 2 cases. One is a completely unbalanced tree where there are nodes only on the right. The other is a completely \n",
    "# balanced tree.\n",
    "\n",
    "# Case 1 Recurrence relation (unbalanced) (Worst case)\n",
    "\n",
    "# T(n) = T(n-1) + k\n",
    "\n",
    "# Time complexity = O(n) \n",
    "\n",
    "# Case 2 Recurrence relation (balanced) (Best case)\n",
    "\n",
    "# T(n) = 2*T(n/2) + k\n",
    "\n",
    "# Time complexity = O(n)"
   ]
  },
  {
   "cell_type": "code",
   "execution_count": 87,
   "id": "c7e0456e",
   "metadata": {},
   "outputs": [
    {
     "data": {
      "text/plain": [
       "9"
      ]
     },
     "execution_count": 87,
     "metadata": {},
     "output_type": "execute_result"
    }
   ],
   "source": [
    "nodes(a)"
   ]
  },
  {
   "cell_type": "markdown",
   "id": "f688e28d",
   "metadata": {},
   "source": [
    "### --------------------------------------------------------------------------------------------------------------------------------------------------------------"
   ]
  },
  {
   "cell_type": "code",
   "execution_count": 10,
   "id": "ca169398",
   "metadata": {},
   "outputs": [],
   "source": [
    "# Find the height of a binary tree"
   ]
  },
  {
   "cell_type": "code",
   "execution_count": 8,
   "id": "f4886b0e",
   "metadata": {},
   "outputs": [],
   "source": [
    "def height(root):\n",
    "    \n",
    "    if root is None:\n",
    "        return 0\n",
    "    \n",
    "    return 1 + max(height(root.left), height(root.right))\n",
    "\n",
    "# Recurrence relation\n",
    "\n",
    "# T(n) = T(K) + T(n-K-1)\n",
    "\n",
    "# Time complexity = O(n)"
   ]
  },
  {
   "cell_type": "code",
   "execution_count": null,
   "id": "fccc49bb",
   "metadata": {},
   "outputs": [],
   "source": [
    "# The below is also right\n",
    "\n",
    "# Let us consider 2 cases. One is a completely unbalanced tree where there are nodes only on the right. The other is a completely \n",
    "# balanced tree.\n",
    "\n",
    "# Case 1 Recurrence relation (unbalanced) (Worst case)\n",
    "\n",
    "# T(n) = T(n-1) + k\n",
    "\n",
    "# Time complexity = O(n) \n",
    "\n",
    "# Case 2 Recurrence relation (balanced) (Best case)\n",
    "\n",
    "# T(n) = 2*T(n/2) + k\n",
    "\n",
    "# Time complexity = O(n)"
   ]
  },
  {
   "cell_type": "code",
   "execution_count": 44,
   "id": "18f4de86",
   "metadata": {},
   "outputs": [
    {
     "data": {
      "text/plain": [
       "4"
      ]
     },
     "execution_count": 44,
     "metadata": {},
     "output_type": "execute_result"
    }
   ],
   "source": [
    "height(a)"
   ]
  },
  {
   "cell_type": "markdown",
   "id": "03c45bda",
   "metadata": {},
   "source": [
    "### --------------------------------------------------------------------------------------------------------------------------------------------------------------"
   ]
  },
  {
   "cell_type": "code",
   "execution_count": 11,
   "id": "d6e774e0",
   "metadata": {},
   "outputs": [],
   "source": [
    "# Print the nodes at depth k"
   ]
  },
  {
   "cell_type": "code",
   "execution_count": 21,
   "id": "a6f81afe",
   "metadata": {},
   "outputs": [],
   "source": [
    "def print_depth(root, k):\n",
    "    \n",
    "    if k == 1:\n",
    "        print(root.data)\n",
    "        return\n",
    "    \n",
    "    print_depth(root.left, k-1)\n",
    "    print_depth(root.right, k-1)\n",
    "\n",
    "# Recurrence relation\n",
    "\n",
    "# T(n) = T(K) + T(n-K-1)\n",
    "\n",
    "# Time complexity = O(n)\n",
    "\n",
    "# I got time complexity as O(2^q) where q is the input depth"
   ]
  },
  {
   "cell_type": "code",
   "execution_count": 22,
   "id": "c32a5f6b",
   "metadata": {},
   "outputs": [
    {
     "name": "stdout",
     "output_type": "stream",
     "text": [
      "1\n",
      "2\n",
      "6\n",
      "7\n"
     ]
    }
   ],
   "source": [
    "print_depth(a, 3)"
   ]
  },
  {
   "cell_type": "markdown",
   "id": "4bd0e939",
   "metadata": {},
   "source": [
    "### --------------------------------------------------------------------------------------------------------------------------------------------------------------"
   ]
  },
  {
   "cell_type": "code",
   "execution_count": 23,
   "id": "876c1967",
   "metadata": {},
   "outputs": [],
   "source": [
    "# Remove leaf nodes in a binary tree"
   ]
  },
  {
   "cell_type": "code",
   "execution_count": 33,
   "id": "ad34e363",
   "metadata": {},
   "outputs": [],
   "source": [
    "def leaf_nodes(root):\n",
    "    \n",
    "    if (root is None) or ((root.left is None) and (root.right is None)):\n",
    "        return None\n",
    "    \n",
    "    root.left = leaf_nodes(root.left)\n",
    "    root.right = leaf_nodes(root.right)\n",
    "    \n",
    "    return root   "
   ]
  },
  {
   "cell_type": "code",
   "execution_count": 41,
   "id": "ca0ba105",
   "metadata": {},
   "outputs": [],
   "source": [
    "b = leaf_nodes(a)\n",
    "print_tree_detailed_1(b)"
   ]
  },
  {
   "cell_type": "markdown",
   "id": "634b85fa",
   "metadata": {},
   "source": [
    "### --------------------------------------------------------------------------------------------------------------------------------------------------------------"
   ]
  },
  {
   "cell_type": "code",
   "execution_count": 45,
   "id": "56cc7e69",
   "metadata": {},
   "outputs": [],
   "source": [
    "# Mirror a binary tree"
   ]
  },
  {
   "cell_type": "code",
   "execution_count": 51,
   "id": "b79af1be",
   "metadata": {},
   "outputs": [],
   "source": [
    "def mirror(root):\n",
    "    \n",
    "    if root is None:\n",
    "        return None\n",
    "    \n",
    "    node = root.left\n",
    "    root.left = mirror(root.right)\n",
    "    root.right = mirror(node)\n",
    "    return root"
   ]
  },
  {
   "cell_type": "code",
   "execution_count": 52,
   "id": "3b741214",
   "metadata": {},
   "outputs": [
    {
     "name": "stdout",
     "output_type": "stream",
     "text": [
      "3 : L 5, R 5\n",
      "5 : L 7, R 7\n",
      "7 : \n",
      "7 : \n",
      "5 : L 7, R 7\n",
      "7 : \n",
      "7 : \n",
      "Hi\n",
      "3 : L 5, R 5\n",
      "5 : L 7, R 7\n",
      "7 : \n",
      "7 : \n",
      "5 : L 7, R 7\n",
      "7 : \n",
      "7 : \n"
     ]
    }
   ],
   "source": [
    "print_tree_detailed_1(a)\n",
    "b = mirror(a)\n",
    "print(\"Hi\")\n",
    "print_tree_detailed_1(b)"
   ]
  },
  {
   "cell_type": "markdown",
   "id": "38785cee",
   "metadata": {},
   "source": [
    "### --------------------------------------------------------------------------------------------------------------------------------------------------------------"
   ]
  },
  {
   "cell_type": "code",
   "execution_count": 53,
   "id": "b8e06ad0",
   "metadata": {},
   "outputs": [],
   "source": [
    "# Check if binary tree is balanced"
   ]
  },
  {
   "cell_type": "code",
   "execution_count": 9,
   "id": "c23b0bd3",
   "metadata": {},
   "outputs": [],
   "source": [
    "def balance_binary_tree(root):\n",
    "    \n",
    "    if root is None:\n",
    "        return True\n",
    "    elif abs(height(root.left) - height(root.right)) > 1:\n",
    "        return False\n",
    "    else:\n",
    "        return balance_binary_tree(root.left) and balance_binary_tree(root.right)"
   ]
  },
  {
   "cell_type": "code",
   "execution_count": 10,
   "id": "bebdc442",
   "metadata": {},
   "outputs": [
    {
     "data": {
      "text/plain": [
       "True"
      ]
     },
     "execution_count": 10,
     "metadata": {},
     "output_type": "execute_result"
    }
   ],
   "source": [
    "balance_binary_tree(a)"
   ]
  },
  {
   "cell_type": "code",
   "execution_count": 64,
   "id": "009e2a48",
   "metadata": {},
   "outputs": [],
   "source": [
    "# Let us consider 2 cases. One is a completely unbalanced tree where there are nodes only on the right. The other is a completely \n",
    "# balanced tree.\n",
    "\n",
    "# Case 1 Recurrence relation (unbalanced) (Worst case)\n",
    "\n",
    "# T(n) = n*k + T(n-1)\n",
    "\n",
    "# Time complexity = O(n^2) \n",
    "\n",
    "# Case 2 Recurrence relation (balanced) (Best case)\n",
    "\n",
    "# T(n) = n*k + 2*T(n/2)\n",
    "\n",
    "# Time complexity = O(n*logn)\n",
    "\n",
    "# In general the time complexity of a binary tree is O(n*h) where h is the height of the tree.\n",
    "# Height of completely unbalanced tree = n\n",
    "# Height of balanced tree = logn where n is the total number of nodes"
   ]
  },
  {
   "cell_type": "code",
   "execution_count": 16,
   "id": "74c3cc4a",
   "metadata": {},
   "outputs": [],
   "source": [
    "def balance_binary_tree_improved(root):\n",
    "    \n",
    "    if root is None:\n",
    "        return 0,True\n",
    "    \n",
    "    lh,is_balanced_left = balance_binary_tree_improved(root.left)\n",
    "    rh,is_balanced_right = balance_binary_tree_improved(root.right)\n",
    "    h = 1 + max(lh, rh)\n",
    "    \n",
    "    if abs(lh - rh) > 1:\n",
    "        return h, False\n",
    "    else:\n",
    "        return h, is_balanced_left and is_balanced_right\n",
    "\n",
    "# Recurrence Relation\n",
    "\n",
    "# T(n) = T(k) + T(n-k-1)\n",
    "\n",
    "# Time complexity = O(n)"
   ]
  },
  {
   "cell_type": "code",
   "execution_count": 17,
   "id": "936a1f67",
   "metadata": {},
   "outputs": [
    {
     "data": {
      "text/plain": [
       "(4, True)"
      ]
     },
     "execution_count": 17,
     "metadata": {},
     "output_type": "execute_result"
    }
   ],
   "source": [
    "balance_binary_tree_improved(a)"
   ]
  },
  {
   "cell_type": "markdown",
   "id": "ff9b512a",
   "metadata": {},
   "source": [
    "### --------------------------------------------------------------------------------------------------------------------------------------------------------------"
   ]
  },
  {
   "cell_type": "code",
   "execution_count": 20,
   "id": "a0295297",
   "metadata": {},
   "outputs": [],
   "source": [
    "def diameter(root):\n",
    "    \n",
    "    if root is None:\n",
    "        return 0\n",
    "    \n",
    "    lh = height(root.left)\n",
    "    rh = height(root.right)\n",
    "    \n",
    "    return max(lh + rh, diameter(root.left), diameter(root.right))\n",
    "\n",
    "# In coding ninjas solutions it is\n",
    "\n",
    "# return max(1 + lh + rh, diameter(root.left), diameter(root.right))"
   ]
  },
  {
   "cell_type": "code",
   "execution_count": 21,
   "id": "2a647724",
   "metadata": {},
   "outputs": [
    {
     "data": {
      "text/plain": [
       "5"
      ]
     },
     "execution_count": 21,
     "metadata": {},
     "output_type": "execute_result"
    }
   ],
   "source": [
    "diameter(a)"
   ]
  },
  {
   "cell_type": "code",
   "execution_count": null,
   "id": "89febd1a",
   "metadata": {},
   "outputs": [],
   "source": [
    "# Let us consider 2 cases. One is a completely unbalanced tree where there are nodes only on the right. The other is a completely \n",
    "# balanced tree.\n",
    "\n",
    "# Case 1 Recurrence relation (unbalanced) (Worst case)\n",
    "\n",
    "# T(n) = n*k + T(n-1)\n",
    "\n",
    "# Time complexity = O(n^2) \n",
    "\n",
    "# Case 2 Recurrence relation (balanced) (Best case)\n",
    "\n",
    "# T(n) = n*k + 2*T(n/2)\n",
    "\n",
    "# Time complexity = O(n*logn)\n",
    "\n",
    "# In general the time complexity of a binary tree is O(n*h) where h is the height of the tree.\n",
    "# Height of completely unbalanced tree = n\n",
    "# Height of balanced tree = logn where n is the total number of nodes"
   ]
  },
  {
   "cell_type": "code",
   "execution_count": 23,
   "id": "e9b8f430",
   "metadata": {},
   "outputs": [],
   "source": [
    "def diameter_improved(root):\n",
    "    \n",
    "    if root is None:\n",
    "        return 0,0\n",
    "    \n",
    "    lh,dl = diameter_improved(root.left)\n",
    "    rh, dr = diameter_improved(root.right)\n",
    "    \n",
    "    th = 1 + max(lh, rh)\n",
    "    \n",
    "    return th ,max(lh+rh, dl, dr)\n",
    "\n",
    "# In coding ninjas solutions it is\n",
    "\n",
    "# return th ,max(1+lh+rh, dl, dr)\n",
    "\n",
    "# Recurrence Relation\n",
    "\n",
    "# T(n) = T(k) + T(n-k-1)\n",
    "\n",
    "# Time complexity = O(n)"
   ]
  },
  {
   "cell_type": "code",
   "execution_count": 24,
   "id": "108aea31",
   "metadata": {},
   "outputs": [
    {
     "data": {
      "text/plain": [
       "(4, 5)"
      ]
     },
     "execution_count": 24,
     "metadata": {},
     "output_type": "execute_result"
    }
   ],
   "source": [
    "diameter_improved(a)"
   ]
  },
  {
   "cell_type": "code",
   "execution_count": 8,
   "id": "b00036d1",
   "metadata": {},
   "outputs": [],
   "source": [
    "# Let us consider 2 cases. One is a completely unbalanced tree where there are nodes only on the right. The other is a completely \n",
    "# balanced tree.\n",
    "\n",
    "# Case 1 Recurrence relation (unbalanced) (Worst case)\n",
    "\n",
    "# T(n) = T(n-1) + k\n",
    "\n",
    "# Time complexity = O(n) \n",
    "\n",
    "# Case 2 Recurrence relation (balanced) (Best case)\n",
    "\n",
    "# T(n) = 2*T(n/2) + k\n",
    "\n",
    "# Time complexity = O(n)"
   ]
  },
  {
   "cell_type": "markdown",
   "id": "c8f43e5e",
   "metadata": {},
   "source": [
    "### --------------------------------------------------------------------------------------------------------------------------------------------------------------"
   ]
  },
  {
   "cell_type": "code",
   "execution_count": 25,
   "id": "01641277",
   "metadata": {},
   "outputs": [],
   "source": [
    "# Take input for binary tree levelwise"
   ]
  },
  {
   "cell_type": "code",
   "execution_count": 4,
   "id": "3217c697",
   "metadata": {},
   "outputs": [],
   "source": [
    "import queue\n",
    "\n",
    "def levelwise_input():\n",
    "    \n",
    "    root = None\n",
    "    print(\"Please enter the root data\")\n",
    "    key = int(input())\n",
    "    \n",
    "    q = queue.Queue()\n",
    "    \n",
    "    if key == -1:\n",
    "        \n",
    "        return None\n",
    "    \n",
    "    else:\n",
    "        \n",
    "        root = BinaryTreeNode(key)\n",
    "        q.put(root)\n",
    "        \n",
    "        while not(q.empty()):\n",
    "            \n",
    "            current_node = q.get()\n",
    "            \n",
    "            print(\"Please enter the left child of {}\".format(current_node.data))\n",
    "            key = int(input())\n",
    "            \n",
    "            if key != -1:\n",
    "                left = BinaryTreeNode(key)\n",
    "                q.put(left)\n",
    "                current_node.left = left\n",
    "            else:\n",
    "                current_node.left = None\n",
    "            \n",
    "            print(\"Please enter the right child of {}\".format(current_node.data))\n",
    "            key = int(input())\n",
    "            \n",
    "            if key != -1:\n",
    "                right = BinaryTreeNode(key)\n",
    "                q.put(right)\n",
    "                current_node.right = right\n",
    "            else:\n",
    "                current_node.right = None\n",
    "        \n",
    "        return root    "
   ]
  },
  {
   "cell_type": "code",
   "execution_count": 23,
   "id": "f9209d46",
   "metadata": {},
   "outputs": [
    {
     "name": "stdout",
     "output_type": "stream",
     "text": [
      "Please enter the root data\n",
      "1\n",
      "Please enter the left child of 1\n",
      "2\n",
      "Please enter the right child of 1\n",
      "-1\n",
      "Please enter the left child of 2\n",
      "3\n",
      "Please enter the right child of 2\n",
      "4\n",
      "Please enter the left child of 3\n",
      "5\n",
      "Please enter the right child of 3\n",
      "6\n",
      "Please enter the left child of 4\n",
      "-1\n",
      "Please enter the right child of 4\n",
      "-1\n",
      "Please enter the left child of 5\n",
      "-1\n",
      "Please enter the right child of 5\n",
      "-1\n",
      "Please enter the left child of 6\n",
      "-1\n",
      "Please enter the right child of 6\n",
      "-1\n"
     ]
    }
   ],
   "source": [
    "a = levelwise_input()"
   ]
  },
  {
   "cell_type": "code",
   "execution_count": 26,
   "id": "28004d7f",
   "metadata": {},
   "outputs": [
    {
     "name": "stdout",
     "output_type": "stream",
     "text": [
      "1:L:2,R:-1\n",
      "2:L:3,R:4\n",
      "3:L:5,R:6\n",
      "4:L:-1,R:-1\n",
      "5:L:-1,R:-1\n",
      "6:L:-1,R:-1\n"
     ]
    }
   ],
   "source": [
    "print_levelwise_detailed(a)"
   ]
  },
  {
   "cell_type": "markdown",
   "id": "bb699e73",
   "metadata": {},
   "source": [
    "### --------------------------------------------------------------------------------------------------------------------------------------------------------------"
   ]
  },
  {
   "cell_type": "code",
   "execution_count": 23,
   "id": "fae998d0",
   "metadata": {},
   "outputs": [],
   "source": [
    "# Print the binary tree level wise"
   ]
  },
  {
   "cell_type": "code",
   "execution_count": 27,
   "id": "4f3529f6",
   "metadata": {},
   "outputs": [],
   "source": [
    "def print_levelwise(root):\n",
    "    \n",
    "    if root is None:\n",
    "        print(None)\n",
    "    \n",
    "    else:\n",
    "        q = queue.Queue()\n",
    "        q.put(root)\n",
    "        while not(q.empty()):\n",
    "            current_node = q.get()\n",
    "            print(current_node.data, end = \" \")\n",
    "            if current_node.left is not None:\n",
    "                q.put(current_node.left)\n",
    "            if current_node.right is not None:\n",
    "                q.put(current_node.right)"
   ]
  },
  {
   "cell_type": "code",
   "execution_count": 28,
   "id": "6cf09822",
   "metadata": {},
   "outputs": [
    {
     "name": "stdout",
     "output_type": "stream",
     "text": [
      "1 2 3 4 "
     ]
    }
   ],
   "source": [
    "print_levelwise(a)"
   ]
  },
  {
   "cell_type": "code",
   "execution_count": 6,
   "id": "de4bb06a",
   "metadata": {},
   "outputs": [],
   "source": [
    "def print_levelwise_detailed(root):\n",
    "    \n",
    "    if root is None:\n",
    "        print(None)\n",
    "    \n",
    "    else:\n",
    "        \n",
    "        q = queue.Queue()\n",
    "        q.put(root)\n",
    "        \n",
    "        while not(q.empty()):\n",
    "            current_node = q.get()\n",
    "            print(\"{}:\".format(current_node.data), end = \"\")\n",
    "            if current_node.left is not None:\n",
    "                q.put(current_node.left)\n",
    "            if current_node.right is not None:\n",
    "                q.put(current_node.right)\n",
    "            if current_node.left is not None and current_node.right is not None:\n",
    "                print(\"L:{},R:{}\".format(current_node.left.data,current_node.right.data))\n",
    "            elif current_node.left is not None:\n",
    "                print(\"L:{},R:-1\".format(current_node.left.data))\n",
    "            elif current_node.right is not None:\n",
    "                print(\"L:-1,R:{}\".format(current_node.right.data))\n",
    "            else:\n",
    "                print(\"L:-1,R:-1\")"
   ]
  },
  {
   "cell_type": "code",
   "execution_count": 7,
   "id": "557fed62",
   "metadata": {},
   "outputs": [
    {
     "name": "stdout",
     "output_type": "stream",
     "text": [
      "1:L:2,R:3\n",
      "2:L:4,R:5\n",
      "3:L:6,R:7\n",
      "4:L:8,R:9\n",
      "5:L:10,R:11\n",
      "6:L:12,R:13\n",
      "7:L:14,R:15\n",
      "8:L:-1,R:-1\n",
      "9:L:-1,R:-1\n",
      "10:L:-1,R:-1\n",
      "11:L:-1,R:-1\n",
      "12:L:-1,R:-1\n",
      "13:L:-1,R:-1\n",
      "14:L:-1,R:-1\n",
      "15:L:-1,R:-1\n"
     ]
    }
   ],
   "source": [
    "print_levelwise_detailed(a)"
   ]
  },
  {
   "cell_type": "code",
   "execution_count": null,
   "id": "eb42b00a",
   "metadata": {},
   "outputs": [],
   "source": [
    "# Prints nodes at nth level"
   ]
  },
  {
   "cell_type": "code",
   "execution_count": 27,
   "id": "066b38a5",
   "metadata": {},
   "outputs": [],
   "source": [
    "import queue\n",
    "def print_level(node, n):\n",
    "    \n",
    "    q = queue.Queue()\n",
    "    q.put(node)\n",
    "    q.put(\"\\n\")\n",
    "    count = 0\n",
    "    while not(q.empty()):\n",
    "        node = q.get()\n",
    "        if node == \"\\n\":\n",
    "            count += 1\n",
    "            q.put(\"\\n\")\n",
    "            if count == n-1:\n",
    "                break\n",
    "        else:\n",
    "            if node.left is not None:\n",
    "                q.put(node.left)\n",
    "            if node.right is not None:\n",
    "                q.put(node.right)\n",
    "    \n",
    "    node = q.get()\n",
    "    while node != \"\\n\":\n",
    "        print(node.data)\n",
    "        node = q.get()"
   ]
  },
  {
   "cell_type": "code",
   "execution_count": 30,
   "id": "89027728",
   "metadata": {},
   "outputs": [
    {
     "name": "stdout",
     "output_type": "stream",
     "text": [
      "5\n",
      "6\n"
     ]
    }
   ],
   "source": [
    "print_level(a,4)"
   ]
  },
  {
   "cell_type": "code",
   "execution_count": 93,
   "id": "17126a0b",
   "metadata": {},
   "outputs": [],
   "source": [
    "def print_levelwise_detailed_2(root):\n",
    "    \n",
    "    if root is None:\n",
    "        print(None)\n",
    "    else:\n",
    "        q = queue.Queue()\n",
    "        q.put(root)\n",
    "        \n",
    "        while not(q.empty()):\n",
    "            node = q.get()\n",
    "            if node.left is not None:\n",
    "                q.put(node.left)\n",
    "            if node.right is not None:\n",
    "                q.put(node.right)\n",
    "            \n",
    "            print(\"{}:\".format(node.data), end = \"\")\n",
    "            \n",
    "            if node.left is not None and node.right is not None:\n",
    "                print(\"L:{},R:{}\".format(node.left.data, node.right.data))\n",
    "            \n",
    "            elif node.left is not None:\n",
    "                print(\"L:{},R:-1\".format(node.left.data))\n",
    "            \n",
    "            elif node.right is not None:\n",
    "                print(\"L:-1,R:{}\".format(node.right.data))\n",
    "                \n",
    "            else:\n",
    "                print(\"L:-1,R:-1\")"
   ]
  },
  {
   "cell_type": "code",
   "execution_count": 94,
   "id": "5ea60a39",
   "metadata": {},
   "outputs": [
    {
     "name": "stdout",
     "output_type": "stream",
     "text": [
      "1:L:2,R:3\n",
      "2:L:4,R:5\n",
      "3:L:8,R:9\n",
      "4:L:6,R:-1\n",
      "5:L:-1,R:7\n",
      "8:L:-1,R:-1\n",
      "9:L:-1,R:-1\n",
      "6:L:-1,R:-1\n",
      "7:L:-1,R:-1\n"
     ]
    }
   ],
   "source": [
    "print_levelwise_detailed_2(a)"
   ]
  },
  {
   "cell_type": "markdown",
   "id": "f722baa0",
   "metadata": {},
   "source": [
    "### --------------------------------------------------------------------------------------------------------------------------------------------------------------"
   ]
  },
  {
   "cell_type": "code",
   "execution_count": 95,
   "id": "0f01fa84",
   "metadata": {},
   "outputs": [],
   "source": [
    "import queue"
   ]
  },
  {
   "cell_type": "code",
   "execution_count": 96,
   "id": "a7378cb8",
   "metadata": {},
   "outputs": [],
   "source": [
    "# You are given the inorder and preorder traversal of a tree. Build the binary tree"
   ]
  },
  {
   "cell_type": "code",
   "execution_count": 97,
   "id": "cdf9d632",
   "metadata": {},
   "outputs": [],
   "source": [
    "def form_binary_tree(preorder, inorder):\n",
    "    \n",
    "    if (len(preorder) == 0) or (len(inorder) == 0):\n",
    "        return None\n",
    "    \n",
    "    root = preorder[0]\n",
    "    \n",
    "    preorder_left = []\n",
    "    preorder_right = []\n",
    "    inorder_left = []\n",
    "    inorder_right = []\n",
    "    \n",
    "    indice = inorder.index(root)\n",
    "    inorder_left = inorder[:indice]\n",
    "    inorder_right = inorder[indice+1:]\n",
    "    \n",
    "    n = len(inorder_left)\n",
    "    preorder_left = preorder[1:n+1]\n",
    "    preorder_right = preorder[n+1:]\n",
    "    \n",
    "    root.left = form_binary_tree(preorder_left, inorder_left)\n",
    "    root.right = form_binary_tree(preorder_right, inorder_right)\n",
    "    \n",
    "    return root"
   ]
  },
  {
   "cell_type": "code",
   "execution_count": 98,
   "id": "ac686f7a",
   "metadata": {},
   "outputs": [],
   "source": [
    "# If the preorder and inorder are lists of integers and not nodes.\n",
    "# Assuming there are no duuplicate nodal values\n",
    "\n",
    "def form_binary_tree_2(preorder, inorder):\n",
    "    \n",
    "    if (len(preorder) == 0) or (len(inorder) == 0):\n",
    "        return None\n",
    "    \n",
    "    root = BinaryTreeNode(preorder[0])\n",
    "    \n",
    "    preorder_left = []\n",
    "    preorder_right = []\n",
    "    inorder_left = []\n",
    "    inorder_right = []\n",
    "    \n",
    "    indice = inorder.index(root.data)\n",
    "    inorder_left = inorder[:indice]\n",
    "    inorder_right = inorder[indice+1:]\n",
    "    \n",
    "    n = len(inorder_left)\n",
    "    preorder_left = preorder[1:n+1]\n",
    "    preorder_right = preorder[n+1:]\n",
    "    \n",
    "    root.left = form_binary_tree_2(preorder_left, inorder_left)\n",
    "    root.right = form_binary_tree_2(preorder_right, inorder_right)\n",
    "    \n",
    "    return root"
   ]
  },
  {
   "cell_type": "code",
   "execution_count": 99,
   "id": "75c4febe",
   "metadata": {},
   "outputs": [
    {
     "name": "stdout",
     "output_type": "stream",
     "text": [
      "1:L:2,R:3\n",
      "2:L:4,R:5\n",
      "3:L:8,R:9\n",
      "4:L:6,R:-1\n",
      "5:L:-1,R:7\n",
      "8:L:-1,R:-1\n",
      "9:L:-1,R:-1\n",
      "6:L:-1,R:-1\n",
      "7:L:-1,R:-1\n"
     ]
    }
   ],
   "source": [
    "preorder = [1,2,4,6,5,7,3,8,9]\n",
    "inorder = [6,4,2,5,7,1,8,3,9]\n",
    "a = form_binary_tree_2(preorder, inorder)\n",
    "print_levelwise_detailed_2(a)"
   ]
  },
  {
   "cell_type": "markdown",
   "id": "0a16312a",
   "metadata": {},
   "source": [
    "### --------------------------------------------------------------------------------------------------------------------------------------------------------------"
   ]
  },
  {
   "cell_type": "code",
   "execution_count": 122,
   "id": "405c923b",
   "metadata": {},
   "outputs": [],
   "source": [
    "# You are given the inorder and preorder traversal of a tree. Build the binary tree"
   ]
  },
  {
   "cell_type": "code",
   "execution_count": 100,
   "id": "c08b241b",
   "metadata": {},
   "outputs": [],
   "source": [
    "def form_binary_tree_3(inorder, postorder):\n",
    "    \n",
    "    if len(inorder) == 0 or len(postorder) == 0:\n",
    "        return None\n",
    "    \n",
    "    root = BinaryTreeNode(postorder[-1])\n",
    "    \n",
    "    indice = inorder.index(root.data)\n",
    "    inorder_left = inorder[:indice]\n",
    "    inorder_right = inorder[indice+1:]\n",
    "    \n",
    "    n = len(inorder_left)\n",
    "    postorder_left = postorder[0:n]\n",
    "    postorder_right = postorder[n:-1]\n",
    "    \n",
    "    root.left = form_binary_tree_3(inorder_left, postorder_left)\n",
    "    root.right = form_binary_tree_3(inorder_right, postorder_right)\n",
    "    \n",
    "    return root"
   ]
  },
  {
   "cell_type": "code",
   "execution_count": 101,
   "id": "57d5f3cb",
   "metadata": {},
   "outputs": [
    {
     "name": "stdout",
     "output_type": "stream",
     "text": [
      "1:L:2,R:3\n",
      "2:L:4,R:5\n",
      "3:L:8,R:9\n",
      "4:L:6,R:-1\n",
      "5:L:-1,R:7\n",
      "8:L:-1,R:-1\n",
      "9:L:-1,R:-1\n",
      "6:L:-1,R:-1\n",
      "7:L:-1,R:-1\n"
     ]
    }
   ],
   "source": [
    "postorder = [6,4,7,5,2,8,9,3,1]\n",
    "inorder = [6,4,2,5,7,1,8,3,9]\n",
    "a = form_binary_tree_3(inorder, postorder)\n",
    "print_levelwise_detailed_2(a)"
   ]
  },
  {
   "cell_type": "markdown",
   "id": "40b946a6",
   "metadata": {},
   "source": [
    "### --------------------------------------------------------------------------------------------------------------------------------------------------------------"
   ]
  },
  {
   "cell_type": "code",
   "execution_count": null,
   "id": "d9c3aa55",
   "metadata": {},
   "outputs": [],
   "source": [
    "# For a given a Binary Tree of type integer, duplicate every node of the tree and attach it to the left of itself.\n",
    "# The root will remain the same. So you just need to insert nodes in the given Binary Tree."
   ]
  },
  {
   "attachments": {
    "image1.png": {
     "image/png": "[encoded data removed]"
    }
   },
   "cell_type": "markdown",
   "id": "d814cf43",
   "metadata": {},
   "source": [
    "![image1.png](attachment:image1.png)"
   ]
  },
  {
   "cell_type": "code",
   "execution_count": null,
   "id": "25b4057e",
   "metadata": {},
   "outputs": [],
   "source": [
    "# After making the changes to the above-depicted tree, the updated tree will look like this."
   ]
  },
  {
   "attachments": {
    "image2.png": {
     "image/png": "[encoded data removed]"
    }
   },
   "cell_type": "markdown",
   "id": "01a39622",
   "metadata": {},
   "source": [
    "![image2.png](attachment:image2.png)"
   ]
  },
  {
   "cell_type": "code",
   "execution_count": 108,
   "id": "826ebc30",
   "metadata": {},
   "outputs": [],
   "source": [
    "def duplicate_nodes(root):\n",
    "    \n",
    "    if root is None:\n",
    "        return None\n",
    "    \n",
    "    else:\n",
    "        temp = root.left\n",
    "        root.left = BinaryTreeNode(root.data)\n",
    "        root.left.left = temp\n",
    "        duplicate_nodes(root.left.left)\n",
    "        duplicate_nodes(root.right)\n",
    "        return root"
   ]
  },
  {
   "cell_type": "code",
   "execution_count": 109,
   "id": "14d83f34",
   "metadata": {},
   "outputs": [
    {
     "name": "stdout",
     "output_type": "stream",
     "text": [
      "10\n",
      "20\n",
      "40\n",
      "-1\n",
      "-1\n",
      "50\n",
      "-1\n",
      "-1\n",
      "30\n",
      "-1\n",
      "60\n",
      "-1\n",
      "-1\n"
     ]
    }
   ],
   "source": [
    "b = binary_tree_input()"
   ]
  },
  {
   "cell_type": "code",
   "execution_count": 110,
   "id": "89201b49",
   "metadata": {},
   "outputs": [
    {
     "name": "stdout",
     "output_type": "stream",
     "text": [
      "10:L:10,R:30\n",
      "10:L:20,R:-1\n",
      "30:L:30,R:60\n",
      "20:L:20,R:50\n",
      "30:L:-1,R:-1\n",
      "60:L:60,R:-1\n",
      "20:L:40,R:-1\n",
      "50:L:50,R:-1\n",
      "60:L:-1,R:-1\n",
      "40:L:40,R:-1\n",
      "50:L:-1,R:-1\n",
      "40:L:-1,R:-1\n"
     ]
    }
   ],
   "source": [
    "c = duplicate_nodes(b)\n",
    "print_levelwise_detailed(c)"
   ]
  },
  {
   "cell_type": "markdown",
   "id": "27f4ab26",
   "metadata": {},
   "source": [
    "### --------------------------------------------------------------------------------------------------------------------------------------------------------------"
   ]
  },
  {
   "cell_type": "code",
   "execution_count": 113,
   "id": "155b8b8c",
   "metadata": {},
   "outputs": [],
   "source": [
    "def min_max(root, minimum, maximum):\n",
    "    \n",
    "    if root is None:\n",
    "        return minimum, maximum\n",
    "    \n",
    "    if root.data < minimum:\n",
    "        minimum = root.data\n",
    "    if root.data > maximum:\n",
    "        maximum = root.data\n",
    "    \n",
    "    minimum_left, maximum_left = min_max(root.left, minimum, maximum)\n",
    "    minimum_right, maximum_right = min_max(root.right, minimum, maximum)\n",
    "    \n",
    "    return min(minimum_left, minimum_right), max(maximum_left, maximum_right)"
   ]
  },
  {
   "cell_type": "code",
   "execution_count": 114,
   "id": "d51fd726",
   "metadata": {},
   "outputs": [
    {
     "data": {
      "text/plain": [
       "(1, 9)"
      ]
     },
     "execution_count": 114,
     "metadata": {},
     "output_type": "execute_result"
    }
   ],
   "source": [
    "min_max(a, 10000, -10000)"
   ]
  },
  {
   "cell_type": "code",
   "execution_count": 118,
   "id": "532fa1a7",
   "metadata": {},
   "outputs": [],
   "source": [
    "def min_max_2(root):\n",
    "    \n",
    "    if root is None:\n",
    "        return 10000,-10000\n",
    "    \n",
    "    minimum_left, maximum_left = min_max_2(root.left)\n",
    "    minimum_right, maximum_right = min_max_2(root.right)\n",
    "    \n",
    "    return min(minimum_left, minimum_right, root.data), max(maximum_left, maximum_right, root.data)"
   ]
  },
  {
   "cell_type": "code",
   "execution_count": 119,
   "id": "44bb637b",
   "metadata": {},
   "outputs": [
    {
     "data": {
      "text/plain": [
       "(1, 9)"
      ]
     },
     "execution_count": 119,
     "metadata": {},
     "output_type": "execute_result"
    }
   ],
   "source": [
    "min_max_2(a)"
   ]
  },
  {
   "cell_type": "markdown",
   "id": "ea0d08bd",
   "metadata": {},
   "source": [
    "### --------------------------------------------------------------------------------------------------------------------------------------------------------------"
   ]
  },
  {
   "cell_type": "code",
   "execution_count": null,
   "id": "dcb3ff4e",
   "metadata": {},
   "outputs": [],
   "source": [
    "# For a given a Binary Tree of type integer, print it in a level order fashion where each level will be printed on a new line. \n",
    "# Elements on every level will be printed in a linear fashion and a single space will separate them."
   ]
  },
  {
   "attachments": {
    "image3.png": {
     "image/png": "[encoded data removed]"
    }
   },
   "cell_type": "markdown",
   "id": "e2a8f132",
   "metadata": {},
   "source": [
    "![image3.png](attachment:image3.png)"
   ]
  },
  {
   "cell_type": "code",
   "execution_count": 146,
   "id": "f0c01e2e",
   "metadata": {},
   "outputs": [],
   "source": [
    "# For the above-depicted tree, when printed in a level order fashion, the output would look like:\n",
    "\n",
    "# 10\n",
    "# 20 30 \n",
    "# 40 50 60\n",
    "# Where each new line denotes the level in the tree."
   ]
  },
  {
   "cell_type": "code",
   "execution_count": 6,
   "id": "e963285e",
   "metadata": {},
   "outputs": [],
   "source": [
    "import queue\n",
    "\n",
    "def level_order_print(root):\n",
    "    \n",
    "    if root is None:\n",
    "        print(None)\n",
    "    \n",
    "    q = queue.Queue()\n",
    "    \n",
    "    if q.empty():\n",
    "        q.put(root)\n",
    "        q.put(\"\\n\")\n",
    "    \n",
    "    while not(q.empty()):\n",
    "        node = q.get()\n",
    "        if node == \"\\n\":\n",
    "            print(node, end = \"\")\n",
    "            if not(q.empty()):\n",
    "                q.put(\"\\n\")\n",
    "        else:\n",
    "            print(node.data, end = \" \")\n",
    "            if node.left is not None:\n",
    "                q.put(node.left)\n",
    "            if node.right is not None:\n",
    "                q.put(node.right)"
   ]
  },
  {
   "cell_type": "code",
   "execution_count": 7,
   "id": "39fba6f6",
   "metadata": {},
   "outputs": [
    {
     "name": "stdout",
     "output_type": "stream",
     "text": [
      "1 \n",
      "2 3 \n",
      "4 5 8 9 \n",
      "6 7 \n"
     ]
    }
   ],
   "source": [
    "level_order_print(a)"
   ]
  },
  {
   "cell_type": "markdown",
   "id": "a775958d",
   "metadata": {},
   "source": [
    "### --------------------------------------------------------------------------------------------------------------------------------------------------------------"
   ]
  },
  {
   "cell_type": "code",
   "execution_count": 163,
   "id": "1c0666ab",
   "metadata": {},
   "outputs": [],
   "source": [
    "# For a given Binary Tree of type integer and a number K, print out all root-to-leaf paths \n",
    "# where the sum of all the node data along the path is equal to K."
   ]
  },
  {
   "attachments": {
    "image4.png": {
     "image/png": "[encoded data removed]"
    }
   },
   "cell_type": "markdown",
   "id": "3baca598",
   "metadata": {},
   "source": [
    "![image4.png](attachment:image4.png)"
   ]
  },
  {
   "cell_type": "code",
   "execution_count": 164,
   "id": "33ceed0b",
   "metadata": {},
   "outputs": [],
   "source": [
    "# If you see in the above-depicted picture of Binary Tree, we see that there are a total of two paths, starting from the root and ending at the leaves which sum up to a value of K = 13.\n",
    "\n",
    "# The paths are:\n",
    "# a. 2 3 4 4\n",
    "# b. 2 3 8\n",
    "\n",
    "# One thing to note here is, there is another path in the right sub-tree in reference to the root, which sums up to 13 but since it doesn't end at the leaf, we discard it.\n",
    "# The path is: 2 9 2(not a leaf)"
   ]
  },
  {
   "cell_type": "code",
   "execution_count": 11,
   "id": "170c3c36",
   "metadata": {},
   "outputs": [],
   "source": [
    "def path_sum(root, k):\n",
    "    \n",
    "    if root is None:\n",
    "        return 0\n",
    "    \n",
    "    if (k - root.data) < 0:\n",
    "        return 0\n",
    "    \n",
    "    if root.left is None and root.right is None and (k - root.data) == 0:\n",
    "        return 1\n",
    "    \n",
    "    return path_sum(root.left, k-root.data) + path_sum(root.right, k-root.data)"
   ]
  },
  {
   "cell_type": "code",
   "execution_count": 12,
   "id": "178ca23e",
   "metadata": {},
   "outputs": [
    {
     "name": "stdout",
     "output_type": "stream",
     "text": [
      "2\n",
      "3\n",
      "4\n",
      "4\n",
      "-1\n",
      "-1\n",
      "-1\n",
      "8\n",
      "-1\n",
      "-1\n",
      "9\n",
      "-1\n",
      "2\n",
      "6\n",
      "-1\n",
      "-1\n",
      "-1\n"
     ]
    }
   ],
   "source": [
    "example = binary_tree_input()"
   ]
  },
  {
   "cell_type": "code",
   "execution_count": 13,
   "id": "56661cc2",
   "metadata": {},
   "outputs": [
    {
     "data": {
      "text/plain": [
       "2"
      ]
     },
     "execution_count": 13,
     "metadata": {},
     "output_type": "execute_result"
    }
   ],
   "source": [
    "path_sum(example, 13)"
   ]
  },
  {
   "cell_type": "code",
   "execution_count": 19,
   "id": "05ed6241",
   "metadata": {},
   "outputs": [],
   "source": [
    "def path_sum_elements(root, k, string):\n",
    "    \n",
    "    if root is None:\n",
    "        return\n",
    "    \n",
    "    if string == \"\":\n",
    "        string = string + str(root.data)\n",
    "    else:\n",
    "        string = string + \" \" + str(root.data)\n",
    "    \n",
    "    if (k - root.data) < 0:\n",
    "        return \n",
    "    \n",
    "    if root.left is None and root.right is None and (k - root.data) == 0:\n",
    "        x = string.split(\" \")\n",
    "        for y in x:\n",
    "            print(y, end = \" \")\n",
    "        print()\n",
    "    \n",
    "    path_sum_elements(root.left, k-root.data, string)\n",
    "    path_sum_elements(root.right, k-root.data, string)"
   ]
  },
  {
   "cell_type": "code",
   "execution_count": 20,
   "id": "7599c3f4",
   "metadata": {},
   "outputs": [
    {
     "name": "stdout",
     "output_type": "stream",
     "text": [
      "2 3 4 4 \n",
      "2 3 8 \n"
     ]
    }
   ],
   "source": [
    "k = \"\"\n",
    "path_sum_elements(example, 13, k)"
   ]
  },
  {
   "cell_type": "markdown",
   "id": "5ee1a961",
   "metadata": {},
   "source": [
    "### --------------------------------------------------------------------------------------------------------------------------------------------------------------"
   ]
  }
 ],
 "metadata": {
  "kernelspec": {
   "display_name": "Python 3 (ipykernel)",
   "language": "python",
   "name": "python3"
  },
  "language_info": {
   "codemirror_mode": {
    "name": "ipython",
    "version": 3
   },
   "file_extension": ".py",
   "mimetype": "text/x-python",
   "name": "python",
   "nbconvert_exporter": "python",
   "pygments_lexer": "ipython3",
   "version": "3.9.12"
  }
 },
 "nbformat": 4,
 "nbformat_minor": 5
}
