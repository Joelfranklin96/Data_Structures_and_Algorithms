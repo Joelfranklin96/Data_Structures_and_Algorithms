{
 "cells": [
  {
   "cell_type": "code",
   "execution_count": 26,
   "id": "26281dfc",
   "metadata": {},
   "outputs": [],
   "source": [
    "# Replace character \"a\" with \"e\" in the given string"
   ]
  },
  {
   "cell_type": "code",
   "execution_count": 27,
   "id": "4cce602d",
   "metadata": {},
   "outputs": [],
   "source": [
    "def replace(a):\n",
    "    \n",
    "    if len(a) == 0:\n",
    "        return a\n",
    "    \n",
    "    smallOutput = replace(a[1:])\n",
    "    if a[0] ==\"a\":\n",
    "        return \"e\" + smallOutput\n",
    "    else:\n",
    "        return a[0] + smallOutput"
   ]
  },
  {
   "cell_type": "code",
   "execution_count": 28,
   "id": "b0c20c25",
   "metadata": {},
   "outputs": [
    {
     "name": "stdout",
     "output_type": "stream",
     "text": [
      "Jels\n",
      "Clep\n",
      "mlepe\n"
     ]
    }
   ],
   "source": [
    "print(replace(\"Jals\"))\n",
    "print(replace(\"Clap\"))\n",
    "print(replace(\"mlape\"))"
   ]
  },
  {
   "cell_type": "code",
   "execution_count": 29,
   "id": "dfde1371",
   "metadata": {},
   "outputs": [],
   "source": [
    "# Delete character \"a\" in the given string"
   ]
  },
  {
   "cell_type": "code",
   "execution_count": 30,
   "id": "dec07501",
   "metadata": {},
   "outputs": [],
   "source": [
    "def delete(a):\n",
    "    \n",
    "    if len(a) == 0:\n",
    "        return a\n",
    "    \n",
    "    smallOutput = delete(a[1:])\n",
    "    \n",
    "    if a[0] == \"a\":\n",
    "        return smallOutput\n",
    "    else:\n",
    "        return a[0] + smallOutput"
   ]
  },
  {
   "cell_type": "code",
   "execution_count": 31,
   "id": "5fee3581",
   "metadata": {},
   "outputs": [
    {
     "name": "stdout",
     "output_type": "stream",
     "text": [
      "Jls\n",
      "Clp\n",
      "mlpe\n"
     ]
    }
   ],
   "source": [
    "print(delete(\"Jals\"))\n",
    "print(delete(\"Clap\"))\n",
    "print(delete(\"mlape\"))"
   ]
  },
  {
   "cell_type": "code",
   "execution_count": 32,
   "id": "867e2fd3",
   "metadata": {},
   "outputs": [],
   "source": [
    "# Replace \"pi\" with \"3.14\" in the given string"
   ]
  },
  {
   "cell_type": "code",
   "execution_count": 33,
   "id": "5070cf99",
   "metadata": {},
   "outputs": [],
   "source": [
    "def replace_pi(a):\n",
    "    \n",
    "    if len(a) == 0:\n",
    "        return a\n",
    "    \n",
    "    smallOutput1 = replace_pi(a[1:])\n",
    "    smallOutput2 = replace_pi(a[2:])\n",
    "    \n",
    "    if len(a) == 1:\n",
    "        return a[0] + smallOutput1\n",
    "    \n",
    "    elif a[0] == \"p\" and a[1] == \"i\":\n",
    "        return \"3.14\" + smallOutput2\n",
    "    \n",
    "    else:\n",
    "        return a[0] + smallOutput1"
   ]
  },
  {
   "cell_type": "code",
   "execution_count": 34,
   "id": "0a5327be",
   "metadata": {
    "scrolled": true
   },
   "outputs": [
    {
     "name": "stdout",
     "output_type": "stream",
     "text": [
      "am3.14cd\n",
      "am3.143.14cd\n",
      "abcd\n",
      "3.143.14\n"
     ]
    }
   ],
   "source": [
    "print(replace_pi(\"ampicd\"))\n",
    "print(replace_pi(\"ampipicd\"))\n",
    "print(replace_pi('abcd'))\n",
    "print(replace_pi(\"pi3.14\"))"
   ]
  },
  {
   "cell_type": "code",
   "execution_count": 35,
   "id": "90299840",
   "metadata": {},
   "outputs": [],
   "source": [
    "# Remove consecutive duplicates in the given string"
   ]
  },
  {
   "cell_type": "code",
   "execution_count": 36,
   "id": "1f1b8f04",
   "metadata": {},
   "outputs": [],
   "source": [
    "def remove_consecutive_duplicates(a):\n",
    "    \n",
    "    if len(a) == 0:\n",
    "        return a\n",
    "    \n",
    "    smallOutput = remove_consecutive_duplicates(a[1:])\n",
    "    \n",
    "    if len(a) == 1:\n",
    "        return a[0] + smallOutput\n",
    "    elif a[0] == a[1]:\n",
    "        return smallOutput\n",
    "    else:\n",
    "        return a[0] + smallOutput"
   ]
  },
  {
   "cell_type": "code",
   "execution_count": 37,
   "id": "412e23fb",
   "metadata": {},
   "outputs": [
    {
     "name": "stdout",
     "output_type": "stream",
     "text": [
      "xyzxy\n",
      "xyzxy\n",
      "xyabyzxy\n"
     ]
    }
   ],
   "source": [
    "print(remove_consecutive_duplicates(\"xxxyyzxy\"))\n",
    "print(remove_consecutive_duplicates(\"xxxyyzxyyy\"))\n",
    "print(remove_consecutive_duplicates(\"xxxyabyzxyyy\"))"
   ]
  },
  {
   "cell_type": "code",
   "execution_count": 1,
   "id": "cf64a95b",
   "metadata": {},
   "outputs": [],
   "source": [
    "# Binary Search Algorithm"
   ]
  },
  {
   "cell_type": "code",
   "execution_count": 6,
   "id": "524a29ac",
   "metadata": {},
   "outputs": [],
   "source": [
    "def binary_search(a,lo,hi,x):\n",
    "    \n",
    "    mid = (lo + hi)//2\n",
    "    \n",
    "    if hi < lo:\n",
    "        return \"Not Found\"\n",
    "    \n",
    "    elif a[mid] == x:\n",
    "        return \"Found\"\n",
    "    \n",
    "    elif x < a[mid]:\n",
    "        hi = mid - 1\n",
    "        return binary_search(a,lo,hi,x)\n",
    "    \n",
    "    else:\n",
    "        lo = mid + 1\n",
    "        return binary_search(a,lo,hi,x)"
   ]
  },
  {
   "cell_type": "code",
   "execution_count": 7,
   "id": "37f30f19",
   "metadata": {},
   "outputs": [
    {
     "name": "stdout",
     "output_type": "stream",
     "text": [
      "Not Found\n",
      "Found\n",
      "Found\n"
     ]
    }
   ],
   "source": [
    "print(binary_search([1,2,4,5,7,8],0,5,6))\n",
    "print(binary_search([1,2,4,5,7,8],0,5,7))\n",
    "print(binary_search([1,2,4,5,7,8],0,5,1))"
   ]
  },
  {
   "cell_type": "code",
   "execution_count": 8,
   "id": "44bfc509",
   "metadata": {},
   "outputs": [],
   "source": [
    "# Merge Sort Algorithm"
   ]
  },
  {
   "cell_type": "code",
   "execution_count": 4,
   "id": "d1421fcf",
   "metadata": {},
   "outputs": [],
   "source": [
    "# I get an error with this code\n",
    "\n",
    "def merge_1(a1, a2, a):\n",
    "    \n",
    "    i = 0\n",
    "    j = 0\n",
    "    k = 0\n",
    "    \n",
    "    while i < len(a1) and j < len(a2):\n",
    "        \n",
    "        if (a1[i] < a2[j]):\n",
    "            a[k] = a1[i]\n",
    "            k = k + 1\n",
    "            i = i + 1 \n",
    "        else:\n",
    "            a[k] = a2[j]\n",
    "            k = k + 1\n",
    "            j = j + 1\n",
    "    \n",
    "    while i < len(a1):\n",
    "        a[k] = a1[i]\n",
    "        k = k + 1\n",
    "        i = i + 1\n",
    "        \n",
    "    while j < len(a2):\n",
    "        \n",
    "        a[k] = a2[j]\n",
    "        k = k + 1\n",
    "        j = j + 1"
   ]
  },
  {
   "cell_type": "code",
   "execution_count": 5,
   "id": "29398260",
   "metadata": {},
   "outputs": [],
   "source": [
    "def merge_sort_1(a):\n",
    "    \n",
    "    mid = len(a)//2\n",
    "    a1 = a[0:mid]\n",
    "    a2 = a[mid:]\n",
    "    \n",
    "    merge_sort_1(a1)\n",
    "    merge_sort_1(a2)\n",
    "    merge_1(a1,a2,a)"
   ]
  },
  {
   "cell_type": "code",
   "execution_count": null,
   "id": "22b31c7a",
   "metadata": {},
   "outputs": [],
   "source": [
    "a = [1,4,3,6,3,5,8,3,4,2,7,3,1]\n",
    "merge_sort_1(a)\n",
    "print(a)"
   ]
  },
  {
   "cell_type": "code",
   "execution_count": 1,
   "id": "4fd81499",
   "metadata": {},
   "outputs": [],
   "source": [
    "def merge_2(a,b):\n",
    "    \n",
    "    merged = []\n",
    "    \n",
    "    i = 0\n",
    "    j = 0\n",
    "    k = 0\n",
    "    \n",
    "    while i < len(a) and j < len(b):\n",
    "        if a[i] <= b[j]:\n",
    "            merged.append(a[i])\n",
    "            i = i + 1\n",
    "        else:\n",
    "            merged.append(b[j])\n",
    "            j = j + 1\n",
    "        \n",
    "        k = k + 1\n",
    "        \n",
    "    a_rem = a[i:]\n",
    "    b_rem = b[j:]\n",
    "    \n",
    "    return merged + a_rem + b_rem"
   ]
  },
  {
   "cell_type": "code",
   "execution_count": 2,
   "id": "831f9f27",
   "metadata": {},
   "outputs": [],
   "source": [
    "def merge_sort_2(arr):\n",
    "    \n",
    "    mid = len(arr) // 2\n",
    "    \n",
    "    if len(arr) <= 1:\n",
    "        return arr\n",
    "    \n",
    "    left_sorted = merge_sort_2(arr[:mid])\n",
    "    right_sorted = merge_sort_2(arr[mid:])\n",
    "    \n",
    "    whole_sorted = merge_2(left_sorted, right_sorted)\n",
    "    \n",
    "    return whole_sorted"
   ]
  },
  {
   "cell_type": "code",
   "execution_count": 3,
   "id": "5620d116",
   "metadata": {},
   "outputs": [
    {
     "name": "stdout",
     "output_type": "stream",
     "text": [
      "[1, 2, 3, 3, 3, 3, 4, 4, 5, 6, 6, 7, 8, 10, 13]\n",
      "[1, 2, 3, 3, 3, 3, 5, 5, 6, 8, 9, 10]\n"
     ]
    }
   ],
   "source": [
    "print(merge_sort_2([2,5,3,1,6,4,3,6,3,4,7,8,10,13,3]))\n",
    "print(merge_sort_2([3,2,5,3,1,6,8,3,5,9,10,3]))"
   ]
  },
  {
   "cell_type": "code",
   "execution_count": 26,
   "id": "ddd81b0a",
   "metadata": {},
   "outputs": [],
   "source": [
    "# Quick Sort Algorithm"
   ]
  },
  {
   "cell_type": "code",
   "execution_count": 33,
   "id": "7a655290",
   "metadata": {},
   "outputs": [],
   "source": [
    "# I get an error with the 'partition' code\n",
    "\n",
    "def partition(a,si,ei):\n",
    "    \n",
    "    pivot = a[si]\n",
    "    c = 0\n",
    "    for i in range(si, ei + 1):\n",
    "        c = c + 1\n",
    "    a[si + c], a[si] = a[si], a[si + c]\n",
    "    pivot_index = si + c\n",
    "    i = si\n",
    "    j = ei\n",
    "    while i < j:\n",
    "        if a[i] < pivot:\n",
    "            i = i + 1\n",
    "        elif a[j] >= pivot:\n",
    "            j = j - 1\n",
    "        else:\n",
    "            a[i], a[j] = a[j], a[i]\n",
    "            i = i + 1\n",
    "            j = j - 1\n",
    "    \n",
    "    return pivot_index"
   ]
  },
  {
   "cell_type": "code",
   "execution_count": 37,
   "id": "5f4f036b",
   "metadata": {},
   "outputs": [],
   "source": [
    "def quick_sort_1(a,si,ei):\n",
    "    \n",
    "    if si >= ei:\n",
    "        return\n",
    "    \n",
    "    pivot_index = partition(a, si, ei)\n",
    "    quick_sort_1(a, si, pivot_index - 1)\n",
    "    quick_sort_1(a, pivot_index + 1, ei)"
   ]
  },
  {
   "cell_type": "code",
   "execution_count": 15,
   "id": "4a76c0f0",
   "metadata": {},
   "outputs": [],
   "source": [
    "a = [3,2,4,5,2,3,1,2]\n",
    "quick_sort_1(a,0,len(a)-1)\n",
    "print(a)"
   ]
  },
  {
   "cell_type": "code",
   "execution_count": 5,
   "id": "ac8b31a8",
   "metadata": {},
   "outputs": [],
   "source": [
    "def quick_sort_2(sequence):\n",
    "    \n",
    "    if len(sequence) <= 1:\n",
    "        return sequence\n",
    "    \n",
    "    else:\n",
    "        \n",
    "        pivot = sequence.pop()\n",
    "        \n",
    "        # Don't use \"pivot = sequence[-1]. You are not popping out the last element from the list\"\n",
    "        # So you will enter a forever loop\n",
    "        \n",
    "        items_greater = []\n",
    "        items_lower = []\n",
    "        \n",
    "        for item in sequence:\n",
    "            if item > pivot:\n",
    "                items_greater.append(item)\n",
    "            else:\n",
    "                items_lower.append(item)\n",
    "        \n",
    "        return quick_sort_2(items_lower) + [pivot] + quick_sort_2(items_greater)"
   ]
  },
  {
   "cell_type": "code",
   "execution_count": 6,
   "id": "aecb8fe4",
   "metadata": {},
   "outputs": [
    {
     "data": {
      "text/plain": [
       "[1, 2, 3, 3, 4, 5, 6, 7]"
      ]
     },
     "execution_count": 6,
     "metadata": {},
     "output_type": "execute_result"
    }
   ],
   "source": [
    "quick_sort_2([3,2,5,3,6,1,7,4])"
   ]
  },
  {
   "cell_type": "code",
   "execution_count": 12,
   "id": "330f801c",
   "metadata": {},
   "outputs": [],
   "source": [
    "def tower_of_hanoi(n, a, b, c):\n",
    "    \n",
    "    if n == 0:\n",
    "        return\n",
    "    \n",
    "    if n == 1:\n",
    "        print(\"Move 1st disk from {} to {}\".format(a,c))\n",
    "        return\n",
    "    \n",
    "    tower_of_hanoi(n-1, a, c, b)\n",
    "    print(\"Move {}th disk from {} to {}\".format(n,a,c))\n",
    "    tower_of_hanoi(n-1, b, a, c)"
   ]
  },
  {
   "cell_type": "code",
   "execution_count": 14,
   "id": "c5292d85",
   "metadata": {},
   "outputs": [
    {
     "name": "stdout",
     "output_type": "stream",
     "text": [
      "Move 1st disk from a to b\n",
      "Move 2th disk from a to c\n",
      "Move 1st disk from b to c\n",
      "Move 3th disk from a to b\n",
      "Move 1st disk from c to a\n",
      "Move 2th disk from c to b\n",
      "Move 1st disk from a to b\n",
      "Move 4th disk from a to c\n",
      "Move 1st disk from b to c\n",
      "Move 2th disk from b to a\n",
      "Move 1st disk from c to a\n",
      "Move 3th disk from b to c\n",
      "Move 1st disk from a to b\n",
      "Move 2th disk from a to c\n",
      "Move 1st disk from b to c\n"
     ]
    }
   ],
   "source": [
    "tower_of_hanoi(4,\"a\",\"b\",\"c\")"
   ]
  },
  {
   "cell_type": "code",
   "execution_count": null,
   "id": "9f4cdc84",
   "metadata": {},
   "outputs": [],
   "source": [
    "# Given two string s and t, write a function to check if s contains all characters of t \n",
    "# (in the same order as they are in string t).\n",
    "# Return true or false.\n",
    "# Do it recursively.\n",
    "# E.g. : s = “abchjsgsuohhdhyrikkknddg” contains all characters of t=”coding” in the same order. So function will return true."
   ]
  },
  {
   "cell_type": "code",
   "execution_count": 3,
   "id": "7e57fcbd",
   "metadata": {},
   "outputs": [],
   "source": [
    "def contains(s,t):\n",
    "    \n",
    "    if len(t) == 0:\n",
    "        return True\n",
    "    \n",
    "    if len(s) == 0:\n",
    "        return False\n",
    "    \n",
    "    if s[0] == t[0]:\n",
    "        return contains(s[1:],t[1:])\n",
    "    else:\n",
    "        return contains(s[1:],t)"
   ]
  },
  {
   "cell_type": "code",
   "execution_count": 4,
   "id": "be57fba1",
   "metadata": {},
   "outputs": [
    {
     "data": {
      "text/plain": [
       "True"
      ]
     },
     "execution_count": 4,
     "metadata": {},
     "output_type": "execute_result"
    }
   ],
   "source": [
    "s = \"abchjsgsuohhdhyrikkknddg\"\n",
    "t = \"coding\"\n",
    "contains(s,t)"
   ]
  },
  {
   "cell_type": "code",
   "execution_count": null,
   "id": "fa4d0ec3",
   "metadata": {},
   "outputs": [],
   "source": [
    "# Given k, find the geometric sum of 1 + 1/2 + 1/4 + 1/8 + ...."
   ]
  },
  {
   "cell_type": "code",
   "execution_count": 9,
   "id": "132eaac9",
   "metadata": {},
   "outputs": [],
   "source": [
    "def geo_sum(k):\n",
    "    \n",
    "    if k == 1:\n",
    "        return 1\n",
    "    if k == 0:\n",
    "        return 0\n",
    "    return geo_sum(k-1) + (1/(2**(k-1)))"
   ]
  },
  {
   "cell_type": "code",
   "execution_count": 10,
   "id": "2a399db6",
   "metadata": {},
   "outputs": [
    {
     "name": "stdout",
     "output_type": "stream",
     "text": [
      "3\n",
      "1.75\n"
     ]
    }
   ],
   "source": [
    "k = int(input())\n",
    "print(geo_sum(k))"
   ]
  },
  {
   "cell_type": "code",
   "execution_count": null,
   "id": "212af912",
   "metadata": {},
   "outputs": [],
   "source": [
    "# Check whether a string is palindrome or not using Recursion"
   ]
  },
  {
   "cell_type": "code",
   "execution_count": 13,
   "id": "7b73fdaa",
   "metadata": {},
   "outputs": [],
   "source": [
    "def palindrome(s):\n",
    "    \n",
    "    if len(s) == 0 or len(s) == 1:\n",
    "        return True\n",
    "    \n",
    "    if s[0] != s[-1]:\n",
    "        return False\n",
    "    else:\n",
    "        return palindrome(s[1:-1])"
   ]
  },
  {
   "cell_type": "code",
   "execution_count": 19,
   "id": "63eeec4b",
   "metadata": {},
   "outputs": [
    {
     "name": "stdout",
     "output_type": "stream",
     "text": [
      "True\n",
      "False\n",
      "True\n",
      "True\n",
      "True\n",
      "False\n"
     ]
    }
   ],
   "source": [
    "print(palindrome(\"racecar\"))\n",
    "print(palindrome(\"apple\"))\n",
    "print(palindrome(\"madam\"))\n",
    "print(palindrome(\"abcba\"))\n",
    "print(palindrome(\"abccba\"))\n",
    "print(palindrome(\"abcdba\"))"
   ]
  },
  {
   "cell_type": "code",
   "execution_count": 20,
   "id": "fd6fa0b6",
   "metadata": {},
   "outputs": [],
   "source": [
    "# Write a recursive function that returns the sum of the digits of a given integer."
   ]
  },
  {
   "cell_type": "code",
   "execution_count": 1,
   "id": "ce6c7904",
   "metadata": {},
   "outputs": [],
   "source": [
    "def sum_of_digits(n):\n",
    "    \n",
    "    if n/10 == 0:\n",
    "        return n\n",
    "    return (n % 10) + sum_of_digits(n//10)"
   ]
  },
  {
   "cell_type": "code",
   "execution_count": 2,
   "id": "469caee5",
   "metadata": {},
   "outputs": [
    {
     "data": {
      "text/plain": [
       "15"
      ]
     },
     "execution_count": 2,
     "metadata": {},
     "output_type": "execute_result"
    }
   ],
   "source": [
    "sum_of_digits(34215)"
   ]
  },
  {
   "cell_type": "code",
   "execution_count": 23,
   "id": "3e06a8d4",
   "metadata": {},
   "outputs": [],
   "source": [
    "# Given two integers M & N, calculate and return their multiplication using recursion. \n",
    "# You can only use subtraction and addition for your calculation. No other operators are allowed."
   ]
  },
  {
   "cell_type": "code",
   "execution_count": 3,
   "id": "5a728a45",
   "metadata": {},
   "outputs": [],
   "source": [
    "# Haven't accounted for negative integers \n",
    "\n",
    "def multiply(m,n):\n",
    "    \n",
    "    if n == 0:\n",
    "        return 0\n",
    "    if n > 0:\n",
    "        return m + multiply(m, n-1)\n",
    "    else:\n",
    "        return -m + multiply(m, n+1)"
   ]
  },
  {
   "cell_type": "code",
   "execution_count": 4,
   "id": "f9679876",
   "metadata": {},
   "outputs": [
    {
     "name": "stdout",
     "output_type": "stream",
     "text": [
      "12\n",
      "-12\n"
     ]
    }
   ],
   "source": [
    "print(multiply(3,4))\n",
    "print(multiply(3,-4))"
   ]
  },
  {
   "cell_type": "code",
   "execution_count": 27,
   "id": "e1da850d",
   "metadata": {},
   "outputs": [],
   "source": [
    "# Given an integer N, count and return the number of zeros that are present in the given integer using recursion.\n",
    "\n",
    "# Even though \"00010204\" has 5 zeros, the output would still be 2 because when you convert it to an integer, it becomes 10204."
   ]
  },
  {
   "cell_type": "code",
   "execution_count": 28,
   "id": "9e1f82f0",
   "metadata": {},
   "outputs": [],
   "source": [
    "def count_zeros(n):\n",
    "    \n",
    "    if len(n) == 0:\n",
    "        return 0\n",
    "    \n",
    "    if n[0] == '0':\n",
    "        return 1 + count_zeros(n[1:])\n",
    "    else:\n",
    "        return count_zeros(n[1:])"
   ]
  },
  {
   "cell_type": "code",
   "execution_count": 29,
   "id": "0f7d1556",
   "metadata": {},
   "outputs": [
    {
     "name": "stdout",
     "output_type": "stream",
     "text": [
      "10200450\n",
      "4\n"
     ]
    }
   ],
   "source": [
    "n = int(input())\n",
    "n = str(n)\n",
    "print(count_zeros(n))"
   ]
  },
  {
   "cell_type": "code",
   "execution_count": 7,
   "id": "a89d6e09",
   "metadata": {},
   "outputs": [],
   "source": [
    "def zeros(n):\n",
    "    \n",
    "    if n == 0:\n",
    "        return 0\n",
    "    \n",
    "    if (n % 10) == 0:\n",
    "        return 1 + zeros(n//10)\n",
    "    else:\n",
    "        return zeros(n//10)"
   ]
  },
  {
   "cell_type": "code",
   "execution_count": 8,
   "id": "e344992c",
   "metadata": {},
   "outputs": [
    {
     "data": {
      "text/plain": [
       "4"
      ]
     },
     "execution_count": 8,
     "metadata": {},
     "output_type": "execute_result"
    }
   ],
   "source": [
    "zeros(10200450)"
   ]
  },
  {
   "cell_type": "code",
   "execution_count": 18,
   "id": "25db5c15",
   "metadata": {},
   "outputs": [],
   "source": [
    "# Write a recursive function to convert a given string into the number it represents. \n",
    "# That is input will be a numeric string that contains only numbers, \n",
    "# you need to convert the string into corresponding integer and return the answer.\n",
    "\n",
    "# Input - Numeric string S (string, Eg. \"1234\")\n",
    "# Output - Corresponding integer N (int, Eg. 1234)"
   ]
  },
  {
   "cell_type": "code",
   "execution_count": 19,
   "id": "391030ba",
   "metadata": {},
   "outputs": [],
   "source": [
    "def convert_1(n):\n",
    "    \n",
    "    if len(n) == 1:\n",
    "        return int(n)\n",
    "    return int(n[0])*(10**len(n[1:])) + convert_1(n[1:])"
   ]
  },
  {
   "cell_type": "code",
   "execution_count": 20,
   "id": "5ed4b9f9",
   "metadata": {},
   "outputs": [
    {
     "data": {
      "text/plain": [
       "1234"
      ]
     },
     "execution_count": 20,
     "metadata": {},
     "output_type": "execute_result"
    }
   ],
   "source": [
    "convert_1('1234')"
   ]
  },
  {
   "cell_type": "code",
   "execution_count": 9,
   "id": "e48b8c0f",
   "metadata": {},
   "outputs": [],
   "source": [
    "def convert(n):\n",
    "    \n",
    "    a = len(n)\n",
    "    if n == \"\":\n",
    "        return 0\n",
    "    return ((int(n[0])) * (10**(a-1))) + convert(n[1:])"
   ]
  },
  {
   "cell_type": "code",
   "execution_count": 10,
   "id": "5af07afd",
   "metadata": {},
   "outputs": [
    {
     "data": {
      "text/plain": [
       "1234"
      ]
     },
     "execution_count": 10,
     "metadata": {},
     "output_type": "execute_result"
    }
   ],
   "source": [
    "convert(\"1234\")"
   ]
  },
  {
   "cell_type": "code",
   "execution_count": 21,
   "id": "e3cee1ef",
   "metadata": {},
   "outputs": [],
   "source": [
    "def convert_2(n):\n",
    "    \n",
    "    if len(n) == 1:\n",
    "        return int(n)\n",
    "    return convert_2(n[:-1])*10 + int(n[-1])"
   ]
  },
  {
   "cell_type": "code",
   "execution_count": 22,
   "id": "6c0d4b00",
   "metadata": {},
   "outputs": [
    {
     "data": {
      "text/plain": [
       "1234"
      ]
     },
     "execution_count": 22,
     "metadata": {},
     "output_type": "execute_result"
    }
   ],
   "source": [
    "convert_2(\"1234\")"
   ]
  },
  {
   "cell_type": "code",
   "execution_count": 23,
   "id": "4ecc364c",
   "metadata": {},
   "outputs": [],
   "source": [
    "# Given a string S, compute recursively a new string \n",
    "# where identical chars that are adjacent in the original string are separated from each other by a \"*\".\n",
    "\n",
    "# Input - \"apple\"\n",
    "# Output - \"ap*ple\""
   ]
  },
  {
   "cell_type": "code",
   "execution_count": 24,
   "id": "16b2ff5f",
   "metadata": {},
   "outputs": [],
   "source": [
    "def pair_star(s):\n",
    "    \n",
    "    if len(s) == 1:\n",
    "        return s\n",
    "    \n",
    "    smallOutput = pair_star(s[1:])\n",
    "    \n",
    "    if s[0] == s[1]:\n",
    "        return s[0] + \"*\" + smallOutput\n",
    "    else:\n",
    "        return s[0] + smallOutput"
   ]
  },
  {
   "cell_type": "code",
   "execution_count": 25,
   "id": "5df5faee",
   "metadata": {},
   "outputs": [
    {
     "data": {
      "text/plain": [
       "'ap*ple'"
      ]
     },
     "execution_count": 25,
     "metadata": {},
     "output_type": "execute_result"
    }
   ],
   "source": [
    "s = \"apple\"\n",
    "pair_star(s)"
   ]
  },
  {
   "cell_type": "code",
   "execution_count": 26,
   "id": "a94591f6",
   "metadata": {},
   "outputs": [],
   "source": [
    "# Suppose you have a string, S, made up of only 'a's and 'b's. \n",
    "# Write a recursive function that checks if the string was generated using the following rules:\n",
    "\n",
    "# 1. Each 'a' is followed by nothing or an 'a' or \"bb\"\n",
    "# 2. Each \"bb\" is followed by nothing or an 'a'"
   ]
  },
  {
   "cell_type": "code",
   "execution_count": 14,
   "id": "e2e7c159",
   "metadata": {},
   "outputs": [],
   "source": [
    "def checkAB(str):\n",
    "    \n",
    "    if len(str) == 0:\n",
    "        return True\n",
    "    \n",
    "    if str[0] == 'a':\n",
    "        if (len(str[1:]) > 1 and str[1:3] == \"bb\"):\n",
    "            return checkAB(str[3:])\n",
    "        else:\n",
    "            return checkAB(str[1:])\n",
    "    else:\n",
    "        return False"
   ]
  },
  {
   "cell_type": "code",
   "execution_count": 15,
   "id": "7123137b",
   "metadata": {},
   "outputs": [
    {
     "name": "stdout",
     "output_type": "stream",
     "text": [
      "False\n",
      "True\n",
      "True\n"
     ]
    }
   ],
   "source": [
    "print(checkAB(\"abbabbbb\"))\n",
    "print(checkAB(\"abbabbaa\"))\n",
    "print(checkAB(\"abbabbaaaabb\"))"
   ]
  },
  {
   "cell_type": "code",
   "execution_count": 12,
   "id": "68fcb3bc",
   "metadata": {},
   "outputs": [],
   "source": [
    "def check_ab(s):\n",
    "    \n",
    "    if len(s) == 1:\n",
    "        return True\n",
    "    \n",
    "    if s[0] == \"a\":\n",
    "        if not((s[1] == \"a\") or (len(s) > 2 and s[1] == \"b\" and s[2] == \"b\")):\n",
    "            return False\n",
    "    \n",
    "    if (s[0] == \"b\" and s[1] == \"b\" and len(s) > 2):\n",
    "        if s[2] != \"a\":\n",
    "            return False\n",
    "        else:\n",
    "            return check_ab(s[2:])\n",
    "        \n",
    "    return check_ab(s[1:])"
   ]
  },
  {
   "cell_type": "code",
   "execution_count": 13,
   "id": "66873ad8",
   "metadata": {},
   "outputs": [
    {
     "name": "stdout",
     "output_type": "stream",
     "text": [
      "False\n",
      "True\n",
      "True\n"
     ]
    }
   ],
   "source": [
    "print(check_ab(\"abbabbbb\"))\n",
    "print(check_ab(\"abbabbaa\"))\n",
    "print(check_ab(\"abbabbaaaabb\"))"
   ]
  },
  {
   "cell_type": "code",
   "execution_count": 11,
   "id": "247c8e6a",
   "metadata": {},
   "outputs": [],
   "source": [
    "def check_ab_2(s):\n",
    "    \n",
    "    if len(s) == 0:\n",
    "        return True\n",
    "    \n",
    "    elif s[0] == \"a\":\n",
    "        if (len(s) == 1 or (s[1] == \"a\") or (s[1:3] == \"bb\")):\n",
    "            return True and check_ab_2(s[1:])\n",
    "        else:\n",
    "            return False\n",
    "        \n",
    "    elif s[0:2] == \"bb\":\n",
    "        if ((len(s) == 2) or (s[2] == \"a\")):\n",
    "            return True and check_ab_2(s[2:])\n",
    "        else:\n",
    "            return False\n",
    "        \n",
    "    else:\n",
    "        return check_ab_2(s[1:])"
   ]
  },
  {
   "cell_type": "code",
   "execution_count": 12,
   "id": "f290016a",
   "metadata": {},
   "outputs": [
    {
     "name": "stdout",
     "output_type": "stream",
     "text": [
      "False\n",
      "True\n",
      "True\n"
     ]
    }
   ],
   "source": [
    "print(check_ab_2(\"abbabbbb\"))\n",
    "print(check_ab_2(\"abbabbaa\"))\n",
    "print(check_ab_2(\"abbabbaaaabb\"))"
   ]
  },
  {
   "cell_type": "code",
   "execution_count": 31,
   "id": "256e0121",
   "metadata": {},
   "outputs": [],
   "source": [
    "# A child is running up a staircase with N steps, and can hop either 1 step, 2 steps or 3 steps at a time. \n",
    "# Implement a method to count how many possible ways the child can run up to the stairs. \n",
    "# You need to return number of possible ways W."
   ]
  },
  {
   "cell_type": "code",
   "execution_count": 32,
   "id": "45f9aeb0",
   "metadata": {},
   "outputs": [],
   "source": [
    "def staircase(n):\n",
    "    \n",
    "    if n == 0 or n == 1:\n",
    "        return 1\n",
    "    \n",
    "    if n < 0:\n",
    "        return 0\n",
    "    \n",
    "    return staircase(n-1) + staircase(n-2) + staircase(n-3)"
   ]
  },
  {
   "cell_type": "code",
   "execution_count": 33,
   "id": "15b412e6",
   "metadata": {},
   "outputs": [
    {
     "data": {
      "text/plain": [
       "7"
      ]
     },
     "execution_count": 33,
     "metadata": {},
     "output_type": "execute_result"
    }
   ],
   "source": [
    "staircase(4)"
   ]
  }
 ],
 "metadata": {
  "kernelspec": {
   "display_name": "Python 3 (ipykernel)",
   "language": "python",
   "name": "python3"
  },
  "language_info": {
   "codemirror_mode": {
    "name": "ipython",
    "version": 3
   },
   "file_extension": ".py",
   "mimetype": "text/x-python",
   "name": "python",
   "nbconvert_exporter": "python",
   "pygments_lexer": "ipython3",
   "version": "3.9.12"
  }
 },
 "nbformat": 4,
 "nbformat_minor": 5
}
