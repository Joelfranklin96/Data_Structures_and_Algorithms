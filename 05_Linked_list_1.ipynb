{
 "cells": [
  {
   "cell_type": "code",
   "execution_count": 9,
   "id": "d8c30be3",
   "metadata": {},
   "outputs": [],
   "source": [
    "# Write a progam that takes input from user and creates a linked list"
   ]
  },
  {
   "cell_type": "code",
   "execution_count": 10,
   "id": "f9cb7c52",
   "metadata": {},
   "outputs": [],
   "source": [
    "class Node:\n",
    "    \n",
    "    def __init__(self,data):\n",
    "        \n",
    "        self.data = data\n",
    "        self.next = None\n",
    "\n",
    "def take_input():\n",
    "    \n",
    "    arr = [int(x) for x in input().split(\" \")]\n",
    "    \n",
    "    y = 0\n",
    "    while arr[y] != -1:\n",
    "        if y == 0:\n",
    "            head = Node(arr[y])\n",
    "            y = y + 1\n",
    "        else:\n",
    "            node = head\n",
    "            while (node.next is not None):\n",
    "                node = node.next\n",
    "            \n",
    "            node.next = Node(arr[y])\n",
    "            y = y + 1\n",
    "    return head\n",
    "\n",
    "# Time Complexity = 1 + 2 + 3 + 4 + .......(n-1) (For traversing the linked list to reach the end of linked list)\n",
    "\n",
    "# Time Complexity = O(n^2)"
   ]
  },
  {
   "cell_type": "code",
   "execution_count": 11,
   "id": "c59772fd",
   "metadata": {},
   "outputs": [
    {
     "name": "stdout",
     "output_type": "stream",
     "text": [
      "5 4 6 7 8 3 -1\n"
     ]
    }
   ],
   "source": [
    "head = take_input()"
   ]
  },
  {
   "cell_type": "code",
   "execution_count": 12,
   "id": "e3876046",
   "metadata": {},
   "outputs": [
    {
     "name": "stdout",
     "output_type": "stream",
     "text": [
      "5\n",
      "4\n",
      "6\n",
      "7\n",
      "8\n",
      "3\n"
     ]
    }
   ],
   "source": [
    "### Printing out the node datas to cross check if the node datas are same as that provided by user.\n",
    "\n",
    "node = head\n",
    "\n",
    "while node is not None:\n",
    "    print(node.data)\n",
    "    node = node.next"
   ]
  },
  {
   "cell_type": "markdown",
   "id": "663e068b",
   "metadata": {},
   "source": [
    "### --------------------------------------------------------------------------------------------------------------------------------------------------------------"
   ]
  },
  {
   "cell_type": "code",
   "execution_count": 13,
   "id": "be14c2b0",
   "metadata": {},
   "outputs": [],
   "source": [
    "# Write a program that prints the node datas of a linked list"
   ]
  },
  {
   "cell_type": "code",
   "execution_count": 14,
   "id": "5c6ecf9b",
   "metadata": {},
   "outputs": [],
   "source": [
    "def print_linked_list(head):\n",
    "    \n",
    "    while head is not None:\n",
    "        print(str(head.data) + '--> ', end = \"\")\n",
    "        head = head.next\n",
    "    \n",
    "    print(\"None\")"
   ]
  },
  {
   "cell_type": "code",
   "execution_count": 15,
   "id": "f9cc99f7",
   "metadata": {},
   "outputs": [
    {
     "name": "stdout",
     "output_type": "stream",
     "text": [
      "5--> 4--> 6--> 7--> 8--> 3--> None\n",
      "5--> 4--> 6--> 7--> 8--> 3--> None\n"
     ]
    }
   ],
   "source": [
    "print_linked_list(head)\n",
    "print_linked_list(head)"
   ]
  },
  {
   "cell_type": "code",
   "execution_count": 16,
   "id": "a02e33f3",
   "metadata": {},
   "outputs": [],
   "source": [
    "# Note - head becomes none only inside print_linked_list function. The 'head' is a local variable to print_linked_list function.\n",
    "# So even when we print head twice, we get the same answer. The 'head' does not change.\n",
    "\n",
    "# When you call the print_linked_list function, a copy of 'head' will be created and used as a local variable inside the\n",
    "# print_linked_list function"
   ]
  },
  {
   "cell_type": "markdown",
   "id": "1f84b828",
   "metadata": {},
   "source": [
    "### --------------------------------------------------------------------------------------------------------------------------------------------------------------"
   ]
  },
  {
   "cell_type": "code",
   "execution_count": 17,
   "id": "929fe6ca",
   "metadata": {},
   "outputs": [],
   "source": [
    "# Write a progam that takes input from user and creates a linked list\n",
    "\n",
    "# Optimized Solution"
   ]
  },
  {
   "cell_type": "code",
   "execution_count": 18,
   "id": "9fba7050",
   "metadata": {},
   "outputs": [],
   "source": [
    "class Node:\n",
    "    \n",
    "    def __init__(self,data):\n",
    "        \n",
    "        self.data = data\n",
    "        self.next = None\n",
    "\n",
    "def take_input():\n",
    "    \n",
    "    arr = [int(x) for x in input().split(\" \")]\n",
    "    y = 0\n",
    "    while arr[y] != -1:\n",
    "        if y == 0:\n",
    "            head = Node(arr[y])\n",
    "            tail = head\n",
    "            y = y + 1\n",
    "        else:\n",
    "            tail.next = Node(arr[y])\n",
    "            tail = tail.next\n",
    "            y = y + 1\n",
    "    return head\n",
    "\n",
    "# Time Complexity = O(n)"
   ]
  },
  {
   "cell_type": "code",
   "execution_count": 20,
   "id": "ec6b453a",
   "metadata": {},
   "outputs": [
    {
     "name": "stdout",
     "output_type": "stream",
     "text": [
      "5 4 6 3 -1\n"
     ]
    }
   ],
   "source": [
    "head = take_input()"
   ]
  },
  {
   "cell_type": "code",
   "execution_count": 21,
   "id": "c28028e5",
   "metadata": {},
   "outputs": [
    {
     "name": "stdout",
     "output_type": "stream",
     "text": [
      "5\n",
      "4\n",
      "6\n",
      "3\n"
     ]
    }
   ],
   "source": [
    "# Printing out the node datas to cross check if the node datas are same as that provided by user.\n",
    "\n",
    "node = head\n",
    "\n",
    "while node is not None:\n",
    "    print(node.data)\n",
    "    node = node.next"
   ]
  },
  {
   "cell_type": "markdown",
   "id": "72f99073",
   "metadata": {},
   "source": [
    "### --------------------------------------------------------------------------------------------------------------------------------------------------------------"
   ]
  },
  {
   "cell_type": "code",
   "execution_count": 22,
   "id": "7323fe35",
   "metadata": {},
   "outputs": [],
   "source": [
    "# Write a program to calculate the length of a linked list"
   ]
  },
  {
   "cell_type": "code",
   "execution_count": 23,
   "id": "18ff1843",
   "metadata": {},
   "outputs": [],
   "source": [
    "def length_linked_list(head):\n",
    "    \n",
    "    count = 0\n",
    "    while head is not None:\n",
    "        count = count + 1\n",
    "        head = head.next\n",
    "    return count\n",
    "\n",
    "# Time complexity = O(n)\n",
    "# Space complexity = O(1)"
   ]
  },
  {
   "cell_type": "code",
   "execution_count": 24,
   "id": "c3848367",
   "metadata": {},
   "outputs": [
    {
     "data": {
      "text/plain": [
       "4"
      ]
     },
     "execution_count": 24,
     "metadata": {},
     "output_type": "execute_result"
    }
   ],
   "source": [
    "length_linked_list(head)"
   ]
  },
  {
   "cell_type": "code",
   "execution_count": 25,
   "id": "861a5bf4",
   "metadata": {},
   "outputs": [],
   "source": [
    "# Write a program to calculate the length of a linked list recursively"
   ]
  },
  {
   "cell_type": "code",
   "execution_count": 26,
   "id": "b6c2d0a3",
   "metadata": {},
   "outputs": [],
   "source": [
    "def length_recursive(head):\n",
    "    \n",
    "    if head is None:\n",
    "        return 0\n",
    "    return 1 + length_recursive(head.next)\n",
    "\n",
    "# Time complexity = O(n)\n",
    "# Space complexity = O(n)"
   ]
  },
  {
   "cell_type": "code",
   "execution_count": 27,
   "id": "6874482d",
   "metadata": {},
   "outputs": [
    {
     "data": {
      "text/plain": [
       "4"
      ]
     },
     "execution_count": 27,
     "metadata": {},
     "output_type": "execute_result"
    }
   ],
   "source": [
    "length_recursive(head)"
   ]
  },
  {
   "cell_type": "markdown",
   "id": "9696b7d7",
   "metadata": {},
   "source": [
    "### --------------------------------------------------------------------------------------------------------------------------------------------------------------"
   ]
  },
  {
   "cell_type": "code",
   "execution_count": 28,
   "id": "ce0cef43",
   "metadata": {},
   "outputs": [],
   "source": [
    "# For a given a singly linked list of integers and a position 'i', print the node data at the 'i-th' position.\n",
    "#  Note :\n",
    "# Assume that the Indexing for the singly linked list always starts from 0.\n",
    "\n",
    "# If the given position 'i',  is greater than the length of the given singly linked list, then don't print anything."
   ]
  },
  {
   "cell_type": "code",
   "execution_count": 29,
   "id": "53a646cd",
   "metadata": {},
   "outputs": [],
   "source": [
    "def print_ith_node(head, i):\n",
    "    \n",
    "    count = 0\n",
    "    while head is not None:\n",
    "        if count == i:\n",
    "            print(head.data)\n",
    "        head = head.next\n",
    "        count = count + 1"
   ]
  },
  {
   "cell_type": "code",
   "execution_count": 31,
   "id": "bd9ab9ec",
   "metadata": {},
   "outputs": [],
   "source": [
    "print_ith_node(head,100)"
   ]
  },
  {
   "cell_type": "markdown",
   "id": "223a52e5",
   "metadata": {},
   "source": [
    "### --------------------------------------------------------------------------------------------------------------------------------------------------------------"
   ]
  },
  {
   "cell_type": "code",
   "execution_count": 32,
   "id": "8f27e5df",
   "metadata": {},
   "outputs": [],
   "source": [
    "# Write a program to insert a node at the ith position of a linked list"
   ]
  },
  {
   "cell_type": "code",
   "execution_count": 40,
   "id": "ce54635d",
   "metadata": {},
   "outputs": [],
   "source": [
    "def insert_1(head, i, data):\n",
    "    \n",
    "    \n",
    "    if i < 0 or i > length_linked_list(head):\n",
    "        return head\n",
    "    \n",
    "    current = head\n",
    "    previous = None\n",
    "    count = 0\n",
    "    \n",
    "    while count < i:\n",
    "        previous = current\n",
    "        current = current.next\n",
    "        count = count + 1\n",
    "    \n",
    "    new_node = Node(data)\n",
    "    \n",
    "    if previous is None:\n",
    "        new_node.next = current\n",
    "        return new_node\n",
    "    else:\n",
    "        previous.next = new_node\n",
    "        new_node.next = current\n",
    "        return head"
   ]
  },
  {
   "cell_type": "code",
   "execution_count": 41,
   "id": "414faea0",
   "metadata": {},
   "outputs": [
    {
     "name": "stdout",
     "output_type": "stream",
     "text": [
      "3 4 5 6 -1\n",
      "100--> 3--> 4--> 5--> 6--> None\n"
     ]
    }
   ],
   "source": [
    "head = take_input()\n",
    "head1 = insert_1(head, 0, 100)\n",
    "print_linked_list(head1)"
   ]
  },
  {
   "cell_type": "code",
   "execution_count": null,
   "id": "14502f38",
   "metadata": {},
   "outputs": [],
   "source": [
    "# Time Complexity\n",
    "\n",
    "# Time complexity of calculating length of linked_list = O(n)\n",
    "# Time complexity of the 'while' loop = O(i) (where i ranges from 0 to n)\n",
    "\n",
    "# So overall Time Complexity = O(n)"
   ]
  },
  {
   "cell_type": "code",
   "execution_count": null,
   "id": "1bdc620b",
   "metadata": {},
   "outputs": [],
   "source": [
    "def insert_2(head, i, data):\n",
    "    \n",
    "    new_node = Node(data)\n",
    "    if i < 0 or i > length(a):\n",
    "        return head\n",
    "    elif i == 0:\n",
    "        new_node.next = head\n",
    "        return new_node\n",
    "    else:\n",
    "        count = 0\n",
    "        node = head\n",
    "        while count < i-1:\n",
    "            node = node.next\n",
    "            count = count + 1\n",
    "\n",
    "        new_node.next = node.next\n",
    "        node.next = new_node\n",
    "        return head"
   ]
  },
  {
   "cell_type": "code",
   "execution_count": null,
   "id": "85af5b64",
   "metadata": {},
   "outputs": [],
   "source": [
    "def insert_3(head, i, data):\n",
    "    \n",
    "    if ((i < 0) or i > (length_linked_list(head))):\n",
    "            return head\n",
    "    \n",
    "    count = 0\n",
    "    current = head\n",
    "    previous = None\n",
    "\n",
    "    while count < i:\n",
    "        previous = current\n",
    "        current = current.next\n",
    "        count = count + 1\n",
    "\n",
    "    new_node = Node(data)\n",
    "\n",
    "    if previous is not None:\n",
    "        previous.next = new_node\n",
    "    else:\n",
    "        head = new_node\n",
    "    new_node.next = current\n",
    "    return head"
   ]
  },
  {
   "cell_type": "code",
   "execution_count": null,
   "id": "967aec83",
   "metadata": {},
   "outputs": [],
   "source": [
    "head = take_input()\n",
    "head1 = insert_3(head, 4, 100)\n",
    "print_linked_list(head1)"
   ]
  },
  {
   "cell_type": "code",
   "execution_count": null,
   "id": "efcc4622",
   "metadata": {},
   "outputs": [],
   "source": [
    "def insert_4(head, i,data):\n",
    "    \n",
    "    if ((i < 0) or (i > length_linked_list(head))):\n",
    "        return head\n",
    "    \n",
    "    count1 = 0\n",
    "    count2 = 0\n",
    "    temp1 = None\n",
    "    temp2 = head\n",
    "    \n",
    "    while head is not None:\n",
    "        \n",
    "        if i == 0:\n",
    "            temp1 = Node(data)\n",
    "            temp1.next = head\n",
    "            return temp1\n",
    "        \n",
    "        elif count1 == i:\n",
    "            temp1 = Node(data)\n",
    "            temp1.next = head\n",
    "            \n",
    "        head = head.next\n",
    "        count1 = count1 + 1\n",
    "    \n",
    "    if temp1 == None:\n",
    "        temp1 = Node(data)\n",
    "    \n",
    "    while count2 != (i-1):\n",
    "        temp2 = temp2.next\n",
    "        count2 = count2 + 1\n",
    "    \n",
    "    temp2.next = temp1\n",
    "    \n",
    "    return temp2"
   ]
  },
  {
   "cell_type": "code",
   "execution_count": null,
   "id": "e080b855",
   "metadata": {},
   "outputs": [],
   "source": [
    "head = take_input()\n",
    "head1 = insert_4(head, 4, 100)\n",
    "print_linked_list(head1)"
   ]
  },
  {
   "cell_type": "markdown",
   "id": "cefa2a9c",
   "metadata": {},
   "source": [
    "### --------------------------------------------------------------------------------------------------------------------------------------------------------------"
   ]
  },
  {
   "cell_type": "code",
   "execution_count": null,
   "id": "47bab202",
   "metadata": {},
   "outputs": [],
   "source": [
    "# Write a program to delete the ith node of a linked list"
   ]
  },
  {
   "cell_type": "code",
   "execution_count": 28,
   "id": "1e74fe02",
   "metadata": {},
   "outputs": [],
   "source": [
    "def delete_node_1(head, pos):\n",
    "    \n",
    "    if pos < 0 or pos > length_linked_list(head) - 1:\n",
    "        return head\n",
    "    \n",
    "    current = head\n",
    "    count = 0\n",
    "    \n",
    "    if pos == 0:\n",
    "        return head.next\n",
    "    \n",
    "    while count < pos - 1:\n",
    "        current = current.next\n",
    "        count = count + 1\n",
    "    \n",
    "    if current.next.next is None:\n",
    "        current.next = None\n",
    "    else:\n",
    "        current.next = current.next.next\n",
    "    return head"
   ]
  },
  {
   "cell_type": "code",
   "execution_count": 29,
   "id": "f59d0837",
   "metadata": {},
   "outputs": [
    {
     "name": "stdout",
     "output_type": "stream",
     "text": [
      "4 6 3 4 100 10 3 5 -1\n",
      "4--> 6--> 3--> 4--> 10--> 3--> 5--> None\n"
     ]
    }
   ],
   "source": [
    "head = take_input()\n",
    "head1 = delete_node_1(head, 4)\n",
    "print_linked_list(head1)"
   ]
  },
  {
   "cell_type": "code",
   "execution_count": null,
   "id": "f917bad6",
   "metadata": {},
   "outputs": [],
   "source": [
    "def delete_node_2(head, i):\n",
    "    \n",
    "    if i < 0 or i > length(a) - 1:\n",
    "        return head\n",
    "    elif i == 0:\n",
    "        return head.next\n",
    "    else:\n",
    "        count = 0\n",
    "        node = head\n",
    "        while count < i-1:\n",
    "            node = node.next\n",
    "            count = count + 1\n",
    "        node.next = node.next.next\n",
    "        return head"
   ]
  },
  {
   "cell_type": "markdown",
   "id": "8dd5bb78",
   "metadata": {},
   "source": [
    "### --------------------------------------------------------------------------------------------------------------------------------------------------------------"
   ]
  },
  {
   "cell_type": "code",
   "execution_count": 30,
   "id": "3d462bfc",
   "metadata": {},
   "outputs": [],
   "source": [
    "# Write a program to insert node at ith position of a linked list recursively"
   ]
  },
  {
   "cell_type": "code",
   "execution_count": 41,
   "id": "d43f25e5",
   "metadata": {},
   "outputs": [],
   "source": [
    "def insert_recursive(head, i, data):\n",
    "    \n",
    "    if i < 0 or i > length_linked_list(head):\n",
    "        return head\n",
    "    \n",
    "    if i == 0:\n",
    "        new_node = Node(data)\n",
    "        new_node.next = head\n",
    "        return new_node\n",
    "    head.next = insert_recursive(head.next, i-1, data)\n",
    "    return head"
   ]
  },
  {
   "cell_type": "code",
   "execution_count": 42,
   "id": "beb2fb45",
   "metadata": {},
   "outputs": [
    {
     "name": "stdout",
     "output_type": "stream",
     "text": [
      "1 3 4 -1\n",
      "1--> 3--> 4--> 100--> None\n"
     ]
    }
   ],
   "source": [
    "head = take_input()\n",
    "head1 = insert_recursive(head, 3, 100)\n",
    "print_linked_list(head1)"
   ]
  },
  {
   "cell_type": "code",
   "execution_count": 43,
   "id": "ce823c05",
   "metadata": {},
   "outputs": [],
   "source": [
    "# Time Complexity = O(i)"
   ]
  },
  {
   "cell_type": "markdown",
   "id": "afb5bd11",
   "metadata": {},
   "source": [
    "### --------------------------------------------------------------------------------------------------------------------------------------------------------------"
   ]
  },
  {
   "cell_type": "code",
   "execution_count": 44,
   "id": "621ce685",
   "metadata": {},
   "outputs": [],
   "source": [
    "# Write a program to delete ith node from linked list recursively"
   ]
  },
  {
   "cell_type": "code",
   "execution_count": null,
   "id": "ca67e7b6",
   "metadata": {},
   "outputs": [],
   "source": [
    "def delete_node_recursively(head, pos):\n",
    "    \n",
    "    if pos == 0:\n",
    "        return head.next\n",
    "    head.next = delete_node(head.next, pos-1)\n",
    "    return head"
   ]
  },
  {
   "cell_type": "code",
   "execution_count": 51,
   "id": "db9c73b2",
   "metadata": {},
   "outputs": [],
   "source": [
    "def delete_node_recursively_1(head, pos):\n",
    "    \n",
    "    if pos < 0 or pos > length_linked_list(head) - 1:\n",
    "        return head\n",
    "    if pos == 0:\n",
    "        return head.next\n",
    "    if pos == 1:\n",
    "        head.next = head.next.next\n",
    "        return head\n",
    "    head.next = delete_node_recursively_1(head.next, pos-1) \n",
    "    return head"
   ]
  },
  {
   "cell_type": "code",
   "execution_count": 52,
   "id": "37932dff",
   "metadata": {},
   "outputs": [
    {
     "name": "stdout",
     "output_type": "stream",
     "text": [
      "3 5 4 6 100 10 5 6 4 -1\n",
      "3--> 5--> 4--> 6--> 10--> 5--> 6--> 4--> None\n"
     ]
    }
   ],
   "source": [
    "head = take_input()\n",
    "head1 = delete_node_recursively_1(head, 4)\n",
    "print_linked_list(head1)"
   ]
  },
  {
   "cell_type": "code",
   "execution_count": 47,
   "id": "6e409a08",
   "metadata": {},
   "outputs": [],
   "source": [
    "def delete_node_recursively_2(head, pos):\n",
    "    \n",
    "    if pos < 0:\n",
    "        return head\n",
    "    \n",
    "    if head is None:\n",
    "        return None\n",
    "    \n",
    "    if pos == 0:\n",
    "        return head.next\n",
    "    \n",
    "    if head.next is None:\n",
    "        return head\n",
    "    \n",
    "    if pos == 1:\n",
    "        head.next = head.next.next\n",
    "        return head\n",
    "        \n",
    "    head.next = delete_node_recursively_2(head.next, pos-1)  \n",
    "    return head"
   ]
  },
  {
   "cell_type": "code",
   "execution_count": 48,
   "id": "4adbb207",
   "metadata": {},
   "outputs": [
    {
     "name": "stdout",
     "output_type": "stream",
     "text": [
      "4 5 3 6 100 4 3 2 -1\n",
      "4--> 5--> 3--> 6--> 4--> 3--> 2--> None\n"
     ]
    }
   ],
   "source": [
    "head = take_input()\n",
    "head1 = delete_node_recursively_2(head, 4)\n",
    "print_linked_list(head1)"
   ]
  },
  {
   "cell_type": "markdown",
   "id": "1cc6aae8",
   "metadata": {},
   "source": [
    "### --------------------------------------------------------------------------------------------------------------------------------------------------------------"
   ]
  },
  {
   "cell_type": "code",
   "execution_count": null,
   "id": "dd67ffcd",
   "metadata": {},
   "outputs": [],
   "source": [
    "# Time complexity of searching an element in a linked list = O(n)\n",
    "# Time complexity of adding an element at the last position in a linked list = O(n)\n",
    "# Time complexity of adding an element at the second position in a linked list = O(1)\n",
    "\n",
    "#Given an unsorted singly Linked List, suppose you have references (or pointer) to its head and tail nodes, \n",
    "# the following operation can be implemented in O(1) time.\n",
    "\n",
    "# 1)   Insertion at the front of the linked list\n",
    "# 2)  Insertion at the end of the linked list\n",
    "# 3)  Deletion of the front node of the linked list"
   ]
  },
  {
   "cell_type": "markdown",
   "id": "83c852df",
   "metadata": {},
   "source": [
    "### --------------------------------------------------------------------------------------------------------------------------------------------------------------"
   ]
  },
  {
   "cell_type": "code",
   "execution_count": 55,
   "id": "942bb7b9",
   "metadata": {},
   "outputs": [],
   "source": [
    "# Write a function that returns the index position of number denoted by n if it exists in the linked list.\n",
    "# Return -1 otherwise"
   ]
  },
  {
   "cell_type": "code",
   "execution_count": 42,
   "id": "439a4a27",
   "metadata": {},
   "outputs": [],
   "source": [
    "def find_node(head, n) :\n",
    "    \n",
    "    node = head\n",
    "    count = 0\n",
    "    \n",
    "    while node is not None and node.data != n:\n",
    "        node = node.next\n",
    "        count += 1\n",
    "    if node == None:\n",
    "        return -1\n",
    "    else:\n",
    "        return count"
   ]
  },
  {
   "cell_type": "code",
   "execution_count": 44,
   "id": "f92d3d90",
   "metadata": {},
   "outputs": [
    {
     "name": "stdout",
     "output_type": "stream",
     "text": [
      "1 3 4 100 3 100 6 -1\n"
     ]
    },
    {
     "data": {
      "text/plain": [
       "3"
      ]
     },
     "execution_count": 44,
     "metadata": {},
     "output_type": "execute_result"
    }
   ],
   "source": [
    "head = take_input()\n",
    "find_node(head, 100)"
   ]
  },
  {
   "cell_type": "markdown",
   "id": "61668ca8",
   "metadata": {},
   "source": [
    "### --------------------------------------------------------------------------------------------------------------------------------------------------------------"
   ]
  },
  {
   "cell_type": "code",
   "execution_count": null,
   "id": "1018a0f4",
   "metadata": {},
   "outputs": [],
   "source": [
    "# You have been given a singly linked list of integers along with an integer 'N'. \n",
    "# Write a function to append the last 'N' nodes towards the front of the singly linked list and \n",
    "# returns the new head to the list.\n",
    "\n",
    "# If linked list is 1 --> 2 --> 3 --> 4 --> 5\n",
    "# Appending the last 3 nodes towards the front of the singly linked list would result in the following :-\n",
    "# 3 --> 4 --> 5 --> 1 --> 2"
   ]
  },
  {
   "cell_type": "code",
   "execution_count": null,
   "id": "467b0d4c",
   "metadata": {},
   "outputs": [],
   "source": [
    "def append(head, n):\n",
    "    \n",
    "    node = head\n",
    "    l = length(head)\n",
    "    \n",
    "    while node.next is not None:\n",
    "        node = node.next\n",
    "    node.next = head\n",
    "    node = head\n",
    "    count = 0\n",
    "    while count < (l-n-1):\n",
    "        node = node.next\n",
    "        count += 1\n",
    "    ans = node.next\n",
    "    node.next = None\n",
    "    \n",
    "    return ans"
   ]
  },
  {
   "cell_type": "code",
   "execution_count": 66,
   "id": "a3381ff1",
   "metadata": {},
   "outputs": [],
   "source": [
    "def append_2(head, n) :\n",
    "    \n",
    "    l = length_linked_list(head)\n",
    "    \n",
    "    if head is None:\n",
    "        return None\n",
    "    if n == 0 or n == l:\n",
    "        return head\n",
    "    \n",
    "    temp1 = head\n",
    "    count = 1\n",
    "    \n",
    "    while count < (l-n):\n",
    "        temp1 = temp1.next\n",
    "        count = count + 1\n",
    "    \n",
    "    new_linked_list = temp1.next\n",
    "    temp1.next = None\n",
    "    temp2 = new_linked_list\n",
    "    \n",
    "    while temp2.next is not None:\n",
    "        temp2 = temp2.next\n",
    "    \n",
    "    temp2.next = head\n",
    "    return new_linked_list"
   ]
  },
  {
   "cell_type": "code",
   "execution_count": 69,
   "id": "c073f47c",
   "metadata": {},
   "outputs": [
    {
     "name": "stdout",
     "output_type": "stream",
     "text": [
      "4 6 5 3 5 7 4 -1\n",
      "4--> 6--> 5--> 3--> 5--> 7--> 4--> None\n",
      "4--> 4--> 6--> 5--> 3--> 5--> 7--> None\n"
     ]
    }
   ],
   "source": [
    "head = take_input()\n",
    "print_linked_list(head)\n",
    "\n",
    "head1 = append_2(head,1)\n",
    "print_linked_list(head1)"
   ]
  },
  {
   "cell_type": "code",
   "execution_count": 68,
   "id": "495770d7",
   "metadata": {},
   "outputs": [],
   "source": [
    "# Time Complexity = O(n)"
   ]
  },
  {
   "cell_type": "markdown",
   "id": "b7479b86",
   "metadata": {},
   "source": [
    "### --------------------------------------------------------------------------------------------------------------------------------------------------------------"
   ]
  },
  {
   "cell_type": "code",
   "execution_count": null,
   "id": "dfe8f8db",
   "metadata": {},
   "outputs": [],
   "source": [
    "# You are given a linked list with elements sorted in ascending order. \n",
    "# Write a program to remove consecutive duplicates."
   ]
  },
  {
   "cell_type": "code",
   "execution_count": 86,
   "id": "cb4c6dd2",
   "metadata": {},
   "outputs": [],
   "source": [
    "def remove_duplicates_1(head):\n",
    "    \n",
    "    if head is None:\n",
    "        return head\n",
    "    temp = head\n",
    "    while temp.next is not None:\n",
    "        if temp.data == temp.next.data:\n",
    "            temp.next = temp.next.next\n",
    "        else:\n",
    "            temp = temp.next\n",
    "    return head"
   ]
  },
  {
   "cell_type": "code",
   "execution_count": 87,
   "id": "b4c47ced",
   "metadata": {},
   "outputs": [
    {
     "name": "stdout",
     "output_type": "stream",
     "text": [
      "2 3 3 4 4 4 5 6 7 8 8 8 -1\n",
      "2--> 3--> 3--> 4--> 4--> 4--> 5--> 6--> 7--> 8--> 8--> 8--> None\n",
      "2--> 3--> 4--> 5--> 6--> 7--> 8--> None\n"
     ]
    }
   ],
   "source": [
    "head = take_input()\n",
    "print_linked_list(head)\n",
    "\n",
    "head1 = remove_duplicates_1(head)\n",
    "print_linked_list(head1)"
   ]
  },
  {
   "cell_type": "code",
   "execution_count": 92,
   "id": "b5baecc2",
   "metadata": {},
   "outputs": [],
   "source": [
    "def remove_duplicates_2(head):\n",
    "    \n",
    "    temp1 = head\n",
    "    \n",
    "    while (temp1 is not None) and (temp1.next is not None):\n",
    "        if temp1.data == temp1.next.data:\n",
    "            temp2 = temp1\n",
    "            while (temp2.next is not None) and (temp2.data == temp2.next.data):\n",
    "                temp2 = temp2.next\n",
    "            if temp2.next is None:\n",
    "                temp1.next = None\n",
    "            else:\n",
    "                temp1.next = temp2.next\n",
    "        temp1 = temp1.next\n",
    "    return head"
   ]
  },
  {
   "cell_type": "code",
   "execution_count": 93,
   "id": "011a499c",
   "metadata": {},
   "outputs": [
    {
     "name": "stdout",
     "output_type": "stream",
     "text": [
      "2 3 3 4 4 4 5 6 7 8 8 8 -1\n",
      "2--> 3--> 3--> 4--> 4--> 4--> 5--> 6--> 7--> 8--> 8--> 8--> None\n",
      "2--> 3--> 4--> 5--> 6--> 7--> 8--> None\n"
     ]
    }
   ],
   "source": [
    "head = take_input()\n",
    "print_linked_list(head)\n",
    "\n",
    "head1 = remove_duplicates_2(head)\n",
    "print_linked_list(head1)"
   ]
  },
  {
   "cell_type": "markdown",
   "id": "d02c4f01",
   "metadata": {},
   "source": [
    "### --------------------------------------------------------------------------------------------------------------------------------------------------------------"
   ]
  },
  {
   "cell_type": "code",
   "execution_count": 94,
   "id": "c5722364",
   "metadata": {},
   "outputs": [],
   "source": [
    "# Write a program to print elements of a linked list in reverse order"
   ]
  },
  {
   "cell_type": "code",
   "execution_count": 99,
   "id": "4e6fb7e8",
   "metadata": {},
   "outputs": [],
   "source": [
    "def print_reverse(head) :\n",
    "    \n",
    "    if head is None:\n",
    "        return head\n",
    "    \n",
    "    if head.next is None:\n",
    "        print(head.data, end = \" \")\n",
    "    else:\n",
    "        print_reverse(head.next)\n",
    "        print(head.data, end = \" \")"
   ]
  },
  {
   "cell_type": "code",
   "execution_count": 100,
   "id": "6b3305f7",
   "metadata": {},
   "outputs": [
    {
     "name": "stdout",
     "output_type": "stream",
     "text": [
      "2 5 4 6 3 1 8 5 4 -1\n",
      "4 5 8 1 3 6 4 5 2 "
     ]
    }
   ],
   "source": [
    "head = take_input()\n",
    "print_reverse(head)"
   ]
  },
  {
   "cell_type": "code",
   "execution_count": 106,
   "id": "c10029ac",
   "metadata": {},
   "outputs": [],
   "source": [
    "def print_reverse_2(head):\n",
    "    \n",
    "    if head is None:\n",
    "        return\n",
    "    \n",
    "    print_reverse_2(head.next)\n",
    "    print(head.data, end = \" \")"
   ]
  },
  {
   "cell_type": "code",
   "execution_count": 108,
   "id": "37de5c51",
   "metadata": {},
   "outputs": [
    {
     "name": "stdout",
     "output_type": "stream",
     "text": [
      "1 2 3 4 5 6 7 8 -1\n",
      "8 7 6 5 4 3 2 1 "
     ]
    }
   ],
   "source": [
    "head = take_input()\n",
    "print_reverse_2(head)"
   ]
  },
  {
   "cell_type": "markdown",
   "id": "202779ec",
   "metadata": {},
   "source": [
    "### --------------------------------------------------------------------------------------------------------------------------------------------------------------"
   ]
  },
  {
   "cell_type": "code",
   "execution_count": null,
   "id": "90622f45",
   "metadata": {},
   "outputs": [],
   "source": [
    "# Write a program if a linked list is palindrome or not"
   ]
  },
  {
   "cell_type": "code",
   "execution_count": 139,
   "id": "dc88b741",
   "metadata": {},
   "outputs": [],
   "source": [
    "def check_palindrome(head):\n",
    "    \n",
    "    a = []\n",
    "    \n",
    "    while head is not None:\n",
    "        \n",
    "        a.append(head.data)\n",
    "        head = head.next\n",
    "    \n",
    "    if a == a[::-1]:\n",
    "        return True\n",
    "    else:\n",
    "        return False"
   ]
  },
  {
   "cell_type": "code",
   "execution_count": 141,
   "id": "5ea7beb6",
   "metadata": {},
   "outputs": [
    {
     "name": "stdout",
     "output_type": "stream",
     "text": [
      "1 2 3 4 3 2 1 -1\n"
     ]
    },
    {
     "data": {
      "text/plain": [
       "True"
      ]
     },
     "execution_count": 141,
     "metadata": {},
     "output_type": "execute_result"
    }
   ],
   "source": [
    "head = take_input()\n",
    "check_palindrome(head)"
   ]
  },
  {
   "cell_type": "markdown",
   "id": "aace20b2",
   "metadata": {},
   "source": [
    "### --------------------------------------------------------------------------------------------------------------------------------------------------------------"
   ]
  }
 ],
 "metadata": {
  "kernelspec": {
   "display_name": "Python 3 (ipykernel)",
   "language": "python",
   "name": "python3"
  },
  "language_info": {
   "codemirror_mode": {
    "name": "ipython",
    "version": 3
   },
   "file_extension": ".py",
   "mimetype": "text/x-python",
   "name": "python",
   "nbconvert_exporter": "python",
   "pygments_lexer": "ipython3",
   "version": "3.9.12"
  }
 },
 "nbformat": 4,
 "nbformat_minor": 5
}
