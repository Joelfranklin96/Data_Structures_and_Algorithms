{
 "cells": [
  {
   "cell_type": "code",
   "execution_count": 1,
   "id": "ea664d32",
   "metadata": {},
   "outputs": [],
   "source": [
    "# Heap Sort\n",
    "\n",
    "# We are given a list of elements\n",
    "# First we keep inserting the elements to form a heap (following CBT & Heap order property) which has time complexity = O(n*logn)\n",
    "# Then we keep removing the minimum element (root node) and keep putting the minimum element in the given list.\n",
    "# So we make n deletions which has time complexity = O(n*logn)\n",
    "\n",
    "# Total Time Complexity = (n*logn) + (n*logn) = (2*n*logn) which is approximately n*logn\n",
    "# So Time Complexity of Heap Sort = n*logn\n",
    "\n",
    "# Space Complexity in this method = O(n) because the maximum elements stored in the extra heap formed = n elements"
   ]
  },
  {
   "cell_type": "code",
   "execution_count": 2,
   "id": "77ae2f2a",
   "metadata": {},
   "outputs": [],
   "source": [
    "# Internally a Heap is stored in the form of a list"
   ]
  },
  {
   "cell_type": "code",
   "execution_count": 3,
   "id": "51bd989d",
   "metadata": {},
   "outputs": [],
   "source": [
    "# Implement in-place Heap Sort"
   ]
  },
  {
   "cell_type": "code",
   "execution_count": 34,
   "id": "9c8ea64b",
   "metadata": {},
   "outputs": [],
   "source": [
    "def percolateUp(arr, i):\n",
    "    c_index = len(arr[:i+1]) - 1\n",
    "    p_index = (c_index - 1)//2\n",
    "    while c_index != 0 and arr[p_index] > arr[c_index]:\n",
    "        arr[p_index], arr[c_index] = arr[c_index], arr[p_index]\n",
    "        c_index = p_index\n",
    "        p_index = (c_index - 1)//2\n",
    "\n",
    "def percolateDown(arr, i):\n",
    "    p_index = 0\n",
    "    c1_index, c2_index = (2*p_index)+1, (2*p_index)+2\n",
    "    l = len(arr[:i])\n",
    "    while (((c1_index < l) and (arr[p_index] > arr[c1_index])) or ((c2_index < l) and (arr[p_index] > arr[c2_index]))):\n",
    "        if c1_index < l and c2_index < l:\n",
    "            if arr[c1_index] < arr[c2_index]:\n",
    "                arr[p_index], arr[c1_index] = arr[c1_index], arr[p_index]\n",
    "                p_index = c1_index\n",
    "            else:\n",
    "                arr[p_index], arr[c2_index] = arr[c2_index], arr[p_index]\n",
    "                p_index = c2_index\n",
    "        elif c1_index < l:\n",
    "            arr[p_index], arr[c1_index] = arr[c1_index], arr[p_index]\n",
    "            p_index = c1_index\n",
    "        else:\n",
    "            arr[p_index], arr[c2_index] = arr[c2_index], arr[p_index]\n",
    "            p_index = c2_index\n",
    "        c1_index, c2_index = (2*p_index)+1, (2*p_index)+2\n",
    "                   \n",
    "def heapSort(arr):\n",
    "    l = len(arr)\n",
    "    for i in range(1,l):\n",
    "        percolateUp(arr, i)\n",
    "    \n",
    "    print(\"After heap formation, array is {}\".format(arr))\n",
    "    \n",
    "    for i in range(l-1, 0, -1):\n",
    "        arr[0], arr[i] = arr[i], arr[0]\n",
    "        percolateDown(arr, i)\n",
    "    \n",
    "    print(\"Sorted array is {}\".format(arr))"
   ]
  },
  {
   "cell_type": "code",
   "execution_count": 35,
   "id": "4448b974",
   "metadata": {},
   "outputs": [
    {
     "name": "stdout",
     "output_type": "stream",
     "text": [
      "After heap formation, array is [1, 4, 3, 10, 5, 6]\n",
      "Sorted array is [10, 6, 5, 4, 3, 1]\n"
     ]
    }
   ],
   "source": [
    "heapSort([10,3,1,4,5,6])"
   ]
  },
  {
   "cell_type": "markdown",
   "id": "154ba41d",
   "metadata": {},
   "source": [
    "### --------------------------------------------------------------------------------------------------------------------------------------------------------------"
   ]
  },
  {
   "cell_type": "code",
   "execution_count": 37,
   "id": "0b037fab",
   "metadata": {},
   "outputs": [],
   "source": [
    "# Modified In place Heap Sort where the heap is formed in O(n) time complexity\n",
    "\n",
    "# W (Work) = (2^(h-2))*1 + (2^(h-3))*2 + (2^(h-4))*3 +.........(2^2)*(h-3) + (2^1)*(h-2) + (2^0)*(h-1)\n",
    "# W  = 2^(h-1) * [1/2 + 2/(2^2) + 3/(2^3) + ...........(h-3)/2^(h-3) + (h-2)/2^(h-2) + (h-1)/2^(h-1)] Equation 1 (This is a AGP)\n",
    "\n",
    "# Dividing LHS and RHS by 2, we get\n",
    "\n",
    "# W/2 = 2^(h-1) * [1/(2^2) + 2/(2^3) + 3/(2^4) + ...........(h-3)/2^(h-2) + (h-2)/2^(h-1) + (h-1)/2^(h)] Equation 2\n",
    "\n",
    "# Subtracting Equation 1 and 2, we get\n",
    "\n",
    "# W/2 = 2^(h-1) * [1/2 + 1/(2^2) + 1/(2^3) + ....1/(2^(h-3)) + 1/(2^(h-2)) + 1/(2^(h-1)) + (h-1)/2^(h)]\n",
    "\n",
    "# W/2 <= 2^(h-1) * [1 + (h-1)/2^(h)]\n",
    "\n",
    "# W <= 2^(h) * [1 + (h-1)/2^(h)]\n",
    "\n",
    "# W <= (2^h) + (h-1)\n",
    "\n",
    "# W <= (2^h)\n",
    "\n",
    "# W <= n (Because h = logn in a Heap)\n",
    "\n",
    "# So Time Complexity of Modified In place Heap Sort where the heap is formed = O(n) time complexity"
   ]
  },
  {
   "cell_type": "code",
   "execution_count": null,
   "id": "a902f61f",
   "metadata": {},
   "outputs": [],
   "source": [
    "# In in-place heap sort, we formed the heap by percolating the elements up. But in modified in-place heap sort, we form the\n",
    "# heap by percolating the elements down.\n",
    "\n",
    "# That's why, time complexity of forming heap in in-place heap sort = O(log(n!)) which can be approximated as O(n*logn)\n",
    "# And time complexity of forming heap in modified in-place heap sort = O(n)"
   ]
  },
  {
   "cell_type": "code",
   "execution_count": 77,
   "id": "3e908fbb",
   "metadata": {},
   "outputs": [],
   "source": [
    "def percolateDown(arr, i, l):\n",
    "    p_index = i\n",
    "    c1_index, c2_index = (2*p_index)+1, (2*p_index)+2\n",
    "    while (((c1_index < l) and (arr[p_index] > arr[c1_index])) or ((c2_index < l) and (arr[p_index] > arr[c2_index]))):\n",
    "        if (c1_index < l) and (c2_index) < l:\n",
    "            if arr[c1_index] < arr[c2_index]:\n",
    "                arr[p_index], arr[c1_index] = arr[c1_index], arr[p_index]\n",
    "                p_index = c1_index\n",
    "            else:\n",
    "                arr[p_index], arr[c2_index] = arr[c2_index], arr[p_index]\n",
    "                p_index = c2_index\n",
    "        elif c1_index < l:\n",
    "            arr[p_index], arr[c1_index] = arr[c1_index], arr[p_index]\n",
    "            p_index = c1_index\n",
    "        else:\n",
    "            arr[p_index], arr[c2_index] = arr[c2_index], arr[p_index]\n",
    "            p_index = c2_index\n",
    "        c1_index, c2_index = (2*p_index)+1, (2*p_index)+2\n",
    "                        \n",
    "def modifiedHeapSort_1(arr):\n",
    "    l = len(arr)\n",
    "    for i in range(l//2-1, -1, -1):\n",
    "        percolateDown(arr, i, l)\n",
    "        \n",
    "    print(\"After heap formation array is {}\".format(arr))\n",
    "    \n",
    "    for i in range(l-1, 0, -1):\n",
    "        arr[0], arr[i] = arr[i], arr[0]\n",
    "        n = len(arr[:i])\n",
    "        percolateDown(arr, 0, n)\n",
    "    \n",
    "    print(arr)"
   ]
  },
  {
   "cell_type": "code",
   "execution_count": 78,
   "id": "a8f6a03b",
   "metadata": {},
   "outputs": [
    {
     "name": "stdout",
     "output_type": "stream",
     "text": [
      "After heap formation array is [1, 2, 3, 4, 8, 7, 5, 9, 6]\n",
      "[9, 8, 7, 6, 5, 4, 3, 2, 1]\n"
     ]
    }
   ],
   "source": [
    "modifiedHeapSort_1([5, 6, 7, 9, 8, 1, 3, 2, 4])"
   ]
  },
  {
   "cell_type": "code",
   "execution_count": 44,
   "id": "16963089",
   "metadata": {},
   "outputs": [],
   "source": [
    "def percolateDownHeapFormation(arr, i):\n",
    "    l = len(arr)\n",
    "    p_index = i\n",
    "    c1_index, c2_index = (2*p_index)+1, (2*p_index)+2\n",
    "    while (((c1_index < l) and (arr[p_index] > arr[c1_index])) or ((c2_index < l) and (arr[p_index] > arr[c2_index]))):\n",
    "        if c1_index < l and c2_index < l:\n",
    "            if arr[c1_index] < arr[c2_index]:\n",
    "                arr[p_index], arr[c1_index] = arr[c1_index], arr[p_index]\n",
    "                p_index = c1_index\n",
    "            else:\n",
    "                arr[p_index], arr[c2_index] = arr[c2_index], arr[p_index]\n",
    "                p_index = c2_index\n",
    "        elif c1_index < l:\n",
    "            arr[p_index], arr[c1_index] = arr[c1_index], arr[p_index]\n",
    "            p_index = c1_index\n",
    "        else:\n",
    "            arr[p_index], arr[c2_index] = arr[c2_index], arr[p_index]\n",
    "            p_index = c2_index\n",
    "        c1_index, c2_index = (2*p_index)+1, (2*p_index)+2\n",
    "\n",
    "def percolateDown(arr, i):\n",
    "    l = len(arr[:i])\n",
    "    p_index = 0\n",
    "    c1_index, c2_index = (2*p_index)+1, (2*p_index)+2\n",
    "    while (((c1_index < l) and (arr[p_index] > arr[c1_index])) or ((c2_index < l) and (arr[p_index] > arr[c2_index]))):\n",
    "        if (c1_index < l) and (c2_index) < l:\n",
    "            if arr[c1_index] < arr[c2_index]:\n",
    "                arr[p_index], arr[c1_index] = arr[c1_index], arr[p_index]\n",
    "                p_index = c1_index\n",
    "            else:\n",
    "                arr[p_index], arr[c2_index] = arr[c2_index], arr[p_index]\n",
    "                p_index = c2_index\n",
    "        elif c1_index < l:\n",
    "            arr[p_index], arr[c1_index] = arr[c1_index], arr[p_index]\n",
    "            p_index = c1_index\n",
    "        else:\n",
    "            arr[p_index], arr[c2_index] = arr[c2_index], arr[p_index]\n",
    "            p_index = c2_index\n",
    "        c1_index, c2_index = (2*p_index)+1, (2*p_index)+2\n",
    "                        \n",
    "def modifiedHeapSort_2(arr):\n",
    "    l = len(arr)\n",
    "    for i in range(l//2-1, -1, -1):\n",
    "        percolateDownHeapFormation(arr, i)\n",
    "        \n",
    "    print(\"After heap formation array is {}\".format(arr))\n",
    "    \n",
    "    for i in range(l-1, 0, -1):\n",
    "        arr[0], arr[i] = arr[i], arr[0]\n",
    "        percolateDown(arr, i)\n",
    "    \n",
    "    print(arr)"
   ]
  },
  {
   "cell_type": "code",
   "execution_count": 45,
   "id": "537583a9",
   "metadata": {},
   "outputs": [
    {
     "name": "stdout",
     "output_type": "stream",
     "text": [
      "After heap formation array is [1, 2, 3, 4, 8, 7, 5, 9, 6]\n",
      "[9, 8, 7, 6, 5, 4, 3, 2, 1]\n"
     ]
    }
   ],
   "source": [
    "modifiedHeapSort_2([5, 6, 7, 9, 8, 1, 3, 2, 4])"
   ]
  },
  {
   "cell_type": "markdown",
   "id": "c9d58e5b",
   "metadata": {},
   "source": [
    "### --------------------------------------------------------------------------------------------------------------------------------------------------------------"
   ]
  },
  {
   "cell_type": "code",
   "execution_count": 1,
   "id": "164aba17",
   "metadata": {},
   "outputs": [],
   "source": [
    "# Inbuilt MinHeap"
   ]
  },
  {
   "cell_type": "code",
   "execution_count": 19,
   "id": "c21e0d4d",
   "metadata": {},
   "outputs": [],
   "source": [
    "import heapq\n",
    "\n",
    "arr = [5,4,8,7,9,11,1]\n",
    "heapq.heapify(arr)"
   ]
  },
  {
   "cell_type": "code",
   "execution_count": 20,
   "id": "b1b0b05a",
   "metadata": {},
   "outputs": [
    {
     "name": "stdout",
     "output_type": "stream",
     "text": [
      "[1, 4, 5, 7, 9, 11, 8]\n"
     ]
    }
   ],
   "source": [
    "print(arr)"
   ]
  },
  {
   "cell_type": "code",
   "execution_count": 21,
   "id": "b3110a30",
   "metadata": {},
   "outputs": [
    {
     "name": "stdout",
     "output_type": "stream",
     "text": [
      "[1, 2, 5, 4, 9, 11, 8, 7]\n"
     ]
    }
   ],
   "source": [
    "heapq.heappush(arr, 2)\n",
    "print(arr)"
   ]
  },
  {
   "cell_type": "code",
   "execution_count": 9,
   "id": "bc2acb97",
   "metadata": {},
   "outputs": [
    {
     "name": "stdout",
     "output_type": "stream",
     "text": [
      "1\n",
      "[2, 5, 4, 8, 7, 9, 11]\n"
     ]
    }
   ],
   "source": [
    "# In heap-pop, the minimum element is removed and returned and then formation of heap takes place\n",
    "\n",
    "print(heapq.heappop(arr))\n",
    "print(arr)"
   ]
  },
  {
   "cell_type": "code",
   "execution_count": 10,
   "id": "a662ad8b",
   "metadata": {},
   "outputs": [
    {
     "name": "stdout",
     "output_type": "stream",
     "text": [
      "2\n",
      "[4, 5, 6, 8, 7, 9, 11]\n"
     ]
    }
   ],
   "source": [
    "# In heap-replace, the minimum element is returned and replaced with 6 and then formation of heap takes place\n",
    "\n",
    "print(heapq.heapreplace(arr, 6))\n",
    "print(arr)"
   ]
  },
  {
   "cell_type": "markdown",
   "id": "7bb908dd",
   "metadata": {},
   "source": [
    "### --------------------------------------------------------------------------------------------------------------------------------------------------------------"
   ]
  },
  {
   "cell_type": "code",
   "execution_count": 22,
   "id": "ab6ab294",
   "metadata": {},
   "outputs": [],
   "source": [
    "# Inbuilt MaxHeap"
   ]
  },
  {
   "cell_type": "code",
   "execution_count": 64,
   "id": "55df86e5",
   "metadata": {},
   "outputs": [
    {
     "name": "stdout",
     "output_type": "stream",
     "text": [
      "9\n"
     ]
    }
   ],
   "source": [
    "import heapq as heap\n",
    "arr = [1,5,4,7,8,9,2,3]\n",
    "heap._heapify_max(arr) # In the case of MaxHeap, heapify is a protected function\n",
    "print(arr[0])"
   ]
  },
  {
   "cell_type": "code",
   "execution_count": 26,
   "id": "10921d4f",
   "metadata": {},
   "outputs": [
    {
     "name": "stdout",
     "output_type": "stream",
     "text": [
      "9\n",
      "[8, 7, 4, 3, 5, 1, 2]\n"
     ]
    }
   ],
   "source": [
    "print(heapq._heappop_max(arr))\n",
    "print(arr)"
   ]
  },
  {
   "cell_type": "code",
   "execution_count": 27,
   "id": "d1cc7b3f",
   "metadata": {},
   "outputs": [
    {
     "name": "stdout",
     "output_type": "stream",
     "text": [
      "8\n",
      "[7, 5, 4, 3, 0, 1, 2]\n"
     ]
    }
   ],
   "source": [
    "print(heapq._heapreplace_max(arr, 0))\n",
    "print(arr)"
   ]
  },
  {
   "cell_type": "code",
   "execution_count": 28,
   "id": "d29a226f",
   "metadata": {},
   "outputs": [
    {
     "name": "stdout",
     "output_type": "stream",
     "text": [
      "None\n",
      "[7, 6, 4, 5, 0, 1, 2, 3]\n"
     ]
    }
   ],
   "source": [
    "arr.append(6)\n",
    "print(heapq._siftdown_max(arr,0,len(arr)-1))\n",
    "print(arr)"
   ]
  },
  {
   "cell_type": "markdown",
   "id": "26d9007f",
   "metadata": {},
   "source": [
    "### --------------------------------------------------------------------------------------------------------------------------------------------------------------"
   ]
  },
  {
   "cell_type": "code",
   "execution_count": 29,
   "id": "9ed27d56",
   "metadata": {},
   "outputs": [],
   "source": [
    "# You are given with an integer k and an array of integers that contain numbers in random order. \n",
    "# Write a program to find k smallest numbers from given array. You need to save them in an array and return it.\n",
    "# Time complexity should be O(n * logk) and space complexity should not be more than O(k).\n",
    "# Note: Order of elements in the output is not important."
   ]
  },
  {
   "cell_type": "code",
   "execution_count": 34,
   "id": "63c7cafb",
   "metadata": {},
   "outputs": [],
   "source": [
    "import heapq\n",
    "\n",
    "def ksmallestElements(arr,k):\n",
    "    q = arr[:k]\n",
    "    heapq._heapify_max(q)\n",
    "    for i in range(k, len(arr)):\n",
    "        if arr[i] < q[0]:\n",
    "            heapq._heapreplace_max(q, arr[i])\n",
    "    \n",
    "    return q"
   ]
  },
  {
   "cell_type": "code",
   "execution_count": 35,
   "id": "353d6b1a",
   "metadata": {},
   "outputs": [
    {
     "data": {
      "text/plain": [
       "[3, 2, 1, 1]"
      ]
     },
     "execution_count": 35,
     "metadata": {},
     "output_type": "execute_result"
    }
   ],
   "source": [
    "ksmallestElements([1,4,3,2,5,6,4,7,1],4)"
   ]
  },
  {
   "cell_type": "markdown",
   "id": "5567f924",
   "metadata": {},
   "source": [
    "### --------------------------------------------------------------------------------------------------------------------------------------------------------------"
   ]
  },
  {
   "cell_type": "code",
   "execution_count": 36,
   "id": "e8ebb467",
   "metadata": {},
   "outputs": [],
   "source": [
    "# You are given with an integer k and an array of integers that contain numbers in random order. \n",
    "# Write a program to find k smallest numbers from given array. You need to save them in an array and return it.\n",
    "# Time complexity should be O(n * logk) and space complexity should not be more than O(k).\n",
    "# Note: Order of elements in the output is not important."
   ]
  },
  {
   "cell_type": "code",
   "execution_count": 37,
   "id": "038ab7b6",
   "metadata": {},
   "outputs": [],
   "source": [
    "import heapq\n",
    "\n",
    "def kLargestElements(arr, k):\n",
    "    q = arr[:k]\n",
    "    heapq.heapify(q)\n",
    "    for i in range(k, len(arr)):\n",
    "        if arr[i] > q[0]:\n",
    "            heapq.heapreplace(q, arr[i])\n",
    "    \n",
    "    return q"
   ]
  },
  {
   "cell_type": "code",
   "execution_count": 38,
   "id": "38093914",
   "metadata": {},
   "outputs": [
    {
     "data": {
      "text/plain": [
       "[4, 5, 6, 7]"
      ]
     },
     "execution_count": 38,
     "metadata": {},
     "output_type": "execute_result"
    }
   ],
   "source": [
    "kLargestElements([1,4,3,2,5,6,4,7,1],4)"
   ]
  },
  {
   "cell_type": "code",
   "execution_count": null,
   "id": "4e4f078e",
   "metadata": {},
   "outputs": [],
   "source": [
    "def kLargestElements(lst, k):\n",
    "    q = lst[:k]\n",
    "    heapq.heapify(q)\n",
    "    for i in range(k, len(lst)):\n",
    "        if lst[i] > q[0]:\n",
    "            heapq.heapreplace(q, lst[i])\n",
    "    \n",
    "    return q"
   ]
  },
  {
   "cell_type": "markdown",
   "id": "8b44bd49",
   "metadata": {},
   "source": [
    "### --------------------------------------------------------------------------------------------------------------------------------------------------------------"
   ]
  },
  {
   "cell_type": "code",
   "execution_count": 39,
   "id": "32decc8e",
   "metadata": {},
   "outputs": [],
   "source": [
    "# Given an array of integers, check whether it represents max-heap or not. \n",
    "# Return true if the given array represents max-heap, else return false."
   ]
  },
  {
   "cell_type": "code",
   "execution_count": 40,
   "id": "c2dad4cc",
   "metadata": {},
   "outputs": [],
   "source": [
    "def checkMaxHeap(arr):\n",
    "    l = len(arr)\n",
    "    for i in range(l):\n",
    "        p_index = i\n",
    "        c1_index, c2_index = (2*p_index)+1, (2*p_index)+2\n",
    "        if c2_index < l:\n",
    "            if (arr[p_index] < arr[c1_index]) or (arr[p_index] < arr[c2_index]):\n",
    "                return False\n",
    "        elif c1_index < l:\n",
    "            if (arr[p_index] < arr[c1_index]):\n",
    "                return False\n",
    "    return True"
   ]
  },
  {
   "cell_type": "markdown",
   "id": "8e2985e1",
   "metadata": {},
   "source": [
    "### --------------------------------------------------------------------------------------------------------------------------------------------------------------"
   ]
  },
  {
   "cell_type": "code",
   "execution_count": 41,
   "id": "9ed7175e",
   "metadata": {},
   "outputs": [],
   "source": [
    "# Given an array A of random integers and an integer k, find and return the kth largest element in the array.\n",
    "# Note: Try to do this question in less than O(N * logN) time."
   ]
  },
  {
   "cell_type": "code",
   "execution_count": 48,
   "id": "f9c92f87",
   "metadata": {},
   "outputs": [],
   "source": [
    "import heapq\n",
    "\n",
    "def kLargestElement(arr, k):\n",
    "    l = len(arr)\n",
    "    q = arr[:k]\n",
    "    heapq.heapify(q)\n",
    "    for i in range(k,l):\n",
    "        if arr[i] > q[0]:\n",
    "            heapq.heapreplace(q, arr[i])\n",
    "    \n",
    "    ans = q[0]\n",
    "\n",
    "    return ans"
   ]
  },
  {
   "cell_type": "code",
   "execution_count": 49,
   "id": "db2dd45c",
   "metadata": {},
   "outputs": [
    {
     "data": {
      "text/plain": [
       "5"
      ]
     },
     "execution_count": 49,
     "metadata": {},
     "output_type": "execute_result"
    }
   ],
   "source": [
    "kLargestElement([1,2,3,4,5,6,7],3)"
   ]
  },
  {
   "cell_type": "markdown",
   "id": "948f8bac",
   "metadata": {},
   "source": [
    "### --------------------------------------------------------------------------------------------------------------------------------------------------------------"
   ]
  },
  {
   "cell_type": "code",
   "execution_count": null,
   "id": "0d00cf70",
   "metadata": {},
   "outputs": [],
   "source": [
    "# You want to buy a ticket for a well-known concert which is happening in your city. \n",
    "# But the number of tickets available is limited. Hence the sponsors of the concert decided to sell tickets to \n",
    "# customers based on some priority.\n",
    "\n",
    "# A queue is maintained for buying the tickets and every person is attached with a priority (an integer, 1 being the \n",
    "# lowest priority).\n",
    "# The tickets are sold in the following manner -\n",
    "# 1. The first person (pi) in the queue requests for the ticket.\n",
    "# 2. If there is another person present in the queue who has higher priority than pi, then ask pi to move at end of the queue without giving him the ticket.\n",
    "# 3. Otherwise, give him the ticket (and don't make him stand in queue again).\n",
    "# Giving a ticket to a person takes exactly 1 second and it takes no time for removing and adding a person to the queue. \n",
    "# And you can assume that no new person joins the queue.\n",
    "# Given a list of priorities of N persons standing in the queue and the index of your priority (indexing starts from 0). \n",
    "# Find and return the time it will take until you get the ticket."
   ]
  },
  {
   "attachments": {
    "buy3.PNG": {
     "image/png": "[encoded data removed]"
    }
   },
   "cell_type": "markdown",
   "id": "111c7081",
   "metadata": {},
   "source": [
    "![buy3.PNG](attachment:buy3.PNG)"
   ]
  },
  {
   "attachments": {
    "buy4.PNG": {
     "image/png": "[encoded data removed]"
    }
   },
   "cell_type": "markdown",
   "id": "16d5d2e5",
   "metadata": {},
   "source": [
    "![buy4.PNG](attachment:buy4.PNG)"
   ]
  },
  {
   "cell_type": "code",
   "execution_count": 74,
   "id": "a60880ff",
   "metadata": {},
   "outputs": [],
   "source": [
    "import heapq as heap\n",
    "\n",
    "def buyTicket(arr, n, k):\n",
    "    index = [x for x in range(n)]\n",
    "    pq = [x for x in arr]\n",
    "    heap._heapify_max(pq)\n",
    "    count = 0\n",
    "    while True:\n",
    "        if arr[index[0]] < pq[0]:\n",
    "            ele = index.pop(0)\n",
    "            index.append(ele)\n",
    "        elif arr[index[0]] == pq[0] and index[0] != k:\n",
    "            index.pop(0)\n",
    "            heap._heappop_max(pq)\n",
    "            count += 1\n",
    "        else:\n",
    "            count += 1\n",
    "            break\n",
    "    \n",
    "    return count\n",
    "            "
   ]
  },
  {
   "cell_type": "code",
   "execution_count": 75,
   "id": "aee77c78",
   "metadata": {},
   "outputs": [
    {
     "data": {
      "text/plain": [
       "2"
      ]
     },
     "execution_count": 75,
     "metadata": {},
     "output_type": "execute_result"
    }
   ],
   "source": [
    "arr = [3,9,4]\n",
    "n = 3\n",
    "k = 2\n",
    "buyTicket(arr,3,2)"
   ]
  },
  {
   "cell_type": "markdown",
   "id": "727f8eac",
   "metadata": {},
   "source": [
    "### --------------------------------------------------------------------------------------------------------------------------------------------------------------"
   ]
  }
 ],
 "metadata": {
  "kernelspec": {
   "display_name": "Python 3 (ipykernel)",
   "language": "python",
   "name": "python3"
  },
  "language_info": {
   "codemirror_mode": {
    "name": "ipython",
    "version": 3
   },
   "file_extension": ".py",
   "mimetype": "text/x-python",
   "name": "python",
   "nbconvert_exporter": "python",
   "pygments_lexer": "ipython3",
   "version": "3.9.12"
  }
 },
 "nbformat": 4,
 "nbformat_minor": 5
}
