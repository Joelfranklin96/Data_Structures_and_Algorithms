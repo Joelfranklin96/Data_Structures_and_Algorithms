{
 "cells": [
  {
   "cell_type": "code",
   "execution_count": 1,
   "id": "d494e5ed",
   "metadata": {},
   "outputs": [],
   "source": [
    "# Huffman Coding is for decompression of string\n",
    "\n",
    "# Characters with higher frequency will have more space than characters with lower frequency"
   ]
  },
  {
   "cell_type": "code",
   "execution_count": 2,
   "id": "ea1421f9",
   "metadata": {},
   "outputs": [],
   "source": [
    "# Different data structures in Huffman Coding\n",
    "\n",
    "# A HashMap to store frequencies\n",
    "# A tree\n",
    "# A MinHeap to store minimum frequency\n",
    "# A HashMap for character, bits\n",
    "\n",
    "# \"a\" -> 00\n",
    "# \"d\" -> 11\n",
    "# \"b\" -> 101\n",
    "# \"c\" -> 1001\n",
    "# \"x\" -> 10000\n",
    "\n",
    "# Please note that 0 and 1 are bits and not characters or integers\n",
    "\n",
    "# The codes above are prefix free codes because all these characters are leaf nodes. For example, if 'a' is 00 and 'a' is a leaf node,\n",
    "# then no other character can start with 00.\n",
    "# No node is below another node. The nodes are either on the right or left of each other."
   ]
  },
  {
   "cell_type": "code",
   "execution_count": 3,
   "id": "96519dbf",
   "metadata": {},
   "outputs": [],
   "source": [
    "# Implement HuffmanCoding"
   ]
  },
  {
   "cell_type": "code",
   "execution_count": 40,
   "id": "46744a4c",
   "metadata": {},
   "outputs": [],
   "source": [
    "import heapq\n",
    "import os\n",
    "\n",
    "class BinaryTreeNode:\n",
    "    def __init__(self, value, freq):\n",
    "        self.value = value\n",
    "        self.freq  = freq\n",
    "        self.left = None\n",
    "        self.right = None\n",
    "    \n",
    "    def __lt__(self, other):\n",
    "        return self.freq < other.freq\n",
    "    \n",
    "    def __gt__(self, other):\n",
    "        return self.freq > other.freq\n",
    "    \n",
    "    def __eq__(self, other):\n",
    "        return self.freq == other.freq\n",
    "\n",
    "class HuffmanCoding:\n",
    "    def __init__(self, path):\n",
    "        self.path = path\n",
    "        self.__heap = []\n",
    "        self.__codes = {}\n",
    "        self.__reverseCodes = {}\n",
    "    \n",
    "    def __make_frequency_dict(self, text):\n",
    "        \n",
    "        freq_dict = {}\n",
    "        for letter in text:\n",
    "            freq_dict[letter] = freq_dict.get(letter, 0) + 1\n",
    "        \n",
    "        return freq_dict\n",
    "    \n",
    "    def __buildHeap(self, freq_dict):\n",
    "        \n",
    "        for key in freq_dict:\n",
    "            value = freq_dict[key]\n",
    "            node = BinaryTreeNode(key, value)\n",
    "            heapq.heappush(self.__heap, node)\n",
    "    \n",
    "    def __buildTree(self):\n",
    "        while len(self.__heap) > 1:\n",
    "            node1 = heapq.heappop(self.__heap)\n",
    "            node2 = heapq.heappop(self.__heap)\n",
    "            freq = node1.freq + node2.freq\n",
    "            node3 = BinaryTreeNode(None, freq)\n",
    "            node3.left = node1\n",
    "            node3.right = node2\n",
    "            heapq.heappush(self.__heap, node3)\n",
    "        return\n",
    "    \n",
    "    def __buildCodesHelper(self, root, code):\n",
    "        \n",
    "        if root is None:\n",
    "            return\n",
    "        if root.value is not None:\n",
    "            self.__codes[root.value] = code\n",
    "            self.__reverseCodes[code] = root.value\n",
    "            return\n",
    "        self.__buildCodesHelper(root.left, code + \"0\")\n",
    "        self.__buildCodesHelper(root.right, code + \"1\")\n",
    "            \n",
    "    def __buildCodes(self):\n",
    "        root = heapq.heappop(self.__heap)\n",
    "        self.__buildCodesHelper(root, \"\")\n",
    "    \n",
    "    def __getEncodedText(self, text):\n",
    "        encoded_text = \"\"\n",
    "        for char in text:\n",
    "            encoded_text += self.__codes[char]\n",
    "        \n",
    "        return encoded_text\n",
    "        \n",
    "    def __getPaddedEncodedText(self, encoded_text):\n",
    "        l = len(encoded_text)\n",
    "        r = 8 - (l % 8)\n",
    "        padded_encoded_text = encoded_text + (\"0\"*r)\n",
    "        binary = \"{0:08b}\".format(r)\n",
    "        padded_encoded_text = binary + padded_encoded_text\n",
    "        return padded_encoded_text\n",
    "    \n",
    "    def __getBytesArray(self, padded_encoded_text):\n",
    "        bytes_array = []\n",
    "        for i in range(0, len(padded_encoded_text), 8):\n",
    "            byte = padded_encoded_text[i:i+8]\n",
    "            num = int(byte, 2)\n",
    "            bytes_array.append(num)\n",
    "        return bytes_array\n",
    "            \n",
    "    def compress(self):\n",
    "        \n",
    "        file_name, file_extention = os.path.splitext(self.path)\n",
    "        output_path = file_name + \".bin\"\n",
    "        \n",
    "        # 'r+' format is read and write. 'wb' is 'write in binary' format\n",
    "        with open(self.path, 'r+') as file, open(output_path, 'wb') as output:\n",
    "            text = file.read() # if you want to remove whitespace from both the left and right ends of the string, \n",
    "            # you can use the strip() method instead of rstrip(). If you only want to remove whitespace from the left end of the \n",
    "            # string, you can use the lstrip() method.\n",
    "            text = text.rstrip()\n",
    "            freq_dict = self.__make_frequency_dict(text)\n",
    "            self.__buildHeap(freq_dict)\n",
    "            self.__buildTree()\n",
    "            self.__buildCodes()\n",
    "            encoded_text = self.__getEncodedText(text)\n",
    "            padded_encoded_text = self.__getPaddedEncodedText(encoded_text)\n",
    "            bytes_array = self.__getBytesArray(padded_encoded_text)\n",
    "            final_bytes = bytes(bytes_array)\n",
    "            output.write(final_bytes)\n",
    "        \n",
    "        print(\"Compressed\")\n",
    "        return output_path\n",
    "    \n",
    "    def __removePadding(self, bit_string):\n",
    "        padding = bit_string[0:8]\n",
    "        padding_num = int(padding, 2)\n",
    "        actual_text = bit_string[8:(-1*padding_num)]\n",
    "        return actual_text\n",
    "    \n",
    "    def __decode(self, actual_text):\n",
    "        decoded_text = \"\"\n",
    "        current_bits = \"\"\n",
    "        for bit in actual_text:\n",
    "            current_bits += bit\n",
    "            if current_bits in self.__reverseCodes:\n",
    "                character = self.__reverseCodes[current_bits]\n",
    "                decoded_text += character\n",
    "                current_bits = \"\"\n",
    "            \n",
    "        return decoded_text\n",
    "    \n",
    "    # In decompress function, we read the binary file created by compress function and convert it into the \n",
    "    # actual decompressed original text\n",
    "    def decompress(self, input_path): # Here the input path is the path of the binary file created by compress function\n",
    "        filename, file_extention = os.path.splitext(self.path)\n",
    "        output_path = filename + \"_decompressed\" + \".txt\"\n",
    "        # 'rb' is read binary format\n",
    "        with open(input_path, 'rb') as file, open(output_path, 'w') as output:\n",
    "            bit_string = \"\"\n",
    "            byte = file.read(1) # Reads the first byte\n",
    "            while byte:\n",
    "                byte = ord(byte) # Gives the ascii value of the byte\n",
    "                bits = bin(byte)[2:].rjust(8, '0') # bin converts the number into the binary format\n",
    "                bit_string += bits\n",
    "                byte = file.read(1) # Reads the byte one by one. When the byte becomes null (reaches the end), the loop stops.\n",
    "            actual_text = self.__removePadding(bit_string)\n",
    "            decoded_text = self.__decode(actual_text)\n",
    "            output.write(decoded_text)\n",
    "        return"
   ]
  },
  {
   "cell_type": "code",
   "execution_count": 41,
   "id": "9cde67e5",
   "metadata": {},
   "outputs": [
    {
     "name": "stdout",
     "output_type": "stream",
     "text": [
      "Compressed\n"
     ]
    }
   ],
   "source": [
    "h = HuffmanCoding(\"sample.txt\")\n",
    "output_path = h.compress()\n",
    "h.decompress(output_path) # Here the output path is the path of the binary file created by compress function"
   ]
  },
  {
   "cell_type": "code",
   "execution_count": 18,
   "id": "ac6541e0",
   "metadata": {},
   "outputs": [
    {
     "data": {
      "text/plain": [
       "'0b101'"
      ]
     },
     "execution_count": 18,
     "metadata": {},
     "output_type": "execute_result"
    }
   ],
   "source": [
    "bin(5)"
   ]
  },
  {
   "cell_type": "code",
   "execution_count": 20,
   "id": "465bba3b",
   "metadata": {},
   "outputs": [
    {
     "data": {
      "text/plain": [
       "1"
      ]
     },
     "execution_count": 20,
     "metadata": {},
     "output_type": "execute_result"
    }
   ],
   "source": [
    "int('0001',2)"
   ]
  },
  {
   "cell_type": "code",
   "execution_count": 27,
   "id": "3fac8785",
   "metadata": {},
   "outputs": [
    {
     "data": {
      "text/plain": [
       "'grgrfgfg11111'"
      ]
     },
     "execution_count": 27,
     "metadata": {},
     "output_type": "execute_result"
    }
   ],
   "source": [
    "a = 'abvffdfrgrgrfgfg11111111'\n",
    "a[8:-3]"
   ]
  },
  {
   "cell_type": "code",
   "execution_count": 30,
   "id": "5c668dc7",
   "metadata": {},
   "outputs": [
    {
     "data": {
      "text/plain": [
       "True"
      ]
     },
     "execution_count": 30,
     "metadata": {},
     "output_type": "execute_result"
    }
   ],
   "source": [
    "a = {'a':5,'b':6,'c':\"10\"}\n",
    "a.get_key(5)\n"
   ]
  },
  {
   "cell_type": "code",
   "execution_count": 31,
   "id": "c4d9f2c1",
   "metadata": {},
   "outputs": [
    {
     "ename": "AttributeError",
     "evalue": "'dict' object has no attribute 'get_key'",
     "output_type": "error",
     "traceback": [
      "\u001b[1;31m---------------------------------------------------------------------------\u001b[0m",
      "\u001b[1;31mAttributeError\u001b[0m                            Traceback (most recent call last)",
      "Input \u001b[1;32mIn [31]\u001b[0m, in \u001b[0;36m<cell line: 1>\u001b[1;34m()\u001b[0m\n\u001b[1;32m----> 1\u001b[0m \u001b[43ma\u001b[49m\u001b[38;5;241;43m.\u001b[39;49m\u001b[43mget_key\u001b[49m(\u001b[38;5;241m5\u001b[39m)\n",
      "\u001b[1;31mAttributeError\u001b[0m: 'dict' object has no attribute 'get_key'"
     ]
    }
   ],
   "source": [
    "a.get_key(5)"
   ]
  },
  {
   "cell_type": "code",
   "execution_count": null,
   "id": "993b8fcd",
   "metadata": {},
   "outputs": [],
   "source": []
  }
 ],
 "metadata": {
  "kernelspec": {
   "display_name": "Python 3 (ipykernel)",
   "language": "python",
   "name": "python3"
  },
  "language_info": {
   "codemirror_mode": {
    "name": "ipython",
    "version": 3
   },
   "file_extension": ".py",
   "mimetype": "text/x-python",
   "name": "python",
   "nbconvert_exporter": "python",
   "pygments_lexer": "ipython3",
   "version": "3.9.12"
  }
 },
 "nbformat": 4,
 "nbformat_minor": 5
}
