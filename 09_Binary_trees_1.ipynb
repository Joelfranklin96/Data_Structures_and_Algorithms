{
 "cells": [
  {
   "cell_type": "code",
   "execution_count": 1,
   "id": "d256b299",
   "metadata": {},
   "outputs": [],
   "source": [
    "class BinaryTreeNode():\n",
    "    \n",
    "    def __init__(self,data):\n",
    "        \n",
    "        self.data = data\n",
    "        self.left = None\n",
    "        self.right = None"
   ]
  },
  {
   "cell_type": "code",
   "execution_count": 2,
   "id": "58891894",
   "metadata": {},
   "outputs": [],
   "source": [
    "btn1 = BinaryTreeNode(5)\n",
    "btn2 = BinaryTreeNode(6)\n",
    "btn3 = BinaryTreeNode(7)\n",
    "btn4 = BinaryTreeNode(8)\n",
    "btn5 = BinaryTreeNode(9)\n",
    "btn6 = BinaryTreeNode(10)\n",
    "btn7 = BinaryTreeNode(11)\n",
    "\n",
    "btn1.left = btn2\n",
    "btn1.right = btn3\n",
    "btn2.left = btn4\n",
    "btn2.right = btn5\n",
    "btn4.right = btn6\n",
    "btn3.left = btn7"
   ]
  },
  {
   "cell_type": "code",
   "execution_count": 3,
   "id": "4decd241",
   "metadata": {},
   "outputs": [],
   "source": [
    "# Write a program to print the elements of a binary tree"
   ]
  },
  {
   "cell_type": "code",
   "execution_count": 4,
   "id": "14722794",
   "metadata": {},
   "outputs": [],
   "source": [
    "def print_tree_1(root):\n",
    "    \n",
    "    if root == None:\n",
    "        return\n",
    "    \n",
    "    print(root.data)\n",
    "    print_tree_1(root.left)\n",
    "    print_tree_1(root.right)"
   ]
  },
  {
   "cell_type": "code",
   "execution_count": 5,
   "id": "5cc19b16",
   "metadata": {},
   "outputs": [
    {
     "name": "stdout",
     "output_type": "stream",
     "text": [
      "5\n",
      "6\n",
      "8\n",
      "10\n",
      "9\n",
      "7\n",
      "11\n"
     ]
    }
   ],
   "source": [
    "print_tree_1(btn1)"
   ]
  },
  {
   "cell_type": "code",
   "execution_count": 6,
   "id": "3fe0c4d5",
   "metadata": {},
   "outputs": [],
   "source": [
    "def print_tree_2(root):\n",
    "    \n",
    "    print(root.data)\n",
    "    if root.left is not None:\n",
    "        print_tree_2(root.left)\n",
    "    if root.right is not None:\n",
    "        print_tree_2(root.right)"
   ]
  },
  {
   "cell_type": "code",
   "execution_count": 7,
   "id": "3157770b",
   "metadata": {},
   "outputs": [
    {
     "name": "stdout",
     "output_type": "stream",
     "text": [
      "5\n",
      "6\n",
      "8\n",
      "10\n",
      "9\n",
      "7\n",
      "11\n"
     ]
    }
   ],
   "source": [
    "print_tree_2(btn1)"
   ]
  },
  {
   "cell_type": "code",
   "execution_count": 102,
   "id": "98df10d7",
   "metadata": {},
   "outputs": [],
   "source": [
    "def print_tree_detailed_1(root):\n",
    "    \n",
    "    if root == None:\n",
    "        \n",
    "        return\n",
    "    \n",
    "    if root.left is not None and root.right is not None:\n",
    "        print(str(root.data) + \" : \" + \"L \" + str(root.left.data) + \", \" + \"R \" + str(root.right.data))\n",
    "        print_tree_detailed_1(root.left)\n",
    "        print_tree_detailed_1(root.right)\n",
    "    \n",
    "    elif root.left is not None:\n",
    "        print(str(root.data) + \" : \" + \"L \" + str(root.left.data))\n",
    "        print_tree_detailed_1(root.left)\n",
    "        print_tree_detailed_1(root.right)\n",
    "        \n",
    "    elif root.right is not None:\n",
    "        print(str(root.data) + \" : \" + \"R \" + str(root.right.data))\n",
    "        print_tree_detailed_1(root.left)\n",
    "        print_tree_detailed_1(root.right)\n",
    "    \n",
    "    else:\n",
    "        print(str(root.data) + \" : \")\n",
    "        print_tree_detailed_1(root.left)\n",
    "        print_tree_detailed_1(root.right)"
   ]
  },
  {
   "cell_type": "code",
   "execution_count": 103,
   "id": "0efac007",
   "metadata": {},
   "outputs": [
    {
     "name": "stdout",
     "output_type": "stream",
     "text": [
      "5 : L 6, R 7\n",
      "6 : L 8, R 9\n",
      "8 : R 10\n",
      "10 : \n",
      "9 : \n",
      "7 : L 11\n",
      "11 : \n"
     ]
    }
   ],
   "source": [
    "print_tree_detailed_1(btn1)"
   ]
  },
  {
   "cell_type": "code",
   "execution_count": 104,
   "id": "dffe7560",
   "metadata": {},
   "outputs": [],
   "source": [
    "def print_tree_detailed_2(root):\n",
    "    \n",
    "    if root is None:\n",
    "        return\n",
    "    print(root.data, end = \" : \")\n",
    "    if root.left is not None:\n",
    "        print(\"L \" + str(root.left.data), end = \", \")\n",
    "    if root.right is not None:\n",
    "        print(\"R \" + str(root.right.data), end = \"\")\n",
    "    print()\n",
    "    print_tree_detailed_2(root.left)\n",
    "    print_tree_detailed_2(root.right)"
   ]
  },
  {
   "cell_type": "code",
   "execution_count": 105,
   "id": "1d0b3505",
   "metadata": {},
   "outputs": [
    {
     "name": "stdout",
     "output_type": "stream",
     "text": [
      "5 : L 6, R 7\n",
      "6 : L 8, R 9\n",
      "8 : R 10\n",
      "10 : \n",
      "9 : \n",
      "7 : L 11, \n",
      "11 : \n"
     ]
    }
   ],
   "source": [
    "print_tree_detailed_2(btn1)"
   ]
  },
  {
   "cell_type": "markdown",
   "id": "10a70d83",
   "metadata": {},
   "source": [
    "### --------------------------------------------------------------------------------------------------------------------------------------------------------------"
   ]
  },
  {
   "cell_type": "code",
   "execution_count": 83,
   "id": "b49efcf1",
   "metadata": {},
   "outputs": [],
   "source": [
    "# Write a program that takes binary tree elements as input from the user and returns the root"
   ]
  },
  {
   "cell_type": "code",
   "execution_count": 84,
   "id": "9bc24bea",
   "metadata": {},
   "outputs": [],
   "source": [
    "def binary_tree_input():\n",
    "    \n",
    "    root_data = int(input())\n",
    "    if root_data == -1:\n",
    "        return None\n",
    "    \n",
    "    root = BinaryTreeNode(root_data)\n",
    "    root.left = binary_tree_input()\n",
    "    root.right = binary_tree_input()\n",
    "    \n",
    "    return root"
   ]
  },
  {
   "cell_type": "code",
   "execution_count": 96,
   "id": "3cfcd456",
   "metadata": {},
   "outputs": [
    {
     "name": "stdout",
     "output_type": "stream",
     "text": [
      "1\n",
      "2\n",
      "4\n",
      "-1\n",
      "-1\n",
      "5\n",
      "-1\n",
      "-1\n",
      "3\n",
      "-1\n",
      "7\n",
      "-1\n",
      "-1\n"
     ]
    }
   ],
   "source": [
    "a = binary_tree_input()"
   ]
  },
  {
   "cell_type": "code",
   "execution_count": 97,
   "id": "9e42bdcd",
   "metadata": {},
   "outputs": [
    {
     "name": "stdout",
     "output_type": "stream",
     "text": [
      "1 : L 2, R 3\n",
      "2 : L 4, R 5\n",
      "4 : \n",
      "5 : \n",
      "3 : R 7\n",
      "7 : \n"
     ]
    }
   ],
   "source": [
    "print_tree_detailed_2(a)"
   ]
  },
  {
   "cell_type": "markdown",
   "id": "d171842c",
   "metadata": {},
   "source": [
    "### --------------------------------------------------------------------------------------------------------------------------------------------------------------"
   ]
  },
  {
   "cell_type": "code",
   "execution_count": 99,
   "id": "b78c29d9",
   "metadata": {},
   "outputs": [],
   "source": [
    "# Write a program to calculate number of nodes in a binary tree"
   ]
  },
  {
   "cell_type": "code",
   "execution_count": 106,
   "id": "422138bc",
   "metadata": {},
   "outputs": [],
   "source": [
    "def number_of_nodes(root):\n",
    "    \n",
    "    if root is None:\n",
    "        return 0\n",
    "    return 1 + number_of_nodes(root.left) + number_of_nodes(root.right)"
   ]
  },
  {
   "cell_type": "code",
   "execution_count": 107,
   "id": "b6243944",
   "metadata": {},
   "outputs": [
    {
     "name": "stdout",
     "output_type": "stream",
     "text": [
      "6\n"
     ]
    }
   ],
   "source": [
    "print(number_of_nodes(a))"
   ]
  },
  {
   "cell_type": "markdown",
   "id": "f125d7ba",
   "metadata": {},
   "source": [
    "### --------------------------------------------------------------------------------------------------------------------------------------------------------------"
   ]
  },
  {
   "cell_type": "code",
   "execution_count": 108,
   "id": "303c232a",
   "metadata": {},
   "outputs": [],
   "source": [
    "# Write a program to calculate the sum of all nodes in a binary tree"
   ]
  },
  {
   "cell_type": "code",
   "execution_count": 110,
   "id": "c8b40664",
   "metadata": {},
   "outputs": [],
   "source": [
    "def sum_of_nodes(root):\n",
    "    \n",
    "    if root is None:\n",
    "        return 0\n",
    "    return root.data + sum_of_nodes(root.left) + sum_of_nodes(root.right)"
   ]
  },
  {
   "cell_type": "code",
   "execution_count": 111,
   "id": "98373dfd",
   "metadata": {},
   "outputs": [
    {
     "name": "stdout",
     "output_type": "stream",
     "text": [
      "22\n"
     ]
    }
   ],
   "source": [
    "print(sum_of_nodes(a))"
   ]
  },
  {
   "cell_type": "code",
   "execution_count": 123,
   "id": "5e50fea7",
   "metadata": {},
   "outputs": [
    {
     "name": "stdout",
     "output_type": "stream",
     "text": [
      "5\n",
      "6\n",
      "8\n",
      "-1\n",
      "10\n",
      "-1\n",
      "-1\n",
      "9\n",
      "-1\n",
      "-1\n",
      "7\n",
      "11\n",
      "-1\n",
      "-1\n",
      "-1\n"
     ]
    }
   ],
   "source": [
    "b = binary_tree_input()"
   ]
  },
  {
   "cell_type": "code",
   "execution_count": 112,
   "id": "b05807a8",
   "metadata": {},
   "outputs": [],
   "source": [
    "# Write a program to print the preorder traversal of a binary tree"
   ]
  },
  {
   "cell_type": "code",
   "execution_count": 116,
   "id": "38177b0a",
   "metadata": {},
   "outputs": [],
   "source": [
    "def preorder_traversal(root):\n",
    "    \n",
    "    if root is None:\n",
    "        return\n",
    "    print(root.data)\n",
    "    preorder_traversal(root.left)\n",
    "    preorder_traversal(root.right)"
   ]
  },
  {
   "cell_type": "code",
   "execution_count": 124,
   "id": "87bced52",
   "metadata": {},
   "outputs": [
    {
     "name": "stdout",
     "output_type": "stream",
     "text": [
      "5\n",
      "6\n",
      "8\n",
      "10\n",
      "9\n",
      "7\n",
      "11\n"
     ]
    }
   ],
   "source": [
    "preorder_traversal(b)"
   ]
  },
  {
   "cell_type": "code",
   "execution_count": 125,
   "id": "58e86b99",
   "metadata": {},
   "outputs": [],
   "source": [
    "# Write a program to print the postorder traversal of a binary tree"
   ]
  },
  {
   "cell_type": "code",
   "execution_count": 127,
   "id": "485120bd",
   "metadata": {},
   "outputs": [],
   "source": [
    "def postorder_traversal(root):\n",
    "    \n",
    "    if root is None:\n",
    "        return\n",
    "    postorder_traversal(root.left)\n",
    "    postorder_traversal(root.right)\n",
    "    print(root.data)"
   ]
  },
  {
   "cell_type": "code",
   "execution_count": 128,
   "id": "f6ed21d8",
   "metadata": {},
   "outputs": [
    {
     "name": "stdout",
     "output_type": "stream",
     "text": [
      "10\n",
      "8\n",
      "9\n",
      "6\n",
      "11\n",
      "7\n",
      "5\n"
     ]
    }
   ],
   "source": [
    "postorder_traversal(b)"
   ]
  },
  {
   "cell_type": "code",
   "execution_count": 129,
   "id": "ec6a7587",
   "metadata": {},
   "outputs": [],
   "source": [
    "# Write a program to print the inorder traversal of a binary tree"
   ]
  },
  {
   "cell_type": "code",
   "execution_count": 130,
   "id": "f72d22ff",
   "metadata": {},
   "outputs": [],
   "source": [
    "def inorder_traversal(root):\n",
    "    \n",
    "    if root is None:\n",
    "        return\n",
    "    \n",
    "    inorder_traversal(root.left)\n",
    "    print(root.data)\n",
    "    inorder_traversal(root.right)"
   ]
  },
  {
   "cell_type": "code",
   "execution_count": 131,
   "id": "c1d48102",
   "metadata": {},
   "outputs": [
    {
     "name": "stdout",
     "output_type": "stream",
     "text": [
      "8\n",
      "10\n",
      "6\n",
      "9\n",
      "5\n",
      "11\n",
      "7\n"
     ]
    }
   ],
   "source": [
    "inorder_traversal(b)"
   ]
  },
  {
   "cell_type": "markdown",
   "id": "5bbee210",
   "metadata": {},
   "source": [
    "### --------------------------------------------------------------------------------------------------------------------------------------------------------------"
   ]
  },
  {
   "cell_type": "code",
   "execution_count": 132,
   "id": "0be47669",
   "metadata": {},
   "outputs": [],
   "source": [
    "# Write a program to print the largest node of a binary tree"
   ]
  },
  {
   "cell_type": "code",
   "execution_count": 135,
   "id": "1fa75090",
   "metadata": {},
   "outputs": [],
   "source": [
    "def largest_element(root):\n",
    "    \n",
    "    if root == None:\n",
    "        return -100000\n",
    "    \n",
    "    return max(largest_element(root.left), root.data, largest_element(root.right))"
   ]
  },
  {
   "cell_type": "code",
   "execution_count": 136,
   "id": "8bce8a09",
   "metadata": {},
   "outputs": [
    {
     "data": {
      "text/plain": [
       "11"
      ]
     },
     "execution_count": 136,
     "metadata": {},
     "output_type": "execute_result"
    }
   ],
   "source": [
    "largest_element(b)"
   ]
  },
  {
   "cell_type": "markdown",
   "id": "787a1186",
   "metadata": {},
   "source": [
    "### --------------------------------------------------------------------------------------------------------------------------------------------------------------"
   ]
  },
  {
   "cell_type": "code",
   "execution_count": 137,
   "id": "3ece9c98",
   "metadata": {},
   "outputs": [],
   "source": [
    "# For a given a binary tree of integers and an integer X, \n",
    "# find and return the total number of nodes of the given binary tree which are having data greater than X."
   ]
  },
  {
   "cell_type": "code",
   "execution_count": 145,
   "id": "2f03e44c",
   "metadata": {},
   "outputs": [],
   "source": [
    "def nodes_greater_than_x(root,x):\n",
    "    \n",
    "    if root == None:\n",
    "        return 0\n",
    "    \n",
    "    return sum((nodes_greater_than_x(root.left,x), root.data>x, nodes_greater_than_x(root.right,x)))"
   ]
  },
  {
   "cell_type": "code",
   "execution_count": 146,
   "id": "7c34c5cc",
   "metadata": {},
   "outputs": [
    {
     "data": {
      "text/plain": [
       "4"
      ]
     },
     "execution_count": 146,
     "metadata": {},
     "output_type": "execute_result"
    }
   ],
   "source": [
    "nodes_greater_than_x(b,7)"
   ]
  },
  {
   "cell_type": "markdown",
   "id": "e9dfb469",
   "metadata": {},
   "source": [
    "### --------------------------------------------------------------------------------------------------------------------------------------------------------------"
   ]
  },
  {
   "cell_type": "code",
   "execution_count": 148,
   "id": "7f6386f8",
   "metadata": {},
   "outputs": [],
   "source": [
    "# Write a program to find the height of a given binary tree"
   ]
  },
  {
   "cell_type": "code",
   "execution_count": 153,
   "id": "00e93cf9",
   "metadata": {},
   "outputs": [],
   "source": [
    "def height(root):\n",
    "    \n",
    "    if root is None:\n",
    "        return 0\n",
    "    \n",
    "    return 1 + max(height(root.left), height(root.right))"
   ]
  },
  {
   "cell_type": "code",
   "execution_count": 154,
   "id": "b589a30a",
   "metadata": {},
   "outputs": [
    {
     "data": {
      "text/plain": [
       "4"
      ]
     },
     "execution_count": 154,
     "metadata": {},
     "output_type": "execute_result"
    }
   ],
   "source": [
    "height(b)"
   ]
  },
  {
   "cell_type": "markdown",
   "id": "f1704da4",
   "metadata": {},
   "source": [
    "### --------------------------------------------------------------------------------------------------------------------------------------------------------------"
   ]
  },
  {
   "cell_type": "code",
   "execution_count": 155,
   "id": "b8a8f73c",
   "metadata": {},
   "outputs": [],
   "source": [
    "# Write a program to find the number of leaf nodes in a binary tree"
   ]
  },
  {
   "cell_type": "code",
   "execution_count": 156,
   "id": "837abce0",
   "metadata": {},
   "outputs": [],
   "source": [
    "def leaf_nodes(root):\n",
    "    \n",
    "    if root is None:\n",
    "        return 0\n",
    "    \n",
    "    if root.left is None and root.right is None:\n",
    "        return 1\n",
    "    \n",
    "    return leaf_nodes(root.left) + leaf_nodes(root.right)"
   ]
  },
  {
   "cell_type": "code",
   "execution_count": 158,
   "id": "56f08b56",
   "metadata": {},
   "outputs": [
    {
     "data": {
      "text/plain": [
       "3"
      ]
     },
     "execution_count": 158,
     "metadata": {},
     "output_type": "execute_result"
    }
   ],
   "source": [
    "leaf_nodes(b)"
   ]
  },
  {
   "cell_type": "markdown",
   "id": "134c88da",
   "metadata": {},
   "source": [
    "### --------------------------------------------------------------------------------------------------------------------------------------------------------------"
   ]
  },
  {
   "cell_type": "code",
   "execution_count": 159,
   "id": "291981b4",
   "metadata": {},
   "outputs": [],
   "source": [
    "# Write a program to print all nodes at depth k"
   ]
  },
  {
   "cell_type": "code",
   "execution_count": 160,
   "id": "1747170a",
   "metadata": {},
   "outputs": [],
   "source": [
    "def nodes_depth(root,k):\n",
    "    \n",
    "    if root is None:\n",
    "        return\n",
    "    \n",
    "    if k == 0:\n",
    "        print(root.data)\n",
    "        return\n",
    "    \n",
    "    nodes_depth(root.left, k-1)\n",
    "    nodes_depth(root.right, k-1)"
   ]
  },
  {
   "cell_type": "code",
   "execution_count": 163,
   "id": "1707649b",
   "metadata": {},
   "outputs": [
    {
     "name": "stdout",
     "output_type": "stream",
     "text": [
      "8\n",
      "9\n",
      "11\n"
     ]
    }
   ],
   "source": [
    "nodes_depth(b,2)"
   ]
  },
  {
   "cell_type": "markdown",
   "id": "94e22d7f",
   "metadata": {},
   "source": [
    "### --------------------------------------------------------------------------------------------------------------------------------------------------------------"
   ]
  },
  {
   "cell_type": "code",
   "execution_count": 164,
   "id": "b77e4fde",
   "metadata": {},
   "outputs": [],
   "source": [
    "# For a given a Binary Tree of integers, replace each of its data with the depth of the tree.\n",
    "# Root is at depth 0, hence the root data is updated with 0. Replicate the same further going down the in the depth of the given tree.\n",
    "# The modified tree will be printed in the in-order fashion."
   ]
  },
  {
   "attachments": {
    "img1.png": {
     "image/png": "[encoded data removed]"
    }
   },
   "cell_type": "markdown",
   "id": "56e86137",
   "metadata": {},
   "source": [
    "![img1.png](attachment:img1.png)"
   ]
  },
  {
   "attachments": {
    "img2.png": {
     "image/png": "[encoded data removed]"
    }
   },
   "cell_type": "markdown",
   "id": "267f27f4",
   "metadata": {},
   "source": [
    "![img2.png](attachment:img2.png)"
   ]
  },
  {
   "cell_type": "code",
   "execution_count": 165,
   "id": "37698dac",
   "metadata": {},
   "outputs": [],
   "source": [
    "# Output: 2 1 2 0 2 1 2 (printed in the in-order fashion)"
   ]
  },
  {
   "cell_type": "code",
   "execution_count": 186,
   "id": "2b31fb60",
   "metadata": {},
   "outputs": [],
   "source": [
    "def replace_node_with_depth(root,k = 0):\n",
    "    \n",
    "    if root is None:\n",
    "        return\n",
    "    \n",
    "    replace_node_with_depth(root.left, k+1)\n",
    "    print(k, end = \" \")\n",
    "    replace_node_with_depth(root.right, k+1)"
   ]
  },
  {
   "cell_type": "code",
   "execution_count": 187,
   "id": "86d2073a",
   "metadata": {},
   "outputs": [
    {
     "name": "stdout",
     "output_type": "stream",
     "text": [
      "2 3 1 2 0 2 1 "
     ]
    }
   ],
   "source": [
    "replace_node_with_depth(b)"
   ]
  },
  {
   "cell_type": "markdown",
   "id": "7c1ea1e7",
   "metadata": {},
   "source": [
    "### --------------------------------------------------------------------------------------------------------------------------------------------------------------"
   ]
  },
  {
   "cell_type": "code",
   "execution_count": 188,
   "id": "e9eb05ff",
   "metadata": {},
   "outputs": [],
   "source": [
    "# Write a program to check if a number is present in the binary tree or not"
   ]
  },
  {
   "cell_type": "code",
   "execution_count": 197,
   "id": "52291962",
   "metadata": {},
   "outputs": [],
   "source": [
    "def check_number(root,x):\n",
    "    \n",
    "    if root is None:\n",
    "        return False\n",
    "    \n",
    "    if root.data == x:\n",
    "        return True\n",
    "    return check_number(root.left,x) or check_number(root.right,x)"
   ]
  },
  {
   "cell_type": "code",
   "execution_count": 198,
   "id": "c97a4153",
   "metadata": {},
   "outputs": [
    {
     "data": {
      "text/plain": [
       "True"
      ]
     },
     "execution_count": 198,
     "metadata": {},
     "output_type": "execute_result"
    }
   ],
   "source": [
    "check_number(b,10)"
   ]
  },
  {
   "cell_type": "markdown",
   "id": "d11e6bd8",
   "metadata": {},
   "source": [
    "### --------------------------------------------------------------------------------------------------------------------------------------------------------------"
   ]
  },
  {
   "cell_type": "code",
   "execution_count": 200,
   "id": "1abaf741",
   "metadata": {},
   "outputs": [],
   "source": [
    "# Write a program to print all the nodes with no siblings. \n",
    "# Node data in the left subtree will be printed first and then the right subtree."
   ]
  },
  {
   "cell_type": "code",
   "execution_count": 201,
   "id": "7d6847a5",
   "metadata": {},
   "outputs": [],
   "source": [
    "# In the above binary tree, the nodes 4 and 5 have no siblings"
   ]
  },
  {
   "attachments": {
    "img1.jpg": {
     "image/jpeg": "[encoded data removed]"
    }
   },
   "cell_type": "markdown",
   "id": "efc57bb5",
   "metadata": {},
   "source": [
    "![img1.jpg](attachment:img1.jpg)"
   ]
  },
  {
   "cell_type": "code",
   "execution_count": 204,
   "id": "4e408f65",
   "metadata": {},
   "outputs": [],
   "source": [
    "def no_sibling_node(root):\n",
    "    \n",
    "    if root is None:\n",
    "        return\n",
    "    \n",
    "    if root.left is None and root.right is None:\n",
    "        return\n",
    "    if root.left is None:\n",
    "        print(root.right.data)\n",
    "    if root.right is None:\n",
    "        print(root.left.data)\n",
    "        \n",
    "    no_sibling_node(root.left)\n",
    "    no_sibling_node(root.right)"
   ]
  },
  {
   "cell_type": "code",
   "execution_count": 205,
   "id": "a1ab36de",
   "metadata": {},
   "outputs": [
    {
     "name": "stdout",
     "output_type": "stream",
     "text": [
      "10\n",
      "11\n"
     ]
    }
   ],
   "source": [
    "no_sibling_node(b)"
   ]
  },
  {
   "cell_type": "markdown",
   "id": "a34d1497",
   "metadata": {},
   "source": [
    "### --------------------------------------------------------------------------------------------------------------------------------------------------------------"
   ]
  }
 ],
 "metadata": {
  "kernelspec": {
   "display_name": "Python 3 (ipykernel)",
   "language": "python",
   "name": "python3"
  },
  "language_info": {
   "codemirror_mode": {
    "name": "ipython",
    "version": 3
   },
   "file_extension": ".py",
   "mimetype": "text/x-python",
   "name": "python",
   "nbconvert_exporter": "python",
   "pygments_lexer": "ipython3",
   "version": "3.9.12"
  }
 },
 "nbformat": 4,
 "nbformat_minor": 5
}
