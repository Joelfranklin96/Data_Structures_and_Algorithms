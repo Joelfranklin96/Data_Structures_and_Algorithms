{
 "cells": [
  {
   "cell_type": "code",
   "execution_count": 2,
   "id": "fe879bdc",
   "metadata": {},
   "outputs": [],
   "source": [
    "class Node:\n",
    "    def __init__(self, data):\n",
    "        self.data = data\n",
    "        self.next = None"
   ]
  },
  {
   "cell_type": "code",
   "execution_count": null,
   "id": "25532663",
   "metadata": {},
   "outputs": [],
   "source": [
    "# Stacks have same entry and exit points\n",
    "# Queues have different entry and exit points"
   ]
  },
  {
   "cell_type": "code",
   "execution_count": 1,
   "id": "9ca705cf",
   "metadata": {},
   "outputs": [],
   "source": [
    "# Queue Operations\n",
    "\n",
    "# Push operation is called as 'Enqueue'\n",
    "# Pop operation is called as 'Dequeue'\n",
    "\n",
    "# 1) Enqueue()\n",
    "# 2) Dequeue()\n",
    "# 3) Size()\n",
    "# 4) is_empty()\n",
    "# 5) front()"
   ]
  },
  {
   "cell_type": "code",
   "execution_count": null,
   "id": "9d6d8903",
   "metadata": {},
   "outputs": [],
   "source": [
    "# In a Queue, elements are inserted into the rear end and deleted from the front end"
   ]
  },
  {
   "cell_type": "markdown",
   "id": "d454e267",
   "metadata": {},
   "source": [
    "### --------------------------------------------------------------------------------------------------------------------------------------------------------------"
   ]
  },
  {
   "cell_type": "code",
   "execution_count": 3,
   "id": "571d9883",
   "metadata": {},
   "outputs": [],
   "source": [
    "# Implement a Queue using an array"
   ]
  },
  {
   "cell_type": "code",
   "execution_count": 4,
   "id": "ae85c7b2",
   "metadata": {},
   "outputs": [],
   "source": [
    "class Queue:\n",
    "    def __init__(self):\n",
    "        self.data = []\n",
    "        self.count = 0\n",
    "        self.front = 0\n",
    "    \n",
    "    def enqueue(self, element):\n",
    "        self.data.append(element)\n",
    "        self.count += 1\n",
    "    \n",
    "    def dequeue(self):\n",
    "        if self.count == 0:\n",
    "            print(\"The queue is empty\")\n",
    "            return\n",
    "        else:\n",
    "            element = self.data[self.front]\n",
    "            self.front += 1\n",
    "            self.count -= 1\n",
    "            return element\n",
    "    \n",
    "    def front(self):\n",
    "        return self.data[self.front]\n",
    "    \n",
    "    def size(self):\n",
    "        return self.count\n",
    "    \n",
    "    def isEmpty(self):\n",
    "        return self.count == 0"
   ]
  },
  {
   "cell_type": "code",
   "execution_count": 5,
   "id": "0b233956",
   "metadata": {},
   "outputs": [
    {
     "name": "stdout",
     "output_type": "stream",
     "text": [
      "5\n",
      "6\n",
      "7\n"
     ]
    }
   ],
   "source": [
    "q = Queue()\n",
    "\n",
    "q.enqueue(5)\n",
    "q.enqueue(6)\n",
    "q.enqueue(7)\n",
    "\n",
    "while not q.isEmpty():\n",
    "    print(q.dequeue())"
   ]
  },
  {
   "cell_type": "markdown",
   "id": "0fc88ab9",
   "metadata": {},
   "source": [
    "### --------------------------------------------------------------------------------------------------------------------------------------------------------------"
   ]
  },
  {
   "cell_type": "code",
   "execution_count": 1,
   "id": "e2827a17",
   "metadata": {},
   "outputs": [],
   "source": [
    "# Implement a Queue using a linked list"
   ]
  },
  {
   "cell_type": "code",
   "execution_count": 10,
   "id": "a63cff7d",
   "metadata": {},
   "outputs": [],
   "source": [
    "class Queue:\n",
    "    def __init__(self):\n",
    "        self.head = None\n",
    "        self.tail = None\n",
    "        self.count = 0\n",
    "    \n",
    "    def enqueue(self, element):\n",
    "        if self.count == 0:\n",
    "            new_node = Node(element)\n",
    "            self.head = new_node\n",
    "        else:\n",
    "            new_node = Node(element)\n",
    "            self.tail.next = new_node\n",
    "        self.tail = new_node\n",
    "        self.count += 1\n",
    "    \n",
    "    def dequeue(self):\n",
    "        if self.count == 0:\n",
    "            print(\"The Queue is empty\")\n",
    "            return\n",
    "        else:\n",
    "            element = self.head.data\n",
    "            self.head = self.head.next\n",
    "            self.count -= 1\n",
    "            return element\n",
    "    \n",
    "    def front(self):\n",
    "        if self.count == 0:\n",
    "            return -1\n",
    "        return self.head.data\n",
    "    \n",
    "    def size(self):\n",
    "        return self.count\n",
    "    \n",
    "    def isEmpty(self):\n",
    "        return self.count == 0"
   ]
  },
  {
   "cell_type": "code",
   "execution_count": 11,
   "id": "4aee020b",
   "metadata": {},
   "outputs": [
    {
     "name": "stdout",
     "output_type": "stream",
     "text": [
      "5\n",
      "6\n",
      "7\n"
     ]
    }
   ],
   "source": [
    "q = Queue()\n",
    "\n",
    "q.enqueue(5)\n",
    "q.enqueue(6)\n",
    "q.enqueue(7)\n",
    "\n",
    "while not q.isEmpty():\n",
    "    print(q.dequeue())"
   ]
  },
  {
   "cell_type": "markdown",
   "id": "2b81c43f",
   "metadata": {},
   "source": [
    "### --------------------------------------------------------------------------------------------------------------------------------------------------------------"
   ]
  },
  {
   "cell_type": "code",
   "execution_count": 13,
   "id": "772a67fc",
   "metadata": {},
   "outputs": [],
   "source": [
    "# For in-built stack, we can use 'List' of python. The 'List' can be called as in-built stack.\n",
    "\n",
    "# For Queue, we have an in built library 'Queue' provided by python 3 onwards"
   ]
  },
  {
   "cell_type": "code",
   "execution_count": 14,
   "id": "adba8e39",
   "metadata": {},
   "outputs": [
    {
     "name": "stdout",
     "output_type": "stream",
     "text": [
      "5\n",
      "6\n",
      "7\n"
     ]
    }
   ],
   "source": [
    "import queue\n",
    "\n",
    "q = queue.Queue()\n",
    "q.put(5)\n",
    "q.put(6)\n",
    "q.put(7)\n",
    "\n",
    "while not q.empty():\n",
    "    print(q.get())"
   ]
  },
  {
   "cell_type": "code",
   "execution_count": 15,
   "id": "dd532406",
   "metadata": {},
   "outputs": [],
   "source": [
    "# In built stack"
   ]
  },
  {
   "cell_type": "code",
   "execution_count": 16,
   "id": "5fa9db43",
   "metadata": {},
   "outputs": [
    {
     "name": "stdout",
     "output_type": "stream",
     "text": [
      "7\n",
      "6\n",
      "5\n"
     ]
    }
   ],
   "source": [
    "q = queue.LifoQueue()\n",
    "q.put(5)\n",
    "q.put(6)\n",
    "q.put(7)\n",
    "\n",
    "while not q.empty():\n",
    "    print(q.get())"
   ]
  },
  {
   "cell_type": "markdown",
   "id": "18707d3e",
   "metadata": {},
   "source": [
    "### --------------------------------------------------------------------------------------------------------------------------------------------------------------"
   ]
  },
  {
   "cell_type": "code",
   "execution_count": 18,
   "id": "ce929d08",
   "metadata": {},
   "outputs": [],
   "source": [
    "# Implement a Queue using 2 stacks where either 'Enqueue' should be O(1) and 'Dequeue' should be O(n) OR \n",
    "# 'Enqueue' should be O(n) and 'Dequeue' should be O(1)"
   ]
  },
  {
   "cell_type": "code",
   "execution_count": 72,
   "id": "0163b758",
   "metadata": {},
   "outputs": [],
   "source": [
    "# Queue using 2 stacks where 'Enqueue' is O(1) and 'Dequeue' is O(n). Here 'Front' is O(n)\n",
    "\n",
    "# Doubt don't know why 'Front' is O(n). I have also coded 'Front' as O(1)\n",
    "\n",
    "class QueueUsing2Stacks:\n",
    "    def __init__(self):\n",
    "        self.s1 = []\n",
    "        self.s2 = []\n",
    "        self.count = 0\n",
    "    \n",
    "    def enqueue(self, element):\n",
    "        self.s1.append(element)\n",
    "        self.count += 1\n",
    "    \n",
    "    def dequeue(self):\n",
    "        if self.count == 0:\n",
    "            print(\"The Queue is empty\")\n",
    "            return\n",
    "        else:\n",
    "            temp = self.count\n",
    "            while temp > 1:\n",
    "                ele = self.s1.pop()\n",
    "                self.s2.append(ele)\n",
    "                temp -= 1\n",
    "            self.count -= 1\n",
    "            result = self.s1.pop()\n",
    "            \n",
    "            while self.s2:\n",
    "                ele = self.s2.pop()\n",
    "                self.s1.append(ele)\n",
    "            return result\n",
    "    \n",
    "    def front(self):\n",
    "        if self.count == 0:\n",
    "            print(\"The Queue is empty\")\n",
    "            return\n",
    "        else:\n",
    "            temp = self.count\n",
    "            while temp > 1:\n",
    "                ele = self.s1.pop()\n",
    "                self.s2.append(ele)\n",
    "                temp -= 1\n",
    "            self.count -= 1\n",
    "            result = self.s1[0]\n",
    "            \n",
    "            while self.s2:\n",
    "                ele = self.s2.pop()\n",
    "                self.s1.append(ele)\n",
    "            return result\n",
    "    \n",
    "    '''\n",
    "    def front(self):\n",
    "        if self.count == 0:\n",
    "            print(\"The Queue is empty\")\n",
    "            return\n",
    "        else:\n",
    "            result = self.s1[0]\n",
    "            return result\n",
    "    '''\n",
    "            \n",
    "    def isEmpty(self):\n",
    "        return self.count == 0\n",
    "    \n",
    "    def size(self):\n",
    "        return self.count"
   ]
  },
  {
   "cell_type": "code",
   "execution_count": 73,
   "id": "69af84d3",
   "metadata": {},
   "outputs": [
    {
     "data": {
      "text/plain": [
       "5"
      ]
     },
     "execution_count": 73,
     "metadata": {},
     "output_type": "execute_result"
    }
   ],
   "source": [
    "q = QueueUsing2Stacks()\n",
    "\n",
    "q.enqueue(5)\n",
    "q.enqueue(6)\n",
    "q.enqueue(7)\n",
    "\n",
    "q.front()"
   ]
  },
  {
   "cell_type": "code",
   "execution_count": 62,
   "id": "1e887f98",
   "metadata": {},
   "outputs": [],
   "source": [
    "# Queue using 2 Stacks where 'Enqueue' is O(n) and 'Dequeue' is O(1). Here 'Front' is O(1)\n",
    "\n",
    "class QueueUsing2Stacks:\n",
    "    def __init__(self):\n",
    "        self.s1 = []\n",
    "        self.s2 = []\n",
    "        self.count = 0\n",
    "    \n",
    "    def enqueue(self, element):\n",
    "        \n",
    "        while self.s1:\n",
    "            ele = self.s1.pop()\n",
    "            self.s2.append(ele)\n",
    "        self.s1.append(element)\n",
    "\n",
    "        while self.s2:\n",
    "            ele = self.s2.pop()\n",
    "            self.s1.append(ele)\n",
    "        self.count += 1\n",
    "    \n",
    "    def dequeue(self):\n",
    "        if self.count == 0:\n",
    "            print(\"The queue is empty\")\n",
    "            return\n",
    "        self.count -= 1\n",
    "        return self.s1.pop()\n",
    "    \n",
    "    def front(self):\n",
    "        if self.count == 0:\n",
    "            print(\"The queue is empty\")\n",
    "            return\n",
    "        return self.s1[self.count-1]\n",
    "    \n",
    "    def size(self):\n",
    "        return self.count\n",
    "    \n",
    "    def isEmpty(self):\n",
    "        return self.count == 0"
   ]
  },
  {
   "cell_type": "code",
   "execution_count": 65,
   "id": "f3fc6691",
   "metadata": {},
   "outputs": [
    {
     "name": "stdout",
     "output_type": "stream",
     "text": [
      "5\n",
      "6\n",
      "7\n",
      "The queue is empty\n"
     ]
    }
   ],
   "source": [
    "q = QueueUsing2Stacks()\n",
    "\n",
    "q.enqueue(5)\n",
    "q.enqueue(6)\n",
    "q.enqueue(7)\n",
    "\n",
    "while not q.isEmpty():\n",
    "    print(q.dequeue())\n",
    "    \n",
    "q.front()"
   ]
  },
  {
   "cell_type": "code",
   "execution_count": 6,
   "id": "ac5e6b7e",
   "metadata": {},
   "outputs": [],
   "source": [
    "# Implement a stack using 2 Queues where push operation is in O(1) complexity and top and pop operations are in O(n) complexity"
   ]
  },
  {
   "cell_type": "code",
   "execution_count": null,
   "id": "4ae1b323",
   "metadata": {},
   "outputs": [],
   "source": [
    "import queue\n",
    "\n",
    "class Stackusing2Queues:\n",
    "    def __init__(self):\n",
    "        self.q1 = queue.Queue()\n",
    "        self.q2 = queue.Queue()\n",
    "        self.count = 0\n",
    "    \n",
    "    def push(self, element):\n",
    "        self.q1.put(element)\n",
    "        self.count += 1\n",
    "    \n",
    "    def pop(self):\n",
    "        if self.count == 0:\n",
    "            print(\"The Stack is empty\")\n",
    "            return\n",
    "        else:\n",
    "            temp = self.count\n",
    "            while temp > 1:\n",
    "                ele = self.q1.get()\n",
    "                self.q2.put(ele)\n",
    "                temp -= 1\n",
    "            \n",
    "            result = self.q1.get()\n",
    "            self.count -= 1\n",
    "            \n",
    "            while not self.q2.empty():\n",
    "                ele = self.q2.get()\n",
    "                self.q1.put(ele)\n",
    "            return result\n",
    "        \n",
    "    def top(self):\n",
    "        if self.count == 0:\n",
    "            print(\"The Stack is empty\")\n",
    "            return\n",
    "        else:\n",
    "            temp = self.count\n",
    "            while temp > 1:\n",
    "                ele = self.q1.get()\n",
    "                self.q2.put(ele)\n",
    "                temp -= 1\n",
    "\n",
    "            result = self.q1.queue[0]\n",
    "            self.q2.put(self.q1.get())\n",
    "            while not self.q2.empty():\n",
    "                ele = self.q2.get()\n",
    "                self.q1.put(ele)\n",
    "            return result\n",
    "    \n",
    "    def isEmpty(self):\n",
    "        return self.count == 0\n",
    "    \n",
    "    def size(self):\n",
    "        return self.count     "
   ]
  },
  {
   "cell_type": "code",
   "execution_count": 32,
   "id": "26f3baf4",
   "metadata": {},
   "outputs": [],
   "source": [
    "# Implement a stack using 2 Queues where push operation is in O(n) complexity and top and pop operations are in O(1) complexity"
   ]
  },
  {
   "cell_type": "code",
   "execution_count": 33,
   "id": "ad841b66",
   "metadata": {},
   "outputs": [],
   "source": [
    "import queue\n",
    "\n",
    "class Stackusing2Queues:\n",
    "    def __init__(self):\n",
    "        self.q1 = queue.Queue()\n",
    "        self.q2 = queue.Queue()\n",
    "        self.count = 0\n",
    "    \n",
    "    def push(self, element):\n",
    "        while not self.q1.empty():\n",
    "            ele = self.q1.get()\n",
    "            self.q2.put(ele)\n",
    "\n",
    "        self.q1.put(element)\n",
    "        self.count += 1\n",
    "\n",
    "        while not self.q2.empty():\n",
    "            ele = self.q2.get()\n",
    "            self.q1.put(ele)\n",
    "    \n",
    "    def get(self):\n",
    "        if self.count == 0:\n",
    "            print(\"The Stack is empty\")\n",
    "            return\n",
    "        return self.q1.get()\n",
    "    \n",
    "    def top(self):\n",
    "        if self.count == 0:\n",
    "            print(\"The Stack is empty\")\n",
    "            return\n",
    "        return self.q1.queue[0]\n",
    "    \n",
    "    def isEmpty(self):\n",
    "        return self.count == 0\n",
    "    \n",
    "    def size(self):\n",
    "        return self.count == 0"
   ]
  },
  {
   "cell_type": "code",
   "execution_count": null,
   "id": "ee098a92",
   "metadata": {},
   "outputs": [],
   "source": [
    "# You have been given a queue that can store integers as the data. \n",
    "# You are required to write a function that reverses the populated queue itself without using any other data structures."
   ]
  },
  {
   "attachments": {
    "reverse%20queue.png": {
     "image/png": "[encoded data removed]"
    }
   },
   "cell_type": "markdown",
   "id": "0758319d",
   "metadata": {},
   "source": [
    "![reverse%20queue.png](attachment:reverse%20queue.png)"
   ]
  },
  {
   "attachments": {
    "reverse.png": {
     "image/png": "[encoded data removed]"
    }
   },
   "cell_type": "markdown",
   "id": "eb2c0e18",
   "metadata": {},
   "source": [
    "![reverse.png](attachment:reverse.png)"
   ]
  }
 ],
 "metadata": {
  "kernelspec": {
   "display_name": "Python 3 (ipykernel)",
   "language": "python",
   "name": "python3"
  },
  "language_info": {
   "codemirror_mode": {
    "name": "ipython",
    "version": 3
   },
   "file_extension": ".py",
   "mimetype": "text/x-python",
   "name": "python",
   "nbconvert_exporter": "python",
   "pygments_lexer": "ipython3",
   "version": "3.9.12"
  }
 },
 "nbformat": 4,
 "nbformat_minor": 5
}
