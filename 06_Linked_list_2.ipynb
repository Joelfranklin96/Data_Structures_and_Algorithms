{
 "cells": [
  {
   "cell_type": "code",
   "execution_count": 14,
   "id": "bb9e6f72",
   "metadata": {},
   "outputs": [],
   "source": [
    "class Node:\n",
    "    \n",
    "    def __init__(self,data):\n",
    "        \n",
    "        self.data = data\n",
    "        self.next = None\n",
    "\n",
    "def take_input():\n",
    "    \n",
    "    arr = [int(x) for x in input().split(\" \")]\n",
    "    y = 0\n",
    "    while arr[y] != -1:\n",
    "        if y == 0:\n",
    "            head = Node(arr[y])\n",
    "            y = y + 1\n",
    "        else:\n",
    "            node = head\n",
    "            while (node.next is not None):\n",
    "                node = node.next\n",
    "            node.next = Node(arr[y])\n",
    "            y = y + 1\n",
    "    return head"
   ]
  },
  {
   "cell_type": "code",
   "execution_count": 15,
   "id": "9b28e709",
   "metadata": {},
   "outputs": [],
   "source": [
    "def print_linked_list(head):\n",
    "    \n",
    "    while head is not None:\n",
    "        print(str(head.data) + '--> ', end = \"\")\n",
    "        head = head.next\n",
    "    \n",
    "    print(\"None\")"
   ]
  },
  {
   "cell_type": "code",
   "execution_count": 65,
   "id": "0e0a4973",
   "metadata": {},
   "outputs": [],
   "source": [
    "# Write a program to reverse a linked list. (COMMON INTERVIEW QUESTION)\n",
    "\n",
    "# Totally there are 4 solutions\n",
    "\n",
    "# 3 Recursive ( O(n^2), O(n), O(n) ) and 1 Iterative ()"
   ]
  },
  {
   "cell_type": "code",
   "execution_count": 3,
   "id": "a97375dd",
   "metadata": {},
   "outputs": [],
   "source": [
    "# Iterative appraoch\n",
    "\n",
    "def reverse_1(head):\n",
    "    \n",
    "    node = head\n",
    "    elements = []\n",
    "    \n",
    "    while node is not None:\n",
    "        elements.append(node.data)\n",
    "        node = node.next\n",
    "    \n",
    "    elements = elements[::-1]\n",
    "    \n",
    "    for x in range(len(elements)):\n",
    "        if x == 0:\n",
    "            head_reverse = Node(elements[x])\n",
    "        else:\n",
    "            node = head_reverse\n",
    "            while node.next is not None:\n",
    "                node = node.next\n",
    "            node.next = Node(elements[x])\n",
    "    return head_reverse\n",
    "\n",
    "# Time complexity = O(n^2)"
   ]
  },
  {
   "cell_type": "code",
   "execution_count": 4,
   "id": "690f2e53",
   "metadata": {},
   "outputs": [
    {
     "name": "stdout",
     "output_type": "stream",
     "text": [
      "3 4 5 6 7 8 -1\n",
      "8--> 7--> 6--> 5--> 4--> 3--> None\n"
     ]
    }
   ],
   "source": [
    "head = take_input()\n",
    "head2 = reverse_1(head)\n",
    "print_linked_list(head2)"
   ]
  },
  {
   "cell_type": "code",
   "execution_count": 5,
   "id": "29087059",
   "metadata": {},
   "outputs": [],
   "source": [
    "# Recursive approach No.1\n",
    "\n",
    "def reverse_2(head):\n",
    "\n",
    "    if head.next is None:\n",
    "        return head\n",
    "    \n",
    "    head_reverse = reverse_2(head.next)\n",
    "    temp = head_reverse\n",
    "    \n",
    "    while temp.next is not None:\n",
    "        temp = temp.next\n",
    "    \n",
    "    temp.next = head\n",
    "    head.next = None\n",
    "    \n",
    "    return head_reverse\n",
    "\n",
    "# Time complexity = O(n^2)"
   ]
  },
  {
   "cell_type": "code",
   "execution_count": 6,
   "id": "0c82d74a",
   "metadata": {},
   "outputs": [
    {
     "name": "stdout",
     "output_type": "stream",
     "text": [
      "3 4 5 6 7 8 -1\n",
      "8--> 7--> 6--> 5--> 4--> 3--> None\n"
     ]
    }
   ],
   "source": [
    "head = take_input()\n",
    "head2 = reverse_2(head)\n",
    "print_linked_list(head2)"
   ]
  },
  {
   "cell_type": "code",
   "execution_count": null,
   "id": "abfbda90",
   "metadata": {},
   "outputs": [],
   "source": [
    "# Recurrence Relation\n",
    "\n",
    "# T(n) = T(n-1) + k(n-1)\n",
    "\n",
    "# Time Complexity = O(n^2)"
   ]
  },
  {
   "cell_type": "code",
   "execution_count": 8,
   "id": "8697b7bd",
   "metadata": {},
   "outputs": [],
   "source": [
    "# Recursive approach No.2  \n",
    "\n",
    "def reverse_3(head):\n",
    "    \n",
    "    if head.next is None:\n",
    "        return head, head\n",
    "    \n",
    "    head_reverse, tail = reverse_3(head.next)\n",
    "    \n",
    "    tail.next = head\n",
    "    tail = tail.next\n",
    "    tail.next = None\n",
    "    \n",
    "    return head_reverse, tail\n",
    "    \n",
    "# Time complexity = O(n)"
   ]
  },
  {
   "cell_type": "code",
   "execution_count": 10,
   "id": "c0504c8b",
   "metadata": {},
   "outputs": [
    {
     "name": "stdout",
     "output_type": "stream",
     "text": [
      "3 4 5 6 7 8 -1\n",
      "8--> 7--> 6--> 5--> 4--> 3--> None\n"
     ]
    }
   ],
   "source": [
    "head = take_input()\n",
    "head2, tail = reverse_3(head)\n",
    "print_linked_list(head2)"
   ]
  },
  {
   "cell_type": "code",
   "execution_count": null,
   "id": "c068959c",
   "metadata": {},
   "outputs": [],
   "source": [
    "# Recurrence Relation\n",
    "\n",
    "# T(n) = T(n-1) + k1\n",
    "\n",
    "# Time complexity = O(n)"
   ]
  },
  {
   "cell_type": "code",
   "execution_count": 168,
   "id": "ee7ca400",
   "metadata": {},
   "outputs": [],
   "source": [
    "def reverse_4(head):\n",
    "\n",
    "    temp = None\n",
    "    forw = head\n",
    "    previous = None\n",
    "    \n",
    "    while forw is not None:\n",
    "        \n",
    "        previous = temp\n",
    "        temp = forw\n",
    "        forw = temp.next\n",
    "        temp.next = previous\n",
    "    \n",
    "    return temp"
   ]
  },
  {
   "cell_type": "code",
   "execution_count": 169,
   "id": "5f1e8ac0",
   "metadata": {},
   "outputs": [
    {
     "name": "stdout",
     "output_type": "stream",
     "text": [
      "1 2 3 4 5 6 7 8 -1\n",
      "8--> 7--> 6--> 5--> 4--> 3--> 2--> 1--> None\n"
     ]
    }
   ],
   "source": [
    "head = take_input()\n",
    "head2 = reverse_4(head)\n",
    "print_linked_list(head2)"
   ]
  },
  {
   "cell_type": "code",
   "execution_count": null,
   "id": "1408282d",
   "metadata": {},
   "outputs": [],
   "source": [
    "# Time Complexity = O(n)"
   ]
  },
  {
   "cell_type": "markdown",
   "id": "b7310bd2",
   "metadata": {},
   "source": [
    "### --------------------------------------------------------------------------------------------------------------------------------------------------------------"
   ]
  },
  {
   "cell_type": "code",
   "execution_count": null,
   "id": "39b8ba25",
   "metadata": {},
   "outputs": [],
   "source": [
    "# Write a program to find the mid point of a linked list"
   ]
  },
  {
   "cell_type": "code",
   "execution_count": 186,
   "id": "60982d87",
   "metadata": {},
   "outputs": [],
   "source": [
    "def mid_point_1(head):\n",
    "    \n",
    "    length = 0\n",
    "    temp = head\n",
    "    \n",
    "    while temp is not None:\n",
    "        temp = temp.next\n",
    "        length = length + 1\n",
    "    \n",
    "    mid = (length - 1)//2\n",
    "    count = 0\n",
    "    while count < mid:\n",
    "        head = head.next\n",
    "        count = count + 1\n",
    "    return head.data"
   ]
  },
  {
   "cell_type": "code",
   "execution_count": 189,
   "id": "be372486",
   "metadata": {},
   "outputs": [
    {
     "name": "stdout",
     "output_type": "stream",
     "text": [
      "1 2 3 4 5 -1\n",
      "3\n",
      "1 2 3 4 5 6 -1\n",
      "3\n"
     ]
    }
   ],
   "source": [
    "head_even = take_input()\n",
    "print(mid_point_1(head_even))\n",
    "\n",
    "head_odd = take_input()\n",
    "print(mid_point_1(head_odd))"
   ]
  },
  {
   "cell_type": "code",
   "execution_count": null,
   "id": "6a58bffa",
   "metadata": {},
   "outputs": [],
   "source": [
    "# Requires 2 passes through a linked list\n",
    "\n",
    "# Time Complexity = O(n)"
   ]
  },
  {
   "cell_type": "code",
   "execution_count": 23,
   "id": "115d1c03",
   "metadata": {},
   "outputs": [],
   "source": [
    "def mid_point_2(head):\n",
    "    \n",
    "    if head is None or head.next is None:\n",
    "        return head\n",
    "    \n",
    "    slow = head\n",
    "    fast = head\n",
    "    \n",
    "    while fast.next is not None and fast.next.next is not None:\n",
    "        fast = fast.next.next\n",
    "        slow = slow.next\n",
    "    return slow.data"
   ]
  },
  {
   "cell_type": "code",
   "execution_count": 203,
   "id": "19d01a8c",
   "metadata": {},
   "outputs": [
    {
     "name": "stdout",
     "output_type": "stream",
     "text": [
      "1 2 3 4 5 -1\n",
      "3\n",
      "1 2 3 4 5 6 -1\n",
      "3\n"
     ]
    }
   ],
   "source": [
    "head_even = take_input()\n",
    "print(mid_point_2(head_even))\n",
    "\n",
    "head_odd = take_input()\n",
    "print(mid_point_2(head_odd))"
   ]
  },
  {
   "cell_type": "markdown",
   "id": "9c6cb1b9",
   "metadata": {},
   "source": [
    "### --------------------------------------------------------------------------------------------------------------------------------------------------------------"
   ]
  },
  {
   "cell_type": "code",
   "execution_count": 204,
   "id": "343e8139",
   "metadata": {},
   "outputs": [],
   "source": [
    "# Write a program to merge 2 sorted linked lists"
   ]
  },
  {
   "cell_type": "code",
   "execution_count": 5,
   "id": "5fae2db3",
   "metadata": {},
   "outputs": [],
   "source": [
    "def merge_1(head1, head2):\n",
    "    \n",
    "    head  = None\n",
    "    node1 = head1\n",
    "    node2 = head2\n",
    "    \n",
    "    while node1 is not None and node2 is not None:\n",
    "        if head == None:\n",
    "            if node1.data < node2.data:\n",
    "                head = Node(node1.data)\n",
    "                node = head\n",
    "                node1 = node1.next\n",
    "            else:\n",
    "                head = Node(node2.data)\n",
    "                node = head\n",
    "                node2 = node2.next\n",
    "        else:\n",
    "            if node1.data < node2.data:\n",
    "                node.next = Node(node1.data)\n",
    "                node = node.next\n",
    "                node1 = node1.next\n",
    "            else:\n",
    "                node.next = Node(node2.data)\n",
    "                node = node.next\n",
    "                node2 = node2.next\n",
    "    \n",
    "    if node1 is None:\n",
    "        while node2 is not None:\n",
    "            node.next = Node(node2.data)\n",
    "            node = node.next\n",
    "            node2 = node2.next\n",
    "    else:\n",
    "        while node1 is not None:\n",
    "            node.next = Node(node1.data)\n",
    "            node = node.next\n",
    "            node1 = node1.next\n",
    "    return head"
   ]
  },
  {
   "cell_type": "code",
   "execution_count": 6,
   "id": "080be193",
   "metadata": {},
   "outputs": [
    {
     "name": "stdout",
     "output_type": "stream",
     "text": [
      "3 4 5 6 7 8 -1\n",
      "1 2 3 4 5 6 7 8 9 10 11 12 -1\n",
      "1--> 2--> 3--> 3--> 4--> 4--> 5--> 5--> 6--> 6--> 7--> 7--> 8--> 8--> 9--> 10--> 11--> 12--> None\n"
     ]
    }
   ],
   "source": [
    "head1 = take_input()\n",
    "head2 = take_input()\n",
    "head3 = merge_1(head1,head2)\n",
    "print_linked_list(head3)"
   ]
  },
  {
   "cell_type": "code",
   "execution_count": 9,
   "id": "623f31fb",
   "metadata": {},
   "outputs": [],
   "source": [
    "def merge_2(head1, head2):\n",
    "    \n",
    "    head = None\n",
    "    node1 = head1\n",
    "    node2 = head2\n",
    "    \n",
    "    while node1 is not None and node2 is not None:\n",
    "        if head == None:\n",
    "            if node1.data < node2.data:\n",
    "                head = node1\n",
    "                node = head\n",
    "                node1 = node1.next\n",
    "            else:\n",
    "                head = node2\n",
    "                node = head\n",
    "                node2 = node2.next\n",
    "        else:\n",
    "            if node1.data < node2.data:\n",
    "                node.next = node1\n",
    "                node = node.next\n",
    "                node1 = node1.next\n",
    "            else:\n",
    "                node.next = node2\n",
    "                node = node.next\n",
    "                node2 = node2.next\n",
    "                \n",
    "    if node1 is None:\n",
    "        node.next = node2\n",
    "    else:\n",
    "        node.next = node1\n",
    "    return head"
   ]
  },
  {
   "cell_type": "code",
   "execution_count": 8,
   "id": "c3adef2c",
   "metadata": {},
   "outputs": [
    {
     "name": "stdout",
     "output_type": "stream",
     "text": [
      "2 4 5 6 7 -1\n",
      "1 2 3 4 5 6 7 8 9 10 11 12 -1\n",
      "1--> 2--> 2--> 3--> 4--> 4--> 5--> 5--> 6--> 6--> 7--> 7--> 8--> 9--> 10--> 11--> 12--> None\n"
     ]
    }
   ],
   "source": [
    "head1 = take_input()\n",
    "head2 = take_input()\n",
    "head3 = merge_2(head1,head2)\n",
    "print_linked_list(head3)"
   ]
  },
  {
   "cell_type": "markdown",
   "id": "664db4e6",
   "metadata": {},
   "source": [
    "### --------------------------------------------------------------------------------------------------------------------------------------------------------------"
   ]
  },
  {
   "cell_type": "code",
   "execution_count": 19,
   "id": "0ef45681",
   "metadata": {},
   "outputs": [],
   "source": [
    "def mid_point(head):\n",
    "    \n",
    "    if head is None or head.next is None:\n",
    "        return head\n",
    "    \n",
    "    slow = head\n",
    "    fast = head\n",
    "    \n",
    "    while fast.next is not None and fast.next.next is not None:\n",
    "        slow = slow.next\n",
    "        fast = fast.next.next\n",
    "    \n",
    "    return slow.data"
   ]
  },
  {
   "cell_type": "code",
   "execution_count": 20,
   "id": "d7cc67ef",
   "metadata": {},
   "outputs": [
    {
     "name": "stdout",
     "output_type": "stream",
     "text": [
      "3 5 6 7 8 -1\n"
     ]
    },
    {
     "data": {
      "text/plain": [
       "6"
      ]
     },
     "execution_count": 20,
     "metadata": {},
     "output_type": "execute_result"
    }
   ],
   "source": [
    "head = take_input()\n",
    "mid_point(head)"
   ]
  },
  {
   "cell_type": "code",
   "execution_count": 224,
   "id": "35135f74",
   "metadata": {},
   "outputs": [],
   "source": [
    "# Merge Sort on a linked list "
   ]
  },
  {
   "cell_type": "code",
   "execution_count": 10,
   "id": "102bc024",
   "metadata": {},
   "outputs": [],
   "source": [
    "def mid_point(head):\n",
    "    \n",
    "    if head is None or head.next is None:\n",
    "        return head\n",
    "    \n",
    "    slow = head\n",
    "    fast = head\n",
    "    \n",
    "    while fast.next is not None and fast.next.next is not None:\n",
    "        fast = fast.next.next\n",
    "        slow = slow.next\n",
    "    return slow\n",
    "\n",
    "def merge_sort(head1):\n",
    "    \n",
    "    if head1 is None or head1.next is None:\n",
    "        return head1\n",
    "    \n",
    "    mid = mid_point(head1)\n",
    "    head2 = mid.next\n",
    "    mid.next = None\n",
    "    sorted_head1 = merge_sort(head1)\n",
    "    sorted_head2 = merge_sort(head2)\n",
    "    merged_head = merge_2(sorted_head1, sorted_head2)\n",
    "    return merged_head"
   ]
  },
  {
   "cell_type": "code",
   "execution_count": 11,
   "id": "0ae286a1",
   "metadata": {},
   "outputs": [
    {
     "name": "stdout",
     "output_type": "stream",
     "text": [
      "1 4 3 5 2 4 3 6 5 2 1 5 6 7 8 9 -1\n",
      "1--> 1--> 2--> 2--> 3--> 3--> 4--> 4--> 5--> 5--> 5--> 6--> 6--> 7--> 8--> 9--> None\n"
     ]
    }
   ],
   "source": [
    "head = take_input()\n",
    "sorted_head = merge_sort(head)\n",
    "print_linked_list(sorted_head)"
   ]
  },
  {
   "cell_type": "markdown",
   "id": "3775331a",
   "metadata": {},
   "source": [
    "### --------------------------------------------------------------------------------------------------------------------------------------------------------------"
   ]
  },
  {
   "cell_type": "code",
   "execution_count": 33,
   "id": "644bd22d",
   "metadata": {},
   "outputs": [],
   "source": [
    "# For a given singly linked list of integers, arrange the elements such that all the odd numbers are placed after \n",
    "# the even numbers. The relative order of the odd and even terms should remain unchanged."
   ]
  },
  {
   "cell_type": "code",
   "execution_count": 27,
   "id": "692e4bb5",
   "metadata": {},
   "outputs": [],
   "source": [
    "def even_odd(head):\n",
    "    \n",
    "    odd_head = None\n",
    "    even_head = None\n",
    "    node = head\n",
    "    while node.next is not None:\n",
    "        if node.data % 2 == 0:\n",
    "            if even_head == None:\n",
    "                even_head = node\n",
    "                even_tail = node\n",
    "            else:\n",
    "                even_tail.next = node\n",
    "                even_tail = even_tail.next\n",
    "        else:\n",
    "            if odd_head == None:\n",
    "                odd_head = node\n",
    "                odd_tail = node\n",
    "            else:\n",
    "                odd_tail.next = node\n",
    "                odd_tail = odd_tail.next\n",
    "        \n",
    "        node = node.next\n",
    "        \n",
    "    if node.data % 2 == 0:\n",
    "        \n",
    "        even_tail.next = node\n",
    "        even_tail = even_tail.next\n",
    "        odd_tail.next = None\n",
    "    \n",
    "    else:\n",
    "        \n",
    "        odd_tail.next = node\n",
    "        odd_tail = odd_tail.next\n",
    "        even_tail.next = None\n",
    "        \n",
    "    even_tail.next = odd_head\n",
    "    return even_head"
   ]
  },
  {
   "cell_type": "code",
   "execution_count": 29,
   "id": "ab524649",
   "metadata": {},
   "outputs": [
    {
     "name": "stdout",
     "output_type": "stream",
     "text": [
      "3 5 4 6 7 8 4 5 6 3 2 6 -1\n",
      "4--> 6--> 8--> 4--> 6--> 2--> 6--> 3--> 5--> 7--> 5--> 3--> None\n"
     ]
    }
   ],
   "source": [
    "head = take_input()\n",
    "head1 = even_odd(head)\n",
    "print_linked_list(head1)"
   ]
  },
  {
   "cell_type": "markdown",
   "id": "94d800d0",
   "metadata": {},
   "source": [
    "### --------------------------------------------------------------------------------------------------------------------------------------------------------------"
   ]
  },
  {
   "cell_type": "code",
   "execution_count": 41,
   "id": "a42f13fb",
   "metadata": {},
   "outputs": [],
   "source": [
    "#You have been given a singly linked list of integers along with two integers, 'i,' and 'j.' \n",
    "# Swap the nodes that are present at the 'i-th' and 'j-th' positions."
   ]
  },
  {
   "cell_type": "code",
   "execution_count": null,
   "id": "28a76ba0",
   "metadata": {},
   "outputs": [],
   "source": [
    "# The following solution doesn't hold for i = 0 or j = 0."
   ]
  },
  {
   "cell_type": "code",
   "execution_count": 42,
   "id": "4d2e26e0",
   "metadata": {},
   "outputs": [],
   "source": [
    "def swap_nodes(head, i, j) :\n",
    "    \n",
    "    if head is None:\n",
    "        return head\n",
    "    \n",
    "    if i == j:\n",
    "        return head\n",
    "    \n",
    "    count = 0\n",
    "    temp = head\n",
    "    \n",
    "    while count < i-1:\n",
    "        temp = temp.next\n",
    "        count = count + 1\n",
    "\n",
    "    i_previous_node = temp\n",
    "    i_node = temp.next\n",
    "    i_forw_node = temp.next.next\n",
    "    \n",
    "    count = 0\n",
    "    temp = head\n",
    "    \n",
    "    while count < j-1:\n",
    "        temp = temp.next\n",
    "        count = count + 1\n",
    "    \n",
    "    j_previous_node = temp\n",
    "    j_node = temp.next\n",
    "    j_forw_node = temp.next.next\n",
    "    \n",
    "    i_previous_node.next = j_node\n",
    "    j_node.next = i_forw_node\n",
    "    j_previous_node.next = i_node\n",
    "    i_node.next = j_forw_node\n",
    "    \n",
    "    return head"
   ]
  },
  {
   "cell_type": "code",
   "execution_count": 44,
   "id": "bc73f295",
   "metadata": {
    "scrolled": true
   },
   "outputs": [
    {
     "name": "stdout",
     "output_type": "stream",
     "text": [
      "4 3 6 5 2 7 8 3 4 8 -1\n",
      "4--> 2--> 6--> 5--> 3--> 7--> 8--> 3--> 4--> 8--> None\n"
     ]
    }
   ],
   "source": [
    "head = take_input()\n",
    "head1 = swap_nodes(head,0,4)\n",
    "print_linked_list(head1)"
   ]
  },
  {
   "cell_type": "markdown",
   "id": "7e6ab44d",
   "metadata": {},
   "source": [
    "### --------------------------------------------------------------------------------------------------------------------------------------------------------------"
   ]
  }
 ],
 "metadata": {
  "kernelspec": {
   "display_name": "Python 3 (ipykernel)",
   "language": "python",
   "name": "python3"
  },
  "language_info": {
   "codemirror_mode": {
    "name": "ipython",
    "version": 3
   },
   "file_extension": ".py",
   "mimetype": "text/x-python",
   "name": "python",
   "nbconvert_exporter": "python",
   "pygments_lexer": "ipython3",
   "version": "3.9.12"
  }
 },
 "nbformat": 4,
 "nbformat_minor": 5
}
