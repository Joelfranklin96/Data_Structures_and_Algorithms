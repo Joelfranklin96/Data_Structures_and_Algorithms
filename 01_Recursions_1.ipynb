{
 "cells": [
  {
   "cell_type": "code",
   "execution_count": 1,
   "id": "e437a038",
   "metadata": {},
   "outputs": [],
   "source": [
    "#Calculate the Factorial of a number using Recursion"
   ]
  },
  {
   "cell_type": "code",
   "execution_count": 2,
   "id": "2d9b4842",
   "metadata": {},
   "outputs": [],
   "source": [
    "def factorial(n):\n",
    "    \n",
    "    if n == 0:\n",
    "        return 1\n",
    "    else:\n",
    "        return n * factorial(n-1)  "
   ]
  },
  {
   "cell_type": "code",
   "execution_count": 3,
   "id": "13cedc15",
   "metadata": {},
   "outputs": [
    {
     "data": {
      "text/plain": [
       "120"
      ]
     },
     "execution_count": 3,
     "metadata": {},
     "output_type": "execute_result"
    }
   ],
   "source": [
    "factorial(5)"
   ]
  },
  {
   "cell_type": "code",
   "execution_count": 4,
   "id": "cfa31f7c",
   "metadata": {},
   "outputs": [],
   "source": [
    "#Calculate the sum of first n natural numbers using Recursion"
   ]
  },
  {
   "cell_type": "code",
   "execution_count": 5,
   "id": "c600c09b",
   "metadata": {},
   "outputs": [],
   "source": [
    "def sum(n):\n",
    "    \n",
    "    if n == 0:\n",
    "        return 0\n",
    "    else:\n",
    "        return n + sum(n-1)"
   ]
  },
  {
   "cell_type": "code",
   "execution_count": 6,
   "id": "7308b330",
   "metadata": {},
   "outputs": [
    {
     "name": "stdout",
     "output_type": "stream",
     "text": [
      "10\n",
      "15\n"
     ]
    }
   ],
   "source": [
    "print(sum(4))\n",
    "print(sum(5))"
   ]
  },
  {
   "cell_type": "code",
   "execution_count": 7,
   "id": "f8223e5e",
   "metadata": {},
   "outputs": [],
   "source": [
    "#Calculate a to the power of b using Recursion"
   ]
  },
  {
   "cell_type": "code",
   "execution_count": 8,
   "id": "86839c85",
   "metadata": {},
   "outputs": [],
   "source": [
    "def power(a,b):\n",
    "    if b == 0:\n",
    "        return 1\n",
    "    else:\n",
    "        return a*pow(a,b-1)"
   ]
  },
  {
   "cell_type": "code",
   "execution_count": 9,
   "id": "8c0e5652",
   "metadata": {},
   "outputs": [
    {
     "name": "stdout",
     "output_type": "stream",
     "text": [
      "81\n",
      "64\n",
      "216\n"
     ]
    }
   ],
   "source": [
    "print(power(3,4))\n",
    "print(power(4,3))\n",
    "print(power(6,3))"
   ]
  },
  {
   "cell_type": "code",
   "execution_count": 10,
   "id": "d74d0cd0",
   "metadata": {},
   "outputs": [],
   "source": [
    "#Print numbers 1 to n using Recursion"
   ]
  },
  {
   "cell_type": "code",
   "execution_count": 11,
   "id": "ec1a4c8b",
   "metadata": {},
   "outputs": [],
   "source": [
    "def f(b):\n",
    "    \n",
    "    if b == 1:\n",
    "        print(b)\n",
    "    else:\n",
    "        f(b-1)\n",
    "        print(b)"
   ]
  },
  {
   "cell_type": "code",
   "execution_count": 12,
   "id": "bfbde5ae",
   "metadata": {},
   "outputs": [
    {
     "name": "stdout",
     "output_type": "stream",
     "text": [
      "1\n",
      "2\n",
      "3\n",
      "4\n",
      "5\n"
     ]
    }
   ],
   "source": [
    "f(5)"
   ]
  },
  {
   "cell_type": "code",
   "execution_count": 13,
   "id": "d8f9af96",
   "metadata": {},
   "outputs": [],
   "source": [
    "#Print numbers n to 1 using Recursion"
   ]
  },
  {
   "cell_type": "code",
   "execution_count": 14,
   "id": "286b534f",
   "metadata": {},
   "outputs": [],
   "source": [
    "def f(b):\n",
    "    \n",
    "    if b == 1:\n",
    "        print(b)\n",
    "    else:\n",
    "        print(b)\n",
    "        f(b-1)"
   ]
  },
  {
   "cell_type": "code",
   "execution_count": 15,
   "id": "d017a10b",
   "metadata": {},
   "outputs": [
    {
     "name": "stdout",
     "output_type": "stream",
     "text": [
      "5\n",
      "4\n",
      "3\n",
      "2\n",
      "1\n"
     ]
    }
   ],
   "source": [
    "f(5)"
   ]
  },
  {
   "cell_type": "code",
   "execution_count": 16,
   "id": "20a24546",
   "metadata": {},
   "outputs": [],
   "source": [
    "#Find Fibonacci series with Recursion"
   ]
  },
  {
   "cell_type": "code",
   "execution_count": 1,
   "id": "1c7a8103",
   "metadata": {},
   "outputs": [],
   "source": [
    "def fibonacci_recursion(n):\n",
    "    \n",
    "\n",
    "    if n == 1 or n == 2:\n",
    "        return 1\n",
    "    else:\n",
    "        return fibonacci_recursion(n-1) + fibonacci_recursion(n-2)"
   ]
  },
  {
   "cell_type": "code",
   "execution_count": 2,
   "id": "09e1f714",
   "metadata": {},
   "outputs": [
    {
     "name": "stdout",
     "output_type": "stream",
     "text": [
      "1\n",
      "1\n",
      "2\n",
      "3\n",
      "5\n",
      "8\n"
     ]
    }
   ],
   "source": [
    "print(fibonacci_recursion(1))\n",
    "print(fibonacci_recursion(2))\n",
    "print(fibonacci_recursion(3))\n",
    "print(fibonacci_recursion(4))\n",
    "print(fibonacci_recursion(5))\n",
    "print(fibonacci_recursion(6))"
   ]
  },
  {
   "cell_type": "code",
   "execution_count": 19,
   "id": "a492c076",
   "metadata": {},
   "outputs": [],
   "source": [
    "#Find Fibonacci series without Recursion"
   ]
  },
  {
   "cell_type": "code",
   "execution_count": 3,
   "id": "3f369cce",
   "metadata": {},
   "outputs": [],
   "source": [
    "def fibonacci(n):\n",
    "    \n",
    "    a = [1,1]\n",
    "    \n",
    "    for i in range(2,n):\n",
    "        a.append(a[i-1] + a[i-2])\n",
    "    return a[-1]"
   ]
  },
  {
   "cell_type": "code",
   "execution_count": 4,
   "id": "79a88d4a",
   "metadata": {},
   "outputs": [
    {
     "name": "stdout",
     "output_type": "stream",
     "text": [
      "1\n",
      "1\n",
      "2\n",
      "3\n",
      "5\n",
      "8\n"
     ]
    }
   ],
   "source": [
    "print(fibonacci(1))\n",
    "print(fibonacci(2))\n",
    "print(fibonacci(3))\n",
    "print(fibonacci(4))\n",
    "print(fibonacci(5))\n",
    "print(fibonacci(6))"
   ]
  },
  {
   "cell_type": "code",
   "execution_count": 22,
   "id": "6121072b",
   "metadata": {},
   "outputs": [],
   "source": [
    "#Find whether the list is Sorted or not using Recursion"
   ]
  },
  {
   "cell_type": "code",
   "execution_count": 10,
   "id": "dd91cb53",
   "metadata": {},
   "outputs": [],
   "source": [
    "def is_sorted_1(a):\n",
    "    \n",
    "    if len(a) == 0 or len(a) == 1:\n",
    "        return True\n",
    "    else:\n",
    "        if (a[0] > a[1]):\n",
    "            return False\n",
    "        return is_sorted_1(a[1:])"
   ]
  },
  {
   "cell_type": "code",
   "execution_count": 11,
   "id": "face505a",
   "metadata": {},
   "outputs": [
    {
     "name": "stdout",
     "output_type": "stream",
     "text": [
      "True\n",
      "False\n"
     ]
    }
   ],
   "source": [
    "print(is_sorted_1([2,3,4,5,8,9]))\n",
    "print(is_sorted_1([2,3,14,5,8,9]))"
   ]
  },
  {
   "cell_type": "code",
   "execution_count": 25,
   "id": "42d35259",
   "metadata": {},
   "outputs": [],
   "source": [
    "def is_sorted_2(a):\n",
    "    \n",
    "    if len(a) == 0 or len(a) == 1:\n",
    "        return True\n",
    "    else:\n",
    "        c = a[0] < a[1]\n",
    "        d = is_sorted_2(a[1:])\n",
    "        return c and d"
   ]
  },
  {
   "cell_type": "code",
   "execution_count": 26,
   "id": "ce7654bb",
   "metadata": {},
   "outputs": [
    {
     "name": "stdout",
     "output_type": "stream",
     "text": [
      "True\n",
      "False\n"
     ]
    }
   ],
   "source": [
    "print(is_sorted_2([2,3,4,5,8,9]))\n",
    "print(is_sorted_2([2,3,4,5,8,9,3,13,14]))"
   ]
  },
  {
   "cell_type": "code",
   "execution_count": 27,
   "id": "3944910b",
   "metadata": {},
   "outputs": [],
   "source": [
    "def is_sorted_3(a,si):\n",
    "    \n",
    "    l = len(a)\n",
    "    \n",
    "    if si == l-1:\n",
    "        return True\n",
    "    \n",
    "    if a[si] > a[si + 1]:\n",
    "        return False\n",
    "    \n",
    "    return is_sorted_3(a,si+1)"
   ]
  },
  {
   "cell_type": "code",
   "execution_count": 28,
   "id": "706a38dd",
   "metadata": {},
   "outputs": [
    {
     "name": "stdout",
     "output_type": "stream",
     "text": [
      "True\n",
      "False\n",
      "True\n",
      "False\n"
     ]
    }
   ],
   "source": [
    "print(is_sorted_3([2,3,4,5,8,9],0))\n",
    "print(is_sorted_3([2,3,4,5,8,9,3,13,14],0))\n",
    "print(is_sorted_3([2,3,4,5,8,9],0))\n",
    "print(is_sorted_3([2,3,14,5,8,9],0))"
   ]
  },
  {
   "cell_type": "code",
   "execution_count": 29,
   "id": "f8432188",
   "metadata": {},
   "outputs": [],
   "source": [
    "#Find sum of an array using Recursion"
   ]
  },
  {
   "cell_type": "code",
   "execution_count": 14,
   "id": "c556b657",
   "metadata": {},
   "outputs": [],
   "source": [
    "def sum_array(arr):\n",
    "    \n",
    "    if arr == []:\n",
    "        return 0\n",
    "    return arr[0] + sum_array(arr[1:])"
   ]
  },
  {
   "cell_type": "code",
   "execution_count": 15,
   "id": "59198a63",
   "metadata": {},
   "outputs": [
    {
     "name": "stdout",
     "output_type": "stream",
     "text": [
      "6\n",
      "15\n",
      "30\n"
     ]
    }
   ],
   "source": [
    "print(sum_array([1,2,3]))\n",
    "print(sum_array([1,2,3,4,5]))\n",
    "print(sum_array([2,4,5,3,6,7,3]))"
   ]
  },
  {
   "cell_type": "code",
   "execution_count": 32,
   "id": "b64d61f6",
   "metadata": {},
   "outputs": [],
   "source": [
    "#Find whether the element is present in array or not using Recursion"
   ]
  },
  {
   "cell_type": "code",
   "execution_count": 33,
   "id": "659c695b",
   "metadata": {},
   "outputs": [],
   "source": [
    "def check_number(arr, x):\n",
    "    \n",
    "    if arr[0] == x:\n",
    "        return True\n",
    "    \n",
    "    if len(arr) == 1:\n",
    "        return False\n",
    "    \n",
    "    return check_number(arr[1:],x)"
   ]
  },
  {
   "cell_type": "code",
   "execution_count": 34,
   "id": "4d711b2f",
   "metadata": {},
   "outputs": [
    {
     "name": "stdout",
     "output_type": "stream",
     "text": [
      "True\n",
      "False\n",
      "True\n"
     ]
    }
   ],
   "source": [
    "print(check_number([1,4,5,3,6],4))\n",
    "print(check_number([1,4,5,3,6],2))\n",
    "print(check_number([1,4,5,3,6],5))"
   ]
  },
  {
   "cell_type": "code",
   "execution_count": 35,
   "id": "1777a660",
   "metadata": {},
   "outputs": [],
   "source": [
    "#Return the index of first occurence of number"
   ]
  },
  {
   "cell_type": "code",
   "execution_count": 36,
   "id": "296614dd",
   "metadata": {},
   "outputs": [],
   "source": [
    "def first_index_1(arr, x):\n",
    "    \n",
    "    if arr[0] == x:\n",
    "        return 0\n",
    "    \n",
    "    if len(arr) == 1:\n",
    "        return -1\n",
    "    \n",
    "    if first_index_1(arr[1:],x) == -1:\n",
    "        return -1\n",
    "    else:\n",
    "        return first_index_1(arr[1:],x) + 1\n",
    "\n",
    "# It's a good practice to replace firstIndex_1(arr[1:],x) = smaller_output so that we don't need to calculate\n",
    "# firstIndex_1(arr[1:],x) over and over again."
   ]
  },
  {
   "cell_type": "code",
   "execution_count": 37,
   "id": "0d742e70",
   "metadata": {},
   "outputs": [
    {
     "name": "stdout",
     "output_type": "stream",
     "text": [
      "3\n",
      "-1\n",
      "5\n",
      "4\n"
     ]
    }
   ],
   "source": [
    "print(first_index_1([1,3,4,5,5,8],5))\n",
    "print(first_index_1([1,3,4,5,5,8],6))\n",
    "print(first_index_1([1,3,4,5,5,8],8))\n",
    "print(first_index_1([1,3,4,5,6,8,6,3],6))"
   ]
  },
  {
   "cell_type": "code",
   "execution_count": 38,
   "id": "5c801153",
   "metadata": {},
   "outputs": [],
   "source": [
    "def first_index_2(arr,x,si):\n",
    "    \n",
    "    l = len(arr)\n",
    "    \n",
    "    if arr[si] == x:\n",
    "        return si\n",
    "    \n",
    "    if si == l-1:\n",
    "        return -1\n",
    "    \n",
    "    return first_index_2(arr,x,si+1)"
   ]
  },
  {
   "cell_type": "code",
   "execution_count": 39,
   "id": "492fe1cd",
   "metadata": {},
   "outputs": [
    {
     "name": "stdout",
     "output_type": "stream",
     "text": [
      "3\n",
      "-1\n",
      "5\n",
      "4\n"
     ]
    }
   ],
   "source": [
    "print(first_index_2([1,3,4,5,5,8],5,0))\n",
    "print(first_index_2([1,3,4,5,5,8],6,0))\n",
    "print(first_index_2([1,3,4,5,5,8],8,0))\n",
    "print(first_index_2([1,3,4,5,6,8,6,3],6,0))"
   ]
  },
  {
   "cell_type": "code",
   "execution_count": 40,
   "id": "620811be",
   "metadata": {},
   "outputs": [],
   "source": [
    "#Return the index of last occurence of number"
   ]
  },
  {
   "cell_type": "code",
   "execution_count": 41,
   "id": "72b28619",
   "metadata": {},
   "outputs": [],
   "source": [
    "def last_index_1(arr,x,si):\n",
    "    \n",
    "    if arr[si] == x:\n",
    "        return si\n",
    "    \n",
    "    if si == 0:\n",
    "        return -1\n",
    "    \n",
    "    return last_index_1(arr,x,si-1)"
   ]
  },
  {
   "cell_type": "code",
   "execution_count": 42,
   "id": "79014fc0",
   "metadata": {},
   "outputs": [
    {
     "name": "stdout",
     "output_type": "stream",
     "text": [
      "4\n",
      "-1\n",
      "5\n",
      "6\n"
     ]
    }
   ],
   "source": [
    "print(last_index_1([1,3,4,5,5,8],5,5))\n",
    "print(last_index_1([1,3,4,5,5,8],6,5))\n",
    "print(last_index_1([1,3,4,5,5,8],8,5))\n",
    "print(last_index_1([1,3,4,5,6,8,6,3],6,7))"
   ]
  },
  {
   "cell_type": "code",
   "execution_count": 20,
   "id": "2f74c33c",
   "metadata": {},
   "outputs": [],
   "source": [
    "def last_index_2(arr,x):\n",
    "    \n",
    "    if arr == []:\n",
    "        return -1\n",
    "    \n",
    "    if arr[0] == x and len(arr) == 1:\n",
    "        return 0\n",
    "    \n",
    "    if arr[0] == x and arr[0] != arr[1]:\n",
    "        return 0\n",
    "    \n",
    "    if last_index_2(arr[1:],x) == -1:\n",
    "        return -1\n",
    "    else:\n",
    "        return 1 + last_index_2(arr[1:],x)"
   ]
  },
  {
   "cell_type": "code",
   "execution_count": 21,
   "id": "9cc09d5d",
   "metadata": {},
   "outputs": [
    {
     "name": "stdout",
     "output_type": "stream",
     "text": [
      "4\n",
      "-1\n",
      "5\n",
      "4\n"
     ]
    }
   ],
   "source": [
    "print(last_index_2([1,3,4,5,5,8],5))\n",
    "print(last_index_2([1,3,4,5,5,8],6))\n",
    "print(last_index_2([1,3,4,5,5,8],8))\n",
    "print(last_index_2([1,3,4,5,6,8,6,3],6))"
   ]
  }
 ],
 "metadata": {
  "kernelspec": {
   "display_name": "Python 3 (ipykernel)",
   "language": "python",
   "name": "python3"
  },
  "language_info": {
   "codemirror_mode": {
    "name": "ipython",
    "version": 3
   },
   "file_extension": ".py",
   "mimetype": "text/x-python",
   "name": "python",
   "nbconvert_exporter": "python",
   "pygments_lexer": "ipython3",
   "version": "3.9.12"
  }
 },
 "nbformat": 4,
 "nbformat_minor": 5
}
