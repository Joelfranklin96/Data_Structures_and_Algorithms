{
 "cells": [
  {
   "cell_type": "code",
   "execution_count": null,
   "id": "ade4084e",
   "metadata": {},
   "outputs": [],
   "source": [
    "#-------------------------------------------------- QUESTION 1 Calculate exponential--------------------------------------------\n",
    "\n",
    "# Write a function to calculate a^n"
   ]
  },
  {
   "cell_type": "code",
   "execution_count": null,
   "id": "099e8032",
   "metadata": {},
   "outputs": [],
   "source": [
    "def pow(a,n):\n",
    "    \n",
    "    if n == 1:\n",
    "        return a\n",
    "    \n",
    "    small_power = pow(a,n//2)\n",
    "    \n",
    "    if n % 2 == 0:\n",
    "        return small_power * small_power\n",
    "    else:\n",
    "        return a * small_power * small_power"
   ]
  },
  {
   "cell_type": "code",
   "execution_count": null,
   "id": "6fcdf6bd",
   "metadata": {},
   "outputs": [],
   "source": [
    "# Time complexity = O(log n to the base 2)\n",
    "# Space complexity = O(log n to the base 2)"
   ]
  },
  {
   "cell_type": "code",
   "execution_count": null,
   "id": "1bc64457",
   "metadata": {},
   "outputs": [],
   "source": [
    "def pow(a,n):\n",
    "    \n",
    "    if n == 1:\n",
    "        return a\n",
    "    \n",
    "    small_power = pow(a,n//3)\n",
    "    \n",
    "    if n % 3 == 0:\n",
    "        return small_power * small_power * small_power\n",
    "    elif n % 3 == 1:\n",
    "        return a * small_power * small_power * small_power\n",
    "    else:\n",
    "        return a * a * small_power * small_power * small_power"
   ]
  },
  {
   "cell_type": "code",
   "execution_count": null,
   "id": "4daf06bc",
   "metadata": {},
   "outputs": [],
   "source": [
    "# Time complexity = O(log n to the base 3)\n",
    "# Space complexity = O(log n to the base 3)"
   ]
  },
  {
   "cell_type": "code",
   "execution_count": null,
   "id": "87cc2cd5",
   "metadata": {},
   "outputs": [],
   "source": [
    "pow(5,4)"
   ]
  },
  {
   "cell_type": "markdown",
   "id": "2952bf4e",
   "metadata": {},
   "source": [
    "-------------------------------------------------------------------------------------------------------------------------------"
   ]
  },
  {
   "cell_type": "code",
   "execution_count": 3,
   "id": "9a01bc11",
   "metadata": {},
   "outputs": [],
   "source": [
    "# -------------------------------------------QUESTION 2 Intersection_arrays-----------------------------------------------------\n",
    "\n",
    "# You have been given two integer arrays/list(ARR1 and ARR2) of size N and M, respectively. \n",
    "# You need to print their intersection; An intersection for this problem can be defined when \n",
    "# both the arrays/lists contain a particular value or to put it in other words, \n",
    "# when there is a common value that exists in both the arrays/lists.\n",
    "\n",
    "# Input arrays/lists can contain duplicate elements.\n",
    "\n",
    "# The intersection elements printed would be in the order they appear in the first sorted array/list(ARR1)."
   ]
  },
  {
   "cell_type": "code",
   "execution_count": 2,
   "id": "1c13ad2d",
   "metadata": {},
   "outputs": [],
   "source": [
    "def binary_search(arr,lo,hi,x):\n",
    "    \n",
    "    mid = (lo + hi)//2\n",
    "    \n",
    "    if len(arr) == 0:\n",
    "        return -1\n",
    "    \n",
    "    elif lo > hi:\n",
    "        return -1\n",
    "    \n",
    "    elif arr[mid] == x:\n",
    "        return mid\n",
    "    \n",
    "    elif arr[mid] > x:\n",
    "        hi = mid -1\n",
    "        return binary_search(arr,lo,hi,x)\n",
    "    \n",
    "    else:\n",
    "        lo = mid + 1\n",
    "        return binary_search(arr,lo,hi,x)\n",
    "\n",
    "def intersection_1(arr1, arr2) :\n",
    "    \n",
    "    arr1.sort()\n",
    "    arr2.sort()\n",
    "    arr3 = []\n",
    "    \n",
    "    for x in arr1:\n",
    "        l = len(arr2)\n",
    "        mid = binary_search(arr2,0,l-1,x)\n",
    "        if mid != -1:\n",
    "            arr3.append(x)\n",
    "            arr2.pop(mid)\n",
    "    \n",
    "    return arr3"
   ]
  },
  {
   "cell_type": "code",
   "execution_count": 3,
   "id": "6c941b31",
   "metadata": {},
   "outputs": [
    {
     "data": {
      "text/plain": [
       "[2, 3, 3, 4, 4, 4, 5, 5]"
      ]
     },
     "execution_count": 3,
     "metadata": {},
     "output_type": "execute_result"
    }
   ],
   "source": [
    "a = [3,5,4,2,1,5,4,4,3,2]\n",
    "b = [4,3,2,5,5,5,4,3,4]\n",
    "intersection_1(a,b)"
   ]
  },
  {
   "cell_type": "code",
   "execution_count": null,
   "id": "5fc72caf",
   "metadata": {},
   "outputs": [],
   "source": [
    "# Time complexity = k1(m*log m) (sorting first array) + k2(n*log n) (sorting second array) + k3(m*log n) ('for' loop)\n",
    "# Time complexity = O(m*log m + n*log n) \n",
    "\n",
    "###### Doubt - why do we omit (m*log n)\n",
    "\n",
    "# Note\n",
    "\n",
    "# No need to sort arr1 but it is given in the question that \n",
    "# the intersection elements printed would be in the order they appear in the first sorted array/list(ARR1).\n",
    "# So we sorted arr1 as well.\n",
    "\n",
    "# If we don't sort arr1, \n",
    "# Time complexity = k2(n*long n) (sorting second array) + k3(m*log n) ('for' loop)\n",
    "# Time complexity = O(n*log n + m*log n)\n",
    "\n",
    "# If we don't sort arr1, intersection_1 will be slightly better than intersection_2 because we can choose\n",
    "# which array (arr1 or arr2) we want to sort. We will sort the smaller array."
   ]
  },
  {
   "cell_type": "code",
   "execution_count": 1,
   "id": "78f21872",
   "metadata": {},
   "outputs": [],
   "source": [
    "def intersection_2(arr1, arr2):\n",
    "    \n",
    "    arr1.sort()\n",
    "    arr2.sort()\n",
    "    arr3 = []\n",
    "    \n",
    "    i = 0\n",
    "    j = 0\n",
    "    \n",
    "    while i < len(arr1) and j < len(arr2):\n",
    "        \n",
    "        if arr1[i] > arr2[j]:\n",
    "            j = j + 1\n",
    "        elif arr1[i] < arr2[j]:\n",
    "            i = i + 1\n",
    "        else:\n",
    "            arr3.append(arr1[i])\n",
    "            i = i + 1\n",
    "            j = j + 1\n",
    "    \n",
    "    return arr3"
   ]
  },
  {
   "cell_type": "code",
   "execution_count": 2,
   "id": "dedab45e",
   "metadata": {},
   "outputs": [
    {
     "data": {
      "text/plain": [
       "[2, 3, 3, 4, 4, 4, 5]"
      ]
     },
     "execution_count": 2,
     "metadata": {},
     "output_type": "execute_result"
    }
   ],
   "source": [
    "a = [3,5,4,2,1,5,4,4,3,2]\n",
    "b = [4,3,2,5,4,3,4]\n",
    "intersection_2(a,b)"
   ]
  },
  {
   "cell_type": "code",
   "execution_count": 3,
   "id": "c5b3930f",
   "metadata": {},
   "outputs": [],
   "source": [
    "# Time complexity = k1(m*log m) (sorting first array) + k2(n*log n) (sorting second array) + k3*(m + n) (while loop)\n",
    "\n",
    "# Time complexity = O(m*log m + n*log n)\n"
   ]
  },
  {
   "cell_type": "code",
   "execution_count": null,
   "id": "3435f1ef",
   "metadata": {},
   "outputs": [],
   "source": [
    "# Time complexity for first method using binary search while sorting second array = O(n*log n + m*log n)\n",
    "\n",
    "# Time complexity for second method using merge algorithm = O(m*log m + n*log n)\n",
    "\n",
    "# If m > n, then time complexity of first method is lesser than time complexity of second method.\n",
    "# In the first method, we have sorted the array of smaller size.\n",
    "# So in the first method, sort the array of smaller size so that time complexity of first method is lesser than\n",
    "# time complexity of second method."
   ]
  },
  {
   "cell_type": "code",
   "execution_count": 1,
   "id": "e3e8e7b3",
   "metadata": {},
   "outputs": [],
   "source": [
    "# For the time complexity of first method to be better than time complexity of second method, in the first method, we sort\n",
    "# the smaller array.\n",
    "\n",
    "# m corresponds to size of first array arr1 and n corresponds to size of second array arr2\n",
    "\n",
    "# if m > n, i.e first array is larger than second array,\n",
    "# then for the first method, we sort the second array.\n",
    "\n",
    "# Time complexity for first method using binary search while sorting second array = O(n*log n + m*log n)\n",
    "# Time complexity for second method using merge algorithm = O(m*log m + n*log n)\n",
    "# Here m > n, so time complexity of second method is greater than time complexity of first method,\n",
    "# which means first method is a little more efficient than second method.\n",
    "\n",
    "# if n > m, i.e second array is larger than first array,\n",
    "# then for the first method, we sort the first array.\n",
    "\n",
    "# Time complexity for first method using binary search while sorting first array = O(m*log m + n*log m)\n",
    "# Time complexity for second method using merge algorithm (will be same) = O(m*log m + n*log n)\n",
    "# Here n > m, so time complexity of second method is greater than time complexity of first method,\n",
    "# which means first method is a little more efficient than second method."
   ]
  },
  {
   "cell_type": "markdown",
   "id": "d53931ca",
   "metadata": {},
   "source": [
    "--------------------------------------------------------------------------------------------------------------------------------"
   ]
  },
  {
   "cell_type": "code",
   "execution_count": 2,
   "id": "434f0080",
   "metadata": {},
   "outputs": [],
   "source": [
    "# ---------------------------------------------QUESTION 3 Equilibrium_index-------------------------------------------------\n",
    "\n",
    "# For a given array/list(ARR) of size 'N,' find and return the 'Equilibrium Index' of the array/list.\n",
    "# Equilibrium Index of an array/list is an index 'i' such that the sum of elements at indices [0 to (i - 1)] \n",
    "# is equal to the sum of elements at indices [(i + 1) to (N-1)]. One thing to note here is, \n",
    "# the item at the index 'i' is not included in either part.\n",
    "# If more than one equilibrium indices are present, then the index appearing first in left to right fashion should be returned.\n",
    "# Negative one(-1) if no such index is present.\n",
    "\n",
    "# Let's consider an array/list Arr = [2, 3, 10, -10, 4, 2, 9]  of size, N = 7.\n",
    "\n",
    "# There exist two equilibrium indices, one at 2 and another at 3.\n",
    "\n",
    "# At index 2, the sum of all the elements to the left, [2 + 3] is 5, and the elements to its right, [-10 + 4 + 2 + 9] is also 5.\n",
    "# Hence index 2 is an equilibrium index according to the condition we want to achieve. \n",
    "# Mind it that we haven't included the item at index 2, which is 10, to either of the parts.\n",
    "\n",
    "# Similarly, we can see at index 3, the elements to its left sum up to 15 and to the right, sum up to 15 either. \n",
    "\n",
    "# Since index 2 comes early in the order, left to right, the answer would be 2."
   ]
  },
  {
   "cell_type": "code",
   "execution_count": 6,
   "id": "d02d8c0f",
   "metadata": {},
   "outputs": [],
   "source": [
    "# Non-optimized Solution"
   ]
  },
  {
   "cell_type": "code",
   "execution_count": 79,
   "id": "a721fa43",
   "metadata": {},
   "outputs": [],
   "source": [
    "def equilibrium_index(arr,n) :\n",
    "    \n",
    "    for x in range(n):\n",
    "        left = sum(arr[:x])\n",
    "        right = sum(arr[x+1:])\n",
    "        \n",
    "        if left == right:\n",
    "            return x\n",
    "    return -1"
   ]
  },
  {
   "cell_type": "code",
   "execution_count": 80,
   "id": "89cd9fed",
   "metadata": {},
   "outputs": [
    {
     "data": {
      "text/plain": [
       "2"
      ]
     },
     "execution_count": 80,
     "metadata": {},
     "output_type": "execute_result"
    }
   ],
   "source": [
    "arr = [2, 3, 10, -10, 4, 2, 9]\n",
    "equilibrium_index(arr,7)"
   ]
  },
  {
   "cell_type": "code",
   "execution_count": 27,
   "id": "5169cb74",
   "metadata": {},
   "outputs": [],
   "source": [
    "# Time complexity = O(n^2)\n",
    "# Space complexity = O(1)"
   ]
  },
  {
   "cell_type": "code",
   "execution_count": 28,
   "id": "981daba8",
   "metadata": {},
   "outputs": [],
   "source": [
    "# Optimized Solution"
   ]
  },
  {
   "cell_type": "code",
   "execution_count": 29,
   "id": "6ea6d620",
   "metadata": {},
   "outputs": [],
   "source": [
    "def equilibrium_index_1(arr) :\n",
    "    \n",
    "    for x in range(len(arr)):\n",
    "        if x == 0:\n",
    "            left = sum(arr[:x])\n",
    "            right = sum(arr[x+1:])\n",
    "        else:\n",
    "            left = left + arr[x-1]\n",
    "            right = right - arr[x]\n",
    "        if left == right:\n",
    "            return x\n",
    "    return -1"
   ]
  },
  {
   "cell_type": "code",
   "execution_count": 30,
   "id": "3e939f44",
   "metadata": {},
   "outputs": [
    {
     "data": {
      "text/plain": [
       "2"
      ]
     },
     "execution_count": 30,
     "metadata": {},
     "output_type": "execute_result"
    }
   ],
   "source": [
    "arr = [2, 3, 10, -10, 4, 2, 9]\n",
    "equilibrium_index_1(arr)"
   ]
  },
  {
   "cell_type": "code",
   "execution_count": 31,
   "id": "d0d5042f",
   "metadata": {},
   "outputs": [],
   "source": [
    "# Time complexity = O(n)\n",
    "# Space complexity = O(1)"
   ]
  },
  {
   "cell_type": "markdown",
   "id": "48487c7c",
   "metadata": {},
   "source": [
    "--------------------------------------------------------------------------------------------------------------------------------"
   ]
  },
  {
   "cell_type": "code",
   "execution_count": 32,
   "id": "6e9d66ab",
   "metadata": {},
   "outputs": [],
   "source": [
    "#--------------------------------------------Question 4 Find unique element------------------------------------------------------------\n",
    "\n",
    "# You have been given an integer array/list(ARR) of size N. Where N is equal to [2M + 1].\n",
    "# Now, in the given array/list, 'M' numbers are present twice and one number is present only once.\n",
    "# You need to find and return that number which is unique in the array/list.\n",
    "\n",
    "# Note\n",
    "\n",
    "# Unique element is always present in the array/list according to the given condition."
   ]
  },
  {
   "cell_type": "code",
   "execution_count": 33,
   "id": "8e6a60f6",
   "metadata": {},
   "outputs": [],
   "source": [
    "# Non-optimized solution"
   ]
  },
  {
   "cell_type": "code",
   "execution_count": 75,
   "id": "08280ddb",
   "metadata": {},
   "outputs": [],
   "source": [
    "def find_unique(arr,n) :\n",
    "    \n",
    "    for x in arr:\n",
    "        flag = 0\n",
    "        for y in arr:\n",
    "            if y == x:\n",
    "                flag = flag + 1\n",
    "        if flag == 1:\n",
    "            return x"
   ]
  },
  {
   "cell_type": "code",
   "execution_count": 76,
   "id": "d8e5273f",
   "metadata": {},
   "outputs": [
    {
     "data": {
      "text/plain": [
       "2"
      ]
     },
     "execution_count": 76,
     "metadata": {},
     "output_type": "execute_result"
    }
   ],
   "source": [
    "arr = [1,4,3,2,1,4,3]\n",
    "find_unique(arr,7)"
   ]
  },
  {
   "cell_type": "code",
   "execution_count": 37,
   "id": "ecb4cda9",
   "metadata": {},
   "outputs": [],
   "source": [
    "# Time complexity = O(n^2)\n",
    "# Space complexity = O(1)"
   ]
  },
  {
   "cell_type": "code",
   "execution_count": 38,
   "id": "f61e7a90",
   "metadata": {},
   "outputs": [],
   "source": [
    "# Optimized Solution"
   ]
  },
  {
   "cell_type": "code",
   "execution_count": 73,
   "id": "d525ef2c",
   "metadata": {},
   "outputs": [],
   "source": [
    "def find_unique_1(arr,n) :\n",
    "    \n",
    "    arr.sort()\n",
    "    for x in range(0,n,2):\n",
    "        if (x == n - 1 ) or (arr[x] != arr[x+1]):\n",
    "            return arr[x]"
   ]
  },
  {
   "cell_type": "code",
   "execution_count": 74,
   "id": "f190437f",
   "metadata": {},
   "outputs": [
    {
     "data": {
      "text/plain": [
       "2"
      ]
     },
     "execution_count": 74,
     "metadata": {},
     "output_type": "execute_result"
    }
   ],
   "source": [
    "arr = [1,4,3,2,1,4,3]\n",
    "find_unique_1(arr,7)"
   ]
  },
  {
   "cell_type": "code",
   "execution_count": 42,
   "id": "a7fa314f",
   "metadata": {},
   "outputs": [],
   "source": [
    "# Time complexity = O(n*log n)\n",
    "# Space complexity = O(log n) or O(n) (Same as sorting space complexity)"
   ]
  },
  {
   "cell_type": "markdown",
   "id": "3cbc5766",
   "metadata": {},
   "source": [
    "--------------------------------------------------------------------------------------------------------------------------------"
   ]
  },
  {
   "cell_type": "code",
   "execution_count": 43,
   "id": "92f17846",
   "metadata": {},
   "outputs": [],
   "source": [
    "#------------------------------------------Question 5 Find duplicates-----------------------------------------------------------\n",
    "\n",
    "# You have been given an integer array/list(ARR) of size N which contains numbers from 0 to (N - 2). \n",
    "# Each number is present at least once. That is, if N = 5, the array/list constitutes values ranging from 0 to 3, \n",
    "# and among these, there is a single integer value that is present twice. \n",
    "# You need to find and return that duplicate number present in the array.\n",
    "\n",
    "# Duplicate number is always present in the given array/list."
   ]
  },
  {
   "cell_type": "code",
   "execution_count": 44,
   "id": "d0a6609f",
   "metadata": {},
   "outputs": [],
   "source": [
    "# Non-optimized solution"
   ]
  },
  {
   "cell_type": "code",
   "execution_count": 69,
   "id": "7cfaee6e",
   "metadata": {},
   "outputs": [],
   "source": [
    "def find_duplicate(arr,n):\n",
    "    \n",
    "    for x in arr:\n",
    "        flag = 0\n",
    "        \n",
    "        for y in arr:\n",
    "            if y == x:\n",
    "                flag = flag + 1\n",
    "                \n",
    "        if flag == 2:\n",
    "            return x"
   ]
  },
  {
   "cell_type": "code",
   "execution_count": 70,
   "id": "b29d335e",
   "metadata": {},
   "outputs": [
    {
     "data": {
      "text/plain": [
       "2"
      ]
     },
     "execution_count": 70,
     "metadata": {},
     "output_type": "execute_result"
    }
   ],
   "source": [
    "find_duplicate([0,3,4,2,1,5,2],7)"
   ]
  },
  {
   "cell_type": "code",
   "execution_count": 48,
   "id": "d151bfed",
   "metadata": {},
   "outputs": [],
   "source": [
    "# Time complexity = O(n^2)\n",
    "# Space complexity = O(1)"
   ]
  },
  {
   "cell_type": "code",
   "execution_count": null,
   "id": "cb19edbf",
   "metadata": {},
   "outputs": [],
   "source": [
    "# Optimizied solution 1"
   ]
  },
  {
   "cell_type": "code",
   "execution_count": 7,
   "id": "3c8a17c7",
   "metadata": {},
   "outputs": [],
   "source": [
    "def find_duplicate_1(arr,n):\n",
    "    \n",
    "    arr.sort()\n",
    "    for x in range(n-1):\n",
    "        if arr[x] == arr[x+1]:\n",
    "            return arr[x]"
   ]
  },
  {
   "cell_type": "code",
   "execution_count": 8,
   "id": "6a0a0aa1",
   "metadata": {},
   "outputs": [
    {
     "data": {
      "text/plain": [
       "5"
      ]
     },
     "execution_count": 8,
     "metadata": {},
     "output_type": "execute_result"
    }
   ],
   "source": [
    "find_duplicate_1([0,3,4,2,1,5,5],7)"
   ]
  },
  {
   "cell_type": "code",
   "execution_count": 58,
   "id": "e98494a9",
   "metadata": {},
   "outputs": [],
   "source": [
    "# Time complexity = O(n*log n)\n",
    "# Space complexity = O(log n) or O(n) (Same as sorting space complexity)"
   ]
  },
  {
   "cell_type": "code",
   "execution_count": 59,
   "id": "420b591f",
   "metadata": {},
   "outputs": [],
   "source": [
    "# Optimized solution 2"
   ]
  },
  {
   "cell_type": "code",
   "execution_count": 64,
   "id": "636d9956",
   "metadata": {},
   "outputs": [],
   "source": [
    "def find_duplicate_2(arr,n):\n",
    "    \n",
    "    total_sum = 0\n",
    "    number_sum = 0\n",
    "    \n",
    "    for x in arr:\n",
    "        total_sum = total_sum + x\n",
    "    \n",
    "    for x in range(0,n-1):\n",
    "        number_sum = number_sum + x\n",
    "        \n",
    "    return total_sum - number_sum"
   ]
  },
  {
   "cell_type": "code",
   "execution_count": 65,
   "id": "60927478",
   "metadata": {},
   "outputs": [
    {
     "data": {
      "text/plain": [
       "2"
      ]
     },
     "execution_count": 65,
     "metadata": {},
     "output_type": "execute_result"
    }
   ],
   "source": [
    "find_duplicate_2([0,3,4,2,1,5,2],7)"
   ]
  },
  {
   "cell_type": "code",
   "execution_count": null,
   "id": "bcb5310c",
   "metadata": {},
   "outputs": [],
   "source": [
    "# Time complexity = O(n)\n",
    "# Space complexity = O(1)"
   ]
  },
  {
   "cell_type": "code",
   "execution_count": 103,
   "id": "8f41bc45",
   "metadata": {},
   "outputs": [],
   "source": [
    "#------------------------------------------Question 6 Pair sum in array---------------------------------------------------------\n",
    "\n",
    "# Solution has not been noted\n",
    "\n",
    "# You have been given an integer array/list(ARR) and a number 'num'. \n",
    "# Find and return the total number of pairs in the array/list which sum to 'num'."
   ]
  },
  {
   "cell_type": "code",
   "execution_count": 86,
   "id": "0ededcfb",
   "metadata": {},
   "outputs": [],
   "source": [
    "# Non-optimized solution"
   ]
  },
  {
   "cell_type": "code",
   "execution_count": 90,
   "id": "40816e57",
   "metadata": {},
   "outputs": [],
   "source": [
    "def pair_sum(arr, n, num) :\n",
    "\n",
    "    flag = 0\n",
    "    for x in range(n):\n",
    "        for y in range(x+1,n):\n",
    "            if (arr[x] + arr[y] == num):\n",
    "                flag = flag + 1\n",
    "    return flag"
   ]
  },
  {
   "cell_type": "code",
   "execution_count": 93,
   "id": "c2cd6a5b",
   "metadata": {},
   "outputs": [
    {
     "data": {
      "text/plain": [
       "3"
      ]
     },
     "execution_count": 93,
     "metadata": {},
     "output_type": "execute_result"
    }
   ],
   "source": [
    "pair_sum([3,2,1,3,6,8,4,10],8,5)"
   ]
  },
  {
   "cell_type": "code",
   "execution_count": 88,
   "id": "b38ce074",
   "metadata": {},
   "outputs": [],
   "source": [
    "# Time complexity = O(n^2)\n",
    "# Space complexity = O(1)"
   ]
  },
  {
   "cell_type": "code",
   "execution_count": 89,
   "id": "4708c8d0",
   "metadata": {},
   "outputs": [],
   "source": [
    "# Optimized solution (Note - There is one more solution. Didn't note it down)"
   ]
  },
  {
   "cell_type": "code",
   "execution_count": 12,
   "id": "afd7a426",
   "metadata": {},
   "outputs": [],
   "source": [
    "def pair_sum_1(arr, n, num):\n",
    "    \n",
    "    flag = 0\n",
    "    arr.sort()\n",
    "    for x in range(n):\n",
    "            y = num - arr[x]\n",
    "            if y >= 0:\n",
    "                flag = flag + arr[x+1:].count(y)\n",
    "    return flag"
   ]
  },
  {
   "cell_type": "code",
   "execution_count": 10,
   "id": "856424d5",
   "metadata": {},
   "outputs": [
    {
     "data": {
      "text/plain": [
       "3"
      ]
     },
     "execution_count": 10,
     "metadata": {},
     "output_type": "execute_result"
    }
   ],
   "source": [
    "pair_sum_1([3,2,1,3,6,8,4,10],8,5)"
   ]
  },
  {
   "cell_type": "code",
   "execution_count": 13,
   "id": "46959e23",
   "metadata": {},
   "outputs": [
    {
     "data": {
      "text/plain": [
       "3"
      ]
     },
     "execution_count": 13,
     "metadata": {},
     "output_type": "execute_result"
    }
   ],
   "source": [
    "pair_sum_1([-3,-2,-1,0,1,2,3],7,0)"
   ]
  }
 ],
 "metadata": {
  "kernelspec": {
   "display_name": "Python 3 (ipykernel)",
   "language": "python",
   "name": "python3"
  },
  "language_info": {
   "codemirror_mode": {
    "name": "ipython",
    "version": 3
   },
   "file_extension": ".py",
   "mimetype": "text/x-python",
   "name": "python",
   "nbconvert_exporter": "python",
   "pygments_lexer": "ipython3",
   "version": "3.9.12"
  }
 },
 "nbformat": 4,
 "nbformat_minor": 5
}
