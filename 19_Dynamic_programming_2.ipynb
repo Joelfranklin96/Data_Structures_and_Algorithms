{
 "cells": [
  {
   "cell_type": "code",
   "execution_count": 3,
   "id": "303dbdde",
   "metadata": {},
   "outputs": [],
   "source": [
    "import sys\n",
    "import numpy as np\n",
    "\n",
    "def minCost(arr, i, j, m, n):\n",
    "    \n",
    "    if i == m and j == n:\n",
    "        return arr[m][n]\n",
    "    \n",
    "    if i > m or j > n:\n",
    "        return sys.maxsize\n",
    "    \n",
    "    ans1 = minCost(arr, i, j+1, m, n)\n",
    "    ans2 = minCost(arr, i+1, j, m, n)\n",
    "    ans3 = minCost(arr, i+1, j+1, m, n)\n",
    "    \n",
    "    return int(arr[i][j] + min(ans1, ans2, ans3))"
   ]
  },
  {
   "cell_type": "code",
   "execution_count": 20,
   "id": "81518ff1",
   "metadata": {},
   "outputs": [
    {
     "data": {
      "text/plain": [
       "1"
      ]
     },
     "execution_count": 20,
     "metadata": {},
     "output_type": "execute_result"
    }
   ],
   "source": [
    "arr = np.ones((6, 5))\n",
    "arr[0][0] = 0\n",
    "arr[1][1] = 0\n",
    "arr[2][0] = 0\n",
    "arr[3][1] = 0\n",
    "arr[4][2] = 0\n",
    "arr[5][3] = 0\n",
    "arr[5][4] = 0\n",
    "minCost(arr,0,0,5,4)"
   ]
  },
  {
   "cell_type": "code",
   "execution_count": 17,
   "id": "36f58487",
   "metadata": {},
   "outputs": [],
   "source": [
    "def minCostDP(arr, i, j, m, n, dp):\n",
    "    \n",
    "    if i == m and j == n:\n",
    "        return arr[m][n]\n",
    "    \n",
    "    ans1 = sys.maxsize\n",
    "    ans2 = sys.maxsize\n",
    "    ans3 = sys.maxsize\n",
    "    \n",
    "    if j+1 <= n:\n",
    "        if dp[i][j+1] != -1:\n",
    "            ans1 = dp[i][j+1]\n",
    "        else:\n",
    "            ans1 = minCostDP(arr, i, j+1, m, n, dp)\n",
    "            dp[i][j+1] = ans1\n",
    "            \n",
    "    if i+1 <= m:\n",
    "        if dp[i+1][j] != -1:\n",
    "            ans2 = dp[i+1][j]\n",
    "        else:\n",
    "            ans2 = minCostDP(arr, i+1, j, m, n, dp)\n",
    "            dp[i+1][j] = ans2\n",
    "            \n",
    "    if j+1 <= n and i+1 <= m:\n",
    "        if dp[i+1][j+1] != -1:\n",
    "            ans3 = dp[i+1][j+1]\n",
    "        else:\n",
    "            ans3 = minCostDP(arr, i+1, j+1, m, n, dp)\n",
    "            dp[i+1][j+1] = ans3\n",
    "    \n",
    "    return int(arr[i][j] + min(ans1, ans2, ans3))\n",
    "\n",
    "# Time complexity = O(m x n)\n",
    "# Space complexity = O(m x n)"
   ]
  },
  {
   "cell_type": "code",
   "execution_count": 21,
   "id": "d1a31726",
   "metadata": {},
   "outputs": [
    {
     "data": {
      "text/plain": [
       "1"
      ]
     },
     "execution_count": 21,
     "metadata": {},
     "output_type": "execute_result"
    }
   ],
   "source": [
    "arr = np.ones((6, 5))\n",
    "arr[0][0] = 0\n",
    "arr[1][1] = 0\n",
    "arr[2][0] = 0\n",
    "arr[3][1] = 0\n",
    "arr[4][2] = 0\n",
    "arr[5][3] = 0\n",
    "arr[5][4] = 0\n",
    "\n",
    "dp = -1 * np.ones((6, 5))\n",
    "minCostDP(arr,0,0,5,4,dp)"
   ]
  },
  {
   "cell_type": "code",
   "execution_count": 29,
   "id": "8f0b9787",
   "metadata": {},
   "outputs": [],
   "source": [
    "def minCostDPIterativeBU(arr, i, j, m, n, dp):\n",
    "    \n",
    "    for k in range(m,-1,-1):\n",
    "        for l in range(n, -1, -1):\n",
    "            if k == m and l == n:\n",
    "                continue\n",
    "            ans1 = sys.maxsize\n",
    "            if k+1 <= m:\n",
    "                ans1 = dp[k+1][l]\n",
    "            ans2 = sys.maxsize\n",
    "            if l+1 <= n:\n",
    "                ans2 = dp[k][l+1]\n",
    "            ans3 = sys.maxsize\n",
    "            if k+1 <= m and l+1 <= n:\n",
    "                ans3 = dp[k+1][l+1]\n",
    "            \n",
    "            dp[k][l] = arr[k][l] + min(ans1, ans2, ans3)\n",
    "    \n",
    "    return int(dp[0][0])\n",
    "\n",
    "# The above is a Bottom Up approach where dp[i][j] stores the minimum cost from i,j to m,n\n",
    "# So dp[0][0] stores the minimum cost from 0,0 to m,n \n",
    "\n",
    "# The below is a Top Down approach where dp[i][j] stores the minimum cost from i,j to 0,0\n",
    "# So dp[m][n] stores then minimum cost from m,n to 0,0\n",
    "\n",
    "def minCostDPIterativeTD(arr, i, j, m, n, dp):\n",
    "    \n",
    "    for k in range(0, m+1):\n",
    "        for l in range(0, n+1):\n",
    "            if k == 0 and l == 0:\n",
    "                continue\n",
    "            ans1 = sys.maxsize\n",
    "            if k-1 >= 0:\n",
    "                ans1 = dp[k-1][l]\n",
    "            ans2 = sys.maxsize\n",
    "            if l-1 >= 0:\n",
    "                ans2 = dp[k][l-1]\n",
    "            ans3 = sys.maxsize\n",
    "            if k-1 >= 0 and l-1 >= 0:\n",
    "                ans3 = dp[k-1][l-1]\n",
    "            \n",
    "            dp[k][l] = arr[k][l] + min(ans1, ans2, ans3)\n",
    "    \n",
    "    return int(dp[m][n])"
   ]
  },
  {
   "cell_type": "code",
   "execution_count": 30,
   "id": "9cf6b934",
   "metadata": {},
   "outputs": [
    {
     "data": {
      "text/plain": [
       "1"
      ]
     },
     "execution_count": 30,
     "metadata": {},
     "output_type": "execute_result"
    }
   ],
   "source": [
    "arr = np.ones((6, 5))\n",
    "arr[0][0] = 0\n",
    "arr[1][1] = 0\n",
    "arr[2][0] = 0\n",
    "arr[3][1] = 0\n",
    "arr[4][2] = 0\n",
    "arr[5][3] = 0\n",
    "arr[5][4] = 0\n",
    "\n",
    "dp = -1 * np.ones((6, 5))\n",
    "dp[0][0] = arr[0][0]\n",
    "minCostDPIterativeTD(arr,0,0,5,4,dp)"
   ]
  },
  {
   "cell_type": "code",
   "execution_count": null,
   "id": "afe44922",
   "metadata": {},
   "outputs": [],
   "source": [
    "# Longest common subsequence\n",
    "\n",
    "# Suppose str1 is abdgec and str2 is bfdmgjc\n",
    "# The longest common subsequence is bdgc and it's length is 4. \n",
    "# The function should return the length of the longest common subsequence"
   ]
  },
  {
   "cell_type": "code",
   "execution_count": null,
   "id": "719635a1",
   "metadata": {},
   "outputs": [],
   "source": [
    "# bbbbbbbddcaaaac\n",
    "# cbb\n",
    "\n",
    "# ccccbccccb\n",
    "# cbb"
   ]
  },
  {
   "cell_type": "code",
   "execution_count": 35,
   "id": "a6e99735",
   "metadata": {},
   "outputs": [],
   "source": [
    "def lcs(str1, str2, i, j):\n",
    "    \n",
    "    if i >= len(str1) or j >= len(str2):\n",
    "        return 0\n",
    "    \n",
    "    if str1[i] == str2[j]:\n",
    "        return 1 + lcs(str1, str2, i+1, j+1)\n",
    "    else:\n",
    "        return max(lcs(str1, str2, i+1, j), lcs(str1, str2, i, j+1))"
   ]
  },
  {
   "cell_type": "code",
   "execution_count": 36,
   "id": "ddb41364",
   "metadata": {},
   "outputs": [
    {
     "data": {
      "text/plain": [
       "4"
      ]
     },
     "execution_count": 36,
     "metadata": {},
     "output_type": "execute_result"
    }
   ],
   "source": [
    "str1 = 'abdgec'\n",
    "str2 = 'bfdmgjc'\n",
    "lcs(str1, str2, 0, 0)"
   ]
  },
  {
   "cell_type": "code",
   "execution_count": 52,
   "id": "ab33d647",
   "metadata": {},
   "outputs": [],
   "source": [
    "def lcs_dp(str1, str2, i, j, dp):\n",
    "    \n",
    "    if i >= len(str1) or j >= len(str2):\n",
    "        return 0\n",
    "    \n",
    "    if str1[i] == str2[j]:\n",
    "        if dp[i+1][j+1] != -1:\n",
    "            ans = dp[i+1][j+1]\n",
    "        else:\n",
    "            ans = lcs_dp(str1, str2, i+1, j+1, dp)\n",
    "            dp[i+1][j+1] = ans\n",
    "        return 1 + ans\n",
    "    else:\n",
    "        if dp[i+1][j] != -1:\n",
    "            ans1 = dp[i+1][j]\n",
    "        else:\n",
    "            ans1 = lcs_dp(str1, str2, i+1, j, dp)\n",
    "            dp[i+1][j] = ans1\n",
    "        if dp[i][j+1] != -1:\n",
    "            ans2 = dp[i][j+1]\n",
    "        else:\n",
    "            ans2 = lcs_dp(str1, str2, i, j+1, dp)\n",
    "            dp[i][j+1] = ans2\n",
    "        return int(max(ans1, ans2))"
   ]
  },
  {
   "cell_type": "code",
   "execution_count": 53,
   "id": "3f1b1f20",
   "metadata": {},
   "outputs": [
    {
     "data": {
      "text/plain": [
       "4"
      ]
     },
     "execution_count": 53,
     "metadata": {},
     "output_type": "execute_result"
    }
   ],
   "source": [
    "import numpy as np\n",
    "l1 = len(str1)\n",
    "l2 = len(str2)\n",
    "dp = -1 * np.ones(((l1+1),(l2+1)))\n",
    "str1 = 'abdgec'\n",
    "str2 = 'bfdmgjc'\n",
    "lcs_dp(str1, str2, 0, 0, dp)"
   ]
  },
  {
   "cell_type": "code",
   "execution_count": 8,
   "id": "ba9697e8",
   "metadata": {},
   "outputs": [],
   "source": [
    "def lcs_dp_iterative(str1, str2, dp):\n",
    "    for i in range(len(str1)-1,-1,-1):\n",
    "        for j in range(len(str2)-1,-1,-1):\n",
    "            if str1[i] == str2[j]:\n",
    "                dp[i][j] = 1 + dp[i+1][j+1]\n",
    "            else:\n",
    "                dp[i][j] = max(dp[i+1][j], dp[i][j+1])\n",
    "    return int(dp[0][0])"
   ]
  },
  {
   "cell_type": "code",
   "execution_count": 9,
   "id": "a6e4cc13",
   "metadata": {},
   "outputs": [
    {
     "data": {
      "text/plain": [
       "4"
      ]
     },
     "execution_count": 9,
     "metadata": {},
     "output_type": "execute_result"
    }
   ],
   "source": [
    "str1 = 'abdgec'\n",
    "str2 = 'bfdmgjc'\n",
    "\n",
    "l1 = len(str1)\n",
    "l2 = len(str2)\n",
    "\n",
    "dp = -1 * np.ones(((l1+1),(l2+1))) # Instead we can intialize all elements of dp with 0\n",
    "for j in range(l2+1):\n",
    "    dp[l1][j] = 0\n",
    "for i in range(l1+1):\n",
    "    dp[i][l2] = 0\n",
    "\n",
    "lcs_dp_iterative(str1, str2, dp)"
   ]
  },
  {
   "cell_type": "code",
   "execution_count": 11,
   "id": "8a8712a1",
   "metadata": {},
   "outputs": [],
   "source": [
    "# Knapsack\n",
    "\n",
    "# You can carry a maximal weight of W into your knapsack. \n",
    "# There are N items, and i-th item weigh 'Wi' and the value being 'Vi'. \n",
    "# What would be the maximum value V, that you can carry?"
   ]
  },
  {
   "cell_type": "code",
   "execution_count": 1,
   "id": "a3b5490c",
   "metadata": {},
   "outputs": [],
   "source": [
    "def knapsack(w,v,tw,i):\n",
    "    \n",
    "    l = len(w)\n",
    "    \n",
    "    if i >= l:\n",
    "        return 0\n",
    "    \n",
    "    if w[i] <= tw:\n",
    "        ans1 = v[i] + knapsack(w,v,tw-w[i],i+1)\n",
    "    else:\n",
    "        ans1 = 0\n",
    "        \n",
    "    ans2 = knapsack(w,v,tw,i+1)\n",
    "    ans = max(ans1, ans2)\n",
    "    return ans\n",
    "\n",
    "# There will be overlapping subproblems only if all elements in w array are not unique"
   ]
  },
  {
   "cell_type": "code",
   "execution_count": null,
   "id": "2fee5a62",
   "metadata": {},
   "outputs": [],
   "source": [
    "# 25, 70, 90, 5, 20, 15, 30, 40"
   ]
  },
  {
   "cell_type": "code",
   "execution_count": 4,
   "id": "09237b66",
   "metadata": {},
   "outputs": [],
   "source": [
    "def knapsack_dp(w,v,tw,i,dp):\n",
    "    \n",
    "    l = len(w)\n",
    "    \n",
    "    if i >= l:\n",
    "        return 0\n",
    "    \n",
    "    if w[i] <= tw:\n",
    "        if (tw-w[i],i+1) in dp.keys():\n",
    "            ans1 = v[i] + dp[(tw-w[i],i+1)]\n",
    "        else:\n",
    "            dp[(tw-w[i],i+1)] = knapsack_dp(w,v,tw-w[i],i+1,dp)\n",
    "            ans1 = v[i] + dp[(tw-w[i],i+1)]\n",
    "    else:\n",
    "        ans1 = 0\n",
    "    \n",
    "    if (tw,i+1) in dp.keys():\n",
    "        ans2 = dp[(tw,i+1)]\n",
    "    else:\n",
    "        dp[(tw,i+1)] = knapsack_dp(w,v,tw,i+1,dp)\n",
    "        ans2 = dp[(tw,i+1)]\n",
    "    \n",
    "    ans = max(ans1, ans2)\n",
    "    \n",
    "    return ans"
   ]
  },
  {
   "cell_type": "code",
   "execution_count": 2,
   "id": "5e06b794",
   "metadata": {},
   "outputs": [],
   "source": [
    "def knapsack_dp_iterative(w,v,tw,dp):\n",
    "    l = len(w)\n",
    "    for i in range(l-1,-1,-1):\n",
    "        for j in range(tw,-1,-1):\n",
    "            if j < w[i]:\n",
    "                dp[j][i] = dp[j][i+1]\n",
    "            else:\n",
    "                ans1 = v[i] + dp[j-w[i]][i+1]\n",
    "                ans2 = dp[j][i+1]\n",
    "                ans = max(ans1, ans2)\n",
    "                dp[j][i] = ans\n",
    "    return int(dp[tw][0])"
   ]
  },
  {
   "cell_type": "code",
   "execution_count": null,
   "id": "e3e2cda3",
   "metadata": {},
   "outputs": [],
   "source": [
    "# 10,5,20,15,90,80,15,5"
   ]
  },
  {
   "cell_type": "code",
   "execution_count": 6,
   "id": "035fbdb5",
   "metadata": {},
   "outputs": [],
   "source": [
    "import numpy as np\n",
    "tw = 50\n",
    "l = 10\n",
    "dp = -1 * np.ones((tw+1,l+1))\n",
    "for i in range(tw+1):\n",
    "    dp[i][l] = 0"
   ]
  },
  {
   "cell_type": "code",
   "execution_count": 4,
   "id": "d6e73eca",
   "metadata": {},
   "outputs": [],
   "source": [
    "# Matrix Chain Multiplication\n",
    "# Given a chain of matrices A1, A2, A3,.....An, you have to figure out the most efficient way to multiply these matrices. \n",
    "# In other words, determine where to place parentheses to minimize the number of multiplications.\n",
    "\n",
    "# Suppose A is m x n, B is n x p and C is p x q, then ABC can be performed as (AB)C or A(BC)\n",
    "# If we perform the matrix multiplication as (AB)C, total number of multiplications = m*n*p + m*p*q = m*p(n+q)\n",
    "# If we perform the matrix multiplication as A(BC), total number of multiplications = n*p*q + m*n*q = n*q(p+m)\n",
    "# We have to minimize the number of multiplications"
   ]
  },
  {
   "cell_type": "code",
   "execution_count": 1,
   "id": "d68b3ef6",
   "metadata": {},
   "outputs": [],
   "source": [
    "# p = [10,20,30,40,50,60,70]"
   ]
  },
  {
   "cell_type": "code",
   "execution_count": null,
   "id": "17fc61dc",
   "metadata": {},
   "outputs": [],
   "source": [
    "def mcm(p,i,j):\n",
    "    \n",
    "    if i == j:\n",
    "        return 0\n",
    "    \n",
    "    ans = []\n",
    "    for k in range(i+1,j+1):\n",
    "        ans.append(mcm(p,i,k-1) + mcm(p,k,j) + p[i]*p[k]*p[j+1] )\n",
    "            \n",
    "    return min(ans)"
   ]
  },
  {
   "cell_type": "code",
   "execution_count": null,
   "id": "b18c208f",
   "metadata": {},
   "outputs": [],
   "source": [
    "import sys\n",
    "def mcm(p,i,j,dp):\n",
    "    \n",
    "    if i == j:\n",
    "        return 0\n",
    "    \n",
    "    ans = sys.maxsize\n",
    "    for k in range(i+1,j+1):\n",
    "        if dp[i][k-1] != -1:\n",
    "            ans1 = dp[i][k-1]\n",
    "        else:\n",
    "            dp[i][k-1] = mcm(p,i,k-1,dp)\n",
    "            ans1 = dp[i][k-1]\n",
    "        if dp[k][j] != -1:\n",
    "            ans2 = dp[k][j]\n",
    "        else:\n",
    "            dp[k][j] = mcm(p,k,j,dp)\n",
    "            ans2 = dp[k][j]\n",
    "        ans3 = p[i]*p[k]*p[j+1]\n",
    "        \n",
    "        curr_ans = ans1 + ans2 + ans3\n",
    "        \n",
    "        if curr_ans < ans:\n",
    "            ans = curr_ans\n",
    "            \n",
    "    return ans"
   ]
  },
  {
   "cell_type": "code",
   "execution_count": 3,
   "id": "92113db3",
   "metadata": {},
   "outputs": [],
   "source": [
    "import numpy as np\n",
    "p = [10,20,30,40,50,60,70]\n",
    "l = len(p)\n",
    "i = 0\n",
    "j = l - 2\n",
    "dp = -1 * np.ones((l-1,l-1))"
   ]
  }
 ],
 "metadata": {
  "kernelspec": {
   "display_name": "Python 3 (ipykernel)",
   "language": "python",
   "name": "python3"
  },
  "language_info": {
   "codemirror_mode": {
    "name": "ipython",
    "version": 3
   },
   "file_extension": ".py",
   "mimetype": "text/x-python",
   "name": "python",
   "nbconvert_exporter": "python",
   "pygments_lexer": "ipython3",
   "version": "3.9.12"
  }
 },
 "nbformat": 4,
 "nbformat_minor": 5
}
