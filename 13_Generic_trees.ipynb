{
 "cells": [
  {
   "cell_type": "code",
   "execution_count": 1,
   "id": "23c8a987",
   "metadata": {},
   "outputs": [],
   "source": [
    "# In case of Generic trees, each node can have any number of children"
   ]
  },
  {
   "cell_type": "code",
   "execution_count": 4,
   "id": "3b280080",
   "metadata": {},
   "outputs": [],
   "source": [
    "class TreeNode:\n",
    "    def __init__(self, data):\n",
    "        self.data = data\n",
    "        self.children = list()"
   ]
  },
  {
   "cell_type": "code",
   "execution_count": 5,
   "id": "b634b8e9",
   "metadata": {},
   "outputs": [],
   "source": [
    "class BinaryTreeNode():\n",
    "    \n",
    "    def __init__(self,data):\n",
    "        \n",
    "        self.data = data\n",
    "        self.left = None\n",
    "        self.right = None"
   ]
  },
  {
   "cell_type": "code",
   "execution_count": 6,
   "id": "d55e6ebd",
   "metadata": {},
   "outputs": [],
   "source": [
    "n1 = TreeNode(5)\n",
    "n2 = TreeNode(2)\n",
    "n3 = TreeNode(9)\n",
    "n4 = TreeNode(8)\n",
    "n5 = TreeNode(7)\n",
    "n6 = TreeNode(15)\n",
    "n7 = TreeNode(1)\n",
    "\n",
    "n1.children.append(n2)\n",
    "n1.children.append(n3)\n",
    "n1.children.append(n4)\n",
    "n1.children.append(n5)\n",
    "\n",
    "n3.children.append(n6)\n",
    "n3.children.append(n7)"
   ]
  },
  {
   "cell_type": "code",
   "execution_count": 7,
   "id": "328b1ad2",
   "metadata": {},
   "outputs": [],
   "source": [
    "# Print a generic tree inorder recursively"
   ]
  },
  {
   "cell_type": "code",
   "execution_count": 8,
   "id": "8ebc527d",
   "metadata": {},
   "outputs": [],
   "source": [
    "def print_tree_recursive(root):\n",
    "    \n",
    "    print(root.data)\n",
    "    for x in root.children:\n",
    "        print_tree_recursive(x)"
   ]
  },
  {
   "cell_type": "code",
   "execution_count": 9,
   "id": "0f4de112",
   "metadata": {},
   "outputs": [
    {
     "name": "stdout",
     "output_type": "stream",
     "text": [
      "5\n",
      "2\n",
      "9\n",
      "15\n",
      "1\n",
      "8\n",
      "7\n"
     ]
    }
   ],
   "source": [
    "print_tree_recursive(n1)"
   ]
  },
  {
   "cell_type": "code",
   "execution_count": 10,
   "id": "69f87b12",
   "metadata": {},
   "outputs": [],
   "source": [
    "def print_tree_recursive_detailed(root):\n",
    "    print(\"{}:\".format(root.data), end = \"\")\n",
    "    l = len(root.children)\n",
    "    for x in range(l):\n",
    "        if x == l-1:\n",
    "            print(\"{}\".format(root.children[x].data), end = \"\")\n",
    "        else:\n",
    "            print(\"{},\".format(root.children[x].data), end = \"\")\n",
    "    \n",
    "    print()\n",
    "    \n",
    "    for x in root.children:\n",
    "        print_tree_recursive_detailed(x)"
   ]
  },
  {
   "cell_type": "code",
   "execution_count": 11,
   "id": "13515e70",
   "metadata": {},
   "outputs": [
    {
     "name": "stdout",
     "output_type": "stream",
     "text": [
      "5:2,9,8,7\n",
      "2:\n",
      "9:15,1\n",
      "15:\n",
      "1:\n",
      "8:\n",
      "7:\n"
     ]
    }
   ],
   "source": [
    "print_tree_recursive_detailed(n1)"
   ]
  },
  {
   "cell_type": "markdown",
   "id": "438cdfa1",
   "metadata": {},
   "source": [
    "### --------------------------------------------------------------------------------------------------------------------------------------------------------------"
   ]
  },
  {
   "cell_type": "code",
   "execution_count": 12,
   "id": "b2e7977f",
   "metadata": {},
   "outputs": [],
   "source": [
    "# Take input of a generic tree recursively"
   ]
  },
  {
   "cell_type": "code",
   "execution_count": 13,
   "id": "c11477db",
   "metadata": {},
   "outputs": [],
   "source": [
    "def take_input_recursively():\n",
    "    \n",
    "    data = int(input())\n",
    "    \n",
    "    root = TreeNode(data)\n",
    "    print(\"Enter number of children for {}\".format(data))\n",
    "    number = int(input())\n",
    "    for x in range(number):\n",
    "        root.children.append(take_input_recursively())\n",
    "    return root"
   ]
  },
  {
   "cell_type": "code",
   "execution_count": 15,
   "id": "06ddee83",
   "metadata": {},
   "outputs": [
    {
     "name": "stdout",
     "output_type": "stream",
     "text": [
      "5\n",
      "Enter number of children for 5\n",
      "4\n",
      "2\n",
      "Enter number of children for 2\n",
      "0\n",
      "9\n",
      "Enter number of children for 9\n",
      "2\n",
      "15\n",
      "Enter number of children for 15\n",
      "0\n",
      "1\n",
      "Enter number of children for 1\n",
      "0\n",
      "8\n",
      "Enter number of children for 8\n",
      "0\n",
      "7\n",
      "Enter number of children for 7\n",
      "0\n"
     ]
    }
   ],
   "source": [
    "gt = take_input_recursively()"
   ]
  },
  {
   "cell_type": "code",
   "execution_count": 16,
   "id": "b43409bc",
   "metadata": {},
   "outputs": [
    {
     "name": "stdout",
     "output_type": "stream",
     "text": [
      "5:2,9,8,7\n",
      "2:\n",
      "9:15,1\n",
      "15:\n",
      "1:\n",
      "8:\n",
      "7:\n"
     ]
    }
   ],
   "source": [
    "print_tree_recursive_detailed(gt)"
   ]
  },
  {
   "cell_type": "markdown",
   "id": "e0e0f08e",
   "metadata": {},
   "source": [
    "### --------------------------------------------------------------------------------------------------------------------------------------------------------------"
   ]
  },
  {
   "cell_type": "code",
   "execution_count": 17,
   "id": "95bf0efc",
   "metadata": {},
   "outputs": [],
   "source": [
    "# Find the number of nodes in a generic tree"
   ]
  },
  {
   "cell_type": "code",
   "execution_count": 18,
   "id": "b3a016f1",
   "metadata": {},
   "outputs": [],
   "source": [
    "def number_of_nodes(root):\n",
    "    \n",
    "    count = 1\n",
    "    for child in root.children:\n",
    "        count = count + number_of_nodes(child)\n",
    "    return count"
   ]
  },
  {
   "cell_type": "code",
   "execution_count": 19,
   "id": "818f10e5",
   "metadata": {},
   "outputs": [
    {
     "data": {
      "text/plain": [
       "7"
      ]
     },
     "execution_count": 19,
     "metadata": {},
     "output_type": "execute_result"
    }
   ],
   "source": [
    "number_of_nodes(gt)"
   ]
  },
  {
   "cell_type": "markdown",
   "id": "8e9f5786",
   "metadata": {},
   "source": [
    "### --------------------------------------------------------------------------------------------------------------------------------------------------------------"
   ]
  },
  {
   "cell_type": "code",
   "execution_count": 20,
   "id": "77583da0",
   "metadata": {},
   "outputs": [],
   "source": [
    "# Find the height of a generic tree"
   ]
  },
  {
   "cell_type": "code",
   "execution_count": 21,
   "id": "b3d40091",
   "metadata": {},
   "outputs": [],
   "source": [
    "def height(root):\n",
    "    \n",
    "    children_height = []\n",
    "    for child in root.children:\n",
    "        children_height.append(height(child))\n",
    "    \n",
    "    if children_height == []:\n",
    "        h = 1\n",
    "    else:\n",
    "        h = 1 + max(children_height)\n",
    "        \n",
    "    return h"
   ]
  },
  {
   "cell_type": "code",
   "execution_count": 23,
   "id": "ffc2ac30",
   "metadata": {},
   "outputs": [
    {
     "data": {
      "text/plain": [
       "3"
      ]
     },
     "execution_count": 23,
     "metadata": {},
     "output_type": "execute_result"
    }
   ],
   "source": [
    "height(gt)"
   ]
  },
  {
   "cell_type": "markdown",
   "id": "f28d5e10",
   "metadata": {},
   "source": [
    "### --------------------------------------------------------------------------------------------------------------------------------------------------------------"
   ]
  },
  {
   "cell_type": "code",
   "execution_count": 24,
   "id": "4518223b",
   "metadata": {},
   "outputs": [],
   "source": [
    "# Given a generic tree, find and return the sum of all nodes present in the given tree."
   ]
  },
  {
   "cell_type": "code",
   "execution_count": 25,
   "id": "a566292d",
   "metadata": {},
   "outputs": [],
   "source": [
    "def sum_of_nodes(root):\n",
    "    \n",
    "    node_sum = root.data\n",
    "    for child in root.children:\n",
    "        node_sum += sum_of_nodes(child)\n",
    "    \n",
    "    return node_sum"
   ]
  },
  {
   "cell_type": "code",
   "execution_count": 26,
   "id": "d5e8eaf7",
   "metadata": {},
   "outputs": [
    {
     "data": {
      "text/plain": [
       "47"
      ]
     },
     "execution_count": 26,
     "metadata": {},
     "output_type": "execute_result"
    }
   ],
   "source": [
    "sum_of_nodes(gt)"
   ]
  },
  {
   "cell_type": "markdown",
   "id": "458d341e",
   "metadata": {},
   "source": [
    "### --------------------------------------------------------------------------------------------------------------------------------------------------------------"
   ]
  },
  {
   "cell_type": "code",
   "execution_count": 27,
   "id": "5da75080",
   "metadata": {},
   "outputs": [],
   "source": [
    "# Given a generic tree, return the largest element of the tree"
   ]
  },
  {
   "cell_type": "code",
   "execution_count": 35,
   "id": "bf0100f8",
   "metadata": {},
   "outputs": [],
   "source": [
    "def largest_element(root):\n",
    "    \n",
    "    maximum = root.data\n",
    "    for child in root.children:\n",
    "        maximum_child = largest_element(child)\n",
    "        if maximum_child > maximum:\n",
    "            maximum = maximum_child\n",
    "    \n",
    "    return maximum"
   ]
  },
  {
   "cell_type": "code",
   "execution_count": 36,
   "id": "03beb39b",
   "metadata": {},
   "outputs": [
    {
     "data": {
      "text/plain": [
       "15"
      ]
     },
     "execution_count": 36,
     "metadata": {},
     "output_type": "execute_result"
    }
   ],
   "source": [
    "largest_element(gt)"
   ]
  },
  {
   "cell_type": "code",
   "execution_count": 37,
   "id": "7f22c748",
   "metadata": {},
   "outputs": [],
   "source": [
    "# Given a generic tree, return the largest node"
   ]
  },
  {
   "cell_type": "code",
   "execution_count": 39,
   "id": "801d6703",
   "metadata": {},
   "outputs": [],
   "source": [
    "def largest_node(root):\n",
    "    \n",
    "    maximum = root\n",
    "    for child in root.children:\n",
    "        maximum_child = largest_node(child)\n",
    "        if maximum_child.data > maximum.data:\n",
    "            maximum = maximum_child\n",
    "            \n",
    "    return maximum"
   ]
  },
  {
   "cell_type": "code",
   "execution_count": 40,
   "id": "67ab1ffa",
   "metadata": {},
   "outputs": [
    {
     "data": {
      "text/plain": [
       "<__main__.TreeNode at 0x288ea516970>"
      ]
     },
     "execution_count": 40,
     "metadata": {},
     "output_type": "execute_result"
    }
   ],
   "source": [
    "largest_node(gt)"
   ]
  },
  {
   "cell_type": "markdown",
   "id": "7bc3c978",
   "metadata": {},
   "source": [
    "### --------------------------------------------------------------------------------------------------------------------------------------------------------------"
   ]
  },
  {
   "cell_type": "code",
   "execution_count": 90,
   "id": "02091588",
   "metadata": {},
   "outputs": [],
   "source": [
    "def height(root):\n",
    "    \n",
    "    ans = 0\n",
    "    for child in root.children:\n",
    "        child_height = height(child)\n",
    "        if child_height > ans:\n",
    "            ans = child_height\n",
    "    \n",
    "    return 1 + ans"
   ]
  },
  {
   "cell_type": "code",
   "execution_count": 91,
   "id": "9869a8ae",
   "metadata": {},
   "outputs": [
    {
     "data": {
      "text/plain": [
       "3"
      ]
     },
     "execution_count": 91,
     "metadata": {},
     "output_type": "execute_result"
    }
   ],
   "source": [
    "height(gt)"
   ]
  },
  {
   "cell_type": "code",
   "execution_count": 88,
   "id": "381c1c31",
   "metadata": {},
   "outputs": [],
   "source": [
    "def height_2(root):\n",
    "    \n",
    "    children_height = []\n",
    "    for child in root.children:\n",
    "        children_height.append(height_2(child))\n",
    "    \n",
    "    if children_height == []:\n",
    "        return 1\n",
    "    else:\n",
    "        return 1 + max(children_height)"
   ]
  },
  {
   "cell_type": "code",
   "execution_count": 89,
   "id": "8b07a47f",
   "metadata": {},
   "outputs": [
    {
     "data": {
      "text/plain": [
       "3"
      ]
     },
     "execution_count": 89,
     "metadata": {},
     "output_type": "execute_result"
    }
   ],
   "source": [
    "height_2(gt)"
   ]
  },
  {
   "cell_type": "markdown",
   "id": "cf5b3f28",
   "metadata": {},
   "source": [
    "### --------------------------------------------------------------------------------------------------------------------------------------------------------------"
   ]
  },
  {
   "cell_type": "code",
   "execution_count": 44,
   "id": "ba7d28dd",
   "metadata": {},
   "outputs": [],
   "source": [
    "# Write a function to take input of a generic tree levelwise"
   ]
  },
  {
   "cell_type": "code",
   "execution_count": 67,
   "id": "591da867",
   "metadata": {},
   "outputs": [],
   "source": [
    "import queue\n",
    "def take_input_levelwise():\n",
    "    \n",
    "    print(\"Please enter root data\")\n",
    "    data = int(input())\n",
    "    root = TreeNode(data)\n",
    "    q = queue.Queue()\n",
    "    q.put(root)\n",
    "    \n",
    "    while not(q.empty()):\n",
    "        node = q.get()\n",
    "        print(\"Please enter the number of children of {}\".format(node.data))\n",
    "        number = int(input())\n",
    "        for i in range(number):\n",
    "            print(\"Please enter the data of child {}\".format(i+1))\n",
    "            data = int(input())\n",
    "            child = TreeNode(data)\n",
    "            q.put(child)\n",
    "            node.children.append(child)\n",
    "    \n",
    "    return root"
   ]
  },
  {
   "cell_type": "code",
   "execution_count": 68,
   "id": "4ba7c984",
   "metadata": {},
   "outputs": [
    {
     "name": "stdout",
     "output_type": "stream",
     "text": [
      "Please enter root data\n",
      "5\n",
      "Please enter the number of children of 5\n",
      "4\n",
      "Please enter the data of child 1\n",
      "2\n",
      "Please enter the data of child 2\n",
      "9\n",
      "Please enter the data of child 3\n",
      "8\n",
      "Please enter the data of child 4\n",
      "7\n",
      "Please enter the number of children of 2\n",
      "0\n",
      "Please enter the number of children of 9\n",
      "2\n",
      "Please enter the data of child 1\n",
      "15\n",
      "Please enter the data of child 2\n",
      "1\n",
      "Please enter the number of children of 8\n",
      "0\n",
      "Please enter the number of children of 7\n",
      "0\n",
      "Please enter the number of children of 15\n",
      "0\n",
      "Please enter the number of children of 1\n",
      "0\n"
     ]
    }
   ],
   "source": [
    "gt = take_input_levelwise()"
   ]
  },
  {
   "cell_type": "code",
   "execution_count": 52,
   "id": "963bfd51",
   "metadata": {},
   "outputs": [
    {
     "name": "stdout",
     "output_type": "stream",
     "text": [
      "5:1,2,3\n",
      "1:\n",
      "2:4,5\n",
      "4:\n",
      "5:\n",
      "3:\n"
     ]
    }
   ],
   "source": [
    "print_tree_recursive_detailed(gt)"
   ]
  },
  {
   "cell_type": "markdown",
   "id": "a60d2253",
   "metadata": {},
   "source": [
    "### --------------------------------------------------------------------------------------------------------------------------------------------------------------"
   ]
  },
  {
   "cell_type": "code",
   "execution_count": 54,
   "id": "9b2317cf",
   "metadata": {},
   "outputs": [],
   "source": [
    "def print_levelwise(root):\n",
    "    q = queue.Queue()\n",
    "    q.put(root)\n",
    "    print(root.data)\n",
    "    while not(q.empty()):\n",
    "        node = q.get()\n",
    "        for child in node.children:\n",
    "            q.put(child)\n",
    "            print(child.data)"
   ]
  },
  {
   "cell_type": "code",
   "execution_count": 55,
   "id": "74fe901e",
   "metadata": {},
   "outputs": [
    {
     "name": "stdout",
     "output_type": "stream",
     "text": [
      "5\n",
      "1\n",
      "2\n",
      "3\n",
      "4\n",
      "5\n"
     ]
    }
   ],
   "source": [
    "print_levelwise(gt)"
   ]
  },
  {
   "cell_type": "code",
   "execution_count": 58,
   "id": "0f553668",
   "metadata": {},
   "outputs": [],
   "source": [
    "def print_levelwise_detailed(root):\n",
    "    q = queue.Queue()\n",
    "    q.put(root)\n",
    "    while not(q.empty()):\n",
    "        node = q.get()\n",
    "        print(\"{}:\".format(node.data), end = \"\")\n",
    "        l = len(node.children)\n",
    "        for x in range(l):\n",
    "            q.put(node.children[x])\n",
    "            if x!= l-1:\n",
    "                print(\"{},\".format(node.children[x].data), end = \"\")\n",
    "            else:\n",
    "                print(\"{}\".format(node.children[x].data), end = \"\")\n",
    "        print()"
   ]
  },
  {
   "cell_type": "code",
   "execution_count": 59,
   "id": "b811e36e",
   "metadata": {},
   "outputs": [
    {
     "name": "stdout",
     "output_type": "stream",
     "text": [
      "5:1,2,3\n",
      "1:\n",
      "2:4,5\n",
      "3:\n",
      "4:\n",
      "5:\n"
     ]
    }
   ],
   "source": [
    "print_levelwise_detailed(gt)"
   ]
  },
  {
   "cell_type": "markdown",
   "id": "d9b81fc4",
   "metadata": {},
   "source": [
    "### --------------------------------------------------------------------------------------------------------------------------------------------------------------"
   ]
  },
  {
   "cell_type": "code",
   "execution_count": 62,
   "id": "58434d70",
   "metadata": {},
   "outputs": [],
   "source": [
    "# Given a generic tree and an integer x, check if x is present in the given tree or not. \n",
    "# Return true if x is present, return false otherwise."
   ]
  },
  {
   "cell_type": "code",
   "execution_count": 63,
   "id": "cd31f65f",
   "metadata": {},
   "outputs": [],
   "source": [
    "def present(root, x):\n",
    "    \n",
    "    if root.data == x:\n",
    "        return True\n",
    "    \n",
    "    children_present = []\n",
    "    \n",
    "    for child in root.children:\n",
    "        children_present.append(present(child, x))\n",
    "    \n",
    "    if True in children_present:\n",
    "        return True\n",
    "    else:\n",
    "        return False"
   ]
  },
  {
   "cell_type": "code",
   "execution_count": 75,
   "id": "56288b6d",
   "metadata": {},
   "outputs": [],
   "source": [
    "def present_2(root, x):\n",
    "    \n",
    "    if root.data == x:\n",
    "        return True\n",
    "    for child in root.children:\n",
    "        if present_2(child, x):\n",
    "            return True\n",
    "    return False"
   ]
  },
  {
   "cell_type": "markdown",
   "id": "27d72fc9",
   "metadata": {},
   "source": [
    "### --------------------------------------------------------------------------------------------------------------------------------------------------------------"
   ]
  },
  {
   "cell_type": "code",
   "execution_count": null,
   "id": "543d8f92",
   "metadata": {},
   "outputs": [],
   "source": [
    "# Given a generic tree, count and return the number of leaf nodes present in the given tree."
   ]
  },
  {
   "cell_type": "code",
   "execution_count": 69,
   "id": "c0dd3cdb",
   "metadata": {},
   "outputs": [],
   "source": [
    "def leaf_nodes(root):\n",
    "    \n",
    "    if len(root.children) == 0:\n",
    "        return 1\n",
    "    \n",
    "    count = 0\n",
    "    for child in root.children:\n",
    "        count += leaf_nodes(child)\n",
    "    \n",
    "    return count"
   ]
  },
  {
   "cell_type": "code",
   "execution_count": 70,
   "id": "3fcf19f7",
   "metadata": {},
   "outputs": [
    {
     "data": {
      "text/plain": [
       "5"
      ]
     },
     "execution_count": 70,
     "metadata": {},
     "output_type": "execute_result"
    }
   ],
   "source": [
    "leaf_nodes(gt)"
   ]
  },
  {
   "cell_type": "markdown",
   "id": "1d9122a9",
   "metadata": {},
   "source": [
    "### --------------------------------------------------------------------------------------------------------------------------------------------------------------"
   ]
  },
  {
   "cell_type": "code",
   "execution_count": null,
   "id": "b6624a26",
   "metadata": {},
   "outputs": [],
   "source": [
    "# Given a generic tree, find and return the node for which sum of its data and data of all its child nodes is maximum. \n",
    "# In the sum, data of the node and data of its immediate child nodes has to be taken."
   ]
  },
  {
   "cell_type": "code",
   "execution_count": 80,
   "id": "b2b2da97",
   "metadata": {},
   "outputs": [],
   "source": [
    "def max_sum(root):\n",
    "    \n",
    "    total_sum = root.data\n",
    "    \n",
    "    for child in root.children:\n",
    "        total_sum += child.data\n",
    "    \n",
    "    maximum_sum = total_sum\n",
    "    for child in root.children:\n",
    "        child_sum = max_sum(child)\n",
    "        if child_sum > total_sum:\n",
    "            maximum_sum = child_sum\n",
    "        \n",
    "    if len(root.children) == 0:\n",
    "        return root.data\n",
    "    else:\n",
    "        return maximum_sum"
   ]
  },
  {
   "cell_type": "code",
   "execution_count": 81,
   "id": "06c3083e",
   "metadata": {},
   "outputs": [
    {
     "data": {
      "text/plain": [
       "31"
      ]
     },
     "execution_count": 81,
     "metadata": {},
     "output_type": "execute_result"
    }
   ],
   "source": [
    "max_sum(gt)"
   ]
  },
  {
   "cell_type": "code",
   "execution_count": 83,
   "id": "9bb789bb",
   "metadata": {},
   "outputs": [],
   "source": [
    "def max_sum_2(root):\n",
    "    total_sum = root.data\n",
    "    \n",
    "    for child in root.children:\n",
    "        total_sum += child.data\n",
    "    \n",
    "    children_sum = []\n",
    "    for child in root.children:\n",
    "        children_sum.append(max_sum_2(child))\n",
    "        \n",
    "    if len(root.children) == 0:\n",
    "        return root.data\n",
    "    else:\n",
    "        return max(total_sum, max(children_sum))"
   ]
  },
  {
   "cell_type": "code",
   "execution_count": 84,
   "id": "6116c308",
   "metadata": {},
   "outputs": [
    {
     "data": {
      "text/plain": [
       "31"
      ]
     },
     "execution_count": 84,
     "metadata": {},
     "output_type": "execute_result"
    }
   ],
   "source": [
    "max_sum_2(gt)"
   ]
  },
  {
   "cell_type": "code",
   "execution_count": 95,
   "id": "c8105bc1",
   "metadata": {},
   "outputs": [],
   "source": [
    "def max_sum_node(root):\n",
    "    \n",
    "    total_sum = root.data\n",
    "    \n",
    "    for child in root.children:\n",
    "        total_sum += child.data\n",
    "        \n",
    "    maximum_node = root\n",
    "    maximum_sum = total_sum\n",
    "    \n",
    "    for child in root.children:\n",
    "        child_node, child_sum = max_sum_node(child)\n",
    "        if child_sum > maximum_sum:\n",
    "            maximum_sum = child_sum\n",
    "            maximum_node = child_node\n",
    "    \n",
    "    return maximum_node, maximum_sum"
   ]
  },
  {
   "cell_type": "code",
   "execution_count": 96,
   "id": "25cff5f8",
   "metadata": {},
   "outputs": [
    {
     "data": {
      "text/plain": [
       "(<__main__.TreeNode at 0x288ebf5c190>, 31)"
      ]
     },
     "execution_count": 96,
     "metadata": {},
     "output_type": "execute_result"
    }
   ],
   "source": [
    "max_sum_node(gt)"
   ]
  },
  {
   "cell_type": "markdown",
   "id": "ab1e580f",
   "metadata": {},
   "source": [
    "### --------------------------------------------------------------------------------------------------------------------------------------------------------------"
   ]
  },
  {
   "cell_type": "code",
   "execution_count": 97,
   "id": "3098fc27",
   "metadata": {},
   "outputs": [],
   "source": [
    "# Given two generic trees, return true if they are structurally identical. Otherwise return false.\n",
    "\n",
    "# If the two given trees are made of nodes with the same values and the nodes are arranged in the same way, \n",
    "# then the trees are called identical."
   ]
  },
  {
   "cell_type": "code",
   "execution_count": 111,
   "id": "19ac12fa",
   "metadata": {},
   "outputs": [],
   "source": [
    "def identical(root1, root2):\n",
    "    \n",
    "    if root1.data != root2.data:\n",
    "        return False\n",
    "    \n",
    "    if len(root1.children) != len(root2.children):\n",
    "        return False\n",
    "    \n",
    "    for child1,child2 in zip(root1.children,root2.children):\n",
    "        if not identical(child1, child2):\n",
    "            return False\n",
    "    \n",
    "    return True   "
   ]
  },
  {
   "cell_type": "markdown",
   "id": "7bcf57fc",
   "metadata": {},
   "source": [
    "### --------------------------------------------------------------------------------------------------------------------------------------------------------------"
   ]
  },
  {
   "cell_type": "code",
   "execution_count": 112,
   "id": "e3efdaa7",
   "metadata": {},
   "outputs": [],
   "source": [
    "# Given a generic tree and an integer n. Find and return the node with next larger element in the tree i.e. find a node with value just greater than n.\n",
    "# Note: Return NULL if no node is present with the value greater than n."
   ]
  },
  {
   "cell_type": "code",
   "execution_count": null,
   "id": "54070586",
   "metadata": {},
   "outputs": [],
   "source": [
    "def next_largest(root, n):\n",
    "    \n",
    "    if (root.data - n) > 0:\n",
    "        minimum_node = root\n",
    "    else:\n",
    "        minimum_node = None\n",
    "    \n",
    "    for child in root.children:\n",
    "        child_largest = next_largest(child, n)\n",
    "        if child_largest is not None:\n",
    "            if minimum_node is None:\n",
    "                minimum_node = child_largest\n",
    "            else:\n",
    "                if child_largest.data < minimum_node.data:\n",
    "                    minimum_node = child_largest\n",
    "                    \n",
    "    return minimum_node"
   ]
  },
  {
   "cell_type": "markdown",
   "id": "d345ddee",
   "metadata": {},
   "source": [
    "### --------------------------------------------------------------------------------------------------------------------------------------------------------------"
   ]
  },
  {
   "cell_type": "code",
   "execution_count": 116,
   "id": "72a428c5",
   "metadata": {},
   "outputs": [],
   "source": [
    "# You are given a generic tree. You have to replace each node with its depth value. \n",
    "# You just have to update the data of each node, there is no need to return or print anything."
   ]
  },
  {
   "cell_type": "code",
   "execution_count": 117,
   "id": "ff774a2e",
   "metadata": {},
   "outputs": [],
   "source": [
    "def replace_depth(root, k):\n",
    "    \n",
    "    root.data = k\n",
    "    \n",
    "    for child in root.children:\n",
    "        replace_depth(child, k+1)"
   ]
  },
  {
   "cell_type": "code",
   "execution_count": 118,
   "id": "666a98ef",
   "metadata": {},
   "outputs": [
    {
     "name": "stdout",
     "output_type": "stream",
     "text": [
      "5:2,9,8,7\n",
      "2:\n",
      "9:15,1\n",
      "8:\n",
      "7:\n",
      "15:\n",
      "1:\n"
     ]
    }
   ],
   "source": [
    "print_levelwise_detailed(gt)"
   ]
  },
  {
   "cell_type": "code",
   "execution_count": 129,
   "id": "491f06c5",
   "metadata": {},
   "outputs": [],
   "source": [
    "def replace_depth_helper(root, k):\n",
    "    \n",
    "    root.data = k\n",
    "    \n",
    "    for child in root.children:\n",
    "        replace_depth_helper(child, k+1)\n",
    "\n",
    "def replace_depth(root):\n",
    "    replace_depth_helper(root, 0)"
   ]
  },
  {
   "cell_type": "code",
   "execution_count": 131,
   "id": "f6b8731d",
   "metadata": {},
   "outputs": [],
   "source": [
    "replace_depth(gt)"
   ]
  },
  {
   "cell_type": "code",
   "execution_count": 132,
   "id": "57815403",
   "metadata": {},
   "outputs": [
    {
     "name": "stdout",
     "output_type": "stream",
     "text": [
      "0:1,1,1,1\n",
      "1:\n",
      "1:2,2\n",
      "1:\n",
      "1:\n",
      "2:\n",
      "2:\n"
     ]
    }
   ],
   "source": [
    "print_levelwise_detailed(gt)"
   ]
  },
  {
   "cell_type": "code",
   "execution_count": 125,
   "id": "238d43cd",
   "metadata": {},
   "outputs": [],
   "source": [
    "def trial():\n",
    "    a = []\n",
    "    trial1(a)\n",
    "    trial2(a)\n",
    "    print(a)\n",
    "def trial1(a):\n",
    "    a = a + [3]\n",
    "def trial2(a):\n",
    "    a = a + [100]\n",
    "    print(a)"
   ]
  },
  {
   "cell_type": "code",
   "execution_count": 126,
   "id": "9bdbcc5a",
   "metadata": {},
   "outputs": [
    {
     "name": "stdout",
     "output_type": "stream",
     "text": [
      "[100]\n",
      "[]\n"
     ]
    }
   ],
   "source": [
    "trial()"
   ]
  },
  {
   "cell_type": "code",
   "execution_count": null,
   "id": "a77ed8da",
   "metadata": {},
   "outputs": [],
   "source": []
  }
 ],
 "metadata": {
  "kernelspec": {
   "display_name": "Python 3 (ipykernel)",
   "language": "python",
   "name": "python3"
  },
  "language_info": {
   "codemirror_mode": {
    "name": "ipython",
    "version": 3
   },
   "file_extension": ".py",
   "mimetype": "text/x-python",
   "name": "python",
   "nbconvert_exporter": "python",
   "pygments_lexer": "ipython3",
   "version": "3.9.12"
  }
 },
 "nbformat": 4,
 "nbformat_minor": 5
}
