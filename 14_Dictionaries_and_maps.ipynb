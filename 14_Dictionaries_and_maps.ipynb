{
 "cells": [
  {
   "cell_type": "code",
   "execution_count": 9,
   "id": "02ace61f",
   "metadata": {},
   "outputs": [],
   "source": [
    "# Copying a dictionary into another"
   ]
  },
  {
   "cell_type": "code",
   "execution_count": 10,
   "id": "796a6a84",
   "metadata": {},
   "outputs": [
    {
     "name": "stdout",
     "output_type": "stream",
     "text": [
      "{'a': 2, 'an': 5, 'the': 3}\n"
     ]
    }
   ],
   "source": [
    "a = {\"a\":2, \"an\":5, \"the\":3}\n",
    "b = a.copy()\n",
    "print(b)"
   ]
  },
  {
   "cell_type": "code",
   "execution_count": 11,
   "id": "2fe777c3",
   "metadata": {},
   "outputs": [
    {
     "name": "stdout",
     "output_type": "stream",
     "text": [
      "{'a': 2, 'an': 5, 'the': 3}\n"
     ]
    }
   ],
   "source": [
    "c = dict([(\"a\",2),(\"an\",5),(\"the\",3)])\n",
    "print(c)"
   ]
  },
  {
   "cell_type": "code",
   "execution_count": 12,
   "id": "a0811bd2",
   "metadata": {},
   "outputs": [
    {
     "name": "stdout",
     "output_type": "stream",
     "text": [
      "{'a': 10, 'an': 10, 'the': 10}\n"
     ]
    }
   ],
   "source": [
    "d = dict.fromkeys([\"a\",\"an\",\"the\"], 10)\n",
    "print(d)"
   ]
  },
  {
   "cell_type": "code",
   "execution_count": 13,
   "id": "b00ceebc",
   "metadata": {},
   "outputs": [],
   "source": [
    "# Dictionaries are mutable. Tuples are immutable"
   ]
  },
  {
   "cell_type": "code",
   "execution_count": 14,
   "id": "c8131ab7",
   "metadata": {},
   "outputs": [
    {
     "name": "stdout",
     "output_type": "stream",
     "text": [
      "10\n",
      "10\n"
     ]
    }
   ],
   "source": [
    "print(d[\"a\"])\n",
    "print(d.get(\"a\"))"
   ]
  },
  {
   "cell_type": "code",
   "execution_count": 15,
   "id": "f69f206c",
   "metadata": {},
   "outputs": [],
   "source": [
    "# d[\"abc\"] gives error because the key \"abc\" doesn't exist in the dictionary.\n",
    "# Whereas d.get(\"abc\") doesn't give error and returns None."
   ]
  },
  {
   "cell_type": "code",
   "execution_count": 16,
   "id": "cec35f6e",
   "metadata": {},
   "outputs": [
    {
     "name": "stdout",
     "output_type": "stream",
     "text": [
      "None\n",
      "100\n"
     ]
    }
   ],
   "source": [
    "print(d.get(\"abc\"))\n",
    "print(d.get(\"abc\", 100)) # If the key is not present, it will return 100"
   ]
  },
  {
   "cell_type": "code",
   "execution_count": 17,
   "id": "060e8629",
   "metadata": {},
   "outputs": [
    {
     "name": "stdout",
     "output_type": "stream",
     "text": [
      "dict_keys(['a', 'an', 'the'])\n",
      "dict_items([('a', 2), ('an', 5), ('the', 3)])\n"
     ]
    }
   ],
   "source": [
    "print(a.keys()) # Returns all the keys\n",
    "print(a.items()) # Returns pair values of keys, values"
   ]
  },
  {
   "cell_type": "code",
   "execution_count": 18,
   "id": "fb7c93e2",
   "metadata": {},
   "outputs": [
    {
     "name": "stdout",
     "output_type": "stream",
     "text": [
      "a\n",
      "an\n",
      "the\n"
     ]
    }
   ],
   "source": [
    "# Prints all the keys\n",
    "for x in a:\n",
    "    print(x)"
   ]
  },
  {
   "cell_type": "code",
   "execution_count": 19,
   "id": "d8ca9704",
   "metadata": {},
   "outputs": [
    {
     "name": "stdout",
     "output_type": "stream",
     "text": [
      "2\n",
      "5\n",
      "3\n"
     ]
    }
   ],
   "source": [
    "# Prints all the values of keys\n",
    "\n",
    "for x in a:\n",
    "    print(a[x])"
   ]
  },
  {
   "cell_type": "code",
   "execution_count": 20,
   "id": "b5040d8b",
   "metadata": {},
   "outputs": [
    {
     "name": "stdout",
     "output_type": "stream",
     "text": [
      "a\n",
      "an\n",
      "the\n"
     ]
    }
   ],
   "source": [
    "# Prints all the keys\n",
    "\n",
    "for x in a.keys():\n",
    "    print(x)"
   ]
  },
  {
   "cell_type": "code",
   "execution_count": 21,
   "id": "ecb4c69e",
   "metadata": {},
   "outputs": [
    {
     "name": "stdout",
     "output_type": "stream",
     "text": [
      "2\n",
      "5\n",
      "3\n"
     ]
    }
   ],
   "source": [
    "# Prints all the values of keys\n",
    "\n",
    "for x in a.values():\n",
    "    print(x)"
   ]
  },
  {
   "cell_type": "code",
   "execution_count": 24,
   "id": "23faa583",
   "metadata": {},
   "outputs": [
    {
     "data": {
      "text/plain": [
       "{'a': 5, 'b': 2, 'c': 3, 'd': 4}"
      ]
     },
     "execution_count": 24,
     "metadata": {},
     "output_type": "execute_result"
    }
   ],
   "source": [
    "# Updating one dictionary with another\n",
    "\n",
    "dict1 = {'a':5,'b':10,'c':15}\n",
    "dict2 = {'b':2,'c':3,'d':4}\n",
    "dict1.update(dict2) # The values of common keys in dict1 will be updated as per dict2. \n",
    "# Any keys present in dict2 but not in dict1 will be added to dict1\n",
    "dict1"
   ]
  },
  {
   "cell_type": "code",
   "execution_count": 27,
   "id": "29806b20",
   "metadata": {},
   "outputs": [
    {
     "name": "stdout",
     "output_type": "stream",
     "text": [
      "6\n",
      "{'a': 5, 'c': 7}\n"
     ]
    }
   ],
   "source": [
    "# Removing keys from a dictionary\n",
    "\n",
    "a = {'a':5,'b':6,'c':7}\n",
    "print(a.pop('b')) # a.pop('b') will print the value of the key 'b'\n",
    "print(a)"
   ]
  },
  {
   "cell_type": "code",
   "execution_count": 49,
   "id": "475aca99",
   "metadata": {},
   "outputs": [
    {
     "data": {
      "text/plain": [
       "'d'"
      ]
     },
     "execution_count": 49,
     "metadata": {},
     "output_type": "execute_result"
    }
   ],
   "source": [
    "a = {'a':5,'b':6,'c':7,'d':6}\n",
    "del a['c']\n",
    "max(a)"
   ]
  },
  {
   "cell_type": "code",
   "execution_count": 34,
   "id": "0b9282c1",
   "metadata": {},
   "outputs": [
    {
     "data": {
      "text/plain": [
       "{}"
      ]
     },
     "execution_count": 34,
     "metadata": {},
     "output_type": "execute_result"
    }
   ],
   "source": [
    "a = {'a':5,'b':6,'c':7}\n",
    "a.clear()\n",
    "a"
   ]
  },
  {
   "cell_type": "code",
   "execution_count": null,
   "id": "ac076911",
   "metadata": {},
   "outputs": [],
   "source": [
    "del a # This deletes the dictionary itself"
   ]
  },
  {
   "cell_type": "markdown",
   "id": "bcfac34d",
   "metadata": {},
   "source": [
    "### --------------------------------------------------------------------------------------------------------------------------------------------------------------"
   ]
  },
  {
   "cell_type": "code",
   "execution_count": 35,
   "id": "62b44b69",
   "metadata": {},
   "outputs": [],
   "source": [
    "# Print all the words with frequency k"
   ]
  },
  {
   "cell_type": "code",
   "execution_count": 40,
   "id": "e2b171d2",
   "metadata": {},
   "outputs": [],
   "source": [
    "def frequency(string, k):\n",
    "    words = string.split(\" \")\n",
    "    freq = {}\n",
    "    \n",
    "    for word in words:\n",
    "        freq[word] = freq.get(word,0) + 1\n",
    "    \n",
    "    for key in freq:\n",
    "        if freq[key] == k:\n",
    "            print(key)"
   ]
  },
  {
   "cell_type": "code",
   "execution_count": 41,
   "id": "df697805",
   "metadata": {},
   "outputs": [],
   "source": [
    "def frequency_2(string):\n",
    "    words = string.split(\" \")\n",
    "    freq = {}\n",
    "    \n",
    "    for word in words:\n",
    "        if word not in freq:\n",
    "            freq[word] = 1\n",
    "        else:\n",
    "            freq[word] += 1\n",
    "    \n",
    "    for key in freq:\n",
    "        if freq[key] == k:\n",
    "            print(key)"
   ]
  },
  {
   "cell_type": "markdown",
   "id": "174c73bf",
   "metadata": {},
   "source": [
    "### --------------------------------------------------------------------------------------------------------------------------------------------------------------"
   ]
  },
  {
   "cell_type": "code",
   "execution_count": 50,
   "id": "e801a30f",
   "metadata": {},
   "outputs": [],
   "source": [
    "# You are given an array of integers that contain numbers in random order. \n",
    "# Write a program to find and return the number which occurs the maximum times in the given input.\n",
    "# If two or more elements contend for the maximum frequency, return the element which occurs in the array first."
   ]
  },
  {
   "cell_type": "code",
   "execution_count": 51,
   "id": "67f3ea52",
   "metadata": {},
   "outputs": [],
   "source": [
    "def frequency(arr):\n",
    "    freq = {}\n",
    "    for num in arr:\n",
    "        freq[num] = freq.get(num,0) + 1\n",
    "\n",
    "    ans = arr[0]\n",
    "    for num in arr:\n",
    "        if freq[num] > freq[ans]:\n",
    "            ans = num\n",
    "\n",
    "    return ans"
   ]
  },
  {
   "cell_type": "code",
   "execution_count": 1,
   "id": "7632e9d9",
   "metadata": {},
   "outputs": [],
   "source": [
    "# Given a random integer array A of size N. Find and print the count of pair of elements in the array which sum up to 0.\n",
    "# Note: Array A can contain duplicate elements as well."
   ]
  },
  {
   "cell_type": "code",
   "execution_count": 4,
   "id": "d72215a4",
   "metadata": {},
   "outputs": [],
   "source": [
    "def pair_sum(arr, n):\n",
    "    count = 0\n",
    "    for i in range(n):\n",
    "        for j in range(i+1,n):\n",
    "            if arr[i] + arr[j] == 0:\n",
    "                count += 1\n",
    "    return count\n",
    "\n",
    "# Time complexity = O(n^2)"
   ]
  },
  {
   "cell_type": "code",
   "execution_count": 13,
   "id": "c45a1c4e",
   "metadata": {},
   "outputs": [
    {
     "data": {
      "text/plain": [
       "16"
      ]
     },
     "execution_count": 13,
     "metadata": {},
     "output_type": "execute_result"
    }
   ],
   "source": [
    "arr = [2,-2,1,-1,3,4,3,-1,-2,-3,0,0,0,0,0]\n",
    "n = len(arr)\n",
    "pair_sum(arr,n)"
   ]
  },
  {
   "cell_type": "code",
   "execution_count": 18,
   "id": "a5e96c99",
   "metadata": {},
   "outputs": [],
   "source": [
    "def pair_sum_2(arr, n):\n",
    "    arr_dict = {}\n",
    "    for element in arr:\n",
    "        arr_dict[element] = arr_dict.get(element, 0) + 1\n",
    "    count = 0\n",
    "    for key in arr_dict:\n",
    "        if key > 0:\n",
    "            count += arr_dict[key] * arr_dict.get(-key, 0)\n",
    "        if key == 0:\n",
    "            x = arr_dict[key]\n",
    "            count += int(((x-1)*x)/2)\n",
    "    return count\n",
    "\n",
    "# Time complexity = O(n)\n",
    "# Space complexity = O(n)"
   ]
  },
  {
   "cell_type": "code",
   "execution_count": 19,
   "id": "7eb5c6e4",
   "metadata": {},
   "outputs": [
    {
     "data": {
      "text/plain": [
       "16"
      ]
     },
     "execution_count": 19,
     "metadata": {},
     "output_type": "execute_result"
    }
   ],
   "source": [
    "pair_sum_2(arr,n)"
   ]
  },
  {
   "cell_type": "code",
   "execution_count": 20,
   "id": "2cdc9087",
   "metadata": {},
   "outputs": [],
   "source": [
    "# In a hashmap/dictionary, the insertion of key and access of key is very fast"
   ]
  },
  {
   "cell_type": "markdown",
   "id": "daac39f2",
   "metadata": {},
   "source": [
    "**Building a hashmap/dictionary**\n",
    "\n",
    "The keys of a hashmap are stored in a bucket array. Before storing the key in a bucket array, we need to convert the key into\n",
    "an integer (the integer is an index of the bucket array) which is done with the help of a hashfunction.\n",
    "\n",
    "What is hashfunction?\n",
    "A hashfunction consists of 2 parts - Hashcode and Compression function.\n",
    "\n",
    "When we pass a key through a hashfunction, we get a hashcode. The hashcode is then passed through the compression function. Compression function makes sure the integer (index) returned by hashfunction is less than the size of bucket array.\n",
    "\n",
    "One example of compression function = hashcode % bucketsize"
   ]
  },
  {
   "cell_type": "markdown",
   "id": "52d2b0ec",
   "metadata": {},
   "source": [
    "**Calculating Hashcode**\n",
    "\n",
    "The hashcode of the string 'abc' can be represented as 10^2 * ascii value of 'a' + 10^1 * ascii value of 'b' + 10^0 * ascii value of 'c'\n",
    "\n",
    "If the base is a prime number, we get a good hashcode\n",
    "'abc' = p^2 * ascii value of 'a' + p^1 * ascii value of 'b' + p^0 * ascii value of 'c' where p is a prime number gives a good hashcode"
   ]
  },
  {
   "cell_type": "markdown",
   "id": "6d43aa8f",
   "metadata": {},
   "source": [
    "**Collision Handling**\n",
    "\n",
    "Sometimes we may get different hashcodes for 2 different strings. But when we pass the hashcodes through the compression function (hashcode % bucketsize), we may end up with the same answer. This is known as Collision Handling.\n",
    "\n",
    "Suppose we get 2 hashcodes of 205 and 305 and suppose the bucket size is 20. Then after passing both the hashcodes through the compression function, we get the same index for both the keys. i.e 5. Multiple keys are having the same index."
   ]
  },
  {
   "cell_type": "markdown",
   "id": "ca5c69e8",
   "metadata": {},
   "source": [
    "**Handling Collision Handling**\n",
    "\n",
    "Collision Handling is handled by 2 ways\n",
    "\n",
    "**Closed Hashing**\n",
    "\n",
    "Multiple elements are stored at the same index. Multiple elements at the same index are stored in the form of a linked list.\n",
    "\n",
    "**Open Addressing**\n",
    "\n",
    "Suppose the string(element) 'a' is stored at the index 'x'. i.e After passing the element through the hashfunction we get the index 'x'. Suppose index of another string (element) 'b' is also calculated by hashfunction as 'x'. Then we won't store the element 'b' at 'x'. But we will calculate the index of 'b' as hashfunction(b) + f(i) where i is the attempt number.\n",
    "\n",
    "f(0) = 0 So index at 0th attempt is h(b). If this index is filled, we go to the next attempt (first attempt)\n",
    "Index at 1st attempt is h(b) + f(1). If this index is filled, we go to the next attemp (second attempt). We keep repeating until we get an unfilled index\n",
    "\n",
    "**Types of Open Addressing techniques**\n",
    "\n",
    "In Linear Probing, f(i) = i\n",
    "In Quadratic Probing, f(i) = i^2\n",
    "In Double Hashing, f(i) = i * h'(b) where h'(b) is a new hashfunction of b."
   ]
  },
  {
   "cell_type": "code",
   "execution_count": 1,
   "id": "b574b93c",
   "metadata": {},
   "outputs": [],
   "source": [
    "# Create a hashmap"
   ]
  },
  {
   "cell_type": "code",
   "execution_count": 8,
   "id": "80ca0cba",
   "metadata": {},
   "outputs": [],
   "source": [
    "class MapNode:\n",
    "    def __init__(self, key, value):\n",
    "        self.key = key\n",
    "        self.value = value\n",
    "        self.next = None\n",
    "\n",
    "class Map:\n",
    "    def __init__(self):\n",
    "        self.bucketSize = 10\n",
    "        self.buckets = [None for x in range(self.bucketSize)]\n",
    "        self.count = 0\n",
    "    \n",
    "    def size(self):\n",
    "        return self.count\n",
    "    \n",
    "    def getHashIndex(self, hc):\n",
    "        return abs(hc) % self.bucketSize\n",
    "    \n",
    "    def insert(self, key, value):\n",
    "        \n",
    "        hc = hash(key)\n",
    "        index = getHashIndex(hc)\n",
    "        \n",
    "        head = self.buckets[index]\n",
    "        while head is not None:\n",
    "            if head.key == key:\n",
    "                head.value = value\n",
    "                return\n",
    "            head = head.next\n",
    "        \n",
    "        newNode = MapNode(key, value)\n",
    "        newNode.next = self.buckets[index]\n",
    "        self.buckets[index] = newNode"
   ]
  },
  {
   "cell_type": "code",
   "execution_count": 9,
   "id": "ff52f050",
   "metadata": {},
   "outputs": [
    {
     "data": {
      "text/plain": [
       "0"
      ]
     },
     "execution_count": 9,
     "metadata": {},
     "output_type": "execute_result"
    }
   ],
   "source": [
    "m = Map()\n",
    "m.count"
   ]
  },
  {
   "cell_type": "code",
   "execution_count": 1,
   "id": "84fda381",
   "metadata": {},
   "outputs": [],
   "source": [
    "class MapNode:\n",
    "    def __init__(self, key, value):\n",
    "        self.key = key\n",
    "        self.value = value\n",
    "        self.next = None\n",
    "\n",
    "class Map:\n",
    "    def __init__(self):\n",
    "        self.bucketSize = 10\n",
    "        self.buckets = [None for x in range(self.bucketSize)]\n",
    "        self.count = 0\n",
    "    \n",
    "    def size(self):\n",
    "        return self.count\n",
    "    \n",
    "    def getIndex(self, hc):\n",
    "        return abs(hc) % self.bucketSize\n",
    "    \n",
    "    def insert(self, key, value):\n",
    "        hc = hash(key)\n",
    "        index = self.getIndex(hc)\n",
    "        \n",
    "        head = self.buckets[index]\n",
    "        while head is not None:\n",
    "            if head.key == key:\n",
    "                head.value = value\n",
    "                return\n",
    "            head = head.next\n",
    "        \n",
    "        if (self.count/self.bucketSize) >= 0.7:\n",
    "            self.rehash()\n",
    "        newNode = MapNode(key, value)\n",
    "        newNode.next = self.buckets[index]\n",
    "        self.buckets[index] = newNode\n",
    "        self.count += 1\n",
    "    \n",
    "    def rehash(self):\n",
    "        temp = self.buckets\n",
    "        self.bucketSize = 2 * self.bucketSize\n",
    "        self.buckets = [None for x in self.bucketSize]\n",
    "        \n",
    "        self.count = 0\n",
    "        \n",
    "        for bucket in temp:\n",
    "            head = bucket\n",
    "            while head is not None:\n",
    "                self.insert(head, head.value)\n",
    "                self.count += 1\n",
    "                head = head.next\n",
    "    \n",
    "    def loadFactor(self):\n",
    "        return self.count / self.bucketSize\n",
    "    \n",
    "    def search(self, key):\n",
    "        \n",
    "        hc = hash(key)\n",
    "        index = self.getIndex(hc)\n",
    "        head = self.buckets[index]\n",
    "        \n",
    "        while head is not None:\n",
    "            if head.key == key:\n",
    "                return head.value\n",
    "        \n",
    "        return None\n",
    "    \n",
    "    def remove_1(self, key):\n",
    "        \n",
    "        hc = hash(key)\n",
    "        index = self.getIndex(hc)\n",
    "        head = self.buckets[index]\n",
    "        prev = None\n",
    "        \n",
    "        while head is not None:\n",
    "            if head.key == key:\n",
    "                if prev is None:\n",
    "                    self.buckets[index] = head.next\n",
    "                else:\n",
    "                    prev.next = head.next\n",
    "                self.count -= 1\n",
    "                return head.value\n",
    "            prev = head\n",
    "            head = head.next\n",
    "    \n",
    "    def remove_2(self, key):\n",
    "        \n",
    "        hc = hash(key)\n",
    "        index = self.getIndex(hc)\n",
    "        head = self.buckets[index]\n",
    "        \n",
    "        if head.key == key:\n",
    "            self.buckets[index] = head.next\n",
    "            self.count -= 1\n",
    "            return head.value\n",
    "        while head.next is not None:\n",
    "            if head.next.key == key:\n",
    "                head.next = head.next.next\n",
    "                self.count -= 1\n",
    "                return head.next.value"
   ]
  },
  {
   "cell_type": "code",
   "execution_count": 45,
   "id": "a2e05aa2",
   "metadata": {},
   "outputs": [
    {
     "name": "stdout",
     "output_type": "stream",
     "text": [
      "1\n",
      "2\n",
      "3\n",
      "3\n",
      "50\n",
      "50\n",
      "3\n",
      "None\n"
     ]
    }
   ],
   "source": [
    "m = Map()\n",
    "m.insert('a',10)\n",
    "print(m.size())\n",
    "m.insert('b',20)\n",
    "print(m.size())\n",
    "m.insert('c',30)\n",
    "print(m.size())\n",
    "m.insert('b',50)\n",
    "print(m.size())\n",
    "print(m.search('b'))\n",
    "print(m.remove_2('b'))\n",
    "print(m.size())\n",
    "print(m.search('b'))"
   ]
  },
  {
   "cell_type": "code",
   "execution_count": null,
   "id": "7d9f1966",
   "metadata": {},
   "outputs": [],
   "source": [
    "m = Map()\n",
    "m.insert('a',10)\n",
    "print(m.size())\n",
    "m.insert('b',20)\n",
    "print(m.size())\n",
    "m.insert('c',30)\n",
    "print(m.size())\n",
    "m.insert('d', 40)"
   ]
  },
  {
   "cell_type": "code",
   "execution_count": 46,
   "id": "7393f136",
   "metadata": {},
   "outputs": [],
   "source": [
    "# Worst case Time complexity of Search, Delete, getValue and Insert operation in a Hashmap\n",
    "\n",
    "# (1 Hash function time complexity = O(l) where l is the length of the string. We had already discussed how hash function is calculated.\n",
    "# We iterate through the string\n",
    "# Hash('abc') = 10^2 * ascii value of 'a' + 10^1 * ascii value of 'b' + 10^0 * ascii value of 'c'\n",
    "\n",
    "# (2 Time complexity of iterating through the linked list = O(n) assuming that all n elements of the linked list are at the same index\n",
    "\n",
    "# Total worst case time complexity = O(l) + O(n). We can ignore O(l) when compared to O(n)\n",
    "# Total worst case time complexity = O(n)\n",
    "\n",
    "# Average Time complexity of Search operation in a Hashmap\n",
    "\n",
    "# Suppose there are n entries and b buckets. On an average, there are n/b entries per bucket\n",
    "# We make sure that n/b < 0.7 (n/b) is also called Load Factor\n",
    "\n",
    "# Average time complexity = O(0.7) = O(1)\n",
    "\n",
    "# Rehashing\n",
    "\n",
    "# Suppose n keeps increasing (i.e we keep inserting the entries), then at some point of time, n/b becomes greater than 0.7\n",
    "# At such a time, we increase the number of buckets to 2 * b. This is the concept of Rehashing."
   ]
  },
  {
   "cell_type": "code",
   "execution_count": null,
   "id": "64aa3157",
   "metadata": {},
   "outputs": [],
   "source": [
    "# Given a string S, you need to remove all the duplicates. That means, the output string should contain each character only once.\n",
    "# The respective order of characters should remain same, as in the input string."
   ]
  },
  {
   "cell_type": "code",
   "execution_count": 11,
   "id": "e9c80e94",
   "metadata": {},
   "outputs": [],
   "source": [
    "def unique_character(s):\n",
    "    d = {}\n",
    "    result = \"\"\n",
    "    for character in s:\n",
    "        if character not in d:\n",
    "            result += character\n",
    "        d[character] = True\n",
    "    return result\n",
    "\n",
    "# Time complexity = O(n)"
   ]
  },
  {
   "cell_type": "code",
   "execution_count": 12,
   "id": "98e76d61",
   "metadata": {},
   "outputs": [
    {
     "data": {
      "text/plain": [
       "'dftregcvbh'"
      ]
     },
     "execution_count": 12,
     "metadata": {},
     "output_type": "execute_result"
    }
   ],
   "source": [
    "unique_character(\"dftredfgcvdertfgbh\")"
   ]
  },
  {
   "cell_type": "code",
   "execution_count": 9,
   "id": "a35ebeb8",
   "metadata": {},
   "outputs": [],
   "source": [
    "def unique_character_2(s):\n",
    "    \n",
    "    char_dict = {}\n",
    "    \n",
    "    for character in s:\n",
    "        char_dict[character] = char_dict.get(character, 0) + 1\n",
    "    \n",
    "    result = \"\"\n",
    "    for character in s:\n",
    "        if character in char_dict:\n",
    "            result += character\n",
    "            char_dict.pop(character)\n",
    "    \n",
    "    return result\n",
    "\n",
    "# Time complexity = O(n)"
   ]
  },
  {
   "cell_type": "code",
   "execution_count": 10,
   "id": "16384270",
   "metadata": {},
   "outputs": [
    {
     "data": {
      "text/plain": [
       "'abdesft'"
      ]
     },
     "execution_count": 10,
     "metadata": {},
     "output_type": "execute_result"
    }
   ],
   "source": [
    "unique_character_2(\"abddesftbd\")"
   ]
  },
  {
   "cell_type": "code",
   "execution_count": 1,
   "id": "ceb27d3d",
   "metadata": {},
   "outputs": [],
   "source": [
    "from collections import OrderedDict\n",
    "\n",
    "def unique_character_3(s): \n",
    "    \n",
    "    ord_dict = OrderedDict()\n",
    "    for character in s:\n",
    "        ord_dict[character] = ord_dict.get(character, 0) + 1\n",
    "    \n",
    "    result = \"\"\n",
    "    for key in ord_dict:\n",
    "        result = result + key\n",
    "    \n",
    "    return result\n",
    "\n",
    "# Time complexity = O(n)"
   ]
  },
  {
   "cell_type": "code",
   "execution_count": 13,
   "id": "6dc3a648",
   "metadata": {},
   "outputs": [],
   "source": [
    "# You are given an array of unique integers that contain numbers in random order. \n",
    "# You have to find the longest possible sequence of consecutive numbers using the numbers from given array.\n",
    "# You need to return the output array which contains starting and ending element. \n",
    "# If the length of the longest possible sequence is one, then the output array must contain only single element."
   ]
  },
  {
   "cell_type": "code",
   "execution_count": 81,
   "id": "8770a6e5",
   "metadata": {},
   "outputs": [],
   "source": [
    "def longest_subsequence(arr):\n",
    "    \n",
    "    sequences = {}\n",
    "    sequence = []\n",
    "    start = None\n",
    "    n = len(arr)\n",
    "    for i in range(n):\n",
    "        if sequence == []:\n",
    "            sequence = [arr[i]]\n",
    "            count = 1\n",
    "        if i+1 < n and arr[i+1] == arr[i] + 1:\n",
    "            sequence.append(arr[i+1])\n",
    "            count += 1\n",
    "            if i == n - 2:\n",
    "                sequences[sequence[0]] = count\n",
    "                sequence = []           \n",
    "        else:\n",
    "            sequences[sequence[0]] = count\n",
    "            sequence = [] \n",
    "    \n",
    "    start = max(sequences, key = sequences.get)\n",
    "    end = start + sequences[start] - 1\n",
    "    \n",
    "    if start is None:\n",
    "        return [start]\n",
    "    else:\n",
    "        return [start, end]\n",
    "    \n",
    "\n",
    "# Time complexity = O(n)\n",
    "# We assume that the input arr is sorted array"
   ]
  },
  {
   "cell_type": "code",
   "execution_count": 82,
   "id": "4064f231",
   "metadata": {},
   "outputs": [
    {
     "name": "stdout",
     "output_type": "stream",
     "text": [
      "[15, 19]\n"
     ]
    }
   ],
   "source": [
    "a = longest_subsequence([0,2,3,4,6,7,8,9,11,12,13,15,16,17,18,19])\n",
    "print(a)"
   ]
  },
  {
   "cell_type": "code",
   "execution_count": 83,
   "id": "6bd81256",
   "metadata": {},
   "outputs": [],
   "source": [
    "def longest_subsequence_2(arr):\n",
    "    \n",
    "    diff = 0\n",
    "    start = None\n",
    "    n = len(arr)\n",
    "    for i in range(n-1):\n",
    "        if arr[i] == arr[i+1] - 1:\n",
    "            temp_start = arr[i]\n",
    "            j = i+1\n",
    "            while (j < n - 1) and (arr[j+1] - arr[j] == 1):\n",
    "                j = j + 1\n",
    "            temp_end = arr[j]\n",
    "            if temp_end - temp_start > diff:\n",
    "                start = temp_start\n",
    "                end = temp_end\n",
    "                diff = temp_end - temp_start\n",
    "    \n",
    "    if start is None:\n",
    "        start = arr[0]\n",
    "        return [start]\n",
    "    \n",
    "    return [start, end]\n",
    "\n",
    "# Time complexity = O(n^2)"
   ]
  },
  {
   "cell_type": "code",
   "execution_count": 84,
   "id": "f53f51c4",
   "metadata": {},
   "outputs": [
    {
     "data": {
      "text/plain": [
       "[2, 4]"
      ]
     },
     "execution_count": 84,
     "metadata": {},
     "output_type": "execute_result"
    }
   ],
   "source": [
    "longest_subsequence_2([0,2,3,4])"
   ]
  },
  {
   "cell_type": "code",
   "execution_count": null,
   "id": "3f77e29b",
   "metadata": {},
   "outputs": [],
   "source": [
    "# You are given an array of unique integers that contain numbers in random order. \n",
    "# You have to find the longest possible sequence of consecutive numbers using the numbers from given array.\n",
    "# The consecutive numbers may be arranged in random order in the array\n",
    "# You need to return the output array which contains starting and ending element. \n",
    "# If the length of the longest possible sequence is one, then the output array must contain only single element."
   ]
  },
  {
   "cell_type": "code",
   "execution_count": null,
   "id": "aec00042",
   "metadata": {},
   "outputs": [],
   "source": []
  }
 ],
 "metadata": {
  "kernelspec": {
   "display_name": "Python 3 (ipykernel)",
   "language": "python",
   "name": "python3"
  },
  "language_info": {
   "codemirror_mode": {
    "name": "ipython",
    "version": 3
   },
   "file_extension": ".py",
   "mimetype": "text/x-python",
   "name": "python",
   "nbconvert_exporter": "python",
   "pygments_lexer": "ipython3",
   "version": "3.9.12"
  }
 },
 "nbformat": 4,
 "nbformat_minor": 5
}
