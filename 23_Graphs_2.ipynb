{
 "cells": [
  {
   "cell_type": "code",
   "execution_count": 1,
   "id": "973a0f9a",
   "metadata": {},
   "outputs": [],
   "source": [
    "# MST (Minimum Spanning Trees)"
   ]
  },
  {
   "cell_type": "code",
   "execution_count": 2,
   "id": "1c7ef91f",
   "metadata": {},
   "outputs": [],
   "source": [
    "# A tree is a graph which is connected and has no cycle.\n",
    "# A tree has n vertices and n-1 edges. If the n-1 edges don't form a cycle, then surely it has to be 'connected'"
   ]
  },
  {
   "cell_type": "code",
   "execution_count": 3,
   "id": "c60ddbc8",
   "metadata": {},
   "outputs": [],
   "source": [
    "# Spanning Trees\n",
    "\n",
    "# Spanning trees are the different trees that are possible for a graph of n vertices.\n",
    "# Like we connect the n vertices with n-1 edges in such a way that it is connected and has no cycles (Forms a tree)\n",
    "\n",
    "# Minimum Spanning Tree (MST)\n",
    "\n",
    "# A minimum spanning tree is the spanning tree which has minimum sum of weights of edges."
   ]
  },
  {
   "cell_type": "code",
   "execution_count": 4,
   "id": "bacc3e98",
   "metadata": {},
   "outputs": [],
   "source": [
    "# Only a weighted, undirected, connected graph would have spanning trees."
   ]
  },
  {
   "cell_type": "code",
   "execution_count": 6,
   "id": "aad15762",
   "metadata": {},
   "outputs": [],
   "source": [
    "# Kruscal's Algorithm - To find the MST of a graph\n",
    "\n",
    "# Select (n-1) edges and Skip the edge that forms a cycle.\n",
    "# Before selecting the edge, we will check if there exists a path between v1 and v2. If there already exists a path between\n",
    "# v1 and v2, we will skip that edge because selecting that edge will form a cycle.\n",
    "# So time complexity of this method is v*O(E) = v*O(v) = v^2\n",
    "\n",
    "# Note - O(E) = O(v) if there are no cycles in the graph\n",
    "\n",
    "# Alternate method\n",
    "# We can check if v1 and v2 belong to the same component or not. If they belong to the same component, then connecting them will\n",
    "# make a cycle. Time complexity of this method is O(n) and is implemented as shown below"
   ]
  },
  {
   "cell_type": "code",
   "execution_count": 75,
   "id": "bacbfe98",
   "metadata": {},
   "outputs": [],
   "source": [
    "# kruscal's Algorithm\n",
    "\n",
    "class Edge:\n",
    "    def __init__(self, src, destn, weight):\n",
    "        self.src = src\n",
    "        self.destn = destn\n",
    "        self.weight = weight\n",
    "    \n",
    "    def __lt__(self, other):\n",
    "        return self.weight < other.weight\n",
    "    \n",
    "    def __gt__(self, other):\n",
    "        return self.weight > other.weight\n",
    "    \n",
    "    def __eq__(self, other):\n",
    "        return self.weight == other.weight\n",
    "\n",
    "def merge(arr1, arr2):\n",
    "    \n",
    "    i = 0\n",
    "    j = 0\n",
    "    merged_arr = []\n",
    "    while i < len(arr1) and j < len(arr2):\n",
    "        if arr1[i] < arr2[j]:\n",
    "            merged_arr.append(arr1[i])\n",
    "            i+=1\n",
    "        else:\n",
    "            merged_arr.append(arr2[j])\n",
    "            j+=1\n",
    "    merged_arr = merged_arr + arr1[i:] + arr2[j:]\n",
    "    return merged_arr\n",
    "    \n",
    "def merge_sort(arr):\n",
    "    \n",
    "    if len(arr) == 1:\n",
    "        return arr\n",
    "    \n",
    "    mid = len(arr) // 2\n",
    "    left = merge_sort(arr[:mid])\n",
    "    right = merge_sort(arr[mid:])\n",
    "    sorted_array = merge(left, right)\n",
    "    return sorted_array\n",
    "\n",
    "def get_parent(parent_array, vertice):\n",
    "    if parent_array[vertice] == vertice:\n",
    "        return vertice\n",
    "    return get_parent(parent_array, parent_array[vertice])\n",
    "\n",
    "def kruscal(edge_input, v):\n",
    "    \n",
    "    sorted_edge_input = merge_sort(edge_input)\n",
    "    parent_array = [_ for _ in range(v)]\n",
    "    count = 0\n",
    "    i = 0\n",
    "    edge_output = []\n",
    "    while count < v-1:\n",
    "        edge = sorted_edge_input[i]\n",
    "        # Union Find Algorithm\n",
    "        src_parent = get_parent(parent_array, edge.src)\n",
    "        destn_parent = get_parent(parent_array, edge.destn)\n",
    "        '''while parent_array[src_parent] != src_parent:\n",
    "            src_parent = parent_array[src_parent]\n",
    "        while parent_array[destn_parent] != destn_parent:\n",
    "            destn_parent = parent_array[destn_parent]'''\n",
    "        if src_parent != destn_parent:\n",
    "            parent_array[destn_parent] = src_parent\n",
    "            edge_output.append(edge)\n",
    "            count += 1\n",
    "        i += 1\n",
    "        \n",
    "    return edge_output"
   ]
  },
  {
   "cell_type": "code",
   "execution_count": 71,
   "id": "f8498f53",
   "metadata": {},
   "outputs": [
    {
     "name": "stdout",
     "output_type": "stream",
     "text": [
      "1,0,2\n",
      "1,3,2\n",
      "2,3,2\n"
     ]
    }
   ],
   "source": [
    "e1 = Edge(1,2,6)\n",
    "e2 = Edge(2,3,2)\n",
    "e3 = Edge(1,3,2)\n",
    "e4 = Edge(1,0,2)\n",
    "edge_input = [e1,e2,e3,e4]\n",
    "edge_output = kruscal(edge_input, 4)\n",
    "for x in edge_output:\n",
    "    print(\"{},{},{}\".format(x.src,x.destn,x.weight))"
   ]
  },
  {
   "cell_type": "code",
   "execution_count": 72,
   "id": "805ac44e",
   "metadata": {},
   "outputs": [],
   "source": [
    "# Time complexity of Kruskal's algorith which uses Union Find Algorithm\n",
    "# 1) Taking input - O(E)\n",
    "# 2) Sorting the input edge array - O(E * logE)\n",
    "# 3) The loop which performs Union Find algorithm - O(E * v) (Because E times and we are traversing v vertices in worst case)\n",
    "\n",
    "# Overall time complexity = O((E * logE) + (E * v))\n",
    "\n",
    "# In Kruskal's algorithm, If we replace Union Find algorithm with Union by Rank and Path Compression Algorithm,\n",
    "# then time complexity of step No.3 is O(E * logv)\n",
    "\n",
    "# Overall time complexity = O((E * logE) + (E * logv))"
   ]
  },
  {
   "cell_type": "code",
   "execution_count": 86,
   "id": "e2dd47dc",
   "metadata": {},
   "outputs": [],
   "source": [
    "import queue\n",
    "import sys\n",
    "\n",
    "class Edge:\n",
    "    def __init__(self, src, dest, weight):\n",
    "        self.src = src\n",
    "        self.dest = dest\n",
    "        self.weight = weight\n",
    "        \n",
    "def prim(edge_input, v):\n",
    "    \n",
    "    unvisited = [_ for _ in range(v)]\n",
    "    visited = [False for _ in range(v)]\n",
    "    weight = [sys.maxsize for _ in range(v)]\n",
    "    parent = [None for _ in range(v)]\n",
    "    q = queue.Queue()\n",
    "    q.put(0)\n",
    "    visited[0] = True\n",
    "    weight[0] = 0\n",
    "    parent[0] = -1\n",
    "    while not(q.empty()):\n",
    "        vertice = q.get()\n",
    "        for edge in edge_input:\n",
    "            if edge.src == vertice:\n",
    "                if edge.weight < weight[edge.dest]:\n",
    "                    weight[edge.dest] = edge.weight\n",
    "                    parent[edge.dest] = edge.src\n",
    "                if visited[edge.dest] is False:\n",
    "                    q.put(edge.dest)\n",
    "                    visited[edge.dest] = True\n",
    "            elif edge.dest == vertice:\n",
    "                if edge.weight < weight[edge.src]:\n",
    "                    weight[edge.src] = edge.weight\n",
    "                    parent[edge.src] = edge.dest\n",
    "                if visited[edge.src] is False:\n",
    "                    q.put(edge.src)\n",
    "                    visited[edge.src] = True\n",
    "    \n",
    "    for i in range(1,v):\n",
    "        if parent[i] < i:\n",
    "            print(\"{} {} {}\".format(parent[i],i,weight[i]))\n",
    "        else:\n",
    "            print(\"{} {} {}\".format(i,parent[i],weight[i]))"
   ]
  },
  {
   "cell_type": "code",
   "execution_count": 87,
   "id": "61aa82f9",
   "metadata": {},
   "outputs": [
    {
     "name": "stdout",
     "output_type": "stream",
     "text": [
      "1 3 2\n",
      "2 3 1\n",
      "2 3 1\n"
     ]
    }
   ],
   "source": [
    "e1 = Edge(0,1,100)\n",
    "e2 = Edge(0,2,50)\n",
    "e3 = Edge(1,2,3)\n",
    "e4 = Edge(2,3,1)\n",
    "e5 = Edge(3,1,2)\n",
    "edge_input = [e1,e2,e3,e4,e5]\n",
    "prim(edge_input,4)"
   ]
  },
  {
   "cell_type": "code",
   "execution_count": null,
   "id": "60008ccc",
   "metadata": {},
   "outputs": [],
   "source": []
  }
 ],
 "metadata": {
  "kernelspec": {
   "display_name": "Python 3 (ipykernel)",
   "language": "python",
   "name": "python3"
  },
  "language_info": {
   "codemirror_mode": {
    "name": "ipython",
    "version": 3
   },
   "file_extension": ".py",
   "mimetype": "text/x-python",
   "name": "python",
   "nbconvert_exporter": "python",
   "pygments_lexer": "ipython3",
   "version": "3.9.12"
  }
 },
 "nbformat": 4,
 "nbformat_minor": 5
}
