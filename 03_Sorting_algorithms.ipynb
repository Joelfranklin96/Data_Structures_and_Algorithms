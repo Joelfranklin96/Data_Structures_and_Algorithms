{
 "cells": [
  {
   "cell_type": "code",
   "execution_count": 3,
   "id": "ed8e9b38",
   "metadata": {},
   "outputs": [],
   "source": [
    "def bubble_sort(arr):\n",
    "    \n",
    "    for i in range(0,len(arr)-1):\n",
    "        flag = 0\n",
    "        for j in range(0,len(arr)-1-i):\n",
    "            if arr[j] > arr[j+1]:\n",
    "                temp = arr[j]\n",
    "                arr[j] = arr[j+1]\n",
    "                arr[j+1] = temp\n",
    "                flag = 1\n",
    "        if flag == 0:\n",
    "            return arr\n",
    "    \n",
    "    return arr\n",
    "\n",
    "# Worst time complexity = O(n^2)\n",
    "# Best time complexity with flag = O(n)\n",
    "# Best time complexity without flag = O(n^2)"
   ]
  },
  {
   "cell_type": "code",
   "execution_count": 4,
   "id": "2fea2b6f",
   "metadata": {},
   "outputs": [
    {
     "data": {
      "text/plain": [
       "[1, 1, 2, 2, 3, 4, 5]"
      ]
     },
     "execution_count": 4,
     "metadata": {},
     "output_type": "execute_result"
    }
   ],
   "source": [
    "bubble_sort([1,2,1,3,2,4,5])"
   ]
  },
  {
   "cell_type": "code",
   "execution_count": 5,
   "id": "9336edce",
   "metadata": {},
   "outputs": [],
   "source": [
    "def selection_sort(arr):\n",
    "    \n",
    "    for i in range(0, len(arr)-1):\n",
    "        small = i\n",
    "        for j in range(i+1, len(arr)):\n",
    "            if arr[j] < arr[small]:\n",
    "                small = j\n",
    "        arr[small], arr[i] = arr[i], arr[small]\n",
    "    \n",
    "    return arr\n",
    "\n",
    "# Worst time complexity = O(n^2)\n",
    "# Best time complexity = O(n^2)"
   ]
  },
  {
   "cell_type": "code",
   "execution_count": 6,
   "id": "4e89d3af",
   "metadata": {},
   "outputs": [
    {
     "data": {
      "text/plain": [
       "[1, 1, 1, 2, 2, 4, 4, 5, 6]"
      ]
     },
     "execution_count": 6,
     "metadata": {},
     "output_type": "execute_result"
    }
   ],
   "source": [
    "selection_sort([1,4,2,1,4,5,6,2,1])"
   ]
  },
  {
   "cell_type": "code",
   "execution_count": 24,
   "id": "ddded693",
   "metadata": {},
   "outputs": [],
   "source": [
    "def insertion_sort(arr):\n",
    "    \n",
    "    for i in range(1,len(arr)):\n",
    "        j = i - 1\n",
    "        key = arr[i]\n",
    "        while key < arr[j] and j >= 0:\n",
    "            temp = arr[j]\n",
    "            arr[j] = key\n",
    "            arr[j+1] = temp\n",
    "            key = arr[j]\n",
    "            j = j - 1\n",
    "    \n",
    "    return arr\n",
    "\n",
    "# Worst time complexity = O(n^2)\n",
    "# Best time complexity = O(n)"
   ]
  },
  {
   "cell_type": "code",
   "execution_count": 25,
   "id": "542b613d",
   "metadata": {},
   "outputs": [
    {
     "data": {
      "text/plain": [
       "[1, 1, 2, 2, 2, 3, 3, 3, 3, 4, 4, 5, 5]"
      ]
     },
     "execution_count": 25,
     "metadata": {},
     "output_type": "execute_result"
    }
   ],
   "source": [
    "insertion_sort([5,4,3,2,1,2,3,1,4,3,2,5,3])"
   ]
  },
  {
   "cell_type": "code",
   "execution_count": 14,
   "id": "86c14dd2",
   "metadata": {},
   "outputs": [],
   "source": [
    "def binary_search(arr,lo,hi,x):\n",
    "    \n",
    "    mid = (lo + hi)//2\n",
    "    \n",
    "    if len(arr) == 0:\n",
    "        return -1\n",
    "    \n",
    "    elif lo > hi:\n",
    "        return -1\n",
    "    \n",
    "    elif arr[mid] == x:\n",
    "        return mid\n",
    "    \n",
    "    elif arr[mid] > x:\n",
    "        hi = mid -1\n",
    "        return binary_search(arr,lo,hi,x)\n",
    "    \n",
    "    else:\n",
    "        lo = mid + 1\n",
    "        return binary_search(arr,lo,hi,x)"
   ]
  },
  {
   "cell_type": "code",
   "execution_count": 16,
   "id": "860acd86",
   "metadata": {},
   "outputs": [
    {
     "data": {
      "text/plain": [
       "1"
      ]
     },
     "execution_count": 16,
     "metadata": {},
     "output_type": "execute_result"
    }
   ],
   "source": [
    "a = [1,2,2,3,4,6,7,8]\n",
    "binary_search(a,0,len(a)-1,2)"
   ]
  },
  {
   "cell_type": "code",
   "execution_count": 39,
   "id": "8c3687aa",
   "metadata": {},
   "outputs": [],
   "source": [
    "def binary_search_1(arr, key):\n",
    "    \n",
    "    lo = 0\n",
    "    hi = len(arr) - 1\n",
    "    \n",
    "    mid = (lo + hi)//2\n",
    "    if lo > hi:\n",
    "        return \"Not found\"\n",
    "    elif arr[mid] == key:\n",
    "        return \"Found\"\n",
    "    elif arr[mid] > key:\n",
    "        hi = mid - 1\n",
    "        return binary_search_1(arr[:hi+1],key)\n",
    "    else:\n",
    "        lo = mid + 1\n",
    "        return binary_search_1(arr[lo:],key)\n",
    "\n",
    "# Worst case time complexity = O(logn)\n",
    "# Best case time complexity = O(1)"
   ]
  },
  {
   "cell_type": "code",
   "execution_count": 44,
   "id": "2e162a3c",
   "metadata": {},
   "outputs": [
    {
     "data": {
      "text/plain": [
       "'Not found'"
      ]
     },
     "execution_count": 44,
     "metadata": {},
     "output_type": "execute_result"
    }
   ],
   "source": [
    "binary_search_1([1,2,2,3,4,6,7,8],5)"
   ]
  },
  {
   "cell_type": "code",
   "execution_count": 36,
   "id": "e9e0ed1b",
   "metadata": {},
   "outputs": [],
   "source": [
    "def binary_search_2(arr, key):\n",
    "    \n",
    "    mid = len(arr)//2\n",
    "    if arr == []:\n",
    "        return \"Not found\"\n",
    "    elif arr[mid] == key:\n",
    "        return \"Found\"\n",
    "    elif arr[mid] > key:\n",
    "        return binary_search_2(arr[:mid], key)\n",
    "    else:\n",
    "        return binary_search_2(arr[mid+1:],key)"
   ]
  },
  {
   "cell_type": "code",
   "execution_count": 45,
   "id": "c233b0d2",
   "metadata": {},
   "outputs": [
    {
     "data": {
      "text/plain": [
       "'Not found'"
      ]
     },
     "execution_count": 45,
     "metadata": {},
     "output_type": "execute_result"
    }
   ],
   "source": [
    "binary_search_2([1,2,2,3,4,6,7,8],5)"
   ]
  },
  {
   "cell_type": "code",
   "execution_count": 17,
   "id": "46387b8f",
   "metadata": {},
   "outputs": [],
   "source": [
    "def binary_search_practice(arr,lo,hi,x):\n",
    "    \n",
    "    mid = (lo + hi)//2\n",
    "    if lo > hi:\n",
    "        return -1\n",
    "    elif arr[mid] == x:\n",
    "        return mid\n",
    "    elif arr[mid] > x:\n",
    "        hi = mid - 1\n",
    "        return binary_search_practice(arr[lo:hi],lo,hi,x)\n",
    "    else:\n",
    "        lo = mid + 1\n",
    "        return binary_search_practice(arr[lo:hi],lo,hi,x)"
   ]
  },
  {
   "cell_type": "code",
   "execution_count": 21,
   "id": "7cc12f60",
   "metadata": {},
   "outputs": [
    {
     "data": {
      "text/plain": [
       "4"
      ]
     },
     "execution_count": 21,
     "metadata": {},
     "output_type": "execute_result"
    }
   ],
   "source": [
    "a = [1,2,2,2,2,3,4,6,7,8]\n",
    "binary_search_practice(a,0,len(a)-1,2)"
   ]
  },
  {
   "cell_type": "code",
   "execution_count": 2,
   "id": "64dd6119",
   "metadata": {},
   "outputs": [],
   "source": [
    "def merge_sort(arr):\n",
    "    \n",
    "    if len(arr) == 1: \n",
    "        return arr\n",
    "    else:\n",
    "        mid = len(arr) // 2\n",
    "        \n",
    "        left_sorted = merge_sort(arr[:mid])\n",
    "        right_sorted = merge_sort(arr[mid:])\n",
    "        \n",
    "        whole_sorted = merge(left_sorted, right_sorted)\n",
    "        \n",
    "        return whole_sorted\n",
    "    \n",
    "# Worst case time complexity = O(n*logn)\n",
    "# Average case time complexity = O(n*logn)\n",
    "# Best case time complexity = O(n*logn)\n",
    "\n",
    "# Space complexity = O(n)"
   ]
  },
  {
   "cell_type": "code",
   "execution_count": 5,
   "id": "d095f3da",
   "metadata": {},
   "outputs": [],
   "source": [
    "def merge(arr1, arr2):\n",
    "    \n",
    "    arr = []\n",
    "    i = 0\n",
    "    j = 0\n",
    "    while i < len(arr1) and j < len(arr2):\n",
    "        if arr1[i] < arr2[j]:\n",
    "            arr.append(arr1[i])\n",
    "            i = i + 1\n",
    "        else:\n",
    "            arr.append(arr2[j])\n",
    "            j = j + 1\n",
    "    \n",
    "    return arr + arr1[i:] + arr2[j:]"
   ]
  },
  {
   "cell_type": "code",
   "execution_count": 8,
   "id": "cd652773",
   "metadata": {},
   "outputs": [
    {
     "data": {
      "text/plain": [
       "[1, 1, 2, 2, 3, 3, 4, 4, 5, 11]"
      ]
     },
     "execution_count": 8,
     "metadata": {},
     "output_type": "execute_result"
    }
   ],
   "source": [
    "merge_sort([1,4,3,2,5,4,3,2,1,11])"
   ]
  },
  {
   "cell_type": "code",
   "execution_count": 11,
   "id": "52a80302",
   "metadata": {},
   "outputs": [],
   "source": [
    "def quick_sort(arr):\n",
    "    \n",
    "    if len(arr) == 1 or len(arr) == 0:\n",
    "        return arr\n",
    "    element = arr.pop()\n",
    "    \n",
    "    left = []\n",
    "    right = []\n",
    "    \n",
    "    for x in arr:\n",
    "        if x < element:\n",
    "            left.append(x)  \n",
    "        else:\n",
    "            right.append(x)\n",
    "    return quick_sort(left) + [element] + quick_sort(right)\n",
    "\n",
    "# Worst case time complexity = O(n^2)\n",
    "# Best case time complexity = O(n * logn)\n",
    "# Average case time complexity = O(n * logn)\n",
    "\n",
    "# Space complexity ="
   ]
  },
  {
   "cell_type": "code",
   "execution_count": 12,
   "id": "271e4f17",
   "metadata": {},
   "outputs": [
    {
     "data": {
      "text/plain": [
       "[1, 2, 3, 3, 3, 4, 4, 4, 5, 5, 12]"
      ]
     },
     "execution_count": 12,
     "metadata": {},
     "output_type": "execute_result"
    }
   ],
   "source": [
    "quick_sort([1,4,3,2,5,4,3,12,5,3,4])"
   ]
  }
 ],
 "metadata": {
  "kernelspec": {
   "display_name": "Python 3 (ipykernel)",
   "language": "python",
   "name": "python3"
  },
  "language_info": {
   "codemirror_mode": {
    "name": "ipython",
    "version": 3
   },
   "file_extension": ".py",
   "mimetype": "text/x-python",
   "name": "python",
   "nbconvert_exporter": "python",
   "pygments_lexer": "ipython3",
   "version": "3.9.12"
  }
 },
 "nbformat": 4,
 "nbformat_minor": 5
}
