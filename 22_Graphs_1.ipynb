{
 "cells": [
  {
   "cell_type": "code",
   "execution_count": 1,
   "id": "12cb2b08",
   "metadata": {},
   "outputs": [],
   "source": [
    "# Graphs are common data structures used in most of the companies\n",
    "# Graphs have 'vertices'(nodes) and 'edges'\n",
    "# It is not necessary that each vertex is connected by an edge"
   ]
  },
  {
   "cell_type": "code",
   "execution_count": 2,
   "id": "f465bd44",
   "metadata": {},
   "outputs": [],
   "source": [
    "# Graphs are commonly used in Social Media Networks\n",
    "# Graphs are also used in Road Networks"
   ]
  },
  {
   "cell_type": "code",
   "execution_count": 42,
   "id": "cfd2e75f",
   "metadata": {},
   "outputs": [],
   "source": [
    "# 'Adjacent vertices' are those vertices that are connected by 'edges'\n",
    "# 'Degree' of a vertex is how many edges pass through that vertex\n",
    "# Vertex A and Vertex B have 'path' if vertex B can be reached from vertex A by traversing through the edges\n",
    "# If there is a path between any 2 vertices in a graph, then the graph is a 'Connected Graph'. Otherwise\n",
    "# it's a 'Disconnected Graph'\n",
    "\n",
    "# A 'Disconnected Graph' can have multiple connected components.\n",
    "# A connected component is one in which there is a path between any 2 vertices of the component.\n",
    "# A connected component is a connected sub graph of the graph.\n",
    "\n",
    "# A 'Connected' graph will have only 1 connected component which is the graph itself.\n",
    "\n",
    "# A 'Tree' can also be called as a 'Graph'\n",
    "# A 'Tree' is a connected graph as there is a path between any 2 vertices.\n",
    "# A 'Disconnected' graph will never be a tree.\n",
    "# Another property of 'Tree' is that a tree doesn't have a loop/cycle\n",
    "\n",
    "# A 'Graph' is a 'Tree' if the graph is 'Connected' and has no loops/cycles."
   ]
  },
  {
   "cell_type": "code",
   "execution_count": 43,
   "id": "b742cb6a",
   "metadata": {},
   "outputs": [],
   "source": [
    "# Minimum 'edges' in a graph = 0\n",
    "# Minimum 'edges' in a connected graph = n-1 (where n is the number of 'vertices')\n",
    "# Can we say if a graph has (n-1) edges, it is surely a 'connected' graph?\n",
    "# A 'Tree' has (n-1) edges\n",
    "# Maximum 'edges' in a connected graph = ((n-1)(n))/2\n",
    "\n",
    "# So time complexity (in terms of edges) of a 'connected' graph is O(n^2) (where n is the number of 'vertices')"
   ]
  },
  {
   "cell_type": "code",
   "execution_count": 44,
   "id": "2b739387",
   "metadata": {},
   "outputs": [],
   "source": [
    "# Implementation of Graphs\n",
    "\n",
    "# 1) Brute Force method \n",
    "# Maintain 2 arrays. One array for vertices and another array for edges\n",
    "# Vertices array contains all the vertices\n",
    "# Each element of 'Edges' array is a tuple of 2 vertices indicating the edge between the 2 vertices.\n",
    "# Vertices array - [0,1,2,3]\n",
    "# 'Edges' array - [(0,1),(1,2),(2,3),(3,0)]\n",
    "\n",
    "# By the above method, if we want to know whether an edge exists between 2 vertices or not, we need to traverse the entire Edges\n",
    "# array. So time complexity = O(^2) as length of edges array is order of n^2 (worst case) where n is the number of vertices\n",
    "\n",
    "# (2 Adjacency list method \n",
    "# Maintain one array of vertices\n",
    "# Each element of vertices array has the name as the vertex name but each element also stores the list of vertices that \n",
    "# are adjacent to that vertex. Adjacent vertices are those that are connected. Now time complexity of finding whether\n",
    "# vertex (say 3) and  vertex 2 are connected or not becomes O(n) where n is the number of vertices.\n",
    "# The time complexity of getting to the vertex 3 is O(1). Traversing throught the list of adjacent vertices of vertex 3 \n",
    "# to find vertex 2 is O(n). Time complexity becomes O(1) if the adjacent vertices are stored in the form of a dictionary.\n",
    "\n",
    "# The time complexity of searching for a key in a dictionary is O(1) on average case. \n",
    "# When you search for a key in a dictionary, the hash table calculates the hash value of the key, \n",
    "# which is used to locate the corresponding value in the table. Since the hash table has a fixed number of slots, \n",
    "# the time to locate the value is constant and independent of the size of the dictionary.\n",
    "\n",
    "# 3) Adjancency Matrix\n",
    "\n",
    "# Adjacency matrix is a 2-d matrix of n x n where n is the number of vertices. If there is a edge between vertex 2 and \n",
    "# vertex 3, then adjacency_matrix[2][3] = adjacency_matrix[3][2] = 1. But space complexity of Adjacency Matrix = O(n^2)\n",
    "\n",
    "# If we have n vertices and O(n) edges, then Adjacency list makes sense as space complexity = O(E) = O(n) and time complexity\n",
    "# of searching whether an edge exists between 2 vertices or not is O(1)\n",
    "\n",
    "# If we have n vertices and O(n^2) edges, then Adjacency matrix makes sense as space complexity = O(n^2) and time complexity\n",
    "# of searching whether an edge exists between 2 vertices or not is O(1) and Adjacency matrix is more convenient than\n",
    "# Adjacency list."
   ]
  },
  {
   "cell_type": "code",
   "execution_count": 45,
   "id": "6fe9f151",
   "metadata": {},
   "outputs": [],
   "source": [
    "# Implementation of Graph\n",
    "\n",
    "import numpy as np\n",
    "import queue\n",
    "\n",
    "class Graph:\n",
    "    def __init__(self, nVertices):\n",
    "        self.nVertices = nVertices\n",
    "        self.adjMatrix = np.zeros((nVertices,nVertices))\n",
    "    \n",
    "    def addEdge(self,v1,v2):\n",
    "        self.adjMatrix[v1][v2] = 1\n",
    "        self.adjMatrix[v2][v1] = 1\n",
    "    \n",
    "    def __dfs_helper(self, sv, visited):\n",
    "        print(sv)\n",
    "        visited[sv] = True\n",
    "        for i in range(self.nVertices):\n",
    "            if self.adjMatrix[sv][i] == 1 and visited[i] is False:\n",
    "                self.__dfs_helper(i,visited)\n",
    "    \n",
    "    def dfs(self):\n",
    "        visited = [False for i in range(self.nVertices)]\n",
    "        for i in range(self.nVertices):\n",
    "            if visited[i] is False:\n",
    "                self.__dfs_helper(i, visited)\n",
    "    \n",
    "    def __bfs_helper(self, source, visited):\n",
    "        q = queue.Queue()\n",
    "        q.put(source)\n",
    "        visited[source] = True\n",
    "        while not(q.empty()):\n",
    "            vertice = q.get()\n",
    "            print(vertice)\n",
    "            for i in range(self.nVertices):\n",
    "                if self.adjMatrix[vertice][i] == 1 and visited[i] is False:\n",
    "                    q.put(i)\n",
    "                    visited[i] = True\n",
    "    \n",
    "    def bfs(self):\n",
    "        visited = [False for i in range(self.nVertices)]\n",
    "        for i in range(self.nVertices):\n",
    "            if visited[i] is False:\n",
    "                self.__bfs_helper(i,visited)\n",
    "    \n",
    "    def __hasPathHelper(self, v1, v2, visited):\n",
    "        adj_vertices = []\n",
    "        for i in range(self.nVertices):\n",
    "            if self.adjMatrix[v2][i] == 1 and visited[i] is False:\n",
    "                adj_vertices.append(i)\n",
    "                visited[i] = True\n",
    "        \n",
    "        if v1 in adj_vertices:\n",
    "            return True\n",
    "        else:\n",
    "            a = []\n",
    "            for v in adj_vertices:\n",
    "                a.append(self.__hasPathHelper(v1,v,visited))\n",
    "        \n",
    "        if True in a:\n",
    "            return True\n",
    "        else:\n",
    "            return False\n",
    "    \n",
    "    def __hasPathHelper_2(self, v1, v2, visited):\n",
    "        \n",
    "        q = queue.Queue()\n",
    "        q.put(v1)\n",
    "        visited[v1] = True\n",
    "        while not(q.empty()):\n",
    "            vertice = q.get()\n",
    "            if vertice == v2:\n",
    "                return True\n",
    "            for i in range(self.nVertices):\n",
    "                if self.adjMatrix[vertice][i] == 1 and visited[i] is False:\n",
    "                    q.put(i)\n",
    "                    visited[i] = True\n",
    "        return False\n",
    "                  \n",
    "                   \n",
    "    def hasPath(self,v1,v2):\n",
    "        visited = [False for i in range(self.nVertices)]\n",
    "        return self.__hasPathHelper_2(v1,v2,visited)\n",
    "    \n",
    "    def get_dfs_path_helper(self, v1, v2, visited):\n",
    "        print(v1, end = \" \")\n",
    "        visited[v1] = True\n",
    "        visited_2 = [x for x in visited]\n",
    "        adj_vertices = []\n",
    "        for i in range(self.nVertices):\n",
    "            if self.adjMatrix[v1][i] == 1 and visited[i] is False:\n",
    "                adj_vertices.append(i)\n",
    "        for vertice in adj_vertices:\n",
    "            if self.__hasPathHelper_2(vertice,v2, visited_2):\n",
    "                if vertice == v2:\n",
    "                    print(v2, end = \" \")\n",
    "                    visited[v2] = True\n",
    "                    return\n",
    "                else:\n",
    "                    self.get_dfs_path_helper(vertice, v2, visited)\n",
    "                    return\n",
    "    \n",
    "    def get_dfs_path(self,v1,v2):\n",
    "        visited = [False for i in range(self.nVertices)]\n",
    "        visited_2 = [False for i in range(self.nVertices)]\n",
    "        self.get_dfs_path_helper(v1,v2,visited)\n",
    "        \n",
    "    def removeEdge(self,v1,v2):\n",
    "        if not(self.containsEdge(v1,v2)):\n",
    "            return\n",
    "        self.adjMatrix[v1][v2] = 0\n",
    "        self.adjMatrix[v2][v1] = 0\n",
    "    \n",
    "    def containsEdge(self, v1, v2):\n",
    "        return self.adjMatrix[v1][v2] == 1\n",
    "    \n",
    "    def __str__(self):\n",
    "        return str(self.adjMatrix)"
   ]
  },
  {
   "cell_type": "code",
   "execution_count": 110,
   "id": "484e2ce1",
   "metadata": {},
   "outputs": [
    {
     "name": "stdout",
     "output_type": "stream",
     "text": [
      "True\n",
      "0 1 3 4 "
     ]
    }
   ],
   "source": [
    "g = Graph(8)\n",
    "g.addEdge(0,1)\n",
    "g.addEdge(0,2)\n",
    "g.addEdge(1,3)\n",
    "g.addEdge(3,4)\n",
    "g.addEdge(5,6)\n",
    "g.addEdge(5,7)\n",
    "print(g.hasPath(2,4))\n",
    "g.get_dfs_path(0,4)"
   ]
  },
  {
   "cell_type": "code",
   "execution_count": 47,
   "id": "10b33381",
   "metadata": {},
   "outputs": [],
   "source": [
    "# Depth First Search (DFS)\n",
    "# If you go to a vertex, explore it's adjacent vertices."
   ]
  },
  {
   "cell_type": "code",
   "execution_count": 48,
   "id": "af031f5b",
   "metadata": {},
   "outputs": [],
   "source": [
    "# dfs - Prints the vertices of graph depthwise\n",
    "# bfs - Prints the vertices of graph breadthwise\n",
    "# hasPath - Returns 'True' if a path exists between v1 and v2. Otherwise returns False"
   ]
  },
  {
   "cell_type": "code",
   "execution_count": 49,
   "id": "b6974fb9",
   "metadata": {},
   "outputs": [],
   "source": [
    "# hasPath - Returns 'True' if a path exists between v1 and v2. Otherwise returns False"
   ]
  },
  {
   "cell_type": "code",
   "execution_count": 50,
   "id": "bf4452ce",
   "metadata": {},
   "outputs": [],
   "source": [
    "def hasPathHelper(g, v1, v2, visited):\n",
    "        adj_vertices = []\n",
    "        for i in range(g.nVertices):\n",
    "            if g.adjMatrix[v2][i] == 1 and visited[i] is False:\n",
    "                adj_vertices.append(i)\n",
    "                visited[i] = True\n",
    "        \n",
    "        if v1 in adj_vertices:\n",
    "            return True\n",
    "        else:\n",
    "            a = []\n",
    "            for v in adj_vertices:\n",
    "                a.append(g.hasPathHelper(v1,v,visited))\n",
    "        \n",
    "        if True in a:\n",
    "            return True\n",
    "        else:\n",
    "            return False\n",
    "\n",
    "def hasPathHelper_2(g, v1, v2, visited):\n",
    "        \n",
    "    q = queue.Queue()\n",
    "    q.put(v1)\n",
    "    visited[v1] = True\n",
    "    while not(q.empty()):\n",
    "        vertice = q.get()\n",
    "        if vertice == v2:\n",
    "            return True\n",
    "        for i in range(g.nVertices):\n",
    "            if g.adjMatrix[vertice][i] == 1 and visited[i] is False:\n",
    "                q.put(i)\n",
    "                visited[i] = True\n",
    "    return False\n",
    "\n",
    "def hasPath(g,v1,v2):\n",
    "    visited = [False for i in range(g.nVertices)]\n",
    "    return hasPathHelper_2(g,v1,v2,visited)"
   ]
  },
  {
   "cell_type": "code",
   "execution_count": 51,
   "id": "23f83a09",
   "metadata": {},
   "outputs": [
    {
     "name": "stdout",
     "output_type": "stream",
     "text": [
      "True\n"
     ]
    }
   ],
   "source": [
    "print(hasPath(g,2,4))"
   ]
  },
  {
   "cell_type": "code",
   "execution_count": 52,
   "id": "e6efee18",
   "metadata": {},
   "outputs": [],
   "source": [
    "# Given an undirected graph G(V, E) and two vertices v1 and v2(as integers), \n",
    "# find and print the path from v1 to v2 (if exists). Print nothing if there is no path between v1 and v2.\n",
    "# Find the path using DFS and print the first path that you encountered."
   ]
  },
  {
   "cell_type": "code",
   "execution_count": 53,
   "id": "bfe92d46",
   "metadata": {},
   "outputs": [],
   "source": [
    "def find_dfs_path(g,v1,v2,visited,path):\n",
    "    \n",
    "    if v1 == v2:\n",
    "        path.append(v1)\n",
    "        return path\n",
    "    visited[v1] = True\n",
    "    visited_2 = [x for x in visited]\n",
    "    if not(hasPathHelper_2(g,v1,v2,visited_2)):\n",
    "        return\n",
    "    visited_2 = [x for x in visited]\n",
    "    for vertice in range(g.nVertices):\n",
    "        if g.adjMatrix[vertice][v1] == 1 and hasPathHelper_2(g,vertice,v2,visited_2) and visited[vertice] is False:\n",
    "            path = find_dfs_path(g,vertice,v2,visited,path)\n",
    "            path.append(v1)\n",
    "            return path"
   ]
  },
  {
   "cell_type": "code",
   "execution_count": 54,
   "id": "6563c819",
   "metadata": {},
   "outputs": [],
   "source": [
    "# Given an undirected graph G(V, E) and two vertices v1 and v2 (as integers), \n",
    "# find and print the path from v1 to v2 (if exists). Print nothing if there is no path between v1 and v2.\n",
    "# Find the path using BFS and print the shortest path available."
   ]
  },
  {
   "cell_type": "code",
   "execution_count": 61,
   "id": "7e2c65e9",
   "metadata": {},
   "outputs": [],
   "source": [
    "import queue\n",
    "    \n",
    "def find_bfs_path(g,v1,v2):\n",
    "    visited = [False for i in range(g.nVertices)]\n",
    "    parent_dict = {}\n",
    "    if not(hasPathHelper_2(g,v1,v2,visited)):\n",
    "        return\n",
    "    visited = [False for i in range(g.nVertices)]\n",
    "    q = queue.Queue()\n",
    "    q.put(v1)\n",
    "    visited[v1] = True\n",
    "    while not(q.empty()):\n",
    "        vertice = q.get()\n",
    "        if vertice == v2:\n",
    "            break\n",
    "        for i in range(g.nVertices):\n",
    "            if g.adjMatrix[i][vertice] == 1 and visited[i] is False:\n",
    "                q.put(i)\n",
    "                visited[i]  = True\n",
    "                parent_dict[i] = vertice\n",
    "    path = []\n",
    "    v = v2\n",
    "    while v != v1:\n",
    "        path.append(v)\n",
    "        v = parent_dict[v]\n",
    "    \n",
    "    path.append(v1)\n",
    "    return path  "
   ]
  },
  {
   "cell_type": "code",
   "execution_count": 62,
   "id": "81cd2dcf",
   "metadata": {},
   "outputs": [
    {
     "data": {
      "text/plain": [
       "[4, 3, 1, 0]"
      ]
     },
     "execution_count": 62,
     "metadata": {},
     "output_type": "execute_result"
    }
   ],
   "source": [
    "find_bfs_path(g,0,4)"
   ]
  },
  {
   "cell_type": "code",
   "execution_count": null,
   "id": "ea8ca080",
   "metadata": {},
   "outputs": [],
   "source": [
    "# Given an undirected graph G(V,E), check if the graph G is connected graph or not."
   ]
  },
  {
   "cell_type": "code",
   "execution_count": 74,
   "id": "83434bf9",
   "metadata": {},
   "outputs": [],
   "source": [
    "def isConnectedHelper(g, source, visited):\n",
    "    for i in range(g.nVertices):\n",
    "        if g.adjMatrix[source][i] == 1 and visited[i] is False:\n",
    "            visited[i] = True\n",
    "            visited = isConnectedHelper(g,i,visited)\n",
    "    return visited\n",
    "\n",
    "def isConnected(g):\n",
    "    source = 0\n",
    "    visited = [False for i in range(g.nVertices)]\n",
    "    visited[source] = True\n",
    "    visited = isConnectedHelper(g,source,visited)\n",
    "    if False in visited:\n",
    "        return False\n",
    "    return True"
   ]
  },
  {
   "cell_type": "code",
   "execution_count": 75,
   "id": "252aed9d",
   "metadata": {},
   "outputs": [
    {
     "data": {
      "text/plain": [
       "False"
      ]
     },
     "execution_count": 75,
     "metadata": {},
     "output_type": "execute_result"
    }
   ],
   "source": [
    "isConnected(g)"
   ]
  },
  {
   "cell_type": "code",
   "execution_count": 68,
   "id": "0f17f8c7",
   "metadata": {},
   "outputs": [],
   "source": [
    "def isConnected_2(g):\n",
    "    for i in range(g.nVertices):\n",
    "        for j in range(i+1,g.nVertices):\n",
    "            if not(hasPath(g,i,j)):\n",
    "                return False\n",
    "    return True"
   ]
  },
  {
   "cell_type": "code",
   "execution_count": 69,
   "id": "8fee976f",
   "metadata": {},
   "outputs": [
    {
     "data": {
      "text/plain": [
       "False"
      ]
     },
     "execution_count": 69,
     "metadata": {},
     "output_type": "execute_result"
    }
   ],
   "source": [
    "isConnected_2(g)"
   ]
  },
  {
   "cell_type": "code",
   "execution_count": 76,
   "id": "fccf235e",
   "metadata": {},
   "outputs": [],
   "source": [
    "# Given an undirected graph G(V,E), find and print all the connected components of the given graph G.\n",
    "\n",
    "# Print different components in new line. \n",
    "# And each component should be printed in increasing order of vertices (separated by space). \n",
    "# Order of different components doesn't matter."
   ]
  },
  {
   "cell_type": "code",
   "execution_count": 129,
   "id": "38ac2943",
   "metadata": {},
   "outputs": [],
   "source": [
    "# DFS Approach\n",
    "\n",
    "def connectedComponentsHelper(g,source,visited,smallAns):\n",
    "    for i in range(g.nVertices):\n",
    "        if g.adjMatrix[source][i] == 1 and visited[i] is False:\n",
    "            visited[i] = True\n",
    "            smallAns.append(i)\n",
    "            visited,smallAns = connectedComponentsHelper(g, i, visited, smallAns)\n",
    "    return visited, smallAns\n",
    "\n",
    "def connectedComponent(g):\n",
    "    visited = [False for i in range(g.nVertices)]\n",
    "    count = 0\n",
    "    ans = []\n",
    "    while False in visited:\n",
    "        source = visited.index(False)\n",
    "        visited[source] = True\n",
    "        smallAns = []\n",
    "        smallAns.append(source)\n",
    "        visited, smallAns = connectedComponentsHelper(g,source,visited,smallAns)\n",
    "        ans.append(smallAns)\n",
    "        count += 1\n",
    "    \n",
    "    return ans"
   ]
  },
  {
   "cell_type": "code",
   "execution_count": 130,
   "id": "5922f237",
   "metadata": {},
   "outputs": [
    {
     "data": {
      "text/plain": [
       "[[0, 1, 3, 4, 2], [5, 6, 7]]"
      ]
     },
     "execution_count": 130,
     "metadata": {},
     "output_type": "execute_result"
    }
   ],
   "source": [
    "connectedComponent(g)"
   ]
  },
  {
   "cell_type": "code",
   "execution_count": 120,
   "id": "6b197127",
   "metadata": {},
   "outputs": [
    {
     "data": {
      "text/plain": [
       "array([[0., 1., 1., 0., 0., 0., 0., 0.],\n",
       "       [1., 0., 0., 1., 0., 0., 0., 0.],\n",
       "       [1., 0., 0., 0., 0., 0., 0., 0.],\n",
       "       [0., 1., 0., 0., 1., 0., 0., 0.],\n",
       "       [0., 0., 0., 1., 0., 0., 0., 0.],\n",
       "       [0., 0., 0., 0., 0., 0., 1., 1.],\n",
       "       [0., 0., 0., 0., 0., 1., 0., 0.],\n",
       "       [0., 0., 0., 0., 0., 1., 0., 0.]])"
      ]
     },
     "execution_count": 120,
     "metadata": {},
     "output_type": "execute_result"
    }
   ],
   "source": [
    "g.nVertices\n",
    "g.adjMatrix"
   ]
  },
  {
   "cell_type": "code",
   "execution_count": 165,
   "id": "b01f7036",
   "metadata": {},
   "outputs": [],
   "source": [
    "# BFS Approach\n",
    "\n",
    "import queue\n",
    "def connectedComponentsHelper(g,source,visited,smallAns):\n",
    "    q = queue.Queue()\n",
    "    q.put(source)\n",
    "    visited[source] = True\n",
    "    smallAns = []\n",
    "    while not(q.empty()):\n",
    "        vertice = q.get()\n",
    "        smallAns.append(vertice)\n",
    "        for i in range(g.nVertices):\n",
    "            if g.adjMatrix[vertice][i] == 1 and visited[i] is False:\n",
    "                q.put(i)\n",
    "                visited[i] = True\n",
    "    return visited, smallAns\n",
    "    \n",
    "def connectedComponent(g): \n",
    "    visited = [False for i in range(g.nVertices)]\n",
    "    count = 0\n",
    "    ans = []\n",
    "    while False in visited:\n",
    "        source = visited.index(False)\n",
    "        smallAns = []\n",
    "        visited, smallAns = connectedComponentsHelper(g,source,visited,smallAns)\n",
    "        ans.append(smallAns)\n",
    "        count += 1\n",
    "    \n",
    "    return ans"
   ]
  },
  {
   "cell_type": "code",
   "execution_count": 166,
   "id": "6175f9d4",
   "metadata": {},
   "outputs": [
    {
     "data": {
      "text/plain": [
       "[[0, 1, 2, 3, 4], [5, 6, 7]]"
      ]
     },
     "execution_count": 166,
     "metadata": {},
     "output_type": "execute_result"
    }
   ],
   "source": [
    "connectedComponent(g)"
   ]
  },
  {
   "cell_type": "code",
   "execution_count": null,
   "id": "c05210e6",
   "metadata": {},
   "outputs": [],
   "source": [
    "# What we have discussed uptil now are 'Undirected' graphs. If there is an edge from v1 to v2, then in undirected graph, we\n",
    "# assume there is an edge from v2 to v1 as well.\n",
    "\n",
    "# 'Directed' Graph\n",
    "# There can be edge from v1 to v2 but not necessarily from v2 to v1.\n",
    "\n",
    "# 'Weighted' Graph\n",
    "# Every edge will have a weight. So in terms of shortest path between v1 and v2, things change here as every edge has a weight\n",
    "# associated with it.\n",
    "\n",
    "# There can be 'Weighted Undirected' graphs as well as 'Weighted Directed' graphs\n",
    "\n",
    "# In weighted graph, g.adjMatrix[v1][v2] = weight1. So we will not fill the adjacency matrix with 0's and 1's.\n",
    "# If edge is absent between 2 vertices in a weighted graph, we will store infinity there.\n",
    "# In 'Weighted' graph, the weights can be positive or negative. If the weight is infinity, then it means there is\n",
    "# no edge between the 2 vertices."
   ]
  },
  {
   "cell_type": "code",
   "execution_count": null,
   "id": "54bfd702",
   "metadata": {},
   "outputs": [],
   "source": []
  },
  {
   "cell_type": "code",
   "execution_count": null,
   "id": "e5042769",
   "metadata": {},
   "outputs": [],
   "source": []
  },
  {
   "cell_type": "code",
   "execution_count": null,
   "id": "1314ddc0",
   "metadata": {},
   "outputs": [],
   "source": []
  },
  {
   "cell_type": "code",
   "execution_count": null,
   "id": "d212ab16",
   "metadata": {},
   "outputs": [],
   "source": []
  },
  {
   "cell_type": "code",
   "execution_count": null,
   "id": "6dffe4ee",
   "metadata": {},
   "outputs": [],
   "source": []
  },
  {
   "cell_type": "code",
   "execution_count": null,
   "id": "2bd6e289",
   "metadata": {},
   "outputs": [],
   "source": []
  },
  {
   "cell_type": "code",
   "execution_count": null,
   "id": "bc3de1d1",
   "metadata": {},
   "outputs": [],
   "source": [
    "import queue\n",
    "from sys import stdin, setrecursionlimit\n",
    "setrecursionlimit(10**6)\n",
    "\n",
    "class Graph:\n",
    "    def __init__(self, nVertices):\n",
    "        self.nVertices = nVertices\n",
    "        self.adjMatrix = [[0 for i in range(nVertices)] for j in range(nVertices)]\n",
    "    \n",
    "    def addEdge(self,v1,v2):\n",
    "        self.adjMatrix[v1][v2] = 1\n",
    "        self.adjMatrix[v2][v1] = 1\n",
    "\n",
    "\n",
    "def hasPathHelper_2(g, v1, v2, visited):\n",
    "        \n",
    "    q = queue.Queue()\n",
    "    q.put(v1)\n",
    "    visited[v1] = True\n",
    "    while not(q.empty()):\n",
    "        vertice = q.get()\n",
    "        if vertice == v2:\n",
    "            return True\n",
    "        for i in range(g.nVertices):\n",
    "            if g.adjMatrix[vertice][i] == 1 and visited[i] is False:\n",
    "                q.put(i)\n",
    "                visited[i] = True\n",
    "    return False\n",
    "\n",
    "def find_dfs_path(g,v1,v2,visited,path):\n",
    "    \n",
    "    if v1 == v2:\n",
    "        path.append(v2)\n",
    "        return\n",
    "    visited[v1] = True\n",
    "    visited_2 = [x for x in visited]\n",
    "    if not(hasPathHelper_2(g,v1,v2,visited_2)):\n",
    "        return\n",
    "    visited_2 = [x for x in visited]\n",
    "    for vertice in range(g.nVertices):\n",
    "        if g.adjMatrix[vertice][v1] == 1 and hasPathHelper_2(g,vertice,v2,visited_2) and visited[vertice] is False:\n",
    "            find_dfs_path(g,vertice,v2,visited,path)\n",
    "            path.append(v1)\n",
    "            return path \n",
    "\n",
    "\n",
    "[v,e] = [int(num) for num in input().split(\" \")]\n",
    "\n",
    "adjacency_matrix = [[0 for i in range(v)] for j in range(v)]\n",
    "for i in range(e):\n",
    "    [a,b] = [int(num) for num in input().split(\" \")]\n",
    "    adjacency_matrix[a][b] = 1\n",
    "    adjacency_matrix[b][a] = 1\n",
    "\n",
    "[v1,v2] = [int(num) for num in input().split(\" \")]\n",
    "g = Graph(v)\n",
    "for i in range(v):\n",
    "    for j in range(v):\n",
    "        if adjacency_matrix[i][j] == 1:\n",
    "            g.addEdge(i,j)\n",
    "\n",
    "path = []\n",
    "visited = [False for _ in range(g.nVertices)]\n",
    "path = find_dfs_path(g,v1,v2,visited,path)\n",
    "if path is None:\n",
    "    print()\n",
    "else:\n",
    "    for x in path:\n",
    "        print(x, end = \" \")"
   ]
  },
  {
   "cell_type": "code",
   "execution_count": null,
   "id": "64f940ff",
   "metadata": {},
   "outputs": [],
   "source": []
  },
  {
   "cell_type": "code",
   "execution_count": null,
   "id": "fb5100a1",
   "metadata": {},
   "outputs": [],
   "source": [
    "class Graph:\n",
    "    def __init__(self, nVertices):\n",
    "        self.nVertices = nVertices\n",
    "        self.adjMatrix = [[0 for i in range(nVertices)] for j in range(nVertices)]\n",
    "    \n",
    "    def addEdge(self,v1,v2):\n",
    "        self.adjMatrix[v1][v2] = 1\n",
    "        self.adjMatrix[v2][v1] = 1\n",
    "        \n",
    "[v,e] = [int(num) for num in input().split(\" \")]\n",
    "\n",
    "adjacency_matrix = [[0 for i in range(v)] for j in range(v)]\n",
    "for i in range(e):\n",
    "    [a,b] = [int(num) for num in input().strip().split(\" \")]\n",
    "    adjacency_matrix[a][b] = 1\n",
    "    adjacency_matrix[b][a] = 1\n",
    "\n",
    "g = Graph(v)\n",
    "g.adjMatrix = adjacency_matrix\n",
    "\n",
    "def isConnectedHelper(g, source, visited):\n",
    "    for i in range(g.nVertices):\n",
    "        if g.adjMatrix[source][i] == 1 and visited[i] is False:\n",
    "            visited[i] = True\n",
    "            isConnectedHelper(g,i,visited)\n",
    "    return visited\n",
    "\n",
    "def isConnected(g):\n",
    "    source = 0\n",
    "    visited = [False for i in range(g.nVertices)]\n",
    "    visited = isConnectedHelper(g,source,visited)\n",
    "    if False in visited:\n",
    "        return False\n",
    "    return True"
   ]
  }
 ],
 "metadata": {
  "kernelspec": {
   "display_name": "Python 3 (ipykernel)",
   "language": "python",
   "name": "python3"
  },
  "language_info": {
   "codemirror_mode": {
    "name": "ipython",
    "version": 3
   },
   "file_extension": ".py",
   "mimetype": "text/x-python",
   "name": "python",
   "nbconvert_exporter": "python",
   "pygments_lexer": "ipython3",
   "version": "3.9.12"
  }
 },
 "nbformat": 4,
 "nbformat_minor": 5
}
