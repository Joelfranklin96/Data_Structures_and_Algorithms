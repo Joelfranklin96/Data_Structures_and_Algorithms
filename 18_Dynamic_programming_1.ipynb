{
 "cells": [
  {
   "cell_type": "code",
   "execution_count": 1,
   "id": "e5a5b87a",
   "metadata": {},
   "outputs": [],
   "source": [
    "# Calculating nth fibonacci number through recursion has overlapping subproblems.\n",
    "# But not every recursion problem has overlapping subproblems (Example - Calculating Factorial by recursion)\n",
    "\n",
    "# Recursion will always have optimal substructure but may or may not have overlapping subproblems\n",
    "\n",
    "# Dynamic programming is applied where we have overlapping subproblems"
   ]
  },
  {
   "cell_type": "code",
   "execution_count": 39,
   "id": "d2ff2a1a",
   "metadata": {},
   "outputs": [],
   "source": [
    "# Fibonacci Memoization\n",
    "\n",
    "def fibb(n, dp):\n",
    "    \n",
    "    if n == 0 or n == 1:\n",
    "        return n\n",
    "    \n",
    "    if dp[n-1] != -1:\n",
    "        ans1 = dp[n-1]\n",
    "    else:\n",
    "        ans1 = fibb(n-1, dp)\n",
    "        dp[n-1] = ans1\n",
    "    \n",
    "    if dp[n-2] != -1:\n",
    "        ans2 = dp[n-2]\n",
    "    else:\n",
    "        ans2 = fibb(n-2, dp)\n",
    "        dp[n-2] = ans2\n",
    "    \n",
    "    return ans1 + ans2\n",
    "\n",
    "# Time complexity = O(n)\n",
    "# Space complexity = O(n)"
   ]
  },
  {
   "cell_type": "code",
   "execution_count": 42,
   "id": "9c390324",
   "metadata": {},
   "outputs": [
    {
     "name": "stdout",
     "output_type": "stream",
     "text": [
      "610\n",
      "[0, 1, 1, 2, 3, 5, 8, 13, 21, 34, 55, 89, 144, 233, 377, -1]\n"
     ]
    }
   ],
   "source": [
    "n = 15\n",
    "dp = [-1 for i in range(n+1)]\n",
    "print(fibb(n,dp))\n",
    "print(dp)"
   ]
  },
  {
   "cell_type": "code",
   "execution_count": 11,
   "id": "ae13d144",
   "metadata": {},
   "outputs": [],
   "source": [
    "# Iterative dynamic programming\n",
    "\n",
    "def fibb(n, dp):\n",
    "    \n",
    "    if n == 1 or n == 0:\n",
    "        return dp[n]\n",
    "    \n",
    "    for i in range(2, n+1):\n",
    "        dp[i] = dp[i-1] + dp[i-2]\n",
    "    \n",
    "    return dp[n]\n",
    "\n",
    "# Time complexity = O(n)\n",
    "# Space complexity = O(n)"
   ]
  },
  {
   "cell_type": "code",
   "execution_count": 16,
   "id": "dd402d89",
   "metadata": {},
   "outputs": [
    {
     "data": {
      "text/plain": [
       "13"
      ]
     },
     "execution_count": 16,
     "metadata": {},
     "output_type": "execute_result"
    }
   ],
   "source": [
    "dp = [0,1] + [-1 for i in range(2, n+1)]\n",
    "fibb(7, dp)"
   ]
  },
  {
   "cell_type": "code",
   "execution_count": 17,
   "id": "0d774fc2",
   "metadata": {},
   "outputs": [],
   "source": [
    "# For all dynamic programming problems,\n",
    "# 1) Calculate through Recursion/Find recurrence relation\n",
    "# 2) Apply Memoization\n",
    "# 3) Apply iterative dynamic programming"
   ]
  },
  {
   "cell_type": "code",
   "execution_count": 18,
   "id": "cf51bb42",
   "metadata": {},
   "outputs": [],
   "source": [
    "# Why iterative dynamic programming is better than recursive dynamic programmin?\n",
    "\n",
    "# Recursion involves waiting for function calls\n",
    "# In C++/Java, the maximum number of function calls that can wait is 10^4\n",
    "# If there are more than 10^4 waiting function calls, it results in StackOverFlow error\n",
    "\n",
    "# In python, by default the value is set to 10^3\n",
    "# We can change it by setRecursionLimit(10^4) but recommended not to go above 10^4\n",
    "\n",
    "# This is why iterative dynamic programming is better than recursive dynamic programming because there is no problem of \n",
    "# StackOverFlow error in iterative dynamic programming"
   ]
  },
  {
   "cell_type": "code",
   "execution_count": 19,
   "id": "27b37ad6",
   "metadata": {},
   "outputs": [],
   "source": [
    "# You are given a number N. Find the minimum number of steps to get to 1. You are allowed 3 operations.\n",
    "# 1) N-1\n",
    "# 2) N/2 (If N is divisible by 2)\n",
    "# 3) N/3 (If N is divisible by 3)"
   ]
  },
  {
   "cell_type": "code",
   "execution_count": 21,
   "id": "6faa959e",
   "metadata": {},
   "outputs": [],
   "source": [
    "def minSteps(n):\n",
    "    \n",
    "    if n == 1:\n",
    "        return 0\n",
    "    \n",
    "    ans1 = minSteps(n-1)\n",
    "    \n",
    "    if n % 2 == 0:\n",
    "        ans2 = minSteps(n/2)\n",
    "    else:\n",
    "        ans2 = 1000000\n",
    "    \n",
    "    if n % 3 == 0:\n",
    "        ans3 = minSteps(n/3)\n",
    "    else:\n",
    "        ans3 = 1000000\n",
    "        \n",
    "    return 1 + min(ans1, ans2, ans3)"
   ]
  },
  {
   "cell_type": "code",
   "execution_count": 25,
   "id": "f9b6f326",
   "metadata": {},
   "outputs": [
    {
     "data": {
      "text/plain": [
       "4"
      ]
     },
     "execution_count": 25,
     "metadata": {},
     "output_type": "execute_result"
    }
   ],
   "source": [
    "minSteps(11.0)"
   ]
  },
  {
   "cell_type": "code",
   "execution_count": 54,
   "id": "6ce1527b",
   "metadata": {},
   "outputs": [],
   "source": [
    "# Recursion with Memoization\n",
    "\n",
    "def minStepsDP(n, dp):\n",
    "    \n",
    "    if n == 1:\n",
    "        return 0\n",
    "    \n",
    "    if n % 3 == 0:\n",
    "        if dp[int(n/3) - 1] != -1:\n",
    "            ans1 = dp[int(n/3) - 1]\n",
    "        else:\n",
    "            ans1 = minStepsDP(n//3, dp)\n",
    "            dp[int(n/3) - 1] = ans1\n",
    "    else:\n",
    "        ans1 = 1000000\n",
    "    \n",
    "    if n % 2 == 0:\n",
    "        if dp[int(n/2) - 1] != -1:\n",
    "            ans2 = dp[int(n/2) - 1]\n",
    "        else:\n",
    "            ans2 = minStepsDP(n//2, dp)\n",
    "            dp[int(n/2) - 1] = ans2\n",
    "    else:\n",
    "        ans2 = 1000000\n",
    "    \n",
    "    if dp[n-2] != -1:\n",
    "        ans3 = dp[n-2]\n",
    "    else:\n",
    "        ans3 = minStepsDP(n-1, dp)\n",
    "        dp[n-2] = ans3\n",
    "    \n",
    "    return 1 + min(ans1, ans2, ans3)"
   ]
  },
  {
   "cell_type": "code",
   "execution_count": 56,
   "id": "4a4d608e",
   "metadata": {},
   "outputs": [
    {
     "data": {
      "text/plain": [
       "4"
      ]
     },
     "execution_count": 56,
     "metadata": {},
     "output_type": "execute_result"
    }
   ],
   "source": [
    "n = 20\n",
    "dp = [-1 for i in range(n)]\n",
    "minStepsDP(n, dp)"
   ]
  },
  {
   "cell_type": "code",
   "execution_count": 59,
   "id": "e6e8e7cc",
   "metadata": {},
   "outputs": [],
   "source": [
    "import sys\n",
    "def minStepsDPIterative(n, dp):\n",
    "    \n",
    "    if n == 1:\n",
    "        return dp[n]\n",
    "    else:\n",
    "        for i in range(2, n+1):\n",
    "            if i % 3 == 0:\n",
    "                ans1 = dp[i//3]\n",
    "            else:\n",
    "                ans1 = sys.maxsize\n",
    "            if i % 2 == 0:\n",
    "                ans2 = dp[i//2]\n",
    "            else:\n",
    "                ans2 = sys.maxsize\n",
    "            ans3 = dp[i-1]\n",
    "            dp[i] = 1 + min(ans1, ans2, ans3)\n",
    "        \n",
    "        return dp[n]"
   ]
  },
  {
   "cell_type": "code",
   "execution_count": 60,
   "id": "038a6c75",
   "metadata": {},
   "outputs": [
    {
     "data": {
      "text/plain": [
       "4"
      ]
     },
     "execution_count": 60,
     "metadata": {},
     "output_type": "execute_result"
    }
   ],
   "source": [
    "n = 20\n",
    "dp = [-1 for i in range(0, n+1)]\n",
    "dp[1] = 0\n",
    "minStepsDPIterative(20,dp)"
   ]
  },
  {
   "cell_type": "code",
   "execution_count": 61,
   "id": "ff009319",
   "metadata": {},
   "outputs": [],
   "source": [
    "# Find the miminum number of squares to represent a number\n",
    "\n",
    "# Example\n",
    "\n",
    "# 14 = 1^2 + 1^2 + 1^2 + ................(14 times) (answer = 14)\n",
    "# 14 = 1^2 + 2^2 + 3^2 (answer = 3)\n",
    "# 14 = 1^2 + 1^2 + 2^2 + 2^2 + 2^2 (answer = 5)"
   ]
  },
  {
   "cell_type": "code",
   "execution_count": 74,
   "id": "b1887296",
   "metadata": {},
   "outputs": [],
   "source": [
    "# Wrong intuition\n",
    "\n",
    "import numpy as np\n",
    "def minSquares(n):\n",
    "    arr = []\n",
    "    max_square = int(np.sqrt(n))\n",
    "    arr.append(max_square**2)\n",
    "    for i in range(max_square-1, 0, -1):\n",
    "        while True:\n",
    "            if (sum(arr) + i**2) <= n:\n",
    "                arr.append(i**2)\n",
    "            else:\n",
    "                break\n",
    "        \n",
    "        if sum(arr) == n:\n",
    "            break\n",
    "    \n",
    "    return len(arr)"
   ]
  },
  {
   "cell_type": "code",
   "execution_count": 75,
   "id": "60a71c0d",
   "metadata": {},
   "outputs": [
    {
     "data": {
      "text/plain": [
       "3"
      ]
     },
     "execution_count": 75,
     "metadata": {},
     "output_type": "execute_result"
    }
   ],
   "source": [
    "minSquares(14)"
   ]
  },
  {
   "cell_type": "code",
   "execution_count": 5,
   "id": "3419da81",
   "metadata": {},
   "outputs": [],
   "source": [
    "# Wrong intuition\n",
    "\n",
    "import numpy as np\n",
    "def minSquares(n):\n",
    "    if n == 0:\n",
    "        return 0\n",
    "    max_square = (int(np.sqrt(n)))**2\n",
    "    return 1 + minSquares(n - max_square)"
   ]
  },
  {
   "cell_type": "code",
   "execution_count": 8,
   "id": "1887fa11",
   "metadata": {},
   "outputs": [
    {
     "data": {
      "text/plain": [
       "3"
      ]
     },
     "execution_count": 8,
     "metadata": {},
     "output_type": "execute_result"
    }
   ],
   "source": [
    "minSquares(41)"
   ]
  },
  {
   "cell_type": "code",
   "execution_count": 48,
   "id": "a0ed1697",
   "metadata": {},
   "outputs": [],
   "source": [
    "# Correct intuition\n",
    "import numpy as np\n",
    "import sys\n",
    "def minSquares(n):\n",
    "    \n",
    "    if n == 0:\n",
    "        return 0\n",
    "    \n",
    "    max_square = int(np.sqrt(n))\n",
    "    ans = sys.maxsize\n",
    "    for i in range(max_square,0,-1):\n",
    "        curr_ans = minSquares(n - (i)**2)\n",
    "        if curr_ans < ans:\n",
    "            ans = curr_ans\n",
    "    \n",
    "    return 1 + ans"
   ]
  },
  {
   "cell_type": "code",
   "execution_count": 49,
   "id": "de099089",
   "metadata": {},
   "outputs": [
    {
     "data": {
      "text/plain": [
       "2"
      ]
     },
     "execution_count": 49,
     "metadata": {},
     "output_type": "execute_result"
    }
   ],
   "source": [
    "minSquares(41)"
   ]
  },
  {
   "cell_type": "code",
   "execution_count": 50,
   "id": "08a8433e",
   "metadata": {},
   "outputs": [],
   "source": [
    "# Correct intuition\n",
    "import numpy as np\n",
    "import sys\n",
    "def minSquares_2(n):\n",
    "    \n",
    "    if n == 0:\n",
    "        return 0\n",
    "    \n",
    "    max_square = int(np.sqrt(n))\n",
    "    ans = []\n",
    "    for i in range(max_square,0,-1):\n",
    "        ans.append(minSquares_2(n - (i)**2))\n",
    "    \n",
    "    return 1 + min(ans)"
   ]
  },
  {
   "cell_type": "code",
   "execution_count": 51,
   "id": "841a7765",
   "metadata": {},
   "outputs": [
    {
     "data": {
      "text/plain": [
       "2"
      ]
     },
     "execution_count": 51,
     "metadata": {},
     "output_type": "execute_result"
    }
   ],
   "source": [
    "minSquares_2(41)"
   ]
  },
  {
   "cell_type": "code",
   "execution_count": 52,
   "id": "369ad381",
   "metadata": {},
   "outputs": [],
   "source": [
    "def minSquaresDP(n, dp):\n",
    "    \n",
    "    if n == 0:\n",
    "        return 0\n",
    "    \n",
    "    max_square = int(np.sqrt(n))\n",
    "    ans = sys.maxsize\n",
    "    for i in range(max_square,0,-1):\n",
    "        rem = n - (i**2)\n",
    "        if dp[rem] != -1:\n",
    "            curr_ans = dp[rem]\n",
    "        else:\n",
    "            dp[rem] = minSquaresDP(rem, dp)\n",
    "            curr_ans = dp[rem]\n",
    "        if curr_ans < ans:\n",
    "            ans = curr_ans\n",
    "            \n",
    "    return 1 + ans\n",
    "\n",
    "# Time complexity = O(n*(n^0.5)) (Actually time complexity will be less than O(n*(n^0.5)))\n",
    "# Space complexity = O(n)"
   ]
  },
  {
   "cell_type": "code",
   "execution_count": 53,
   "id": "572dbe85",
   "metadata": {},
   "outputs": [
    {
     "data": {
      "text/plain": [
       "2"
      ]
     },
     "execution_count": 53,
     "metadata": {},
     "output_type": "execute_result"
    }
   ],
   "source": [
    "n = 41\n",
    "dp = [-1 for i in range(n+1)]\n",
    "dp[0] = 0\n",
    "minSquaresDP(n, dp)"
   ]
  },
  {
   "cell_type": "code",
   "execution_count": 39,
   "id": "3ab743c7",
   "metadata": {},
   "outputs": [],
   "source": [
    "def minSquaresDP_2(n, dp):\n",
    "    \n",
    "    if n == 0:\n",
    "        return 0\n",
    "    \n",
    "    max_square = int(np.sqrt(n))\n",
    "    ans = []\n",
    "    for i in range(max_square,0,-1):\n",
    "        rem = n - (i**2)\n",
    "        if dp[rem] != -1:\n",
    "            ans.append(dp[rem])\n",
    "        else:\n",
    "            dp[rem] = minSquaresDP_2(rem, dp)\n",
    "            ans.append(dp[rem])\n",
    "    \n",
    "    return 1 + min(ans)\n",
    "\n",
    "# Time complexity = O(n*(n^0.5)) (Actually time complexity will be less than O(n*(n^0.5)))\n",
    "# Space complexity = O(n)"
   ]
  },
  {
   "cell_type": "code",
   "execution_count": 40,
   "id": "440cfd39",
   "metadata": {},
   "outputs": [
    {
     "data": {
      "text/plain": [
       "2"
      ]
     },
     "execution_count": 40,
     "metadata": {},
     "output_type": "execute_result"
    }
   ],
   "source": [
    "n = 41\n",
    "dp = [-1 for i in range(n+1)]\n",
    "dp[0] = 0\n",
    "minSquaresDP_2(n, dp)"
   ]
  },
  {
   "cell_type": "code",
   "execution_count": 57,
   "id": "f7c5d878",
   "metadata": {},
   "outputs": [],
   "source": [
    "def minSquaresDPIterative(n, dp):\n",
    "    \n",
    "    if n == 0:\n",
    "        return dp[0]\n",
    "    \n",
    "    for i in range(1, n+1):\n",
    "        max_square = int(np.sqrt(i))\n",
    "        ans = sys.maxsize\n",
    "        for j in range(1, max_square+1):\n",
    "            curr_ans = dp[i - (j**2)]\n",
    "            if curr_ans < ans:\n",
    "                ans = curr_ans\n",
    "        dp[i] = 1 + ans\n",
    "    \n",
    "    return dp[n]\n",
    "\n",
    "# Time complexity = O(n*(n^0.5)) (Actually time complexity will be less than O(n*(n^0.5)))\n",
    "# Space complexity = O(n)\n",
    "\n",
    "# I think actual time complexity is root(1) + root(2) + root(3) + root(4) + ..........root(n)"
   ]
  },
  {
   "cell_type": "code",
   "execution_count": 58,
   "id": "532625cf",
   "metadata": {},
   "outputs": [
    {
     "data": {
      "text/plain": [
       "2"
      ]
     },
     "execution_count": 58,
     "metadata": {},
     "output_type": "execute_result"
    }
   ],
   "source": [
    "n = 41\n",
    "dp = [-1 for i in range(n+1)]\n",
    "dp[0] = 0\n",
    "minSquaresDPIterative(n, dp)"
   ]
  },
  {
   "cell_type": "code",
   "execution_count": 59,
   "id": "90721e1e",
   "metadata": {},
   "outputs": [],
   "source": [
    "# Longest Increasing Subsequence (LIS)\n",
    "\n",
    "# Suppose the given array is 6,3,1,2,7,0,9\n",
    "\n",
    "# Increasing subsequences are as follows\n",
    "# 6,7,9\n",
    "# 6,9\n",
    "# 1,2,7\n",
    "# 1,2,7,9\n",
    "# 1,2\n",
    "\n",
    "# Length of longest increasing subsequence = 4 (1,2,7,9)"
   ]
  },
  {
   "cell_type": "code",
   "execution_count": 10,
   "id": "5d111619",
   "metadata": {},
   "outputs": [],
   "source": [
    "def lis(arr, i, n):\n",
    "    \n",
    "    if i == n - 1:\n",
    "        return 1,1\n",
    "    \n",
    "    ans = 1\n",
    "    overall_ans = 0\n",
    "    \n",
    "    for j in range(i+1, n):\n",
    "        a, b = lis(arr, j, n)\n",
    "        if arr[i] <= arr[j]:\n",
    "            curr_ans = 1 + a\n",
    "            if curr_ans > ans:\n",
    "                ans = curr_ans\n",
    "        curr_overall_ans = max(ans,b)\n",
    "        if curr_overall_ans > overall_ans:\n",
    "            overall_ans = curr_overall_ans\n",
    "    \n",
    "    return ans, overall_ans"
   ]
  },
  {
   "cell_type": "code",
   "execution_count": 11,
   "id": "4fb60925",
   "metadata": {},
   "outputs": [
    {
     "data": {
      "text/plain": [
       "(3, 4)"
      ]
     },
     "execution_count": 11,
     "metadata": {},
     "output_type": "execute_result"
    }
   ],
   "source": [
    "lis([6,3,1,2,7,0,9], 0, 7)"
   ]
  },
  {
   "cell_type": "code",
   "execution_count": 12,
   "id": "0f5c0dc1",
   "metadata": {},
   "outputs": [],
   "source": [
    "def lis_2(arr, i, n):\n",
    "    \n",
    "    if i == n - 1:\n",
    "        return 1,1\n",
    "    \n",
    "    ans = 1\n",
    "    overall_ans = 0\n",
    "    \n",
    "    for j in range(i+1, n):\n",
    "        a, b = lis(arr, j, n)\n",
    "        if arr[i] <= arr[j]:\n",
    "            curr_ans = 1 + a\n",
    "            if curr_ans > ans:\n",
    "                ans = curr_ans\n",
    "    a, b = lis(arr, i+1, n)\n",
    "    curr_overall_ans = max(ans,b)\n",
    "    if curr_overall_ans > overall_ans:\n",
    "        overall_ans = curr_overall_ans\n",
    "    \n",
    "    return ans, overall_ans"
   ]
  },
  {
   "cell_type": "code",
   "execution_count": 13,
   "id": "d15406c3",
   "metadata": {},
   "outputs": [
    {
     "data": {
      "text/plain": [
       "(3, 4)"
      ]
     },
     "execution_count": 13,
     "metadata": {},
     "output_type": "execute_result"
    }
   ],
   "source": [
    "lis_2([6,3,1,2,7,0,9], 0, 7)"
   ]
  },
  {
   "cell_type": "code",
   "execution_count": 18,
   "id": "71443844",
   "metadata": {},
   "outputs": [],
   "source": [
    "def lis_dp(arr, i, n, dp):\n",
    "    \n",
    "    if i == n - 1:\n",
    "        return 1,1\n",
    "    \n",
    "    ans = 1\n",
    "    overall_ans = 0\n",
    "    \n",
    "    for j in range(i+1, n):\n",
    "        if dp[j] != (-1,-1):\n",
    "            a,b = dp[j]\n",
    "        else:\n",
    "            a, b = lis_dp(arr, j, n, dp)\n",
    "            dp[j] = (a,b)\n",
    "        if arr[i] <= arr[j]:\n",
    "            curr_ans = 1 + a\n",
    "            if curr_ans > ans:\n",
    "                ans = curr_ans\n",
    "        curr_overall_ans = max(ans,b)\n",
    "        if curr_overall_ans > overall_ans:\n",
    "            overall_ans = curr_overall_ans\n",
    "    \n",
    "    return ans, overall_ans"
   ]
  },
  {
   "cell_type": "code",
   "execution_count": 20,
   "id": "284a30ed",
   "metadata": {},
   "outputs": [
    {
     "data": {
      "text/plain": [
       "(3, 4)"
      ]
     },
     "execution_count": 20,
     "metadata": {},
     "output_type": "execute_result"
    }
   ],
   "source": [
    "arr = [6,3,1,2,7,0,9]\n",
    "n = len(arr)\n",
    "dp = [(-1,-1) for i in range(n)]\n",
    "lis_dp(arr, 0, n, dp)"
   ]
  },
  {
   "cell_type": "code",
   "execution_count": 21,
   "id": "d60ee45c",
   "metadata": {},
   "outputs": [],
   "source": [
    "def lis_dp_2(arr, i, n, dp):\n",
    "    \n",
    "    if i == n - 1:\n",
    "        return 1,1\n",
    "    \n",
    "    ans = 1\n",
    "    overall_ans = 0\n",
    "    \n",
    "    for j in range(i+1, n):\n",
    "        if dp[j] != (-1,-1):\n",
    "            a,b = dp[j]\n",
    "        else:\n",
    "            a, b = lis_dp(arr, j, n, dp)\n",
    "            dp[j] = (a,b)\n",
    "        if arr[i] <= arr[j]:\n",
    "            curr_ans = 1 + a\n",
    "            if curr_ans > ans:\n",
    "                ans = curr_ans\n",
    "    a, b = dp[i+1]\n",
    "    curr_overall_ans = max(ans,b)\n",
    "    if curr_overall_ans > overall_ans:\n",
    "        overall_ans = curr_overall_ans\n",
    "    \n",
    "    return ans, overall_ans"
   ]
  },
  {
   "cell_type": "code",
   "execution_count": 22,
   "id": "abddf8f2",
   "metadata": {},
   "outputs": [
    {
     "data": {
      "text/plain": [
       "(3, 4)"
      ]
     },
     "execution_count": 22,
     "metadata": {},
     "output_type": "execute_result"
    }
   ],
   "source": [
    "arr = [6,3,1,2,7,0,9]\n",
    "n = len(arr)\n",
    "dp = [(-1,-1) for i in range(n)]\n",
    "lis_dp_2(arr, 0, n, dp)"
   ]
  },
  {
   "cell_type": "code",
   "execution_count": 144,
   "id": "fff5b08a",
   "metadata": {},
   "outputs": [],
   "source": [
    "def lis_dp_iterative(arr,n, dp):\n",
    "    \n",
    "    for j in range(n-2, -1, -1):\n",
    "        ans = 1\n",
    "        overall_ans = 0\n",
    "        for k in range(j+1, n):\n",
    "            a,b = dp[k]\n",
    "            if arr[j] <= arr[k]:\n",
    "                curr_ans = 1 + a\n",
    "                if curr_ans > ans:\n",
    "                    ans = curr_ans\n",
    "            curr_overall_ans = max(ans, b)\n",
    "            if curr_overall_ans > overall_ans:\n",
    "                overall_ans = curr_overall_ans\n",
    "        dp[j] = ans, overall_ans\n",
    "    \n",
    "    return dp[0][1]\n",
    "\n",
    "# Time complexity = O(n*(n-1)/2) = O(n^2)\n",
    "# Space complexity = O(n)"
   ]
  },
  {
   "cell_type": "code",
   "execution_count": 145,
   "id": "4732ed9b",
   "metadata": {},
   "outputs": [
    {
     "data": {
      "text/plain": [
       "4"
      ]
     },
     "execution_count": 145,
     "metadata": {},
     "output_type": "execute_result"
    }
   ],
   "source": [
    "arr = [6,3,1,2,7,0,9]\n",
    "n = len(arr)\n",
    "dp = [(-1,-1) for i in range(n)]\n",
    "dp[n-1] = (1,1)\n",
    "lis_dp_iterative(arr, n, dp)"
   ]
  },
  {
   "cell_type": "code",
   "execution_count": 94,
   "id": "d1b291e2",
   "metadata": {},
   "outputs": [],
   "source": [
    "def lis_helper(arr, i):\n",
    "    \n",
    "    n = len(arr)\n",
    "    \n",
    "    if i == n-1:\n",
    "        return 1\n",
    "    \n",
    "    ans = 1\n",
    "    for j in range(i+1, n):\n",
    "        if arr[i] <= arr[j]:\n",
    "            curr_ans = 1 + lis_helper(arr, j)\n",
    "            if curr_ans > ans:\n",
    "                ans = curr_ans\n",
    "    return ans"
   ]
  },
  {
   "cell_type": "code",
   "execution_count": 95,
   "id": "28d50a3b",
   "metadata": {},
   "outputs": [],
   "source": [
    "def lis_2(arr):\n",
    "    n = len(arr)\n",
    "    ans = -1\n",
    "    for i in range(0,n):\n",
    "        curr_ans = lis_helper(arr, i)\n",
    "        if curr_ans > ans:\n",
    "            ans = curr_ans\n",
    "    return ans"
   ]
  },
  {
   "cell_type": "code",
   "execution_count": 98,
   "id": "113333dc",
   "metadata": {},
   "outputs": [
    {
     "data": {
      "text/plain": [
       "3"
      ]
     },
     "execution_count": 98,
     "metadata": {},
     "output_type": "execute_result"
    }
   ],
   "source": [
    "arr = [1,2,2]\n",
    "lis_helper(arr, 0)"
   ]
  },
  {
   "cell_type": "code",
   "execution_count": 114,
   "id": "999ba2a9",
   "metadata": {},
   "outputs": [],
   "source": [
    "def lis_helper_dp(arr, i, dp):\n",
    "    \n",
    "    n = len(arr)\n",
    "    \n",
    "    if i == n-1:\n",
    "        return 1\n",
    "    \n",
    "    ans = 1\n",
    "    for j in range(i+1, n):\n",
    "        if arr[i] <= arr[j]:\n",
    "            if dp[j] != -1:\n",
    "                curr_ans = 1 + dp[j]\n",
    "            else:\n",
    "                dp[j] = lis_helper_dp(arr,j,dp)\n",
    "                curr_ans = 1 + dp[j]\n",
    "            if curr_ans > ans:\n",
    "                ans = curr_ans\n",
    "    return ans"
   ]
  },
  {
   "cell_type": "code",
   "execution_count": 123,
   "id": "0fd58a77",
   "metadata": {},
   "outputs": [],
   "source": [
    "def lis_dp_2(arr):\n",
    "    n = len(arr)\n",
    "    dp = [-1 for i in range(n)]\n",
    "    ans = -1\n",
    "    for i in range(0,n):\n",
    "        curr_ans = lis_helper_dp(arr, i, dp)\n",
    "        if curr_ans > ans:\n",
    "            ans = curr_ans\n",
    "    return ans"
   ]
  },
  {
   "cell_type": "code",
   "execution_count": 124,
   "id": "da26fccc",
   "metadata": {},
   "outputs": [
    {
     "data": {
      "text/plain": [
       "4"
      ]
     },
     "execution_count": 124,
     "metadata": {},
     "output_type": "execute_result"
    }
   ],
   "source": [
    "lis_dp([6,3,1,2,7,0,9])"
   ]
  },
  {
   "cell_type": "code",
   "execution_count": 120,
   "id": "75d8647d",
   "metadata": {},
   "outputs": [
    {
     "data": {
      "text/plain": [
       "[-1, -1, -1, -1, -1, -1, -1]"
      ]
     },
     "execution_count": 120,
     "metadata": {},
     "output_type": "execute_result"
    }
   ],
   "source": [
    "dp"
   ]
  },
  {
   "cell_type": "code",
   "execution_count": null,
   "id": "50e488c0",
   "metadata": {},
   "outputs": [],
   "source": []
  }
 ],
 "metadata": {
  "kernelspec": {
   "display_name": "Python 3 (ipykernel)",
   "language": "python",
   "name": "python3"
  },
  "language_info": {
   "codemirror_mode": {
    "name": "ipython",
    "version": 3
   },
   "file_extension": ".py",
   "mimetype": "text/x-python",
   "name": "python",
   "nbconvert_exporter": "python",
   "pygments_lexer": "ipython3",
   "version": "3.9.12"
  }
 },
 "nbformat": 4,
 "nbformat_minor": 5
}
